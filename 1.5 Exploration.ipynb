{
 "cells": [
  {
   "cell_type": "code",
   "execution_count": 1,
   "metadata": {
    "collapsed": true
   },
   "outputs": [],
   "source": [
    "%matplotlib inline\n",
    "import pandas as pd\n",
    "import numpy as np\n",
    "import matplotlib.pyplot as plt\n",
    "from sklearn.ensemble import RandomForestRegressor\n",
    "from sklearn import feature_selection\n",
    "from sklearn.linear_model import LinearRegression\n",
    "from sklearn.model_selection import train_test_split\n",
    "from sklearn.preprocessing import LabelEncoder\n",
    "from sklearn.metrics import accuracy_score\n",
    "from sklearn.metrics import mean_absolute_error\n",
    "from sklearn import linear_model\n",
    "#import plotly.plotly as py\n",
    "#import plotly.graph_objs as go\n",
    "#plotly.__version__\n",
    "#plotly.tools.set_credentials_file(username='jordanvi', api_key='eWMeFHaplpUZvrjlAUZ9')\n",
    "pd.set_option('display.max_rows', 500)\n",
    "pd.set_option('display.max_columns', 500)\n",
    "pd.set_option('display.width', 1000)"
   ]
  },
  {
   "cell_type": "code",
   "execution_count": 2,
   "metadata": {},
   "outputs": [
    {
     "name": "stdout",
     "output_type": "stream",
     "text": [
      "air_reserve.csv.zip\n",
      "air_store_info.csv.zip\n",
      "air_visit_data.csv.zip\n",
      "date_info.csv.zip\n",
      "hpg_reserve.csv.zip\n",
      "hpg_store_info.csv.zip\n",
      "sample_submission.csv.zip\n",
      "store_id_relation.csv.zip\n",
      "\n"
     ]
    }
   ],
   "source": [
    "from subprocess import check_output\n",
    "print(check_output([\"ls\", \"data/\"]).decode(\"utf8\"))"
   ]
  },
  {
   "cell_type": "code",
   "execution_count": 3,
   "metadata": {
    "collapsed": true
   },
   "outputs": [],
   "source": [
    "# Loading data\n",
    "data = {\n",
    "    'train': pd.read_csv('data/air_visit_data.csv.zip', compression=\"zip\"),\n",
    "    'air_store_info': pd.read_csv('data/air_store_info.csv.zip', compression=\"zip\"),\n",
    "    'hpg_store_info': pd.read_csv('data/hpg_store_info.csv.zip', compression=\"zip\"),\n",
    "    'air_reserve': pd.read_csv('data/air_reserve.csv.zip', compression=\"zip\"),\n",
    "    'hpg_reserve': pd.read_csv('data/hpg_reserve.csv.zip', compression=\"zip\"),\n",
    "    'store_id_relation': pd.read_csv('data/store_id_relation.csv.zip', compression=\"zip\"),\n",
    "    'test': pd.read_csv('data/sample_submission.csv.zip', compression=\"zip\"),\n",
    "    'date_info': pd.read_csv('data/date_info.csv.zip', compression=\"zip\").rename(columns={'calendar_date':'visit_date'})\n",
    "    }"
   ]
  },
  {
   "cell_type": "code",
   "execution_count": 4,
   "metadata": {},
   "outputs": [
    {
     "data": {
      "image/png": "[encoded data removed]",
      "text/plain": [
       "<matplotlib.figure.Figure at 0x10ba819b0>"
      ]
     },
     "metadata": {},
     "output_type": "display_data"
    }
   ],
   "source": [
    "plt.subplots(figsize=(12,6))\n",
    "plt.subplot(1, 2, 1)\n",
    "data['train']['visitors'].hist()\n",
    "plt.title('Histogram of visitors')\n",
    "plt.grid(False)\n",
    "\n",
    "plt.subplot(1, 2, 2)\n",
    "plt.title('Histogram of log of visitors')\n",
    "data['train']['visitors'].map(pd.np.log1p).hist()\n",
    "plt.grid(False)"
   ]
  },
  {
   "cell_type": "code",
   "execution_count": 5,
   "metadata": {
    "collapsed": true
   },
   "outputs": [],
   "source": [
    "# bring air id to hpg reserve data\n",
    "data['hpg_reserve'] = pd.merge(data['hpg_reserve'], data['store_id_relation'], how='inner', on=['hpg_store_id'])\n",
    "# bring air id to hpg stores\n",
    "data['hpg_store_info'] = pd.merge(data['hpg_store_info'], data['store_id_relation'], how='inner', on=['hpg_store_id'])"
   ]
  },
  {
   "cell_type": "markdown",
   "metadata": {},
   "source": [
    "### Time Series of dataset"
   ]
  },
  {
   "cell_type": "code",
   "execution_count": 8,
   "metadata": {},
   "outputs": [],
   "source": [
    "for df in ['air_reserve','hpg_reserve']:\n",
    "    data[df]['visit_datetime'] = pd.to_datetime(data[df]['visit_datetime'])\n",
    "    data[df]['visit_datetime'] = data[df]['visit_datetime'].dt.date\n",
    "    data[df]['reserve_datetime'] = pd.to_datetime(data[df]['reserve_datetime'])\n",
    "    data[df]['reserve_datetime'] = data[df]['reserve_datetime'].dt.date\n",
    "    data[df]['reserve_datetime_diff'] = data[df].apply(lambda r: (r['visit_datetime'] - r['reserve_datetime']).days, axis=1)\n",
    "    tmp1 = data[df].groupby(['air_store_id','visit_datetime'], as_index=False)[['reserve_datetime_diff', 'reserve_visitors']].sum().rename(columns={'visit_datetime':'visit_date', 'reserve_datetime_diff': 'rs1', 'reserve_visitors':'rv1'})\n",
    "    tmp2 = data[df].groupby(['air_store_id','visit_datetime'], as_index=False)[['reserve_datetime_diff', 'reserve_visitors']].mean().rename(columns={'visit_datetime':'visit_date', 'reserve_datetime_diff': 'rs2', 'reserve_visitors':'rv2'})\n",
    "    data[df] = pd.merge(tmp1, tmp2, how='inner', on=['air_store_id','visit_date'])"
   ]
  },
  {
   "cell_type": "code",
   "execution_count": 9,
   "metadata": {
    "collapsed": true
   },
   "outputs": [],
   "source": [
    "data['train']['visit_date'] = pd.to_datetime(data['tra']['visit_date'])\n",
    "data['train']['dow'] = data['tra']['visit_date'].dt.dayofweek\n",
    "data['train']['year'] = data['tra']['visit_date'].dt.year\n",
    "data['tra']['month'] = data['tra']['visit_date'].dt.month\n",
    "data['tra']['visit_date'] = data['tra']['visit_date'].dt.date\n",
    "\n",
    "data['tes']['visit_date'] = data['tes']['id'].map(lambda x: str(x).split('_')[2])\n",
    "data['tes']['air_store_id'] = data['tes']['id'].map(lambda x: '_'.join(x.split('_')[:2]))\n",
    "data['tes']['visit_date'] = pd.to_datetime(data['tes']['visit_date'])\n",
    "data['tes']['dow'] = data['tes']['visit_date'].dt.dayofweek\n",
    "data['tes']['year'] = data['tes']['visit_date'].dt.year\n",
    "data['tes']['month'] = data['tes']['visit_date'].dt.month\n",
    "data['tes']['visit_date'] = data['tes']['visit_date'].dt.date"
   ]
  },
  {
   "cell_type": "code",
   "execution_count": 10,
   "metadata": {
    "collapsed": true
   },
   "outputs": [],
   "source": [
    "#extracting store id and date info from test data\n",
    "data['test']['air_store_id'] = data['test']['id'].map(lambda x: '_'.join(x.split('_')[:2]))\n",
    "data['test']['visit_date'] = data['test']['id'].map(lambda x: str(x).split('_')[2])\n",
    "data['test']['visit_date'] = pd.to_datetime(data['test']['visit_date'])\n",
    "data['test']['day'] = data['test']['visit_date'].dt.day\n",
    "data['test']['dow'] = data['test']['visit_date'].dt.weekday\n",
    "#data['test']['dow_name'] = data['test']['visit_date'].dt.weekday_name\n",
    "data['test']['year'] = data['test']['visit_date'].dt.year\n",
    "data['test']['month'] = data['test']['visit_date'].dt.month\n",
    "data['test']['week'] = data['test']['visit_date'].dt.week\n",
    "data['test']['quarter'] = data['test']['visit_date'].dt.quarter\n",
    "data['test']['visit_date'] = data['test']['visit_date'].dt.date\n",
    "#data['test']['year_mth'] = data['test']['year'].astype(str)+'-'+data['test']['month'].astype(str)"
   ]
  },
  {
   "cell_type": "code",
   "execution_count": 170,
   "metadata": {},
   "outputs": [
    {
     "data": {
      "text/html": [
       "<div>\n",
       "<style>\n",
       "    .dataframe thead tr:only-child th {\n",
       "        text-align: right;\n",
       "    }\n",
       "\n",
       "    .dataframe thead th {\n",
       "        text-align: left;\n",
       "    }\n",
       "\n",
       "    .dataframe tbody tr th {\n",
       "        vertical-align: top;\n",
       "    }\n",
       "</style>\n",
       "<table border=\"1\" class=\"dataframe\">\n",
       "  <thead>\n",
       "    <tr style=\"text-align: right;\">\n",
       "      <th></th>\n",
       "      <th>air_store_id</th>\n",
       "      <th>visit_date</th>\n",
       "      <th>visitors</th>\n",
       "      <th>day</th>\n",
       "      <th>dow</th>\n",
       "      <th>year</th>\n",
       "      <th>month</th>\n",
       "      <th>week</th>\n",
       "      <th>quarter</th>\n",
       "    </tr>\n",
       "  </thead>\n",
       "  <tbody>\n",
       "    <tr>\n",
       "      <th>0</th>\n",
       "      <td>air_ba937bf13d40fb24</td>\n",
       "      <td>2016-01-13</td>\n",
       "      <td>25</td>\n",
       "      <td>13</td>\n",
       "      <td>2</td>\n",
       "      <td>2016</td>\n",
       "      <td>1</td>\n",
       "      <td>2</td>\n",
       "      <td>1</td>\n",
       "    </tr>\n",
       "    <tr>\n",
       "      <th>1</th>\n",
       "      <td>air_ba937bf13d40fb24</td>\n",
       "      <td>2016-01-14</td>\n",
       "      <td>32</td>\n",
       "      <td>14</td>\n",
       "      <td>3</td>\n",
       "      <td>2016</td>\n",
       "      <td>1</td>\n",
       "      <td>2</td>\n",
       "      <td>1</td>\n",
       "    </tr>\n",
       "    <tr>\n",
       "      <th>2</th>\n",
       "      <td>air_ba937bf13d40fb24</td>\n",
       "      <td>2016-01-15</td>\n",
       "      <td>29</td>\n",
       "      <td>15</td>\n",
       "      <td>4</td>\n",
       "      <td>2016</td>\n",
       "      <td>1</td>\n",
       "      <td>2</td>\n",
       "      <td>1</td>\n",
       "    </tr>\n",
       "    <tr>\n",
       "      <th>3</th>\n",
       "      <td>air_ba937bf13d40fb24</td>\n",
       "      <td>2016-01-16</td>\n",
       "      <td>22</td>\n",
       "      <td>16</td>\n",
       "      <td>5</td>\n",
       "      <td>2016</td>\n",
       "      <td>1</td>\n",
       "      <td>2</td>\n",
       "      <td>1</td>\n",
       "    </tr>\n",
       "    <tr>\n",
       "      <th>4</th>\n",
       "      <td>air_ba937bf13d40fb24</td>\n",
       "      <td>2016-01-18</td>\n",
       "      <td>6</td>\n",
       "      <td>18</td>\n",
       "      <td>0</td>\n",
       "      <td>2016</td>\n",
       "      <td>1</td>\n",
       "      <td>3</td>\n",
       "      <td>1</td>\n",
       "    </tr>\n",
       "    <tr>\n",
       "      <th>5</th>\n",
       "      <td>air_ba937bf13d40fb24</td>\n",
       "      <td>2016-01-19</td>\n",
       "      <td>9</td>\n",
       "      <td>19</td>\n",
       "      <td>1</td>\n",
       "      <td>2016</td>\n",
       "      <td>1</td>\n",
       "      <td>3</td>\n",
       "      <td>1</td>\n",
       "    </tr>\n",
       "    <tr>\n",
       "      <th>6</th>\n",
       "      <td>air_ba937bf13d40fb24</td>\n",
       "      <td>2016-01-20</td>\n",
       "      <td>31</td>\n",
       "      <td>20</td>\n",
       "      <td>2</td>\n",
       "      <td>2016</td>\n",
       "      <td>1</td>\n",
       "      <td>3</td>\n",
       "      <td>1</td>\n",
       "    </tr>\n",
       "    <tr>\n",
       "      <th>7</th>\n",
       "      <td>air_ba937bf13d40fb24</td>\n",
       "      <td>2016-01-21</td>\n",
       "      <td>21</td>\n",
       "      <td>21</td>\n",
       "      <td>3</td>\n",
       "      <td>2016</td>\n",
       "      <td>1</td>\n",
       "      <td>3</td>\n",
       "      <td>1</td>\n",
       "    </tr>\n",
       "    <tr>\n",
       "      <th>8</th>\n",
       "      <td>air_ba937bf13d40fb24</td>\n",
       "      <td>2016-01-22</td>\n",
       "      <td>18</td>\n",
       "      <td>22</td>\n",
       "      <td>4</td>\n",
       "      <td>2016</td>\n",
       "      <td>1</td>\n",
       "      <td>3</td>\n",
       "      <td>1</td>\n",
       "    </tr>\n",
       "    <tr>\n",
       "      <th>9</th>\n",
       "      <td>air_ba937bf13d40fb24</td>\n",
       "      <td>2016-01-23</td>\n",
       "      <td>26</td>\n",
       "      <td>23</td>\n",
       "      <td>5</td>\n",
       "      <td>2016</td>\n",
       "      <td>1</td>\n",
       "      <td>3</td>\n",
       "      <td>1</td>\n",
       "    </tr>\n",
       "  </tbody>\n",
       "</table>\n",
       "</div>"
      ],
      "text/plain": [
       "           air_store_id  visit_date  visitors  day  dow  year  month  week  quarter\n",
       "0  air_ba937bf13d40fb24  2016-01-13        25   13    2  2016      1     2        1\n",
       "1  air_ba937bf13d40fb24  2016-01-14        32   14    3  2016      1     2        1\n",
       "2  air_ba937bf13d40fb24  2016-01-15        29   15    4  2016      1     2        1\n",
       "3  air_ba937bf13d40fb24  2016-01-16        22   16    5  2016      1     2        1\n",
       "4  air_ba937bf13d40fb24  2016-01-18         6   18    0  2016      1     3        1\n",
       "5  air_ba937bf13d40fb24  2016-01-19         9   19    1  2016      1     3        1\n",
       "6  air_ba937bf13d40fb24  2016-01-20        31   20    2  2016      1     3        1\n",
       "7  air_ba937bf13d40fb24  2016-01-21        21   21    3  2016      1     3        1\n",
       "8  air_ba937bf13d40fb24  2016-01-22        18   22    4  2016      1     3        1\n",
       "9  air_ba937bf13d40fb24  2016-01-23        26   23    5  2016      1     3        1"
      ]
     },
     "execution_count": 170,
     "metadata": {},
     "output_type": "execute_result"
    }
   ],
   "source": [
    "data['train'].head(10)"
   ]
  },
  {
   "cell_type": "code",
   "execution_count": 171,
   "metadata": {},
   "outputs": [
    {
     "data": {
      "text/html": [
       "<div>\n",
       "<style>\n",
       "    .dataframe thead tr:only-child th {\n",
       "        text-align: right;\n",
       "    }\n",
       "\n",
       "    .dataframe thead th {\n",
       "        text-align: left;\n",
       "    }\n",
       "\n",
       "    .dataframe tbody tr th {\n",
       "        vertical-align: top;\n",
       "    }\n",
       "</style>\n",
       "<table border=\"1\" class=\"dataframe\">\n",
       "  <thead>\n",
       "    <tr style=\"text-align: right;\">\n",
       "      <th></th>\n",
       "      <th>visitors</th>\n",
       "      <th>air_store_id</th>\n",
       "      <th>visit_date</th>\n",
       "      <th>day</th>\n",
       "      <th>dow</th>\n",
       "      <th>year</th>\n",
       "      <th>month</th>\n",
       "      <th>week</th>\n",
       "      <th>quarter</th>\n",
       "    </tr>\n",
       "  </thead>\n",
       "  <tbody>\n",
       "    <tr>\n",
       "      <th>0</th>\n",
       "      <td>0</td>\n",
       "      <td>air_00a91d42b08b08d9</td>\n",
       "      <td>2017-04-23</td>\n",
       "      <td>23</td>\n",
       "      <td>6</td>\n",
       "      <td>2017</td>\n",
       "      <td>4</td>\n",
       "      <td>16</td>\n",
       "      <td>2</td>\n",
       "    </tr>\n",
       "    <tr>\n",
       "      <th>1</th>\n",
       "      <td>0</td>\n",
       "      <td>air_00a91d42b08b08d9</td>\n",
       "      <td>2017-04-24</td>\n",
       "      <td>24</td>\n",
       "      <td>0</td>\n",
       "      <td>2017</td>\n",
       "      <td>4</td>\n",
       "      <td>17</td>\n",
       "      <td>2</td>\n",
       "    </tr>\n",
       "    <tr>\n",
       "      <th>2</th>\n",
       "      <td>0</td>\n",
       "      <td>air_00a91d42b08b08d9</td>\n",
       "      <td>2017-04-25</td>\n",
       "      <td>25</td>\n",
       "      <td>1</td>\n",
       "      <td>2017</td>\n",
       "      <td>4</td>\n",
       "      <td>17</td>\n",
       "      <td>2</td>\n",
       "    </tr>\n",
       "    <tr>\n",
       "      <th>3</th>\n",
       "      <td>0</td>\n",
       "      <td>air_00a91d42b08b08d9</td>\n",
       "      <td>2017-04-26</td>\n",
       "      <td>26</td>\n",
       "      <td>2</td>\n",
       "      <td>2017</td>\n",
       "      <td>4</td>\n",
       "      <td>17</td>\n",
       "      <td>2</td>\n",
       "    </tr>\n",
       "    <tr>\n",
       "      <th>4</th>\n",
       "      <td>0</td>\n",
       "      <td>air_00a91d42b08b08d9</td>\n",
       "      <td>2017-04-27</td>\n",
       "      <td>27</td>\n",
       "      <td>3</td>\n",
       "      <td>2017</td>\n",
       "      <td>4</td>\n",
       "      <td>17</td>\n",
       "      <td>2</td>\n",
       "    </tr>\n",
       "    <tr>\n",
       "      <th>5</th>\n",
       "      <td>0</td>\n",
       "      <td>air_00a91d42b08b08d9</td>\n",
       "      <td>2017-04-28</td>\n",
       "      <td>28</td>\n",
       "      <td>4</td>\n",
       "      <td>2017</td>\n",
       "      <td>4</td>\n",
       "      <td>17</td>\n",
       "      <td>2</td>\n",
       "    </tr>\n",
       "    <tr>\n",
       "      <th>6</th>\n",
       "      <td>0</td>\n",
       "      <td>air_00a91d42b08b08d9</td>\n",
       "      <td>2017-04-29</td>\n",
       "      <td>29</td>\n",
       "      <td>5</td>\n",
       "      <td>2017</td>\n",
       "      <td>4</td>\n",
       "      <td>17</td>\n",
       "      <td>2</td>\n",
       "    </tr>\n",
       "    <tr>\n",
       "      <th>7</th>\n",
       "      <td>0</td>\n",
       "      <td>air_00a91d42b08b08d9</td>\n",
       "      <td>2017-04-30</td>\n",
       "      <td>30</td>\n",
       "      <td>6</td>\n",
       "      <td>2017</td>\n",
       "      <td>4</td>\n",
       "      <td>17</td>\n",
       "      <td>2</td>\n",
       "    </tr>\n",
       "    <tr>\n",
       "      <th>8</th>\n",
       "      <td>0</td>\n",
       "      <td>air_00a91d42b08b08d9</td>\n",
       "      <td>2017-05-01</td>\n",
       "      <td>1</td>\n",
       "      <td>0</td>\n",
       "      <td>2017</td>\n",
       "      <td>5</td>\n",
       "      <td>18</td>\n",
       "      <td>2</td>\n",
       "    </tr>\n",
       "    <tr>\n",
       "      <th>9</th>\n",
       "      <td>0</td>\n",
       "      <td>air_00a91d42b08b08d9</td>\n",
       "      <td>2017-05-02</td>\n",
       "      <td>2</td>\n",
       "      <td>1</td>\n",
       "      <td>2017</td>\n",
       "      <td>5</td>\n",
       "      <td>18</td>\n",
       "      <td>2</td>\n",
       "    </tr>\n",
       "  </tbody>\n",
       "</table>\n",
       "</div>"
      ],
      "text/plain": [
       "   visitors          air_store_id  visit_date  day  dow  year  month  week  quarter\n",
       "0         0  air_00a91d42b08b08d9  2017-04-23   23    6  2017      4    16        2\n",
       "1         0  air_00a91d42b08b08d9  2017-04-24   24    0  2017      4    17        2\n",
       "2         0  air_00a91d42b08b08d9  2017-04-25   25    1  2017      4    17        2\n",
       "3         0  air_00a91d42b08b08d9  2017-04-26   26    2  2017      4    17        2\n",
       "4         0  air_00a91d42b08b08d9  2017-04-27   27    3  2017      4    17        2\n",
       "5         0  air_00a91d42b08b08d9  2017-04-28   28    4  2017      4    17        2\n",
       "6         0  air_00a91d42b08b08d9  2017-04-29   29    5  2017      4    17        2\n",
       "7         0  air_00a91d42b08b08d9  2017-04-30   30    6  2017      4    17        2\n",
       "8         0  air_00a91d42b08b08d9  2017-05-01    1    0  2017      5    18        2\n",
       "9         0  air_00a91d42b08b08d9  2017-05-02    2    1  2017      5    18        2"
      ]
     },
     "execution_count": 171,
     "metadata": {},
     "output_type": "execute_result"
    }
   ],
   "source": [
    "data['test'].head(10)"
   ]
  },
  {
   "cell_type": "code",
   "execution_count": 11,
   "metadata": {
    "collapsed": true
   },
   "outputs": [],
   "source": [
    "data['test'] = data['test'].drop(['id'], axis=1)"
   ]
  },
  {
   "cell_type": "code",
   "execution_count": 172,
   "metadata": {},
   "outputs": [
    {
     "data": {
      "text/html": [
       "<div>\n",
       "<style>\n",
       "    .dataframe thead tr:only-child th {\n",
       "        text-align: right;\n",
       "    }\n",
       "\n",
       "    .dataframe thead th {\n",
       "        text-align: left;\n",
       "    }\n",
       "\n",
       "    .dataframe tbody tr th {\n",
       "        vertical-align: top;\n",
       "    }\n",
       "</style>\n",
       "<table border=\"1\" class=\"dataframe\">\n",
       "  <thead>\n",
       "    <tr style=\"text-align: right;\">\n",
       "      <th></th>\n",
       "      <th>hpg_store_id</th>\n",
       "      <th>hpg_genre_name</th>\n",
       "      <th>hpg_area_name</th>\n",
       "      <th>latitude</th>\n",
       "      <th>longitude</th>\n",
       "      <th>air_store_id</th>\n",
       "    </tr>\n",
       "  </thead>\n",
       "  <tbody>\n",
       "    <tr>\n",
       "      <th>0</th>\n",
       "      <td>hpg_cac091abfcee2a85</td>\n",
       "      <td>Japanese style</td>\n",
       "      <td>Tōkyō-to Chūō-ku Ginza</td>\n",
       "      <td>35.668600</td>\n",
       "      <td>139.763043</td>\n",
       "      <td>air_2aab19554f91ff82</td>\n",
       "    </tr>\n",
       "    <tr>\n",
       "      <th>1</th>\n",
       "      <td>hpg_e87d00be48cd91c6</td>\n",
       "      <td>Japanese style</td>\n",
       "      <td>Tōkyō-to Sumida-ku Tachibana</td>\n",
       "      <td>35.704960</td>\n",
       "      <td>139.828642</td>\n",
       "      <td>air_258ad2619d7bff9a</td>\n",
       "    </tr>\n",
       "    <tr>\n",
       "      <th>2</th>\n",
       "      <td>hpg_03795a62e1c5f1c3</td>\n",
       "      <td>Japanese style</td>\n",
       "      <td>Hiroshima-ken Hiroshima-shi Hondōri</td>\n",
       "      <td>34.392106</td>\n",
       "      <td>132.461914</td>\n",
       "      <td>air_c47aa7493b15f297</td>\n",
       "    </tr>\n",
       "    <tr>\n",
       "      <th>3</th>\n",
       "      <td>hpg_51fab1683266cd55</td>\n",
       "      <td>Japanese style</td>\n",
       "      <td>Ōsaka-fu Ōsaka-shi Shinsaibashisuji</td>\n",
       "      <td>34.669514</td>\n",
       "      <td>135.501425</td>\n",
       "      <td>air_96005f79124e12bf</td>\n",
       "    </tr>\n",
       "    <tr>\n",
       "      <th>4</th>\n",
       "      <td>hpg_9668001cf2b8dc74</td>\n",
       "      <td>Japanese style</td>\n",
       "      <td>Tōkyō-to Taitō-ku None</td>\n",
       "      <td>35.711353</td>\n",
       "      <td>139.782684</td>\n",
       "      <td>air_f2c5a1f24279c531</td>\n",
       "    </tr>\n",
       "    <tr>\n",
       "      <th>5</th>\n",
       "      <td>hpg_8072ff2fb418e273</td>\n",
       "      <td>Japanese style</td>\n",
       "      <td>Tōkyō-to Kōtō-ku Minamisuna</td>\n",
       "      <td>35.670728</td>\n",
       "      <td>139.824576</td>\n",
       "      <td>air_1033310359ceeac1</td>\n",
       "    </tr>\n",
       "    <tr>\n",
       "      <th>6</th>\n",
       "      <td>hpg_e63863c8987bd064</td>\n",
       "      <td>Japanese style</td>\n",
       "      <td>Kanagawa-ken Yokohama-shi Nagatsutachō</td>\n",
       "      <td>35.512762</td>\n",
       "      <td>139.495733</td>\n",
       "      <td>air_640cf4835f0d9ba3</td>\n",
       "    </tr>\n",
       "    <tr>\n",
       "      <th>7</th>\n",
       "      <td>hpg_50378da9ffb9b6cd</td>\n",
       "      <td>Japanese style</td>\n",
       "      <td>Tōkyō-to Chiyoda-ku None</td>\n",
       "      <td>35.695780</td>\n",
       "      <td>139.768453</td>\n",
       "      <td>air_a38f25e3399d1b25</td>\n",
       "    </tr>\n",
       "    <tr>\n",
       "      <th>8</th>\n",
       "      <td>hpg_a9d42bc9b56916f4</td>\n",
       "      <td>Japanese style</td>\n",
       "      <td>Niigata-ken Niigata-shi Higashiōdōri</td>\n",
       "      <td>37.914180</td>\n",
       "      <td>139.060024</td>\n",
       "      <td>air_96743eee94114261</td>\n",
       "    </tr>\n",
       "    <tr>\n",
       "      <th>9</th>\n",
       "      <td>hpg_a786d63904735f58</td>\n",
       "      <td>Japanese style</td>\n",
       "      <td>Niigata-ken Niigata-shi Higashiōdōri</td>\n",
       "      <td>37.914180</td>\n",
       "      <td>139.060024</td>\n",
       "      <td>air_de88770300008624</td>\n",
       "    </tr>\n",
       "  </tbody>\n",
       "</table>\n",
       "</div>"
      ],
      "text/plain": [
       "           hpg_store_id  hpg_genre_name                           hpg_area_name   latitude   longitude          air_store_id\n",
       "0  hpg_cac091abfcee2a85  Japanese style                  Tōkyō-to Chūō-ku Ginza  35.668600  139.763043  air_2aab19554f91ff82\n",
       "1  hpg_e87d00be48cd91c6  Japanese style            Tōkyō-to Sumida-ku Tachibana  35.704960  139.828642  air_258ad2619d7bff9a\n",
       "2  hpg_03795a62e1c5f1c3  Japanese style     Hiroshima-ken Hiroshima-shi Hondōri  34.392106  132.461914  air_c47aa7493b15f297\n",
       "3  hpg_51fab1683266cd55  Japanese style     Ōsaka-fu Ōsaka-shi Shinsaibashisuji  34.669514  135.501425  air_96005f79124e12bf\n",
       "4  hpg_9668001cf2b8dc74  Japanese style                  Tōkyō-to Taitō-ku None  35.711353  139.782684  air_f2c5a1f24279c531\n",
       "5  hpg_8072ff2fb418e273  Japanese style             Tōkyō-to Kōtō-ku Minamisuna  35.670728  139.824576  air_1033310359ceeac1\n",
       "6  hpg_e63863c8987bd064  Japanese style  Kanagawa-ken Yokohama-shi Nagatsutachō  35.512762  139.495733  air_640cf4835f0d9ba3\n",
       "7  hpg_50378da9ffb9b6cd  Japanese style                Tōkyō-to Chiyoda-ku None  35.695780  139.768453  air_a38f25e3399d1b25\n",
       "8  hpg_a9d42bc9b56916f4  Japanese style    Niigata-ken Niigata-shi Higashiōdōri  37.914180  139.060024  air_96743eee94114261\n",
       "9  hpg_a786d63904735f58  Japanese style    Niigata-ken Niigata-shi Higashiōdōri  37.914180  139.060024  air_de88770300008624"
      ]
     },
     "execution_count": 172,
     "metadata": {},
     "output_type": "execute_result"
    }
   ],
   "source": [
    "data['hpg_store_info'].head(10)"
   ]
  },
  {
   "cell_type": "markdown",
   "metadata": {},
   "source": [
    "### FE"
   ]
  },
  {
   "cell_type": "code",
   "execution_count": 12,
   "metadata": {
    "collapsed": true
   },
   "outputs": [],
   "source": [
    "#extract unique stores based on test data and populate dow 1 to 6\n",
    "unique_stores = data['test']['air_store_id'].unique()#extract unique stores id from test data\n",
    "\n",
    "store_7days = pd.concat([pd.DataFrame({'air_store_id': unique_stores, 'dow': [i]*len(unique_stores)}) \n",
    "                    for i in range(7)], axis=0, ignore_index=True).reset_index(drop=True)\n",
    "store_sum = pd.DataFrame({'air_store_id': unique_stores})"
   ]
  },
  {
   "cell_type": "code",
   "execution_count": 13,
   "metadata": {
    "collapsed": true
   },
   "outputs": [],
   "source": [
    "# mapping train data dow to stores(test data) - min, mean, median, max, count \n",
    "tmp = data['train'].groupby(['air_store_id'], as_index=False)['visitors'].sum().rename(columns={'visitors':'total_visitors'})\n",
    "store_7days = pd.merge(store_7days, tmp, how='left', on=['air_store_id']) \n",
    "\n",
    "tmp = data['test'].groupby(['air_store_id'], as_index=False)['visitors'].sum().rename(columns={'visitors':'total_visitors'})\n",
    "store_7days = pd.merge(store_7days, tmp, how='left', on=['air_store_id']) \n",
    "\n",
    "tmp = data['train'].groupby(['air_store_id','dow'], as_index=False)['visitors'].mean().rename(columns={'visitors':'mean_visitors'})\n",
    "store_7days = pd.merge(store_7days, tmp, how='left', on=['air_store_id','dow'])\n",
    "\n",
    "tmp = data['test'].groupby(['air_store_id','dow'], as_index=False)['visitors'].mean().rename(columns={'visitors':'mean_visitors'})\n",
    "store_7days = pd.merge(store_7days, tmp, how='left', on=['air_store_id','dow'])\n",
    "\n",
    "tmp = data['train'].groupby(['air_store_id','dow'], as_index=False)['visitors'].median().rename(columns={'visitors':'median_visitors'})\n",
    "store_7days = pd.merge(store_7days, tmp, how='left', on=['air_store_id','dow'])\n",
    "\n",
    "tmp = data['test'].groupby(['air_store_id','dow'], as_index=False)['visitors'].median().rename(columns={'visitors':'median_visitors'})\n",
    "store_7days = pd.merge(store_7days, tmp, how='left', on=['air_store_id','dow'])\n",
    "\n",
    "tmp = data['train'].groupby(['air_store_id','dow'], as_index=False)['visitors'].max().rename(columns={'visitors':'max_visitors'})\n",
    "store_7days = pd.merge(store_7days, tmp, how='left', on=['air_store_id','dow'])\n",
    "\n",
    "tmp = data['test'].groupby(['air_store_id','dow'], as_index=False)['visitors'].max().rename(columns={'visitors':'max_visitors'})\n",
    "store_7days = pd.merge(store_7days, tmp, how='left', on=['air_store_id','dow'])\n",
    "\n",
    "tmp = data['train'].groupby(['air_store_id','dow'], as_index=False)['visitors'].count().rename(columns={'visitors':'count_observations'})\n",
    "store_7days = pd.merge(store_7days, tmp, how='left', on=['air_store_id','dow']) \n",
    "\n",
    "tmp = data['test'].groupby(['air_store_id','dow'], as_index=False)['visitors'].count().rename(columns={'visitors':'count_observations'})\n",
    "store_7days = pd.merge(store_7days, tmp, how='left', on=['air_store_id','dow']) \n",
    "\n",
    "# map stores(test) to store genre and location detail\n",
    "store_7days = pd.merge(store_7days, data['air_store_info'], how='left', on=['air_store_id']) \n",
    "#map to hpg genre and area\n",
    "store_7days = pd.merge(store_7days, data['hpg_store_info'][['air_store_id','hpg_genre_name','hpg_area_name']], \n",
    "                       how='left', on=['air_store_id']) \n",
    "\n",
    "data['date_info']['visit_date'] = pd.to_datetime(data['date_info']['visit_date'])\n",
    "data['date_info']['visit_date'] = data['date_info']['visit_date'].dt.date\n",
    "\n",
    "hf=data['date_info']['holiday_flg']\n",
    "dw=data['date_info']['day_of_week']\n",
    "data['date_info']['long_wknd']=0"
   ]
  },
  {
   "cell_type": "code",
   "execution_count": 14,
   "metadata": {},
   "outputs": [
    {
     "data": {
      "text/plain": [
       "(5747, 18)"
      ]
     },
     "execution_count": 14,
     "metadata": {},
     "output_type": "execute_result"
    }
   ],
   "source": [
    "store_7days.shape"
   ]
  },
  {
   "cell_type": "code",
   "execution_count": 180,
   "metadata": {},
   "outputs": [
    {
     "name": "stderr",
     "output_type": "stream",
     "text": [
      "/Users/jordanvidal/python3/lib/python3.6/site-packages/ipykernel_launcher.py:3: SettingWithCopyWarning: \n",
      "A value is trying to be set on a copy of a slice from a DataFrame\n",
      "\n",
      "See the caveats in the documentation: http://pandas.pydata.org/pandas-docs/stable/indexing.html#indexing-view-versus-copy\n",
      "  This is separate from the ipykernel package so we can avoid doing imports until\n",
      "/Users/jordanvidal/python3/lib/python3.6/site-packages/ipykernel_launcher.py:4: SettingWithCopyWarning: \n",
      "A value is trying to be set on a copy of a slice from a DataFrame\n",
      "\n",
      "See the caveats in the documentation: http://pandas.pydata.org/pandas-docs/stable/indexing.html#indexing-view-versus-copy\n",
      "  after removing the cwd from sys.path.\n",
      "/Users/jordanvidal/python3/lib/python3.6/site-packages/ipykernel_launcher.py:5: SettingWithCopyWarning: \n",
      "A value is trying to be set on a copy of a slice from a DataFrame\n",
      "\n",
      "See the caveats in the documentation: http://pandas.pydata.org/pandas-docs/stable/indexing.html#indexing-view-versus-copy\n",
      "  \"\"\"\n",
      "/Users/jordanvidal/python3/lib/python3.6/site-packages/ipykernel_launcher.py:8: SettingWithCopyWarning: \n",
      "A value is trying to be set on a copy of a slice from a DataFrame\n",
      "\n",
      "See the caveats in the documentation: http://pandas.pydata.org/pandas-docs/stable/indexing.html#indexing-view-versus-copy\n",
      "  \n",
      "/Users/jordanvidal/python3/lib/python3.6/site-packages/ipykernel_launcher.py:9: SettingWithCopyWarning: \n",
      "A value is trying to be set on a copy of a slice from a DataFrame\n",
      "\n",
      "See the caveats in the documentation: http://pandas.pydata.org/pandas-docs/stable/indexing.html#indexing-view-versus-copy\n",
      "  if __name__ == '__main__':\n",
      "/Users/jordanvidal/python3/lib/python3.6/site-packages/ipykernel_launcher.py:10: SettingWithCopyWarning: \n",
      "A value is trying to be set on a copy of a slice from a DataFrame\n",
      "\n",
      "See the caveats in the documentation: http://pandas.pydata.org/pandas-docs/stable/indexing.html#indexing-view-versus-copy\n",
      "  # Remove the CWD from sys.path while we load stuff.\n"
     ]
    }
   ],
   "source": [
    "for i in range(len(data['date_info'])):\n",
    "    if (hf[i]==1)&(dw[i]=='Friday'):\n",
    "        data['date_info']['long_wknd'][i]=1\n",
    "        data['date_info']['long_wknd'][i+1]=1\n",
    "        data['date_info']['long_wknd'][i+2]=1\n",
    "          \n",
    "    if (hf[i]==1)&(dw[i]=='Monday'):\n",
    "        data['date_info']['long_wknd'][i]=1\n",
    "        data['date_info']['long_wknd'][i-1]=1\n",
    "        data['date_info']['long_wknd'][i-2]=1"
   ]
  },
  {
   "cell_type": "code",
   "execution_count": 181,
   "metadata": {
    "collapsed": true
   },
   "outputs": [],
   "source": [
    "train = pd.merge(data['train'], data['date_info'], how='left', on=['visit_date']) \n",
    "test = pd.merge(data['test'], data['date_info'], how='left', on=['visit_date']) \n",
    "train = pd.merge(train, store_7days, how='left', on=['air_store_id','dow']) \n",
    "test = pd.merge(test, store_7days, how='left', on=['air_store_id','dow'])"
   ]
  },
  {
   "cell_type": "code",
   "execution_count": 182,
   "metadata": {
    "collapsed": true
   },
   "outputs": [],
   "source": [
    "for df in ['air_reserve','hpg_reserve']:\n",
    "    train = pd.merge(train, data[df], how='left', on=['air_store_id','visit_date']) \n",
    "    test = pd.merge(test, data[df], how='left', on=['air_store_id','visit_date'])"
   ]
  },
  {
   "cell_type": "code",
   "execution_count": 183,
   "metadata": {
    "collapsed": true
   },
   "outputs": [],
   "source": [
    "train = train.fillna(1) #change to one for algo training\n",
    "test = test.fillna(0)\n",
    "train['v_no_reservation']=train['visitors']-train['reserve_visitors_air_reserve']-train['reserve_visitors_hpg_reserve']\n",
    "test['v_no_reservation']=test['visitors']-test['reserve_visitors_air_reserve']-test['reserve_visitors_hpg_reserve']"
   ]
  },
  {
   "cell_type": "code",
   "execution_count": 184,
   "metadata": {},
   "outputs": [
    {
     "data": {
      "text/plain": [
       "(252108, 33)"
      ]
     },
     "execution_count": 184,
     "metadata": {},
     "output_type": "execute_result"
    }
   ],
   "source": [
    "train.shape"
   ]
  },
  {
   "cell_type": "code",
   "execution_count": 185,
   "metadata": {},
   "outputs": [
    {
     "data": {
      "text/plain": [
       "(32019, 33)"
      ]
     },
     "execution_count": 185,
     "metadata": {},
     "output_type": "execute_result"
    }
   ],
   "source": [
    "test.shape"
   ]
  },
  {
   "cell_type": "code",
   "execution_count": 187,
   "metadata": {},
   "outputs": [
    {
     "data": {
      "text/html": [
       "<div>\n",
       "<style>\n",
       "    .dataframe thead tr:only-child th {\n",
       "        text-align: right;\n",
       "    }\n",
       "\n",
       "    .dataframe thead th {\n",
       "        text-align: left;\n",
       "    }\n",
       "\n",
       "    .dataframe tbody tr th {\n",
       "        vertical-align: top;\n",
       "    }\n",
       "</style>\n",
       "<table border=\"1\" class=\"dataframe\">\n",
       "  <thead>\n",
       "    <tr style=\"text-align: right;\">\n",
       "      <th></th>\n",
       "      <th>air_store_id</th>\n",
       "      <th>visit_date</th>\n",
       "      <th>visitors</th>\n",
       "      <th>day</th>\n",
       "      <th>dow</th>\n",
       "      <th>year</th>\n",
       "      <th>month</th>\n",
       "      <th>week</th>\n",
       "      <th>quarter</th>\n",
       "      <th>day_of_week</th>\n",
       "      <th>holiday_flg</th>\n",
       "      <th>long_wknd</th>\n",
       "      <th>total_visitors_x</th>\n",
       "      <th>total_visitors_y</th>\n",
       "      <th>mean_visitors_x</th>\n",
       "      <th>mean_visitors_y</th>\n",
       "      <th>median_visitors_x</th>\n",
       "      <th>median_visitors_y</th>\n",
       "      <th>max_visitors_x</th>\n",
       "      <th>max_visitors_y</th>\n",
       "      <th>count_observations_x</th>\n",
       "      <th>count_observations_y</th>\n",
       "      <th>air_genre_name</th>\n",
       "      <th>air_area_name</th>\n",
       "      <th>latitude</th>\n",
       "      <th>longitude</th>\n",
       "      <th>hpg_genre_name</th>\n",
       "      <th>hpg_area_name</th>\n",
       "      <th>reserve_day_air_reserve</th>\n",
       "      <th>reserve_visitors_air_reserve</th>\n",
       "      <th>reserve_day_hpg_reserve</th>\n",
       "      <th>reserve_visitors_hpg_reserve</th>\n",
       "      <th>v_no_reservation</th>\n",
       "    </tr>\n",
       "  </thead>\n",
       "  <tbody>\n",
       "    <tr>\n",
       "      <th>0</th>\n",
       "      <td>air_ba937bf13d40fb24</td>\n",
       "      <td>2016-01-13</td>\n",
       "      <td>25</td>\n",
       "      <td>13</td>\n",
       "      <td>2</td>\n",
       "      <td>2016</td>\n",
       "      <td>1</td>\n",
       "      <td>2</td>\n",
       "      <td>1</td>\n",
       "      <td>Wednesday</td>\n",
       "      <td>0</td>\n",
       "      <td>0</td>\n",
       "      <td>8908.0</td>\n",
       "      <td>0.0</td>\n",
       "      <td>23.843750</td>\n",
       "      <td>0.0</td>\n",
       "      <td>25.0</td>\n",
       "      <td>0.0</td>\n",
       "      <td>57.0</td>\n",
       "      <td>0.0</td>\n",
       "      <td>64.0</td>\n",
       "      <td>6.0</td>\n",
       "      <td>Dining bar</td>\n",
       "      <td>Tōkyō-to Minato-ku Shibakōen</td>\n",
       "      <td>35.658068</td>\n",
       "      <td>139.751599</td>\n",
       "      <td>1</td>\n",
       "      <td>1</td>\n",
       "      <td>1.0</td>\n",
       "      <td>1.0</td>\n",
       "      <td>1.0</td>\n",
       "      <td>1.0</td>\n",
       "      <td>23.0</td>\n",
       "    </tr>\n",
       "    <tr>\n",
       "      <th>1</th>\n",
       "      <td>air_ba937bf13d40fb24</td>\n",
       "      <td>2016-01-14</td>\n",
       "      <td>32</td>\n",
       "      <td>14</td>\n",
       "      <td>3</td>\n",
       "      <td>2016</td>\n",
       "      <td>1</td>\n",
       "      <td>2</td>\n",
       "      <td>1</td>\n",
       "      <td>Thursday</td>\n",
       "      <td>0</td>\n",
       "      <td>0</td>\n",
       "      <td>8908.0</td>\n",
       "      <td>0.0</td>\n",
       "      <td>20.292308</td>\n",
       "      <td>0.0</td>\n",
       "      <td>21.0</td>\n",
       "      <td>0.0</td>\n",
       "      <td>54.0</td>\n",
       "      <td>0.0</td>\n",
       "      <td>65.0</td>\n",
       "      <td>5.0</td>\n",
       "      <td>Dining bar</td>\n",
       "      <td>Tōkyō-to Minato-ku Shibakōen</td>\n",
       "      <td>35.658068</td>\n",
       "      <td>139.751599</td>\n",
       "      <td>1</td>\n",
       "      <td>1</td>\n",
       "      <td>1.0</td>\n",
       "      <td>1.0</td>\n",
       "      <td>1.0</td>\n",
       "      <td>1.0</td>\n",
       "      <td>30.0</td>\n",
       "    </tr>\n",
       "    <tr>\n",
       "      <th>2</th>\n",
       "      <td>air_ba937bf13d40fb24</td>\n",
       "      <td>2016-01-15</td>\n",
       "      <td>29</td>\n",
       "      <td>15</td>\n",
       "      <td>4</td>\n",
       "      <td>2016</td>\n",
       "      <td>1</td>\n",
       "      <td>2</td>\n",
       "      <td>1</td>\n",
       "      <td>Friday</td>\n",
       "      <td>0</td>\n",
       "      <td>0</td>\n",
       "      <td>8908.0</td>\n",
       "      <td>0.0</td>\n",
       "      <td>34.738462</td>\n",
       "      <td>0.0</td>\n",
       "      <td>35.0</td>\n",
       "      <td>0.0</td>\n",
       "      <td>61.0</td>\n",
       "      <td>0.0</td>\n",
       "      <td>65.0</td>\n",
       "      <td>5.0</td>\n",
       "      <td>Dining bar</td>\n",
       "      <td>Tōkyō-to Minato-ku Shibakōen</td>\n",
       "      <td>35.658068</td>\n",
       "      <td>139.751599</td>\n",
       "      <td>1</td>\n",
       "      <td>1</td>\n",
       "      <td>1.0</td>\n",
       "      <td>1.0</td>\n",
       "      <td>1.0</td>\n",
       "      <td>1.0</td>\n",
       "      <td>27.0</td>\n",
       "    </tr>\n",
       "    <tr>\n",
       "      <th>3</th>\n",
       "      <td>air_ba937bf13d40fb24</td>\n",
       "      <td>2016-01-16</td>\n",
       "      <td>22</td>\n",
       "      <td>16</td>\n",
       "      <td>5</td>\n",
       "      <td>2016</td>\n",
       "      <td>1</td>\n",
       "      <td>2</td>\n",
       "      <td>1</td>\n",
       "      <td>Saturday</td>\n",
       "      <td>0</td>\n",
       "      <td>0</td>\n",
       "      <td>8908.0</td>\n",
       "      <td>0.0</td>\n",
       "      <td>27.651515</td>\n",
       "      <td>0.0</td>\n",
       "      <td>27.0</td>\n",
       "      <td>0.0</td>\n",
       "      <td>53.0</td>\n",
       "      <td>0.0</td>\n",
       "      <td>66.0</td>\n",
       "      <td>5.0</td>\n",
       "      <td>Dining bar</td>\n",
       "      <td>Tōkyō-to Minato-ku Shibakōen</td>\n",
       "      <td>35.658068</td>\n",
       "      <td>139.751599</td>\n",
       "      <td>1</td>\n",
       "      <td>1</td>\n",
       "      <td>1.0</td>\n",
       "      <td>1.0</td>\n",
       "      <td>1.0</td>\n",
       "      <td>1.0</td>\n",
       "      <td>20.0</td>\n",
       "    </tr>\n",
       "    <tr>\n",
       "      <th>4</th>\n",
       "      <td>air_ba937bf13d40fb24</td>\n",
       "      <td>2016-01-18</td>\n",
       "      <td>6</td>\n",
       "      <td>18</td>\n",
       "      <td>0</td>\n",
       "      <td>2016</td>\n",
       "      <td>1</td>\n",
       "      <td>3</td>\n",
       "      <td>1</td>\n",
       "      <td>Monday</td>\n",
       "      <td>0</td>\n",
       "      <td>0</td>\n",
       "      <td>8908.0</td>\n",
       "      <td>0.0</td>\n",
       "      <td>13.754386</td>\n",
       "      <td>0.0</td>\n",
       "      <td>12.0</td>\n",
       "      <td>0.0</td>\n",
       "      <td>34.0</td>\n",
       "      <td>0.0</td>\n",
       "      <td>57.0</td>\n",
       "      <td>6.0</td>\n",
       "      <td>Dining bar</td>\n",
       "      <td>Tōkyō-to Minato-ku Shibakōen</td>\n",
       "      <td>35.658068</td>\n",
       "      <td>139.751599</td>\n",
       "      <td>1</td>\n",
       "      <td>1</td>\n",
       "      <td>1.0</td>\n",
       "      <td>1.0</td>\n",
       "      <td>1.0</td>\n",
       "      <td>1.0</td>\n",
       "      <td>4.0</td>\n",
       "    </tr>\n",
       "  </tbody>\n",
       "</table>\n",
       "</div>"
      ],
      "text/plain": [
       "           air_store_id  visit_date  visitors  day  dow  year  month  week  quarter day_of_week  holiday_flg  long_wknd  total_visitors_x  total_visitors_y  mean_visitors_x  mean_visitors_y  median_visitors_x  median_visitors_y  max_visitors_x  max_visitors_y  count_observations_x  count_observations_y air_genre_name                 air_area_name   latitude   longitude hpg_genre_name hpg_area_name  reserve_day_air_reserve  reserve_visitors_air_reserve  reserve_day_hpg_reserve  reserve_visitors_hpg_reserve  v_no_reservation\n",
       "0  air_ba937bf13d40fb24  2016-01-13        25   13    2  2016      1     2        1   Wednesday            0          0            8908.0               0.0        23.843750              0.0               25.0                0.0            57.0             0.0                  64.0                   6.0     Dining bar  Tōkyō-to Minato-ku Shibakōen  35.658068  139.751599              1             1                      1.0                           1.0                      1.0                           1.0              23.0\n",
       "1  air_ba937bf13d40fb24  2016-01-14        32   14    3  2016      1     2        1    Thursday            0          0            8908.0               0.0        20.292308              0.0               21.0                0.0            54.0             0.0                  65.0                   5.0     Dining bar  Tōkyō-to Minato-ku Shibakōen  35.658068  139.751599              1             1                      1.0                           1.0                      1.0                           1.0              30.0\n",
       "2  air_ba937bf13d40fb24  2016-01-15        29   15    4  2016      1     2        1      Friday            0          0            8908.0               0.0        34.738462              0.0               35.0                0.0            61.0             0.0                  65.0                   5.0     Dining bar  Tōkyō-to Minato-ku Shibakōen  35.658068  139.751599              1             1                      1.0                           1.0                      1.0                           1.0              27.0\n",
       "3  air_ba937bf13d40fb24  2016-01-16        22   16    5  2016      1     2        1    Saturday            0          0            8908.0               0.0        27.651515              0.0               27.0                0.0            53.0             0.0                  66.0                   5.0     Dining bar  Tōkyō-to Minato-ku Shibakōen  35.658068  139.751599              1             1                      1.0                           1.0                      1.0                           1.0              20.0\n",
       "4  air_ba937bf13d40fb24  2016-01-18         6   18    0  2016      1     3        1      Monday            0          0            8908.0               0.0        13.754386              0.0               12.0                0.0            34.0             0.0                  57.0                   6.0     Dining bar  Tōkyō-to Minato-ku Shibakōen  35.658068  139.751599              1             1                      1.0                           1.0                      1.0                           1.0               4.0"
      ]
     },
     "execution_count": 187,
     "metadata": {},
     "output_type": "execute_result"
    }
   ],
   "source": [
    "train.head(5)"
   ]
  },
  {
   "cell_type": "code",
   "execution_count": 188,
   "metadata": {},
   "outputs": [
    {
     "data": {
      "text/plain": [
       "LabelEncoder()"
      ]
     },
     "execution_count": 188,
     "metadata": {},
     "output_type": "execute_result"
    }
   ],
   "source": [
    "le = LabelEncoder()\n",
    "#train3['air_store_id'] = le.fit_transform(train3['air_store_id'])\n",
    "#test3['air_store_id'] = le.fit_transform(test3['air_store_id'])\n",
    "le.fit(train['air_store_id'])"
   ]
  },
  {
   "cell_type": "code",
   "execution_count": 189,
   "metadata": {
    "collapsed": true
   },
   "outputs": [],
   "source": [
    "train['air_store_id'] = le.transform(train['air_store_id'])\n",
    "test['air_store_id'] = le.transform(test['air_store_id'])"
   ]
  },
  {
   "cell_type": "code",
   "execution_count": 190,
   "metadata": {
    "collapsed": true,
    "scrolled": true
   },
   "outputs": [],
   "source": [
    "train = pd.get_dummies(data=train, columns=['air_genre_name', 'air_area_name','hpg_genre_name','hpg_area_name'])\n",
    "test = pd.get_dummies(data=test, columns=['air_genre_name', 'air_area_name','hpg_genre_name','hpg_area_name'])"
   ]
  },
  {
   "cell_type": "code",
   "execution_count": 195,
   "metadata": {},
   "outputs": [
    {
     "data": {
      "text/plain": [
       "air_store_id                                                     int64\n",
       "visitors                                                         int64\n",
       "day                                                              int64\n",
       "dow                                                              int64\n",
       "year                                                             int64\n",
       "month                                                            int64\n",
       "week                                                             int64\n",
       "quarter                                                          int64\n",
       "holiday_flg                                                      int64\n",
       "long_wknd                                                        int64\n",
       "total_visitors_x                                               float64\n",
       "total_visitors_y                                               float64\n",
       "mean_visitors_x                                                float64\n",
       "mean_visitors_y                                                float64\n",
       "median_visitors_x                                              float64\n",
       "median_visitors_y                                              float64\n",
       "max_visitors_x                                                 float64\n",
       "max_visitors_y                                                 float64\n",
       "count_observations_x                                           float64\n",
       "count_observations_y                                           float64\n",
       "latitude                                                       float64\n",
       "longitude                                                      float64\n",
       "reserve_day_air_reserve                                        float64\n",
       "reserve_visitors_air_reserve                                   float64\n",
       "reserve_day_hpg_reserve                                        float64\n",
       "reserve_visitors_hpg_reserve                                   float64\n",
       "v_no_reservation                                               float64\n",
       "air_genre_name_Asian                                             uint8\n",
       "air_genre_name_Bar/Cocktail                                      uint8\n",
       "air_genre_name_Cafe/Sweets                                       uint8\n",
       "air_genre_name_Creative cuisine                                  uint8\n",
       "air_genre_name_Dining bar                                        uint8\n",
       "air_genre_name_International cuisine                             uint8\n",
       "air_genre_name_Italian/French                                    uint8\n",
       "air_genre_name_Izakaya                                           uint8\n",
       "air_genre_name_Japanese food                                     uint8\n",
       "air_genre_name_Karaoke/Party                                     uint8\n",
       "air_genre_name_Okonomiyaki/Monja/Teppanyaki                      uint8\n",
       "air_genre_name_Other                                             uint8\n",
       "air_genre_name_Western food                                      uint8\n",
       "air_genre_name_Yakiniku/Korean food                              uint8\n",
       "air_area_name_Fukuoka-ken Fukuoka-shi Daimyō                     uint8\n",
       "air_area_name_Fukuoka-ken Fukuoka-shi Hakata Ekimae              uint8\n",
       "air_area_name_Fukuoka-ken Fukuoka-shi Imaizumi                   uint8\n",
       "air_area_name_Fukuoka-ken Fukuoka-shi Momochi                    uint8\n",
       "air_area_name_Fukuoka-ken Fukuoka-shi Shiobaru                   uint8\n",
       "air_area_name_Fukuoka-ken Fukuoka-shi Takatori                   uint8\n",
       "air_area_name_Fukuoka-ken Fukuoka-shi Tenjin                     uint8\n",
       "air_area_name_Fukuoka-ken Fukuoka-shi Torikai                    uint8\n",
       "air_area_name_Fukuoka-ken Itoshima-shi Maebarunishi              uint8\n",
       "air_area_name_Fukuoka-ken Kitakyūshū-shi Konyamachi              uint8\n",
       "air_area_name_Fukuoka-ken Kitakyūshū-shi None                    uint8\n",
       "air_area_name_Fukuoka-ken Kitakyūshū-shi Ōtemachi                uint8\n",
       "air_area_name_Fukuoka-ken Kurume-shi Jōnanmachi                  uint8\n",
       "air_area_name_Fukuoka-ken Yame-shi Motomachi                     uint8\n",
       "air_area_name_Hiroshima-ken Fukuyama-shi Higashisakuramachi      uint8\n",
       "air_area_name_Hiroshima-ken Hiroshima-shi Kokutaijimachi         uint8\n",
       "air_area_name_Hiroshima-ken Hiroshima-shi Nagarekawachō          uint8\n",
       "air_area_name_Hokkaidō Abashiri-shi Minami 6 Jōhigashi           uint8\n",
       "air_area_name_Hokkaidō Asahikawa-shi 6 Jōdōri                    uint8\n",
       "air_area_name_Hokkaidō Katō-gun Motomachi                        uint8\n",
       "air_area_name_Hokkaidō Sapporo-shi Atsubetsuchūō 1 Jō            uint8\n",
       "air_area_name_Hokkaidō Sapporo-shi Kita 24 Jōnishi               uint8\n",
       "air_area_name_Hokkaidō Sapporo-shi Kotoni 2 Jō                   uint8\n",
       "air_area_name_Hokkaidō Sapporo-shi Minami 3 Jōnishi              uint8\n",
       "air_area_name_Hyōgo-ken Amagasaki-shi Higashinanamatsuchō        uint8\n",
       "air_area_name_Hyōgo-ken Himeji-shi Yasuda                        uint8\n",
       "air_area_name_Hyōgo-ken Kakogawa-shi Kakogawachō Kitazaike       uint8\n",
       "air_area_name_Hyōgo-ken Kōbe-shi Kumoidōri                       uint8\n",
       "air_area_name_Hyōgo-ken Kōbe-shi Motomachidōri                   uint8\n",
       "air_area_name_Hyōgo-ken Kōbe-shi Sumiyoshi Higashimachi          uint8\n",
       "air_area_name_Hyōgo-ken Nishinomiya-shi Rokutanjichō             uint8\n",
       "air_area_name_Hyōgo-ken Takarazuka-shi Tōyōchō                   uint8\n",
       "air_area_name_Miyagi-ken Sendai-shi Kamisugi                     uint8\n",
       "air_area_name_Niigata-ken Kashiwazaki-shi Chūōchō                uint8\n",
       "air_area_name_Niigata-ken Nagaoka-shi Ōtedōri                    uint8\n",
       "air_area_name_Niigata-ken Niigata-shi Gakkōchōdōri 1 Banchō      uint8\n",
       "air_area_name_Niigata-ken Niigata-shi Teraohigashi               uint8\n",
       "air_area_name_Shizuoka-ken Hamamatsu-shi Motoshirochō            uint8\n",
       "air_area_name_Shizuoka-ken Numazu-shi Miyukichō                  uint8\n",
       "air_area_name_Shizuoka-ken Shizuoka-shi Ōtemachi                 uint8\n",
       "air_area_name_Tōkyō-to Adachi-ku Chūōhonchō                      uint8\n",
       "air_area_name_Tōkyō-to Bunkyō-ku Kasuga                          uint8\n",
       "air_area_name_Tōkyō-to Bunkyō-ku Sendagi                         uint8\n",
       "air_area_name_Tōkyō-to Chiyoda-ku Kanda Jinbōchō                 uint8\n",
       "air_area_name_Tōkyō-to Chiyoda-ku Kudanminami                    uint8\n",
       "air_area_name_Tōkyō-to Chūō-ku Ginza                             uint8\n",
       "air_area_name_Tōkyō-to Chūō-ku Tsukiji                           uint8\n",
       "air_area_name_Tōkyō-to Edogawa-ku Chūō                           uint8\n",
       "air_area_name_Tōkyō-to Fuchū-shi Miyanishichō                    uint8\n",
       "air_area_name_Tōkyō-to Itabashi-ku Itabashi                      uint8\n",
       "air_area_name_Tōkyō-to Katsushika-ku Tateishi                    uint8\n",
       "air_area_name_Tōkyō-to Kita-ku Ōjihonchō                         uint8\n",
       "air_area_name_Tōkyō-to Koganei-shi Honchō                        uint8\n",
       "air_area_name_Tōkyō-to Kōtō-ku Kameido                           uint8\n",
       "air_area_name_Tōkyō-to Kōtō-ku Tomioka                           uint8\n",
       "air_area_name_Tōkyō-to Kōtō-ku Tōyō                              uint8\n",
       "air_area_name_Tōkyō-to Machida-shi Morino                        uint8\n",
       "air_area_name_Tōkyō-to Meguro-ku Jiyūgaoka                       uint8\n",
       "air_area_name_Tōkyō-to Meguro-ku Kamimeguro                      uint8\n",
       "air_area_name_Tōkyō-to Meguro-ku Takaban                         uint8\n",
       "air_area_name_Tōkyō-to Minato-ku Akasaka                         uint8\n",
       "air_area_name_Tōkyō-to Minato-ku Roppongi                        uint8\n",
       "air_area_name_Tōkyō-to Minato-ku Shibakōen                       uint8\n",
       "air_area_name_Tōkyō-to Musashino-shi Kichijōji Honchō            uint8\n",
       "air_area_name_Tōkyō-to Musashino-shi Midorichō                   uint8\n",
       "air_area_name_Tōkyō-to Nakano-ku Nakano                          uint8\n",
       "air_area_name_Tōkyō-to Nerima-ku Toyotamakita                    uint8\n",
       "air_area_name_Tōkyō-to Setagaya-ku Kitazawa                      uint8\n",
       "air_area_name_Tōkyō-to Setagaya-ku Okusawa                       uint8\n",
       "air_area_name_Tōkyō-to Setagaya-ku Sangenjaya                    uint8\n",
       "air_area_name_Tōkyō-to Setagaya-ku Setagaya                      uint8\n",
       "air_area_name_Tōkyō-to Shibuya-ku Dōgenzaka                      uint8\n",
       "air_area_name_Tōkyō-to Shibuya-ku Higashi                        uint8\n",
       "air_area_name_Tōkyō-to Shibuya-ku Jingūmae                       uint8\n",
       "air_area_name_Tōkyō-to Shibuya-ku Shibuya                        uint8\n",
       "air_area_name_Tōkyō-to Shinagawa-ku Higashigotanda               uint8\n",
       "air_area_name_Tōkyō-to Shinagawa-ku Hiromachi                    uint8\n",
       "air_area_name_Tōkyō-to Shinjuku-ku Kabukichō                     uint8\n",
       "air_area_name_Tōkyō-to Shinjuku-ku Nishishinjuku                 uint8\n",
       "air_area_name_Tōkyō-to Suginami-ku Asagayaminami                 uint8\n",
       "air_area_name_Tōkyō-to Tachikawa-shi Izumichō                    uint8\n",
       "air_area_name_Tōkyō-to Taitō-ku Asakusa                          uint8\n",
       "air_area_name_Tōkyō-to Taitō-ku Higashiueno                      uint8\n",
       "air_area_name_Tōkyō-to Taitō-ku Kuramae                          uint8\n",
       "air_area_name_Tōkyō-to Toshima-ku Higashiikebukuro               uint8\n",
       "air_area_name_Tōkyō-to Toshima-ku Mejiro                         uint8\n",
       "air_area_name_Tōkyō-to Toshima-ku Minamiikebukuro                uint8\n",
       "air_area_name_Tōkyō-to Toshima-ku Nishiikebukuro                 uint8\n",
       "air_area_name_Tōkyō-to Toshima-ku Sugamo                         uint8\n",
       "air_area_name_Tōkyō-to Ōta-ku Kamata                             uint8\n",
       "air_area_name_Tōkyō-to Ōta-ku Kamiikedai                         uint8\n",
       "air_area_name_Ōsaka-fu Higashiōsaka-shi Aramotokita              uint8\n",
       "air_area_name_Ōsaka-fu Neyagawa-shi Honmachi                     uint8\n",
       "air_area_name_Ōsaka-fu Sakai-shi Minamikawaramachi               uint8\n",
       "air_area_name_Ōsaka-fu Suita-shi Izumichō                        uint8\n",
       "air_area_name_Ōsaka-fu Ōsaka-shi Fuminosato                      uint8\n",
       "air_area_name_Ōsaka-fu Ōsaka-shi Kyōmachibori                    uint8\n",
       "air_area_name_Ōsaka-fu Ōsaka-shi Kyūtarōmachi                    uint8\n",
       "air_area_name_Ōsaka-fu Ōsaka-shi Nakanochō                       uint8\n",
       "air_area_name_Ōsaka-fu Ōsaka-shi Nanbasennichimae                uint8\n",
       "air_area_name_Ōsaka-fu Ōsaka-shi Shinmachi                       uint8\n",
       "air_area_name_Ōsaka-fu Ōsaka-shi Ōgimachi                        uint8\n",
       "air_area_name_Ōsaka-fu Ōsaka-shi Ōhiraki                         uint8\n",
       "hpg_genre_name_1                                                 uint8\n",
       "hpg_genre_name_Amusement bar                                     uint8\n",
       "hpg_genre_name_Cafe                                              uint8\n",
       "hpg_genre_name_Creation                                          uint8\n",
       "hpg_genre_name_Creative Japanese food                            uint8\n",
       "hpg_genre_name_Grilled meat                                      uint8\n",
       "hpg_genre_name_International cuisine                             uint8\n",
       "hpg_genre_name_Italian                                           uint8\n",
       "hpg_genre_name_Japanese cuisine/Kaiseki                          uint8\n",
       "hpg_genre_name_Japanese food in general                          uint8\n",
       "hpg_genre_name_Japanese style                                    uint8\n",
       "hpg_genre_name_Karaoke                                           uint8\n",
       "hpg_genre_name_Okonomiyaki/Monja/Teppanyaki                      uint8\n",
       "hpg_genre_name_Party                                             uint8\n",
       "hpg_genre_name_Seafood                                           uint8\n",
       "hpg_genre_name_Spain Bar/Italian Bar                             uint8\n",
       "hpg_genre_name_Steak/Hamburger/Curry                             uint8\n",
       "hpg_area_name_1                                                  uint8\n",
       "hpg_area_name_Fukuoka-ken Fukuoka-shi Daimyō                     uint8\n",
       "hpg_area_name_Fukuoka-ken Fukuoka-shi Hakata Ekimae              uint8\n",
       "hpg_area_name_Fukuoka-ken Fukuoka-shi None                       uint8\n",
       "hpg_area_name_Fukuoka-ken Fukuoka-shi Ōmiya                      uint8\n",
       "hpg_area_name_Fukuoka-ken Kitakyūshū-shi Aoyama                  uint8\n",
       "hpg_area_name_Fukuoka-ken Kitakyūshū-shi Sunatsu                 uint8\n",
       "hpg_area_name_Hiroshima-ken Fukuyama-shi Sannomaruchō            uint8\n",
       "hpg_area_name_Hiroshima-ken Hiroshima-shi Hondōri                uint8\n",
       "hpg_area_name_Hokkaidō Asahikawa-shi 3 Jōdōri                    uint8\n",
       "hpg_area_name_Hokkaidō Sapporo-shi Minami 4 Jōnishi              uint8\n",
       "hpg_area_name_Hyōgo-ken Himeji-shi Tsuchiyama                    uint8\n",
       "hpg_area_name_Hyōgo-ken Kakogawa-shi Noguchichō Yoshino          uint8\n",
       "hpg_area_name_Hyōgo-ken Kōbe-shi None                            uint8\n",
       "hpg_area_name_Kanagawa-ken Yokohama-shi Nagatsutachō             uint8\n",
       "hpg_area_name_Niigata-ken Niigata-shi Higashiōdōri               uint8\n",
       "hpg_area_name_Niigata-ken Niigata-shi Sakaihigashi               uint8\n",
       "hpg_area_name_None None None                                     uint8\n",
       "hpg_area_name_Osaka Prefecture Osaka None                        uint8\n",
       "hpg_area_name_Shizuoka-ken Hamamatsu-shi Sukenobuchō             uint8\n",
       "hpg_area_name_Tōkyō-to Chiyoda-ku None                           uint8\n",
       "hpg_area_name_Tōkyō-to Chūō-ku Ginza                             uint8\n",
       "hpg_area_name_Tōkyō-to Hachiōji-shi Ishikawamachi                uint8\n",
       "hpg_area_name_Tōkyō-to Kōtō-ku Minamisuna                        uint8\n",
       "hpg_area_name_Tōkyō-to Machida-shi Nakamachi                     uint8\n",
       "hpg_area_name_Tōkyō-to Minato-ku Takanawa                        uint8\n",
       "hpg_area_name_Tōkyō-to Shibuya-ku Ebisunishi                     uint8\n",
       "hpg_area_name_Tōkyō-to Shibuya-ku None                           uint8\n",
       "hpg_area_name_Tōkyō-to Shinjuku-ku None                          uint8\n",
       "hpg_area_name_Tōkyō-to Shinjuku-ku Takadanobaba                  uint8\n",
       "hpg_area_name_Tōkyō-to Sumida-ku Tachibana                       uint8\n",
       "hpg_area_name_Tōkyō-to Taitō-ku None                             uint8\n",
       "hpg_area_name_Ōsaka-fu Ōsaka-shi Awajimachi                      uint8\n",
       "hpg_area_name_Ōsaka-fu Ōsaka-shi Shinsaibashisuji                uint8\n",
       "dtype: object"
      ]
     },
     "execution_count": 195,
     "metadata": {},
     "output_type": "execute_result"
    }
   ],
   "source": [
    "train.dtypes"
   ]
  },
  {
   "cell_type": "code",
   "execution_count": 194,
   "metadata": {
    "scrolled": true
   },
   "outputs": [
    {
     "ename": "ValueError",
     "evalue": "labels ['visit_date' 'day_of_week' 'air_genre_name_1' 'air_area_name_1'] not contained in axis",
     "output_type": "error",
     "traceback": [
      "\u001b[0;31m---------------------------------------------------------------------------\u001b[0m",
      "\u001b[0;31mValueError\u001b[0m                                Traceback (most recent call last)",
      "\u001b[0;32m<ipython-input-194-0fd4e915a9cd>\u001b[0m in \u001b[0;36m<module>\u001b[0;34m()\u001b[0m\n\u001b[0;32m----> 1\u001b[0;31m \u001b[0mtrain\u001b[0m \u001b[0;34m=\u001b[0m \u001b[0mtrain\u001b[0m\u001b[0;34m.\u001b[0m\u001b[0mdrop\u001b[0m\u001b[0;34m(\u001b[0m\u001b[0;34m[\u001b[0m\u001b[0;34m'visit_date'\u001b[0m\u001b[0;34m,\u001b[0m\u001b[0;34m'day_of_week'\u001b[0m\u001b[0;34m,\u001b[0m\u001b[0;34m'air_genre_name_1'\u001b[0m\u001b[0;34m,\u001b[0m\u001b[0;34m'air_area_name_1'\u001b[0m\u001b[0;34m]\u001b[0m\u001b[0;34m,\u001b[0m \u001b[0maxis\u001b[0m\u001b[0;34m=\u001b[0m\u001b[0;36m1\u001b[0m\u001b[0;34m)\u001b[0m\u001b[0;34m\u001b[0m\u001b[0m\n\u001b[0m\u001b[1;32m      2\u001b[0m \u001b[0mtest\u001b[0m \u001b[0;34m=\u001b[0m \u001b[0mtest\u001b[0m\u001b[0;34m.\u001b[0m\u001b[0mdrop\u001b[0m\u001b[0;34m(\u001b[0m\u001b[0;34m[\u001b[0m\u001b[0;34m'visit_date'\u001b[0m\u001b[0;34m,\u001b[0m\u001b[0;34m'day_of_week'\u001b[0m\u001b[0;34m]\u001b[0m\u001b[0;34m,\u001b[0m \u001b[0maxis\u001b[0m\u001b[0;34m=\u001b[0m\u001b[0;36m1\u001b[0m\u001b[0;34m)\u001b[0m\u001b[0;34m\u001b[0m\u001b[0m\n",
      "\u001b[0;32m~/python3/lib/python3.6/site-packages/pandas/core/generic.py\u001b[0m in \u001b[0;36mdrop\u001b[0;34m(self, labels, axis, level, inplace, errors)\u001b[0m\n\u001b[1;32m   2159\u001b[0m                 \u001b[0mnew_axis\u001b[0m \u001b[0;34m=\u001b[0m \u001b[0maxis\u001b[0m\u001b[0;34m.\u001b[0m\u001b[0mdrop\u001b[0m\u001b[0;34m(\u001b[0m\u001b[0mlabels\u001b[0m\u001b[0;34m,\u001b[0m \u001b[0mlevel\u001b[0m\u001b[0;34m=\u001b[0m\u001b[0mlevel\u001b[0m\u001b[0;34m,\u001b[0m \u001b[0merrors\u001b[0m\u001b[0;34m=\u001b[0m\u001b[0merrors\u001b[0m\u001b[0;34m)\u001b[0m\u001b[0;34m\u001b[0m\u001b[0m\n\u001b[1;32m   2160\u001b[0m             \u001b[0;32melse\u001b[0m\u001b[0;34m:\u001b[0m\u001b[0;34m\u001b[0m\u001b[0m\n\u001b[0;32m-> 2161\u001b[0;31m                 \u001b[0mnew_axis\u001b[0m \u001b[0;34m=\u001b[0m \u001b[0maxis\u001b[0m\u001b[0;34m.\u001b[0m\u001b[0mdrop\u001b[0m\u001b[0;34m(\u001b[0m\u001b[0mlabels\u001b[0m\u001b[0;34m,\u001b[0m \u001b[0merrors\u001b[0m\u001b[0;34m=\u001b[0m\u001b[0merrors\u001b[0m\u001b[0;34m)\u001b[0m\u001b[0;34m\u001b[0m\u001b[0m\n\u001b[0m\u001b[1;32m   2162\u001b[0m             \u001b[0mdropped\u001b[0m \u001b[0;34m=\u001b[0m \u001b[0mself\u001b[0m\u001b[0;34m.\u001b[0m\u001b[0mreindex\u001b[0m\u001b[0;34m(\u001b[0m\u001b[0;34m**\u001b[0m\u001b[0;34m{\u001b[0m\u001b[0maxis_name\u001b[0m\u001b[0;34m:\u001b[0m \u001b[0mnew_axis\u001b[0m\u001b[0;34m}\u001b[0m\u001b[0;34m)\u001b[0m\u001b[0;34m\u001b[0m\u001b[0m\n\u001b[1;32m   2163\u001b[0m             \u001b[0;32mtry\u001b[0m\u001b[0;34m:\u001b[0m\u001b[0;34m\u001b[0m\u001b[0m\n",
      "\u001b[0;32m~/python3/lib/python3.6/site-packages/pandas/core/indexes/base.py\u001b[0m in \u001b[0;36mdrop\u001b[0;34m(self, labels, errors)\u001b[0m\n\u001b[1;32m   3622\u001b[0m             \u001b[0;32mif\u001b[0m \u001b[0merrors\u001b[0m \u001b[0;34m!=\u001b[0m \u001b[0;34m'ignore'\u001b[0m\u001b[0;34m:\u001b[0m\u001b[0;34m\u001b[0m\u001b[0m\n\u001b[1;32m   3623\u001b[0m                 raise ValueError('labels %s not contained in axis' %\n\u001b[0;32m-> 3624\u001b[0;31m                                  labels[mask])\n\u001b[0m\u001b[1;32m   3625\u001b[0m             \u001b[0mindexer\u001b[0m \u001b[0;34m=\u001b[0m \u001b[0mindexer\u001b[0m\u001b[0;34m[\u001b[0m\u001b[0;34m~\u001b[0m\u001b[0mmask\u001b[0m\u001b[0;34m]\u001b[0m\u001b[0;34m\u001b[0m\u001b[0m\n\u001b[1;32m   3626\u001b[0m         \u001b[0;32mreturn\u001b[0m \u001b[0mself\u001b[0m\u001b[0;34m.\u001b[0m\u001b[0mdelete\u001b[0m\u001b[0;34m(\u001b[0m\u001b[0mindexer\u001b[0m\u001b[0;34m)\u001b[0m\u001b[0;34m\u001b[0m\u001b[0m\n",
      "\u001b[0;31mValueError\u001b[0m: labels ['visit_date' 'day_of_week' 'air_genre_name_1' 'air_area_name_1'] not contained in axis"
     ]
    }
   ],
   "source": [
    "train = train.drop(['visit_date','day_of_week','air_genre_name_1','air_area_name_1'], axis=1)\n",
    "test = test.drop(['visit_date','day_of_week'], axis=1)"
   ]
  },
  {
   "cell_type": "markdown",
   "metadata": {},
   "source": [
    "### START MODELLING"
   ]
  },
  {
   "cell_type": "code",
   "execution_count": 196,
   "metadata": {
    "collapsed": true
   },
   "outputs": [],
   "source": [
    "y = train.pop('visitors')"
   ]
  },
  {
   "cell_type": "code",
   "execution_count": 197,
   "metadata": {},
   "outputs": [
    {
     "data": {
      "text/plain": [
       "(252108, 194)"
      ]
     },
     "execution_count": 197,
     "metadata": {},
     "output_type": "execute_result"
    }
   ],
   "source": [
    "train.shape"
   ]
  },
  {
   "cell_type": "code",
   "execution_count": 198,
   "metadata": {},
   "outputs": [
    {
     "data": {
      "text/plain": [
       "(32019, 197)"
      ]
     },
     "execution_count": 198,
     "metadata": {},
     "output_type": "execute_result"
    }
   ],
   "source": [
    "test.shape"
   ]
  },
  {
   "cell_type": "code",
   "execution_count": 199,
   "metadata": {
    "collapsed": true
   },
   "outputs": [],
   "source": [
    "# split data into train and test sets\n",
    "#seed = 7\n",
    "test_size = 0.2\n",
    "X_train, X_test, y_train, y_test = train_test_split(train, y, test_size=test_size)"
   ]
  },
  {
   "cell_type": "code",
   "execution_count": 200,
   "metadata": {
    "collapsed": true
   },
   "outputs": [],
   "source": [
    "from sklearn import feature_selection"
   ]
  },
  {
   "cell_type": "code",
   "execution_count": 201,
   "metadata": {
    "collapsed": true,
    "scrolled": true
   },
   "outputs": [],
   "source": [
    "f = feature_selection.f_regression(X_train, y_train)"
   ]
  },
  {
   "cell_type": "markdown",
   "metadata": {
    "collapsed": true
   },
   "source": [
    "### random forest"
   ]
  },
  {
   "cell_type": "code",
   "execution_count": 202,
   "metadata": {
    "collapsed": true
   },
   "outputs": [],
   "source": [
    "#RF apres FE\n",
    "rf = RandomForestRegressor()\n",
    "model2 = rf.fit(X_train, y_train)\n",
    "predictions2 = rf.predict(X_test)\n",
    "\n",
    "importances = rf.feature_importances_"
   ]
  },
  {
   "cell_type": "code",
   "execution_count": 203,
   "metadata": {
    "scrolled": true
   },
   "outputs": [
    {
     "name": "stdout",
     "output_type": "stream",
     "text": [
      "Feature ranking:\n",
      "1. feature 25 (0.871432)\n",
      "2. feature 22 (0.107167)\n",
      "3. feature 24 (0.009293)\n",
      "4. feature 15 (0.007980)\n",
      "5. feature 27 (0.000918)\n",
      "6. feature 21 (0.000600)\n",
      "7. feature 2 (0.000570)\n",
      "8. feature 13 (0.000470)\n",
      "9. feature 23 (0.000225)\n",
      "10. feature 11 (0.000197)\n",
      "11. feature 1 (0.000100)\n",
      "12. feature 0 (0.000092)\n",
      "13. feature 70 (0.000092)\n",
      "14. feature 51 (0.000089)\n",
      "15. feature 9 (0.000074)\n",
      "16. feature 5 (0.000074)\n",
      "17. feature 4 (0.000072)\n",
      "18. feature 20 (0.000069)\n",
      "19. feature 19 (0.000058)\n",
      "20. feature 156 (0.000048)\n",
      "21. feature 17 (0.000047)\n",
      "22. feature 35 (0.000038)\n",
      "23. feature 29 (0.000032)\n",
      "24. feature 33 (0.000019)\n",
      "25. feature 30 (0.000018)\n",
      "26. feature 28 (0.000015)\n",
      "27. feature 3 (0.000013)\n",
      "28. feature 164 (0.000011)\n",
      "29. feature 61 (0.000011)\n",
      "30. feature 184 (0.000010)\n",
      "31. feature 96 (0.000008)\n",
      "32. feature 160 (0.000008)\n",
      "33. feature 8 (0.000007)\n",
      "34. feature 6 (0.000007)\n",
      "35. feature 153 (0.000006)\n",
      "36. feature 143 (0.000006)\n",
      "37. feature 161 (0.000006)\n",
      "38. feature 32 (0.000005)\n",
      "39. feature 149 (0.000005)\n",
      "40. feature 77 (0.000005)\n",
      "41. feature 170 (0.000005)\n",
      "42. feature 55 (0.000005)\n",
      "43. feature 85 (0.000005)\n",
      "44. feature 7 (0.000004)\n",
      "45. feature 158 (0.000004)\n",
      "46. feature 169 (0.000004)\n",
      "47. feature 18 (0.000004)\n",
      "48. feature 176 (0.000003)\n",
      "49. feature 84 (0.000003)\n",
      "50. feature 63 (0.000003)\n",
      "51. feature 58 (0.000003)\n",
      "52. feature 114 (0.000002)\n",
      "53. feature 141 (0.000002)\n",
      "54. feature 76 (0.000002)\n",
      "55. feature 140 (0.000002)\n",
      "56. feature 40 (0.000002)\n",
      "57. feature 163 (0.000002)\n",
      "58. feature 79 (0.000002)\n",
      "59. feature 187 (0.000002)\n",
      "60. feature 150 (0.000002)\n",
      "61. feature 34 (0.000002)\n",
      "62. feature 66 (0.000002)\n",
      "63. feature 62 (0.000002)\n",
      "64. feature 83 (0.000002)\n",
      "65. feature 181 (0.000002)\n",
      "66. feature 168 (0.000002)\n",
      "67. feature 146 (0.000002)\n",
      "68. feature 39 (0.000001)\n",
      "69. feature 157 (0.000001)\n",
      "70. feature 67 (0.000001)\n",
      "71. feature 179 (0.000001)\n",
      "72. feature 117 (0.000001)\n",
      "73. feature 186 (0.000001)\n",
      "74. feature 36 (0.000001)\n",
      "75. feature 192 (0.000001)\n",
      "76. feature 180 (0.000001)\n",
      "77. feature 172 (0.000001)\n",
      "78. feature 44 (0.000001)\n",
      "79. feature 50 (0.000001)\n",
      "80. feature 41 (0.000001)\n",
      "81. feature 175 (0.000001)\n",
      "82. feature 65 (0.000001)\n",
      "83. feature 177 (0.000001)\n",
      "84. feature 86 (0.000001)\n",
      "85. feature 38 (0.000001)\n",
      "86. feature 93 (0.000001)\n",
      "87. feature 54 (0.000000)\n",
      "88. feature 94 (0.000000)\n",
      "89. feature 171 (0.000000)\n",
      "90. feature 152 (0.000000)\n",
      "91. feature 75 (0.000000)\n",
      "92. feature 98 (0.000000)\n",
      "93. feature 102 (0.000000)\n",
      "94. feature 120 (0.000000)\n",
      "95. feature 165 (0.000000)\n",
      "96. feature 72 (0.000000)\n",
      "97. feature 159 (0.000000)\n",
      "98. feature 90 (0.000000)\n",
      "99. feature 129 (0.000000)\n",
      "100. feature 178 (0.000000)\n",
      "101. feature 116 (0.000000)\n",
      "102. feature 185 (0.000000)\n",
      "103. feature 167 (0.000000)\n",
      "104. feature 122 (0.000000)\n",
      "105. feature 37 (0.000000)\n",
      "106. feature 154 (0.000000)\n",
      "107. feature 182 (0.000000)\n",
      "108. feature 64 (0.000000)\n",
      "109. feature 52 (0.000000)\n",
      "110. feature 87 (0.000000)\n",
      "111. feature 16 (0.000000)\n",
      "112. feature 137 (0.000000)\n",
      "113. feature 119 (0.000000)\n",
      "114. feature 188 (0.000000)\n",
      "115. feature 162 (0.000000)\n",
      "116. feature 190 (0.000000)\n",
      "117. feature 155 (0.000000)\n",
      "118. feature 100 (0.000000)\n",
      "119. feature 74 (0.000000)\n",
      "120. feature 145 (0.000000)\n",
      "121. feature 71 (0.000000)\n",
      "122. feature 193 (0.000000)\n",
      "123. feature 148 (0.000000)\n",
      "124. feature 183 (0.000000)\n",
      "125. feature 95 (0.000000)\n",
      "126. feature 173 (0.000000)\n",
      "127. feature 45 (0.000000)\n",
      "128. feature 60 (0.000000)\n",
      "129. feature 139 (0.000000)\n",
      "130. feature 131 (0.000000)\n",
      "131. feature 166 (0.000000)\n",
      "132. feature 144 (0.000000)\n",
      "133. feature 57 (0.000000)\n",
      "134. feature 151 (0.000000)\n",
      "135. feature 89 (0.000000)\n",
      "136. feature 48 (0.000000)\n",
      "137. feature 53 (0.000000)\n",
      "138. feature 189 (0.000000)\n",
      "139. feature 174 (0.000000)\n",
      "140. feature 127 (0.000000)\n",
      "141. feature 191 (0.000000)\n",
      "142. feature 99 (0.000000)\n",
      "143. feature 125 (0.000000)\n",
      "144. feature 147 (0.000000)\n",
      "145. feature 133 (0.000000)\n",
      "146. feature 136 (0.000000)\n",
      "147. feature 81 (0.000000)\n",
      "148. feature 43 (0.000000)\n",
      "149. feature 42 (0.000000)\n",
      "150. feature 110 (0.000000)\n",
      "151. feature 142 (0.000000)\n",
      "152. feature 106 (0.000000)\n",
      "153. feature 56 (0.000000)\n",
      "154. feature 128 (0.000000)\n",
      "155. feature 26 (0.000000)\n",
      "156. feature 126 (0.000000)\n",
      "157. feature 138 (0.000000)\n",
      "158. feature 135 (0.000000)\n",
      "159. feature 130 (0.000000)\n",
      "160. feature 14 (0.000000)\n",
      "161. feature 10 (0.000000)\n",
      "162. feature 132 (0.000000)\n",
      "163. feature 124 (0.000000)\n",
      "164. feature 134 (0.000000)\n",
      "165. feature 12 (0.000000)\n",
      "166. feature 73 (0.000000)\n",
      "167. feature 123 (0.000000)\n",
      "168. feature 121 (0.000000)\n",
      "169. feature 69 (0.000000)\n",
      "170. feature 68 (0.000000)\n",
      "171. feature 80 (0.000000)\n",
      "172. feature 82 (0.000000)\n",
      "173. feature 88 (0.000000)\n",
      "174. feature 91 (0.000000)\n",
      "175. feature 92 (0.000000)\n",
      "176. feature 59 (0.000000)\n",
      "177. feature 97 (0.000000)\n",
      "178. feature 101 (0.000000)\n",
      "179. feature 103 (0.000000)\n",
      "180. feature 104 (0.000000)\n",
      "181. feature 49 (0.000000)\n",
      "182. feature 47 (0.000000)\n",
      "183. feature 46 (0.000000)\n",
      "184. feature 105 (0.000000)\n",
      "185. feature 107 (0.000000)\n",
      "186. feature 108 (0.000000)\n",
      "187. feature 109 (0.000000)\n",
      "188. feature 111 (0.000000)\n",
      "189. feature 78 (0.000000)\n",
      "190. feature 113 (0.000000)\n",
      "191. feature 115 (0.000000)\n",
      "192. feature 118 (0.000000)\n",
      "193. feature 31 (0.000000)\n",
      "194. feature 112 (0.000000)\n"
     ]
    },
    {
     "data": {
      "image/png": "[encoded data removed]",
      "text/plain": [
       "<matplotlib.figure.Figure at 0x1064c48d0>"
      ]
     },
     "metadata": {},
     "output_type": "display_data"
    }
   ],
   "source": [
    "std = np.std([tree.feature_importances_ for tree in rf.estimators_],\n",
    "             axis=0)\n",
    "indices = np.argsort(importances)[::-1]\n",
    "\n",
    "# Print the feature ranking\n",
    "print(\"Feature ranking:\")\n",
    "\n",
    "for f in range(X_train.shape[1]):\n",
    "    print(\"%d. feature %d (%f)\" % (f + 1, indices[f], importances[indices[f]]))\n",
    "\n",
    "# Plot the feature importances of the forest\n",
    "plt.figure()\n",
    "plt.title(\"Feature importances\")\n",
    "plt.bar(range(X_train.shape[1]), importances[indices],\n",
    "       color=\"r\", yerr=std[indices], align=\"center\")\n",
    "plt.xticks(range(X_train.shape[1]), indices)\n",
    "plt.xlim([-1, X_train.shape[1]])\n",
    "plt.show()"
   ]
  },
  {
   "cell_type": "markdown",
   "metadata": {},
   "source": [
    "### linear regression"
   ]
  },
  {
   "cell_type": "code",
   "execution_count": 204,
   "metadata": {
    "collapsed": true
   },
   "outputs": [],
   "source": [
    "lm = linear_model.LinearRegression()\n",
    "model = lm.fit(X_train, y_train)\n",
    "predictions = lm.predict(X_test)"
   ]
  },
  {
   "cell_type": "code",
   "execution_count": 205,
   "metadata": {},
   "outputs": [
    {
     "data": {
      "text/plain": [
       "<matplotlib.text.Text at 0x10d031d30>"
      ]
     },
     "execution_count": 205,
     "metadata": {},
     "output_type": "execute_result"
    },
    {
     "data": {
      "image/png": "[encoded data removed]",
      "text/plain": [
       "<matplotlib.figure.Figure at 0x109b5f630>"
      ]
     },
     "metadata": {},
     "output_type": "display_data"
    }
   ],
   "source": [
    "plt.scatter(y_test, predictions)\n",
    "plt.xlabel('True Values')\n",
    "plt.ylabel('Predictions')"
   ]
  },
  {
   "cell_type": "code",
   "execution_count": 206,
   "metadata": {},
   "outputs": [
    {
     "name": "stdout",
     "output_type": "stream",
     "text": [
      "Score: 1.0\n"
     ]
    }
   ],
   "source": [
    "print('Score:', model.score(X_test, y_test))"
   ]
  },
  {
   "cell_type": "code",
   "execution_count": 207,
   "metadata": {},
   "outputs": [
    {
     "name": "stdout",
     "output_type": "stream",
     "text": [
      "1.80101132092e-12\n"
     ]
    }
   ],
   "source": [
    "print(mean_absolute_error(np.array(y_test), predictions))"
   ]
  },
  {
   "cell_type": "code",
   "execution_count": 208,
   "metadata": {
    "collapsed": true
   },
   "outputs": [],
   "source": [
    "#accuracy_score(y_true, y_pred)"
   ]
  },
  {
   "cell_type": "code",
   "execution_count": 209,
   "metadata": {},
   "outputs": [
    {
     "name": "stdout",
     "output_type": "stream",
     "text": [
      "log RMSE: 0.0000 +/-0.0000\n"
     ]
    }
   ],
   "source": [
    "from sklearn.linear_model import LinearRegression\n",
    "from sklearn.model_selection import cross_val_score\n",
    "\n",
    "reg = LinearRegression()\n",
    "\n",
    "scores = cross_val_score(reg, X_train, y_train, cv=5, scoring='neg_mean_squared_error')\n",
    "print(\"log RMSE: {:.4f} +/-{:.4f}\".format(\n",
    "    np.mean(np.sqrt(-scores)), np.std(np.sqrt(-scores))))"
   ]
  },
  {
   "cell_type": "markdown",
   "metadata": {},
   "source": [
    "### RF before FE"
   ]
  },
  {
   "cell_type": "code",
   "execution_count": 109,
   "metadata": {},
   "outputs": [
    {
     "name": "stdout",
     "output_type": "stream",
     "text": [
      "Score: 0.0296644818211\n"
     ]
    },
    {
     "data": {
      "image/png": "[encoded data removed]",
      "text/plain": [
       "<matplotlib.figure.Figure at 0x1081f5550>"
      ]
     },
     "metadata": {},
     "output_type": "display_data"
    }
   ],
   "source": [
    "data['test'] = data['test'].drop(['air_store_id'], axis=1)\n",
    "data['train'] = data['train'].drop(['air_store_id'], axis=1)\n",
    "data['train']['visit_date'] = pd.to_datetime(data['train']['visit_date'])\n",
    "data['test']['visit_date'] = pd.to_datetime(data['test']['visit_date'])\n",
    "data['train'] = data['train'].drop(['visit_date'], axis=1)\n",
    "data['test'] = data['test'].drop(['visit_date'], axis=1)\n",
    "data['train'] = data['train'].drop(['year_mth'], axis=1)\n",
    "data['test'] = data['test'].drop(['year_mth'], axis=1)\n",
    "\n",
    "y = data['train'].pop('visitors')\n",
    "# split data into train and test sets\n",
    "seed = 7\n",
    "test_size = 0.33\n",
    "X_train, X_test, y_train, y_test = train_test_split(data['train'], y, test_size=test_size, random_state=seed)\n",
    "lm = LinearRegression()\n",
    "lm.fit(X_train, y_train)\n",
    "predictions = lm.predict(X_test)\n",
    "predictions[0:10]\n",
    "plt.scatter(y_test, predictions)\n",
    "plt.xlabel(\"True Values\")\n",
    "plt.ylabel(\"Predictions\")\n",
    "print(\"Score:\", lm.score(X_test, y_test))\n",
    "\n",
    "rf = RandomForestRegressor()\n",
    "model_rf = rf.fit(X_train, y_train)\n",
    "predictions_rf = rf.predict(X_test)\n",
    "\n",
    "f_rf = feature_selection.f_regression(X_train, y_train)"
   ]
  },
  {
   "cell_type": "code",
   "execution_count": null,
   "metadata": {
    "collapsed": true
   },
   "outputs": [],
   "source": []
  }
 ],
 "metadata": {
  "kernelspec": {
   "display_name": "Python 3",
   "language": "python",
   "name": "python3"
  },
  "language_info": {
   "codemirror_mode": {
    "name": "ipython",
    "version": 3
   },
   "file_extension": ".py",
   "mimetype": "text/x-python",
   "name": "python",
   "nbconvert_exporter": "python",
   "pygments_lexer": "ipython3",
   "version": "3.6.2"
  }
 },
 "nbformat": 4,
 "nbformat_minor": 2
}
