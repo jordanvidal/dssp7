{
 "cells": [
  {
   "cell_type": "code",
   "execution_count": 24,
   "metadata": {
    "collapsed": true
   },
   "outputs": [],
   "source": [
    "%matplotlib inline\n",
    "import pandas as pd\n",
    "import numpy as np\n",
    "import matplotlib.pyplot as plt\n",
    "import seaborn as sns; sns.set()\n",
    "import plotly.plotly as py\n",
    "import plotly.graph_objs as go\n",
    "import folium\n",
    "from folium import plugins\n",
    "import seaborn as sns\n",
    "\n",
    "#plotly.__version__\n",
    "#plotly.tools.set_credentials_file(username='jordanvi', api_key='eWMeFHaplpUZvrjlAUZ9')\n",
    "pd.set_option('display.max_rows', 500)\n",
    "pd.set_option('display.max_columns', 500)\n",
    "pd.set_option('display.width', 1000)"
   ]
  },
  {
   "cell_type": "code",
   "execution_count": 25,
   "metadata": {},
   "outputs": [
    {
     "name": "stdout",
     "output_type": "stream",
     "text": [
      "air_reserve.csv.zip\n",
      "air_store_info.csv.zip\n",
      "air_visit_data.csv.zip\n",
      "date_info.csv.zip\n",
      "hpg_reserve.csv.zip\n",
      "hpg_store_info.csv.zip\n",
      "sample_submission.csv.zip\n",
      "store_id_relation.csv.zip\n",
      "\n"
     ]
    }
   ],
   "source": [
    "from subprocess import check_output\n",
    "print(check_output([\"ls\", \"data/\"]).decode(\"utf8\"))"
   ]
  },
  {
   "cell_type": "code",
   "execution_count": 26,
   "metadata": {
    "collapsed": true
   },
   "outputs": [],
   "source": [
    "# Loading data\n",
    "data = {\n",
    "    'train': pd.read_csv('data/air_visit_data.csv.zip', compression=\"zip\"),\n",
    "    'air_store_info': pd.read_csv('data/air_store_info.csv.zip', compression=\"zip\"),\n",
    "    'hpg_store_info': pd.read_csv('data/hpg_store_info.csv.zip', compression=\"zip\"),\n",
    "    'air_reserve': pd.read_csv('data/air_reserve.csv.zip', compression=\"zip\"),\n",
    "    'hpg_reserve': pd.read_csv('data/hpg_reserve.csv.zip', compression=\"zip\"),\n",
    "    'store_id_relation': pd.read_csv('data/store_id_relation.csv.zip', compression=\"zip\"),\n",
    "    'test': pd.read_csv('data/sample_submission.csv.zip', compression=\"zip\"),\n",
    "    'date_info': pd.read_csv('data/date_info.csv.zip', compression=\"zip\").rename(columns={'calendar_date':'visit_date'})\n",
    "    }"
   ]
  },
  {
   "cell_type": "code",
   "execution_count": 27,
   "metadata": {},
   "outputs": [
    {
     "data": {
      "text/html": [
       "<div>\n",
       "<style>\n",
       "    .dataframe thead tr:only-child th {\n",
       "        text-align: right;\n",
       "    }\n",
       "\n",
       "    .dataframe thead th {\n",
       "        text-align: left;\n",
       "    }\n",
       "\n",
       "    .dataframe tbody tr th {\n",
       "        vertical-align: top;\n",
       "    }\n",
       "</style>\n",
       "<table border=\"1\" class=\"dataframe\">\n",
       "  <thead>\n",
       "    <tr style=\"text-align: right;\">\n",
       "      <th></th>\n",
       "      <th>hpg_store_id</th>\n",
       "      <th>visit_datetime</th>\n",
       "      <th>reserve_datetime</th>\n",
       "      <th>reserve_visitors</th>\n",
       "    </tr>\n",
       "  </thead>\n",
       "  <tbody>\n",
       "    <tr>\n",
       "      <th>2000315</th>\n",
       "      <td>hpg_2b293477ea4642fb</td>\n",
       "      <td>2017-05-31 20:00:00</td>\n",
       "      <td>2017-04-19 07:00:00</td>\n",
       "      <td>2</td>\n",
       "    </tr>\n",
       "    <tr>\n",
       "      <th>2000316</th>\n",
       "      <td>hpg_f922aeca48ca5a29</td>\n",
       "      <td>2017-05-31 20:00:00</td>\n",
       "      <td>2017-03-19 00:00:00</td>\n",
       "      <td>3</td>\n",
       "    </tr>\n",
       "    <tr>\n",
       "      <th>2000317</th>\n",
       "      <td>hpg_e9151de687b93aa3</td>\n",
       "      <td>2017-05-31 21:00:00</td>\n",
       "      <td>2017-04-14 20:00:00</td>\n",
       "      <td>49</td>\n",
       "    </tr>\n",
       "    <tr>\n",
       "      <th>2000318</th>\n",
       "      <td>hpg_fae6c96189b4a122</td>\n",
       "      <td>2017-05-31 21:00:00</td>\n",
       "      <td>2017-04-19 17:00:00</td>\n",
       "      <td>9</td>\n",
       "    </tr>\n",
       "    <tr>\n",
       "      <th>2000319</th>\n",
       "      <td>hpg_0b70de808b55ad1e</td>\n",
       "      <td>2017-05-31 23:00:00</td>\n",
       "      <td>2017-04-21 13:00:00</td>\n",
       "      <td>6</td>\n",
       "    </tr>\n",
       "  </tbody>\n",
       "</table>\n",
       "</div>"
      ],
      "text/plain": [
       "                 hpg_store_id       visit_datetime     reserve_datetime  reserve_visitors\n",
       "2000315  hpg_2b293477ea4642fb  2017-05-31 20:00:00  2017-04-19 07:00:00                 2\n",
       "2000316  hpg_f922aeca48ca5a29  2017-05-31 20:00:00  2017-03-19 00:00:00                 3\n",
       "2000317  hpg_e9151de687b93aa3  2017-05-31 21:00:00  2017-04-14 20:00:00                49\n",
       "2000318  hpg_fae6c96189b4a122  2017-05-31 21:00:00  2017-04-19 17:00:00                 9\n",
       "2000319  hpg_0b70de808b55ad1e  2017-05-31 23:00:00  2017-04-21 13:00:00                 6"
      ]
     },
     "execution_count": 27,
     "metadata": {},
     "output_type": "execute_result"
    }
   ],
   "source": [
    "data['hpg_reserve'].tail(5)"
   ]
  },
  {
   "cell_type": "code",
   "execution_count": 28,
   "metadata": {
    "collapsed": true
   },
   "outputs": [],
   "source": [
    "# bring air id to hpg reserve data\n",
    "data['hpg_reserve'] = pd.merge(data['hpg_reserve'], data['store_id_relation'], how='inner', on=['hpg_store_id'])\n",
    "# bring air id to hpg stores\n",
    "data['hpg_store_info'] = pd.merge(data['hpg_store_info'], data['store_id_relation'], how='inner', on=['hpg_store_id'])"
   ]
  },
  {
   "cell_type": "code",
   "execution_count": 29,
   "metadata": {},
   "outputs": [
    {
     "data": {
      "text/html": [
       "<div>\n",
       "<style>\n",
       "    .dataframe thead tr:only-child th {\n",
       "        text-align: right;\n",
       "    }\n",
       "\n",
       "    .dataframe thead th {\n",
       "        text-align: left;\n",
       "    }\n",
       "\n",
       "    .dataframe tbody tr th {\n",
       "        vertical-align: top;\n",
       "    }\n",
       "</style>\n",
       "<table border=\"1\" class=\"dataframe\">\n",
       "  <thead>\n",
       "    <tr style=\"text-align: right;\">\n",
       "      <th></th>\n",
       "      <th>hpg_store_id</th>\n",
       "      <th>visit_datetime</th>\n",
       "      <th>reserve_datetime</th>\n",
       "      <th>reserve_visitors</th>\n",
       "      <th>air_store_id</th>\n",
       "    </tr>\n",
       "  </thead>\n",
       "  <tbody>\n",
       "    <tr>\n",
       "      <th>28178</th>\n",
       "      <td>hpg_0f78ef8d1e4b23d8</td>\n",
       "      <td>2017-04-01 21:00:00</td>\n",
       "      <td>2017-03-10 20:00:00</td>\n",
       "      <td>2</td>\n",
       "      <td>air_84f6876ff7e83ae7</td>\n",
       "    </tr>\n",
       "    <tr>\n",
       "      <th>28179</th>\n",
       "      <td>hpg_0f78ef8d1e4b23d8</td>\n",
       "      <td>2017-04-02 17:00:00</td>\n",
       "      <td>2017-04-02 14:00:00</td>\n",
       "      <td>2</td>\n",
       "      <td>air_84f6876ff7e83ae7</td>\n",
       "    </tr>\n",
       "    <tr>\n",
       "      <th>28180</th>\n",
       "      <td>hpg_0f78ef8d1e4b23d8</td>\n",
       "      <td>2017-04-08 19:00:00</td>\n",
       "      <td>2017-04-03 12:00:00</td>\n",
       "      <td>3</td>\n",
       "      <td>air_84f6876ff7e83ae7</td>\n",
       "    </tr>\n",
       "    <tr>\n",
       "      <th>28181</th>\n",
       "      <td>hpg_0f78ef8d1e4b23d8</td>\n",
       "      <td>2017-04-08 20:00:00</td>\n",
       "      <td>2017-03-09 07:00:00</td>\n",
       "      <td>4</td>\n",
       "      <td>air_84f6876ff7e83ae7</td>\n",
       "    </tr>\n",
       "    <tr>\n",
       "      <th>28182</th>\n",
       "      <td>hpg_0f78ef8d1e4b23d8</td>\n",
       "      <td>2017-04-28 18:00:00</td>\n",
       "      <td>2017-04-10 22:00:00</td>\n",
       "      <td>5</td>\n",
       "      <td>air_84f6876ff7e83ae7</td>\n",
       "    </tr>\n",
       "  </tbody>\n",
       "</table>\n",
       "</div>"
      ],
      "text/plain": [
       "               hpg_store_id       visit_datetime     reserve_datetime  reserve_visitors          air_store_id\n",
       "28178  hpg_0f78ef8d1e4b23d8  2017-04-01 21:00:00  2017-03-10 20:00:00                 2  air_84f6876ff7e83ae7\n",
       "28179  hpg_0f78ef8d1e4b23d8  2017-04-02 17:00:00  2017-04-02 14:00:00                 2  air_84f6876ff7e83ae7\n",
       "28180  hpg_0f78ef8d1e4b23d8  2017-04-08 19:00:00  2017-04-03 12:00:00                 3  air_84f6876ff7e83ae7\n",
       "28181  hpg_0f78ef8d1e4b23d8  2017-04-08 20:00:00  2017-03-09 07:00:00                 4  air_84f6876ff7e83ae7\n",
       "28182  hpg_0f78ef8d1e4b23d8  2017-04-28 18:00:00  2017-04-10 22:00:00                 5  air_84f6876ff7e83ae7"
      ]
     },
     "execution_count": 29,
     "metadata": {},
     "output_type": "execute_result"
    }
   ],
   "source": [
    "data['hpg_reserve'].tail(5)"
   ]
  },
  {
   "cell_type": "code",
   "execution_count": 8,
   "metadata": {
    "scrolled": false
   },
   "outputs": [
    {
     "data": {
      "text/plain": [
       "<matplotlib.axes._subplots.AxesSubplot at 0x1044adb38>"
      ]
     },
     "execution_count": 8,
     "metadata": {},
     "output_type": "execute_result"
    },
    {
     "data": {
      "image/png": "[encoded data removed]",
      "text/plain": [
       "<matplotlib.figure.Figure at 0x1044adf28>"
      ]
     },
     "metadata": {},
     "output_type": "display_data"
    }
   ],
   "source": [
    "data['hpg_reserve'].plot()"
   ]
  },
  {
   "cell_type": "code",
   "execution_count": 9,
   "metadata": {},
   "outputs": [
    {
     "data": {
      "text/plain": [
       "<matplotlib.axes._subplots.AxesSubplot at 0x103e8e2e8>"
      ]
     },
     "execution_count": 9,
     "metadata": {},
     "output_type": "execute_result"
    },
    {
     "data": {
      "image/png": "[encoded data removed]",
      "text/plain": [
       "<matplotlib.figure.Figure at 0x10a0e88d0>"
      ]
     },
     "metadata": {},
     "output_type": "display_data"
    }
   ],
   "source": [
    "data['air_reserve'].plot()"
   ]
  },
  {
   "cell_type": "code",
   "execution_count": 10,
   "metadata": {},
   "outputs": [],
   "source": [
    "#data['hpg_reserve'].reserve_visitors.plot(kind = 'bar', color = 'y',label = 'Speed',linewidth=1,alpha = 0.9,grid = True,linestyle = ':')"
   ]
  },
  {
   "cell_type": "code",
   "execution_count": 30,
   "metadata": {},
   "outputs": [
    {
     "data": {
      "text/html": [
       "<div>\n",
       "<style>\n",
       "    .dataframe thead tr:only-child th {\n",
       "        text-align: right;\n",
       "    }\n",
       "\n",
       "    .dataframe thead th {\n",
       "        text-align: left;\n",
       "    }\n",
       "\n",
       "    .dataframe tbody tr th {\n",
       "        vertical-align: top;\n",
       "    }\n",
       "</style>\n",
       "<table border=\"1\" class=\"dataframe\">\n",
       "  <thead>\n",
       "    <tr style=\"text-align: right;\">\n",
       "      <th></th>\n",
       "      <th>reserve_visitors</th>\n",
       "    </tr>\n",
       "  </thead>\n",
       "  <tbody>\n",
       "    <tr>\n",
       "      <th>count</th>\n",
       "      <td>28183.000000</td>\n",
       "    </tr>\n",
       "    <tr>\n",
       "      <th>mean</th>\n",
       "      <td>4.364120</td>\n",
       "    </tr>\n",
       "    <tr>\n",
       "      <th>std</th>\n",
       "      <td>4.689755</td>\n",
       "    </tr>\n",
       "    <tr>\n",
       "      <th>min</th>\n",
       "      <td>1.000000</td>\n",
       "    </tr>\n",
       "    <tr>\n",
       "      <th>25%</th>\n",
       "      <td>2.000000</td>\n",
       "    </tr>\n",
       "    <tr>\n",
       "      <th>50%</th>\n",
       "      <td>3.000000</td>\n",
       "    </tr>\n",
       "    <tr>\n",
       "      <th>75%</th>\n",
       "      <td>5.000000</td>\n",
       "    </tr>\n",
       "    <tr>\n",
       "      <th>max</th>\n",
       "      <td>100.000000</td>\n",
       "    </tr>\n",
       "  </tbody>\n",
       "</table>\n",
       "</div>"
      ],
      "text/plain": [
       "       reserve_visitors\n",
       "count      28183.000000\n",
       "mean           4.364120\n",
       "std            4.689755\n",
       "min            1.000000\n",
       "25%            2.000000\n",
       "50%            3.000000\n",
       "75%            5.000000\n",
       "max          100.000000"
      ]
     },
     "execution_count": 30,
     "metadata": {},
     "output_type": "execute_result"
    }
   ],
   "source": [
    "data['hpg_reserve'].describe()"
   ]
  },
  {
   "cell_type": "code",
   "execution_count": null,
   "metadata": {},
   "outputs": [],
   "source": [
    "#correlation map\n",
    "#f,ax = plt.subplots(figsize=(8,8))\n",
    "#sns.heatmap(data['air_store_info'].corr(), annot=True, linewidths=.5, fmt= '.1f',ax=ax)"
   ]
  },
  {
   "cell_type": "code",
   "execution_count": 31,
   "metadata": {},
   "outputs": [
    {
     "data": {
      "text/plain": [
       "92378"
      ]
     },
     "execution_count": 31,
     "metadata": {},
     "output_type": "execute_result"
    }
   ],
   "source": [
    "data['air_reserve'].reserve_visitors.count()"
   ]
  },
  {
   "cell_type": "code",
   "execution_count": 12,
   "metadata": {},
   "outputs": [
    {
     "data": {
      "text/plain": [
       "<matplotlib.axes._subplots.AxesSubplot at 0x10a569be0>"
      ]
     },
     "execution_count": 12,
     "metadata": {},
     "output_type": "execute_result"
    },
    {
     "data": {
      "image/png": "[encoded data removed]",
      "text/plain": [
       "<matplotlib.figure.Figure at 0x103eba0b8>"
      ]
     },
     "metadata": {},
     "output_type": "display_data"
    }
   ],
   "source": [
    "#data['air_reserve'].reserve_visitors.plot(kind = 'bar', color = 'y',label = 'Speed',linewidth=1,alpha = 0.9,grid = True,linestyle = ':')"
   ]
  },
  {
   "cell_type": "code",
   "execution_count": 18,
   "metadata": {},
   "outputs": [
    {
     "data": {
      "text/plain": [
       "<matplotlib.axes._subplots.AxesSubplot at 0x1364fbcf8>"
      ]
     },
     "execution_count": 18,
     "metadata": {},
     "output_type": "execute_result"
    },
    {
     "data": {
      "image/png": "[encoded data removed]",
      "text/plain": [
       "<matplotlib.figure.Figure at 0x136324400>"
      ]
     },
     "metadata": {},
     "output_type": "display_data"
    }
   ],
   "source": [
    "data['air_reserve'].reserve_visitors.plot(kind = 'line')"
   ]
  },
  {
   "cell_type": "code",
   "execution_count": 21,
   "metadata": {},
   "outputs": [
    {
     "data": {
      "text/plain": [
       "<matplotlib.axes._subplots.AxesSubplot at 0x10e8f8278>"
      ]
     },
     "execution_count": 21,
     "metadata": {},
     "output_type": "execute_result"
    },
    {
     "data": {
      "image/png": "[encoded data removed]",
      "text/plain": [
       "<matplotlib.figure.Figure at 0x10e8b4f98>"
      ]
     },
     "metadata": {},
     "output_type": "display_data"
    }
   ],
   "source": [
    "data['air_reserve']['reserve_visitors'].plot(kind='bar')"
   ]
  },
  {
   "cell_type": "code",
   "execution_count": null,
   "metadata": {
    "scrolled": true
   },
   "outputs": [],
   "source": [
    "data['air_reserve'].reserve_visitors.plot(kind = 'bar', color = 'y',label = 'Speed',linewidth=1,alpha = 0.9,grid = True,linestyle = ':')\n",
    "data['hpg_reserve'].reserve_visitors.plot(color = 'r',label = 'Defense',linewidth=1, alpha = 0.5,grid = True,linestyle = '-.')\n",
    "plt.legend(loc='upper right')     # legend = puts label into plot\n",
    "plt.xlabel('x axis')              # label = name of label\n",
    "plt.ylabel('y axis')\n",
    "plt.title('Line Plot')            # title = title of plot"
   ]
  },
  {
   "cell_type": "code",
   "execution_count": null,
   "metadata": {},
   "outputs": [],
   "source": [
    "from pandas.plotting import scatter_matrix\n",
    "scatter_matrix(data['air_reserve'], alpha=0.2, figsize=(8, 8), diagonal='kde')"
   ]
  },
  {
   "cell_type": "markdown",
   "metadata": {},
   "source": [
    "### Data Structure"
   ]
  },
  {
   "cell_type": "code",
   "execution_count": 32,
   "metadata": {},
   "outputs": [
    {
     "name": "stdout",
     "output_type": "stream",
     "text": [
      "Training data.... (252108, 3)\n",
      "Unique store id in training data 829\n",
      "Id data.... (150, 2)\n",
      "Air store data.... (829, 5) & unique- (829,)\n",
      "Hpg store data.... (63, 6) & unique- (63,)\n",
      "Air reserve data.... (92378, 4) & unique- (314,)\n",
      "Hpg reserve data.... (28183, 5) & unique- (150,)\n"
     ]
    }
   ],
   "source": [
    "print('Training data....',data['train'].shape)\n",
    "print('Unique store id in training data',len(data['train']['air_store_id'].unique()))\n",
    "print('Id data....',data['store_id_relation'].shape)\n",
    "print('Air store data....',data['air_store_info'].shape,'& unique-',data['air_store_info']['air_store_id'].unique().shape)\n",
    "print('Hpg store data....',data['hpg_store_info'].shape,'& unique-',data['hpg_store_info']['hpg_store_id'].unique().shape)\n",
    "print('Air reserve data....',data['air_reserve'].shape,'& unique-',data['air_reserve']['air_store_id'].unique().shape)\n",
    "print('Hpg reserve data....',data['hpg_reserve'].shape,'& unique-',data['hpg_reserve']['air_store_id'].unique().shape)"
   ]
  },
  {
   "cell_type": "markdown",
   "metadata": {},
   "source": [
    "### Time Series of dataset"
   ]
  },
  {
   "cell_type": "code",
   "execution_count": 33,
   "metadata": {
    "collapsed": true
   },
   "outputs": [],
   "source": [
    "#converting datetime to date for reservation data\n",
    "for df in ['air_reserve','hpg_reserve']:\n",
    "    data[df]['visit_datetime'] = pd.to_datetime(data[df]['visit_datetime'])\n",
    "    data[df]['visit_hour'] = data[df]['visit_datetime'].dt.hour\n",
    "    data[df]['visit_date'] = data[df]['visit_datetime'].dt.date\n",
    "    data[df]['reserve_datetime'] = pd.to_datetime(data[df]['reserve_datetime'])\n",
    "    data[df]['reserve_hour'] = data[df]['reserve_datetime'].dt.hour\n",
    "    data[df]['reserve_date'] = data[df]['reserve_datetime'].dt.date\n",
    "    \n",
    "    data[df+'_hour'] = data[df]#keeping original\n",
    "    \n",
    "    #calculate reserve time difference and summarizing air_reserve,hpg_reserve to date\n",
    "    data[df]['reserve_day_'+df] = data[df].apply(\n",
    "        lambda r: (r['visit_date'] - r['reserve_date']).days, axis=1)\n",
    "    data[df] = data[df].groupby(['air_store_id','visit_date'], as_index=False)[[\n",
    "        'reserve_day_'+df, 'reserve_visitors']].sum().rename(columns={'reserve_visitors':'reserve_visitors_'+df})"
   ]
  },
  {
   "cell_type": "code",
   "execution_count": 34,
   "metadata": {},
   "outputs": [
    {
     "data": {
      "text/html": [
       "<div>\n",
       "<style>\n",
       "    .dataframe thead tr:only-child th {\n",
       "        text-align: right;\n",
       "    }\n",
       "\n",
       "    .dataframe thead th {\n",
       "        text-align: left;\n",
       "    }\n",
       "\n",
       "    .dataframe tbody tr th {\n",
       "        vertical-align: top;\n",
       "    }\n",
       "</style>\n",
       "<table border=\"1\" class=\"dataframe\">\n",
       "  <thead>\n",
       "    <tr style=\"text-align: right;\">\n",
       "      <th></th>\n",
       "      <th>air_store_id</th>\n",
       "      <th>visit_date</th>\n",
       "      <th>reserve_day_air_reserve</th>\n",
       "      <th>reserve_visitors_air_reserve</th>\n",
       "    </tr>\n",
       "  </thead>\n",
       "  <tbody>\n",
       "    <tr>\n",
       "      <th>0</th>\n",
       "      <td>air_00a91d42b08b08d9</td>\n",
       "      <td>2016-10-31</td>\n",
       "      <td>0</td>\n",
       "      <td>2</td>\n",
       "    </tr>\n",
       "    <tr>\n",
       "      <th>1</th>\n",
       "      <td>air_00a91d42b08b08d9</td>\n",
       "      <td>2016-12-05</td>\n",
       "      <td>4</td>\n",
       "      <td>9</td>\n",
       "    </tr>\n",
       "    <tr>\n",
       "      <th>2</th>\n",
       "      <td>air_00a91d42b08b08d9</td>\n",
       "      <td>2016-12-14</td>\n",
       "      <td>6</td>\n",
       "      <td>18</td>\n",
       "    </tr>\n",
       "    <tr>\n",
       "      <th>3</th>\n",
       "      <td>air_00a91d42b08b08d9</td>\n",
       "      <td>2016-12-17</td>\n",
       "      <td>6</td>\n",
       "      <td>2</td>\n",
       "    </tr>\n",
       "    <tr>\n",
       "      <th>4</th>\n",
       "      <td>air_00a91d42b08b08d9</td>\n",
       "      <td>2016-12-20</td>\n",
       "      <td>2</td>\n",
       "      <td>4</td>\n",
       "    </tr>\n",
       "  </tbody>\n",
       "</table>\n",
       "</div>"
      ],
      "text/plain": [
       "           air_store_id  visit_date  reserve_day_air_reserve  reserve_visitors_air_reserve\n",
       "0  air_00a91d42b08b08d9  2016-10-31                        0                             2\n",
       "1  air_00a91d42b08b08d9  2016-12-05                        4                             9\n",
       "2  air_00a91d42b08b08d9  2016-12-14                        6                            18\n",
       "3  air_00a91d42b08b08d9  2016-12-17                        6                             2\n",
       "4  air_00a91d42b08b08d9  2016-12-20                        2                             4"
      ]
     },
     "execution_count": 34,
     "metadata": {},
     "output_type": "execute_result"
    }
   ],
   "source": [
    "data['air_reserve'].head(5)\n",
    "# Reserve_day_air_reserve ==> nombre de jours entre la reservation et la visite"
   ]
  },
  {
   "cell_type": "code",
   "execution_count": null,
   "metadata": {
    "collapsed": true
   },
   "outputs": [],
   "source": [
    "#breaking down dates on training data & summarizing \n",
    "data['train']['visit_date'] = pd.to_datetime(data['train']['visit_date'])\n",
    "data['train']['day'] = data['train']['visit_date'].dt.day\n",
    "data['train']['dow'] = data['train']['visit_date'].dt.weekday\n",
    "#data['train']['dow_name'] = data['train']['visit_date'].dt.weekday_name\n",
    "data['train']['year'] = data['train']['visit_date'].dt.year\n",
    "data['train']['month'] = data['train']['visit_date'].dt.month\n",
    "data['train']['week'] = data['train']['visit_date'].dt.week\n",
    "data['train']['quarter'] = data['train']['visit_date'].dt.quarter\n",
    "data['train']['visit_date'] = data['train']['visit_date'].dt.date\n",
    "data['train']['year_mth'] = data['train']['year'].astype(str)+'-'+data['train']['month'].astype(str)"
   ]
  },
  {
   "cell_type": "code",
   "execution_count": null,
   "metadata": {
    "collapsed": true
   },
   "outputs": [],
   "source": [
    "#extracting store id and date info from test data\n",
    "data['test']['air_store_id'] = data['test']['id'].map(lambda x: '_'.join(x.split('_')[:2]))\n",
    "data['test']['visit_date'] = data['test']['id'].map(lambda x: str(x).split('_')[2])\n",
    "data['test']['visit_date'] = pd.to_datetime(data['test']['visit_date'])\n",
    "data['test']['day'] = data['test']['visit_date'].dt.day\n",
    "data['test']['dow'] = data['test']['visit_date'].dt.weekday\n",
    "#data['test']['dow_name'] = data['test']['visit_date'].dt.weekday_name\n",
    "data['test']['year'] = data['test']['visit_date'].dt.year\n",
    "data['test']['month'] = data['test']['visit_date'].dt.month\n",
    "data['test']['week'] = data['test']['visit_date'].dt.week\n",
    "data['test']['quarter'] = data['test']['visit_date'].dt.quarter\n",
    "data['test']['visit_date'] = data['test']['visit_date'].dt.date\n",
    "data['test']['year_mth'] = data['test']['year'].astype(str)+'-'+data['test']['month'].astype(str)"
   ]
  },
  {
   "cell_type": "code",
   "execution_count": null,
   "metadata": {},
   "outputs": [],
   "source": [
    "print('Dates................')\n",
    "print('train date- ,',data['train']['visit_date'].min(),' to ',data['train']['visit_date'].max())\n",
    "print('test date - ,',data['test']['visit_date'].min(),' to ',data['test']['visit_date'].max())\n",
    "print('holiday df- ,',data['date_info']['visit_date'].min(),' to ',data['date_info']['visit_date'].max())"
   ]
  },
  {
   "cell_type": "markdown",
   "metadata": {},
   "source": [
    "## More explo"
   ]
  },
  {
   "cell_type": "code",
   "execution_count": null,
   "metadata": {},
   "outputs": [],
   "source": [
    "data['train'].tail(5)\n",
    "# add season ?"
   ]
  },
  {
   "cell_type": "code",
   "execution_count": null,
   "metadata": {
    "collapsed": true
   },
   "outputs": [],
   "source": [
    "#extract unique stores based on test data and populate dow 1 to 6\n",
    "unique_stores = data['test']['air_store_id'].unique()#extract unique stores id from test data\n",
    "#print(\"Nombre de restaurants uniques dans le test: \", len(unique_stores))\n",
    "\n",
    "store_7days = pd.concat([pd.DataFrame({'air_store_id': unique_stores, 'dow': [i]*len(unique_stores)}) \n",
    "                    for i in range(7)], axis=0, ignore_index=True).reset_index(drop=True)\n",
    "store_sum = pd.DataFrame({'air_store_id': unique_stores})"
   ]
  },
  {
   "cell_type": "code",
   "execution_count": null,
   "metadata": {},
   "outputs": [],
   "source": [
    "store_7days.tail(4)"
   ]
  },
  {
   "cell_type": "code",
   "execution_count": null,
   "metadata": {},
   "outputs": [],
   "source": [
    "store_sum.tail(5)"
   ]
  },
  {
   "cell_type": "code",
   "execution_count": null,
   "metadata": {
    "collapsed": true
   },
   "outputs": [],
   "source": [
    "# mapping train data dow to stores(test data) - min, mean, median, max, count \n",
    "tmp = data['train'].groupby(['air_store_id'], as_index=False)['visitors'].sum().rename(columns={'visitors':'total_visitors'})\n",
    "store_7days = pd.merge(store_7days, tmp, how='left', on=['air_store_id']) \n",
    "\n",
    "tmp = data['train'].groupby(['air_store_id','dow'], as_index=False)['visitors'].mean().rename(columns={'visitors':'mean_visitors'})\n",
    "store_7days = pd.merge(store_7days, tmp, how='left', on=['air_store_id','dow'])\n",
    "\n",
    "tmp = data['train'].groupby(['air_store_id','dow'], as_index=False)['visitors'].median().rename(columns={'visitors':'median_visitors'})\n",
    "store_7days = pd.merge(store_7days, tmp, how='left', on=['air_store_id','dow'])\n",
    "\n",
    "tmp = data['train'].groupby(['air_store_id','dow'], as_index=False)['visitors'].max().rename(columns={'visitors':'max_visitors'})\n",
    "store_7days = pd.merge(store_7days, tmp, how='left', on=['air_store_id','dow'])\n",
    "\n",
    "tmp = data['train'].groupby(['air_store_id','dow'], as_index=False)['visitors'].count().rename(columns={'visitors':'count_observations'})\n",
    "store_7days = pd.merge(store_7days, tmp, how='left', on=['air_store_id','dow']) \n",
    "\n",
    "# map stores(test) to store genre and location detail\n",
    "store_7days = pd.merge(store_7days, data['air_store_info'], how='left', on=['air_store_id']) \n",
    "#map to hpg genre and area\n",
    "store_7days = pd.merge(store_7days, data['hpg_store_info'][['air_store_id','hpg_genre_name','hpg_area_name']], \n",
    "                       how='left', on=['air_store_id']) \n",
    "\n",
    "data['date_info']['visit_date'] = pd.to_datetime(data['date_info']['visit_date'])\n",
    "data['date_info']['visit_date'] = data['date_info']['visit_date'].dt.date\n",
    "\n",
    "hf=data['date_info']['holiday_flg']\n",
    "dw=data['date_info']['day_of_week']\n",
    "data['date_info']['long_wknd']=0"
   ]
  },
  {
   "cell_type": "code",
   "execution_count": null,
   "metadata": {},
   "outputs": [],
   "source": [
    "store_7days.shape"
   ]
  },
  {
   "cell_type": "code",
   "execution_count": null,
   "metadata": {},
   "outputs": [],
   "source": [
    "store_7days.tail(4)"
   ]
  },
  {
   "cell_type": "code",
   "execution_count": null,
   "metadata": {},
   "outputs": [],
   "source": [
    "for i in range(len(data['date_info'])):\n",
    "    if (hf[i]==1)&(dw[i]=='Friday'):\n",
    "        data['date_info']['long_wknd'][i]=1\n",
    "        data['date_info']['long_wknd'][i+1]=1\n",
    "        data['date_info']['long_wknd'][i+2]=1\n",
    "          \n",
    "    if (hf[i]==1)&(dw[i]=='Monday'):\n",
    "        data['date_info']['long_wknd'][i]=1\n",
    "        data['date_info']['long_wknd'][i-1]=1\n",
    "        data['date_info']['long_wknd'][i-2]=1"
   ]
  },
  {
   "cell_type": "code",
   "execution_count": null,
   "metadata": {
    "collapsed": true
   },
   "outputs": [],
   "source": [
    "train = pd.merge(data['train'], data['date_info'], how='left', on=['visit_date']) \n",
    "test = pd.merge(data['test'], data['date_info'], how='left', on=['visit_date']) \n",
    "train = pd.merge(train, store_7days, how='left', on=['air_store_id','dow']) \n",
    "test = pd.merge(test, store_7days, how='left', on=['air_store_id','dow'])"
   ]
  },
  {
   "cell_type": "code",
   "execution_count": null,
   "metadata": {
    "collapsed": true
   },
   "outputs": [],
   "source": [
    "for df in ['air_reserve','hpg_reserve']:\n",
    "    train = pd.merge(train, data[df], how='left', on=['air_store_id','visit_date']) \n",
    "    test = pd.merge(test, data[df], how='left', on=['air_store_id','visit_date'])"
   ]
  },
  {
   "cell_type": "code",
   "execution_count": null,
   "metadata": {
    "collapsed": true
   },
   "outputs": [],
   "source": [
    "train = train.fillna(0) #change to one for algo training\n",
    "test = test.fillna(0)\n",
    "train['v_no_reservation']=train['visitors']-train['reserve_visitors_air_reserve']-train['reserve_visitors_hpg_reserve']"
   ]
  },
  {
   "cell_type": "code",
   "execution_count": null,
   "metadata": {},
   "outputs": [],
   "source": [
    "train.tail(5)"
   ]
  },
  {
   "cell_type": "code",
   "execution_count": null,
   "metadata": {},
   "outputs": [],
   "source": [
    "test.head(5)"
   ]
  },
  {
   "cell_type": "code",
   "execution_count": null,
   "metadata": {},
   "outputs": [],
   "source": [
    "d = train['air_area_name'].value_counts()\n",
    "print(len(d))"
   ]
  },
  {
   "cell_type": "code",
   "execution_count": null,
   "metadata": {},
   "outputs": [],
   "source": [
    "print(len(store_7days.groupby(['latitude','longitude'])['latitude','longitude'].size().reset_index()), 'physical stores')"
   ]
  },
  {
   "cell_type": "code",
   "execution_count": null,
   "metadata": {},
   "outputs": [],
   "source": [
    "store_7days"
   ]
  },
  {
   "cell_type": "markdown",
   "metadata": {},
   "source": [
    "### TEST GET DUMMIES"
   ]
  },
  {
   "cell_type": "code",
   "execution_count": null,
   "metadata": {},
   "outputs": [],
   "source": [
    "# DO NOT TAKE INTO CONSIDERATION\n",
    "\n",
    "train4 = train.copy()\n",
    "train4.dtypes\n",
    "train4['air_genre_name'] = le.fit_transform(train4['air_genre_name'])\n",
    "train4['air_area_name'] = le.fit_transform(train4['air_area_name'])\n",
    "train4.tail(5)\n",
    "\n",
    "\n",
    "air_area_name_ohe = pd.get_dummies(train2['air_area_name'])\n",
    "train = train.drop('air_area_name', axis=1)\n",
    "train = train.join(air_area_name_ohe)\n",
    "train.head(5)\n",
    "\n",
    "\n",
    "# DO NOT TAKE INTO CONSIDERATION\n",
    "air_genre_name_ohe = pd.get_dummies(train['air_genre_name'])\n",
    "train.drop('air_genre_name', axis=1)\n",
    "train = train.join(air_genre_name_ohe)"
   ]
  },
  {
   "cell_type": "markdown",
   "metadata": {},
   "source": [
    "### 25/01"
   ]
  },
  {
   "cell_type": "code",
   "execution_count": null,
   "metadata": {
    "scrolled": true
   },
   "outputs": [],
   "source": [
    "train[(train['hpg_genre_name'] != 0)].head(5)"
   ]
  },
  {
   "cell_type": "code",
   "execution_count": null,
   "metadata": {
    "collapsed": true
   },
   "outputs": [],
   "source": [
    "train3 = train.copy()\n",
    "test3 = test.copy()"
   ]
  },
  {
   "cell_type": "code",
   "execution_count": null,
   "metadata": {},
   "outputs": [],
   "source": [
    "train3[(train3['hpg_genre_name'] != 0)].head(5)"
   ]
  },
  {
   "cell_type": "code",
   "execution_count": null,
   "metadata": {
    "collapsed": true
   },
   "outputs": [],
   "source": [
    "from sklearn.preprocessing import LabelEncoder\n",
    "le = LabelEncoder()\n",
    "train3['air_store_id'] = le.fit_transform(train3['air_store_id'])"
   ]
  },
  {
   "cell_type": "code",
   "execution_count": null,
   "metadata": {},
   "outputs": [],
   "source": [
    "# GET DUMMIESOF :\n",
    "train3['hpg_genre_name'].unique()\n",
    "train3['hpg_area_name'].unique()"
   ]
  },
  {
   "cell_type": "code",
   "execution_count": null,
   "metadata": {},
   "outputs": [],
   "source": [
    "train3 = pd.get_dummies(data=train3, columns=['air_genre_name', 'air_area_name','hpg_genre_name','hpg_area_name'])\n",
    "train3.tail(5)"
   ]
  },
  {
   "cell_type": "code",
   "execution_count": null,
   "metadata": {},
   "outputs": [],
   "source": [
    "d2 = train3['air_store_id'].value_counts()\n",
    "print(len(d2))"
   ]
  },
  {
   "cell_type": "code",
   "execution_count": null,
   "metadata": {},
   "outputs": [],
   "source": [
    "train3.dtypes"
   ]
  },
  {
   "cell_type": "code",
   "execution_count": null,
   "metadata": {},
   "outputs": [],
   "source": [
    "#val = train3['hpg_genre_name'].unique()\n",
    "#print(len(val))"
   ]
  },
  {
   "cell_type": "code",
   "execution_count": null,
   "metadata": {
    "scrolled": true
   },
   "outputs": [],
   "source": [
    "train3 = train3.drop(['visit_date','year_mth','day_of_week'], axis=1)\n",
    "train3.dtypes"
   ]
  },
  {
   "cell_type": "markdown",
   "metadata": {},
   "source": [
    "### START MODELLING"
   ]
  },
  {
   "cell_type": "code",
   "execution_count": null,
   "metadata": {
    "collapsed": true
   },
   "outputs": [],
   "source": [
    "from sklearn.model_selection import train_test_split"
   ]
  },
  {
   "cell_type": "code",
   "execution_count": null,
   "metadata": {},
   "outputs": [],
   "source": [
    "train3.shape"
   ]
  },
  {
   "cell_type": "code",
   "execution_count": null,
   "metadata": {},
   "outputs": [],
   "source": [
    "test.shape"
   ]
  },
  {
   "cell_type": "code",
   "execution_count": null,
   "metadata": {},
   "outputs": [],
   "source": [
    "test.head(4)"
   ]
  },
  {
   "cell_type": "code",
   "execution_count": null,
   "metadata": {},
   "outputs": [],
   "source": [
    "train.head(5)"
   ]
  },
  {
   "cell_type": "code",
   "execution_count": null,
   "metadata": {},
   "outputs": [],
   "source": [
    "# split data into train and test sets\n",
    "seed = 7\n",
    "test_size = 0.33\n",
    "X_train, X_test, y_train, y_test = train_test_split(train, test, test_size=test_size, random_state=seed)"
   ]
  },
  {
   "cell_type": "code",
   "execution_count": null,
   "metadata": {
    "collapsed": true
   },
   "outputs": [],
   "source": [
    "from sklearn.linear_model import LinearRegression\n",
    "from sklearn.model_selection import cross_val_score\n",
    "\n",
    "reg = LinearRegression()\n",
    "\n",
    "scores = cross_val_score(reg, X_train, y_train, cv=5, scoring='neg_mean_squared_error')\n",
    "print(\"log RMSE: {:.4f} +/-{:.4f}\".format(\n",
    "    np.mean(np.sqrt(-scores)), np.std(np.sqrt(-scores))))"
   ]
  },
  {
   "cell_type": "code",
   "execution_count": null,
   "metadata": {},
   "outputs": [],
   "source": [
    "from sklearn.model_selection import train_test_split\n",
    "\n",
    "X_train, X_test, y_train, y_test = train_test_split(\n",
    "    X, y, test_size=0.2, random_state=0)"
   ]
  },
  {
   "cell_type": "code",
   "execution_count": null,
   "metadata": {
    "collapsed": true
   },
   "outputs": [],
   "source": [
    "# RF"
   ]
  },
  {
   "cell_type": "code",
   "execution_count": null,
   "metadata": {},
   "outputs": [],
   "source": [
    "from sklearn.ensemble import RandomForestClassifier\n",
    "from sklearn.datasets import make_classification\n",
    "\n",
    "#X, y = make_classification(n_samples=1000, n_features=4,n_informative=2, n_redundant=0,random_state=0, shuffle=False)\n",
    "X = train3.drop(\"visitors\", axis=1)\n",
    "y = test[\"visitors\"]\n",
    "clf = RandomForestClassifier(max_depth=2, random_state=0)\n",
    "clf.fit(X, y)"
   ]
  },
  {
   "cell_type": "code",
   "execution_count": null,
   "metadata": {},
   "outputs": [],
   "source": [
    "train3.dtypes"
   ]
  },
  {
   "cell_type": "code",
   "execution_count": null,
   "metadata": {},
   "outputs": [],
   "source": [
    "train3.shape"
   ]
  },
  {
   "cell_type": "code",
   "execution_count": null,
   "metadata": {},
   "outputs": [],
   "source": [
    "test.shape"
   ]
  },
  {
   "cell_type": "code",
   "execution_count": null,
   "metadata": {
    "collapsed": true
   },
   "outputs": [],
   "source": []
  }
 ],
 "metadata": {
  "kernelspec": {
   "display_name": "Python 3",
   "language": "python",
   "name": "python3"
  },
  "language_info": {
   "codemirror_mode": {
    "name": "ipython",
    "version": 3
   },
   "file_extension": ".py",
   "mimetype": "text/x-python",
   "name": "python",
   "nbconvert_exporter": "python",
   "pygments_lexer": "ipython3",
   "version": "3.6.2"
  }
 },
 "nbformat": 4,
 "nbformat_minor": 2
}
