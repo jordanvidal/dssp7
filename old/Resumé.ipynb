{
 "cells": [
  {
   "cell_type": "markdown",
   "metadata": {},
   "source": [
    "# Resumé"
   ]
  },
  {
   "cell_type": "markdown",
   "metadata": {},
   "source": [
    "* Hot Pepper Gourmet (hpg): similar to Yelp, here users can search restaurants and also make a reservation online\n",
    "\n",
    "* AirREGI / Restaurant Board (air): similar to Square, a reservation control and cash register system"
   ]
  },
  {
   "cell_type": "code",
   "execution_count": 2,
   "metadata": {},
   "outputs": [
    {
     "name": "stdout",
     "output_type": "stream",
     "text": [
      "air_reserve.csv.zip\n",
      "air_store_info.csv.zip\n",
      "air_visit_data.csv.zip\n",
      "date_info.csv.zip\n",
      "hpg_reserve.csv.zip\n",
      "hpg_store_info.csv.zip\n",
      "sample_submission.csv.zip\n",
      "store_id_relation.csv.zip\n",
      "\n"
     ]
    }
   ],
   "source": [
    "from subprocess import check_output\n",
    "print(check_output([\"ls\", \"data/\"]).decode(\"utf8\"))"
   ]
  },
  {
   "cell_type": "markdown",
   "metadata": {},
   "source": [
    "<b>Air Reservations</b>\n",
    "\n",
    "<b>92 377</b> reservations sur <b>314</b> restaurants uniques entre le <b>01/01/2016 et 31/05/2017</b>"
   ]
  },
  {
   "cell_type": "markdown",
   "metadata": {},
   "source": [
    "<b>Air Restaurants</b>\n",
    "\n",
    "<b>829</b> restaurants, <b>14</b> genre uniques"
   ]
  },
  {
   "cell_type": "markdown",
   "metadata": {},
   "source": [
    "<b>HPG Reservations</b>\n",
    "\n",
    "<b>2000320</b> reservations sur <b>13 325</b> restaurants uniques entre le <b>01/01/2016 et 31/05/2017</b>"
   ]
  },
  {
   "cell_type": "markdown",
   "metadata": {},
   "source": [
    "<b>HPG Restaurants</b>\n",
    "\n",
    "<b>4690</b> restaurant uniques, <b>34</b> genres uniques"
   ]
  },
  {
   "cell_type": "markdown",
   "metadata": {},
   "source": [
    "Nombre de restaurants présents dans les sytemes AIR et HPG:  <b>150</b>"
   ]
  },
  {
   "cell_type": "markdown",
   "metadata": {},
   "source": [
    "<b> Train </b>"
   ]
  },
  {
   "cell_type": "markdown",
   "metadata": {},
   "source": [
    "(252108, 3) sur 829 restaurants uniques"
   ]
  },
  {
   "cell_type": "markdown",
   "metadata": {},
   "source": [
    "<b> Test </b>\n",
    "    \n",
    "    Unique store id in training data:  821\n"
   ]
  },
  {
   "cell_type": "code",
   "execution_count": null,
   "metadata": {
    "collapsed": true
   },
   "outputs": [],
   "source": []
  }
 ],
 "metadata": {
  "kernelspec": {
   "display_name": "Python 3",
   "language": "python",
   "name": "python3"
  },
  "language_info": {
   "codemirror_mode": {
    "name": "ipython",
    "version": 3
   },
   "file_extension": ".py",
   "mimetype": "text/x-python",
   "name": "python",
   "nbconvert_exporter": "python",
   "pygments_lexer": "ipython3",
   "version": "3.6.2"
  }
 },
 "nbformat": 4,
 "nbformat_minor": 2
}
