{
 "cells": [
  {
   "cell_type": "code",
   "execution_count": 1,
   "metadata": {},
   "outputs": [],
   "source": [
    "import pandas as pd\n",
    "import numpy as np"
   ]
  },
  {
   "cell_type": "code",
   "execution_count": 2,
   "metadata": {},
   "outputs": [
    {
     "name": "stdout",
     "output_type": "stream",
     "text": [
      "air_reserve.csv.zip\n",
      "air_store_info.csv.zip\n",
      "air_visit_data.csv.zip\n",
      "date_info.csv.zip\n",
      "hpg_reserve.csv.zip\n",
      "hpg_store_info.csv.zip\n",
      "sample_submission.csv.zip\n",
      "store_id_relation.csv.zip\n",
      "\n"
     ]
    }
   ],
   "source": [
    "from subprocess import check_output\n",
    "print(check_output([\"ls\", \"data/\"]).decode(\"utf8\"))"
   ]
  },
  {
   "cell_type": "markdown",
   "metadata": {},
   "source": [
    "* Hot Pepper Gourmet (hpg): similar to Yelp, here users can search restaurants and also make a reservation online\n",
    "\n",
    "* AirREGI / Restaurant Board (air): similar to Square, a reservation control and cash register system"
   ]
  },
  {
   "cell_type": "code",
   "execution_count": 3,
   "metadata": {},
   "outputs": [
    {
     "data": {
      "text/html": [
       "<div>\n",
       "<style scoped>\n",
       "    .dataframe tbody tr th:only-of-type {\n",
       "        vertical-align: middle;\n",
       "    }\n",
       "\n",
       "    .dataframe tbody tr th {\n",
       "        vertical-align: top;\n",
       "    }\n",
       "\n",
       "    .dataframe thead th {\n",
       "        text-align: right;\n",
       "    }\n",
       "</style>\n",
       "<table border=\"1\" class=\"dataframe\">\n",
       "  <thead>\n",
       "    <tr style=\"text-align: right;\">\n",
       "      <th></th>\n",
       "      <th>air_store_id</th>\n",
       "      <th>visit_datetime</th>\n",
       "      <th>reserve_datetime</th>\n",
       "      <th>reserve_visitors</th>\n",
       "    </tr>\n",
       "  </thead>\n",
       "  <tbody>\n",
       "    <tr>\n",
       "      <th>92373</th>\n",
       "      <td>air_db4b38ebe7a7ceff</td>\n",
       "      <td>2017-05-29 18:00:00</td>\n",
       "      <td>2017-04-17 19:00:00</td>\n",
       "      <td>6</td>\n",
       "    </tr>\n",
       "    <tr>\n",
       "      <th>92374</th>\n",
       "      <td>air_1033310359ceeac1</td>\n",
       "      <td>2017-05-30 23:00:00</td>\n",
       "      <td>2017-04-19 17:00:00</td>\n",
       "      <td>8</td>\n",
       "    </tr>\n",
       "    <tr>\n",
       "      <th>92375</th>\n",
       "      <td>air_877f79706adbfb06</td>\n",
       "      <td>2017-05-31 20:00:00</td>\n",
       "      <td>2017-04-12 23:00:00</td>\n",
       "      <td>3</td>\n",
       "    </tr>\n",
       "    <tr>\n",
       "      <th>92376</th>\n",
       "      <td>air_900d755ebd2f7bbd</td>\n",
       "      <td>2017-05-31 20:00:00</td>\n",
       "      <td>2017-04-19 16:00:00</td>\n",
       "      <td>10</td>\n",
       "    </tr>\n",
       "    <tr>\n",
       "      <th>92377</th>\n",
       "      <td>air_3cad29d1a23209d2</td>\n",
       "      <td>2017-05-31 21:00:00</td>\n",
       "      <td>2017-04-22 10:00:00</td>\n",
       "      <td>3</td>\n",
       "    </tr>\n",
       "  </tbody>\n",
       "</table>\n",
       "</div>"
      ],
      "text/plain": [
       "               air_store_id       visit_datetime     reserve_datetime  \\\n",
       "92373  air_db4b38ebe7a7ceff  2017-05-29 18:00:00  2017-04-17 19:00:00   \n",
       "92374  air_1033310359ceeac1  2017-05-30 23:00:00  2017-04-19 17:00:00   \n",
       "92375  air_877f79706adbfb06  2017-05-31 20:00:00  2017-04-12 23:00:00   \n",
       "92376  air_900d755ebd2f7bbd  2017-05-31 20:00:00  2017-04-19 16:00:00   \n",
       "92377  air_3cad29d1a23209d2  2017-05-31 21:00:00  2017-04-22 10:00:00   \n",
       "\n",
       "       reserve_visitors  \n",
       "92373                 6  \n",
       "92374                 8  \n",
       "92375                 3  \n",
       "92376                10  \n",
       "92377                 3  "
      ]
     },
     "execution_count": 3,
     "metadata": {},
     "output_type": "execute_result"
    }
   ],
   "source": [
    "air_reserve = pd.read_csv(\"data/air_reserve.csv.zip\", compression=\"zip\")\n",
    "air_reserve.tail()"
   ]
  },
  {
   "cell_type": "code",
   "execution_count": 4,
   "metadata": {},
   "outputs": [
    {
     "data": {
      "text/plain": [
       "(92378, 4)"
      ]
     },
     "execution_count": 4,
     "metadata": {},
     "output_type": "execute_result"
    }
   ],
   "source": [
    "air_reserve.shape"
   ]
  },
  {
   "cell_type": "code",
   "execution_count": 5,
   "metadata": {},
   "outputs": [
    {
     "data": {
      "text/html": [
       "<div>\n",
       "<style scoped>\n",
       "    .dataframe tbody tr th:only-of-type {\n",
       "        vertical-align: middle;\n",
       "    }\n",
       "\n",
       "    .dataframe tbody tr th {\n",
       "        vertical-align: top;\n",
       "    }\n",
       "\n",
       "    .dataframe thead th {\n",
       "        text-align: right;\n",
       "    }\n",
       "</style>\n",
       "<table border=\"1\" class=\"dataframe\">\n",
       "  <thead>\n",
       "    <tr style=\"text-align: right;\">\n",
       "      <th></th>\n",
       "      <th>hpg_store_id</th>\n",
       "      <th>visit_datetime</th>\n",
       "      <th>reserve_datetime</th>\n",
       "      <th>reserve_visitors</th>\n",
       "    </tr>\n",
       "  </thead>\n",
       "  <tbody>\n",
       "    <tr>\n",
       "      <th>2000315</th>\n",
       "      <td>hpg_2b293477ea4642fb</td>\n",
       "      <td>2017-05-31 20:00:00</td>\n",
       "      <td>2017-04-19 07:00:00</td>\n",
       "      <td>2</td>\n",
       "    </tr>\n",
       "    <tr>\n",
       "      <th>2000316</th>\n",
       "      <td>hpg_f922aeca48ca5a29</td>\n",
       "      <td>2017-05-31 20:00:00</td>\n",
       "      <td>2017-03-19 00:00:00</td>\n",
       "      <td>3</td>\n",
       "    </tr>\n",
       "    <tr>\n",
       "      <th>2000317</th>\n",
       "      <td>hpg_e9151de687b93aa3</td>\n",
       "      <td>2017-05-31 21:00:00</td>\n",
       "      <td>2017-04-14 20:00:00</td>\n",
       "      <td>49</td>\n",
       "    </tr>\n",
       "    <tr>\n",
       "      <th>2000318</th>\n",
       "      <td>hpg_fae6c96189b4a122</td>\n",
       "      <td>2017-05-31 21:00:00</td>\n",
       "      <td>2017-04-19 17:00:00</td>\n",
       "      <td>9</td>\n",
       "    </tr>\n",
       "    <tr>\n",
       "      <th>2000319</th>\n",
       "      <td>hpg_0b70de808b55ad1e</td>\n",
       "      <td>2017-05-31 23:00:00</td>\n",
       "      <td>2017-04-21 13:00:00</td>\n",
       "      <td>6</td>\n",
       "    </tr>\n",
       "  </tbody>\n",
       "</table>\n",
       "</div>"
      ],
      "text/plain": [
       "                 hpg_store_id       visit_datetime     reserve_datetime  \\\n",
       "2000315  hpg_2b293477ea4642fb  2017-05-31 20:00:00  2017-04-19 07:00:00   \n",
       "2000316  hpg_f922aeca48ca5a29  2017-05-31 20:00:00  2017-03-19 00:00:00   \n",
       "2000317  hpg_e9151de687b93aa3  2017-05-31 21:00:00  2017-04-14 20:00:00   \n",
       "2000318  hpg_fae6c96189b4a122  2017-05-31 21:00:00  2017-04-19 17:00:00   \n",
       "2000319  hpg_0b70de808b55ad1e  2017-05-31 23:00:00  2017-04-21 13:00:00   \n",
       "\n",
       "         reserve_visitors  \n",
       "2000315                 2  \n",
       "2000316                 3  \n",
       "2000317                49  \n",
       "2000318                 9  \n",
       "2000319                 6  "
      ]
     },
     "execution_count": 5,
     "metadata": {},
     "output_type": "execute_result"
    }
   ],
   "source": [
    "hpg_reserve = pd.read_csv(\"data/hpg_reserve.csv.zip\", compression=\"zip\")\n",
    "hpg_reserve.tail()"
   ]
  },
  {
   "cell_type": "code",
   "execution_count": 32,
   "metadata": {},
   "outputs": [
    {
     "name": "stdout",
     "output_type": "stream",
     "text": [
      "2016-01-01 11:00:00\n",
      "2017-05-31 23:00:00\n"
     ]
    }
   ],
   "source": [
    "print(min(hpg_reserve['visit_datetime']))\n",
    "print(max(hpg_reserve['visit_datetime']))"
   ]
  },
  {
   "cell_type": "code",
   "execution_count": 14,
   "metadata": {},
   "outputs": [
    {
     "data": {
      "text/plain": [
       "(2000320, 4)"
      ]
     },
     "execution_count": 14,
     "metadata": {},
     "output_type": "execute_result"
    }
   ],
   "source": [
    "hpg_reserve.shape"
   ]
  },
  {
   "cell_type": "code",
   "execution_count": 15,
   "metadata": {},
   "outputs": [
    {
     "data": {
      "text/html": [
       "<div>\n",
       "<style scoped>\n",
       "    .dataframe tbody tr th:only-of-type {\n",
       "        vertical-align: middle;\n",
       "    }\n",
       "\n",
       "    .dataframe tbody tr th {\n",
       "        vertical-align: top;\n",
       "    }\n",
       "\n",
       "    .dataframe thead th {\n",
       "        text-align: right;\n",
       "    }\n",
       "</style>\n",
       "<table border=\"1\" class=\"dataframe\">\n",
       "  <thead>\n",
       "    <tr style=\"text-align: right;\">\n",
       "      <th></th>\n",
       "      <th>air_store_id</th>\n",
       "      <th>air_genre_name</th>\n",
       "      <th>air_area_name</th>\n",
       "      <th>latitude</th>\n",
       "      <th>longitude</th>\n",
       "    </tr>\n",
       "  </thead>\n",
       "  <tbody>\n",
       "    <tr>\n",
       "      <th>824</th>\n",
       "      <td>air_9bf595ef095572fb</td>\n",
       "      <td>International cuisine</td>\n",
       "      <td>Tōkyō-to Shibuya-ku Shibuya</td>\n",
       "      <td>35.661777</td>\n",
       "      <td>139.704051</td>\n",
       "    </tr>\n",
       "    <tr>\n",
       "      <th>825</th>\n",
       "      <td>air_764f71040a413d4d</td>\n",
       "      <td>Asian</td>\n",
       "      <td>Tōkyō-to Shibuya-ku Shibuya</td>\n",
       "      <td>35.661777</td>\n",
       "      <td>139.704051</td>\n",
       "    </tr>\n",
       "    <tr>\n",
       "      <th>826</th>\n",
       "      <td>air_10bbe8acd943d8f6</td>\n",
       "      <td>Asian</td>\n",
       "      <td>Tōkyō-to Shibuya-ku Shibuya</td>\n",
       "      <td>35.661777</td>\n",
       "      <td>139.704051</td>\n",
       "    </tr>\n",
       "    <tr>\n",
       "      <th>827</th>\n",
       "      <td>air_7514d90009613cd6</td>\n",
       "      <td>Karaoke/Party</td>\n",
       "      <td>Hokkaidō Sapporo-shi Minami 3 Jōnishi</td>\n",
       "      <td>43.055460</td>\n",
       "      <td>141.340956</td>\n",
       "    </tr>\n",
       "    <tr>\n",
       "      <th>828</th>\n",
       "      <td>air_c8fe396d6c46275d</td>\n",
       "      <td>Karaoke/Party</td>\n",
       "      <td>Hokkaidō Sapporo-shi Minami 3 Jōnishi</td>\n",
       "      <td>43.055460</td>\n",
       "      <td>141.340956</td>\n",
       "    </tr>\n",
       "  </tbody>\n",
       "</table>\n",
       "</div>"
      ],
      "text/plain": [
       "             air_store_id         air_genre_name  \\\n",
       "824  air_9bf595ef095572fb  International cuisine   \n",
       "825  air_764f71040a413d4d                  Asian   \n",
       "826  air_10bbe8acd943d8f6                  Asian   \n",
       "827  air_7514d90009613cd6          Karaoke/Party   \n",
       "828  air_c8fe396d6c46275d          Karaoke/Party   \n",
       "\n",
       "                             air_area_name   latitude   longitude  \n",
       "824            Tōkyō-to Shibuya-ku Shibuya  35.661777  139.704051  \n",
       "825            Tōkyō-to Shibuya-ku Shibuya  35.661777  139.704051  \n",
       "826            Tōkyō-to Shibuya-ku Shibuya  35.661777  139.704051  \n",
       "827  Hokkaidō Sapporo-shi Minami 3 Jōnishi  43.055460  141.340956  \n",
       "828  Hokkaidō Sapporo-shi Minami 3 Jōnishi  43.055460  141.340956  "
      ]
     },
     "execution_count": 15,
     "metadata": {},
     "output_type": "execute_result"
    }
   ],
   "source": [
    "air_store_info = pd.read_csv(\"data/air_store_info.csv.zip\", compression=\"zip\")\n",
    "air_store_info.tail()"
   ]
  },
  {
   "cell_type": "code",
   "execution_count": 16,
   "metadata": {},
   "outputs": [
    {
     "data": {
      "text/plain": [
       "(829, 5)"
      ]
     },
     "execution_count": 16,
     "metadata": {},
     "output_type": "execute_result"
    }
   ],
   "source": [
    "air_store_info.shape"
   ]
  },
  {
   "cell_type": "code",
   "execution_count": 17,
   "metadata": {},
   "outputs": [
    {
     "data": {
      "text/html": [
       "<div>\n",
       "<style scoped>\n",
       "    .dataframe tbody tr th:only-of-type {\n",
       "        vertical-align: middle;\n",
       "    }\n",
       "\n",
       "    .dataframe tbody tr th {\n",
       "        vertical-align: top;\n",
       "    }\n",
       "\n",
       "    .dataframe thead th {\n",
       "        text-align: right;\n",
       "    }\n",
       "</style>\n",
       "<table border=\"1\" class=\"dataframe\">\n",
       "  <thead>\n",
       "    <tr style=\"text-align: right;\">\n",
       "      <th></th>\n",
       "      <th>hpg_store_id</th>\n",
       "      <th>hpg_genre_name</th>\n",
       "      <th>hpg_area_name</th>\n",
       "      <th>latitude</th>\n",
       "      <th>longitude</th>\n",
       "    </tr>\n",
       "  </thead>\n",
       "  <tbody>\n",
       "    <tr>\n",
       "      <th>4685</th>\n",
       "      <td>hpg_c6ed353a48c7c93e</td>\n",
       "      <td>Sichuan food</td>\n",
       "      <td>Tōkyō-to Chiyoda-ku None</td>\n",
       "      <td>35.695780</td>\n",
       "      <td>139.768453</td>\n",
       "    </tr>\n",
       "    <tr>\n",
       "      <th>4686</th>\n",
       "      <td>hpg_a58d2423360b2fb4</td>\n",
       "      <td>Sichuan food</td>\n",
       "      <td>Tōkyō-to Minato-ku Roppongi</td>\n",
       "      <td>35.666137</td>\n",
       "      <td>139.733978</td>\n",
       "    </tr>\n",
       "    <tr>\n",
       "      <th>4687</th>\n",
       "      <td>hpg_d2021704076cdd70</td>\n",
       "      <td>Shanghai food</td>\n",
       "      <td>Tōkyō-to Chiyoda-ku None</td>\n",
       "      <td>35.695780</td>\n",
       "      <td>139.768453</td>\n",
       "    </tr>\n",
       "    <tr>\n",
       "      <th>4688</th>\n",
       "      <td>hpg_602472570d65e219</td>\n",
       "      <td>Spain/Mediterranean cuisine</td>\n",
       "      <td>Tōkyō-to Toshima-ku None</td>\n",
       "      <td>35.730068</td>\n",
       "      <td>139.711742</td>\n",
       "    </tr>\n",
       "    <tr>\n",
       "      <th>4689</th>\n",
       "      <td>hpg_11801306ce8bfb4f</td>\n",
       "      <td>Udon/Soba</td>\n",
       "      <td>Osaka Prefecture Osaka None</td>\n",
       "      <td>34.701519</td>\n",
       "      <td>135.498859</td>\n",
       "    </tr>\n",
       "  </tbody>\n",
       "</table>\n",
       "</div>"
      ],
      "text/plain": [
       "              hpg_store_id               hpg_genre_name  \\\n",
       "4685  hpg_c6ed353a48c7c93e                 Sichuan food   \n",
       "4686  hpg_a58d2423360b2fb4                 Sichuan food   \n",
       "4687  hpg_d2021704076cdd70                Shanghai food   \n",
       "4688  hpg_602472570d65e219  Spain/Mediterranean cuisine   \n",
       "4689  hpg_11801306ce8bfb4f                    Udon/Soba   \n",
       "\n",
       "                    hpg_area_name   latitude   longitude  \n",
       "4685     Tōkyō-to Chiyoda-ku None  35.695780  139.768453  \n",
       "4686  Tōkyō-to Minato-ku Roppongi  35.666137  139.733978  \n",
       "4687     Tōkyō-to Chiyoda-ku None  35.695780  139.768453  \n",
       "4688     Tōkyō-to Toshima-ku None  35.730068  139.711742  \n",
       "4689  Osaka Prefecture Osaka None  34.701519  135.498859  "
      ]
     },
     "execution_count": 17,
     "metadata": {},
     "output_type": "execute_result"
    }
   ],
   "source": [
    "hpg_store_info = pd.read_csv(\"data/hpg_store_info.csv.zip\", compression=\"zip\")\n",
    "hpg_store_info.tail()"
   ]
  },
  {
   "cell_type": "code",
   "execution_count": 19,
   "metadata": {},
   "outputs": [
    {
     "data": {
      "text/plain": [
       "(4690, 5)"
      ]
     },
     "execution_count": 19,
     "metadata": {},
     "output_type": "execute_result"
    }
   ],
   "source": [
    "hpg_store_info.shape"
   ]
  },
  {
   "cell_type": "code",
   "execution_count": 20,
   "metadata": {},
   "outputs": [
    {
     "data": {
      "text/html": [
       "<div>\n",
       "<style scoped>\n",
       "    .dataframe tbody tr th:only-of-type {\n",
       "        vertical-align: middle;\n",
       "    }\n",
       "\n",
       "    .dataframe tbody tr th {\n",
       "        vertical-align: top;\n",
       "    }\n",
       "\n",
       "    .dataframe thead th {\n",
       "        text-align: right;\n",
       "    }\n",
       "</style>\n",
       "<table border=\"1\" class=\"dataframe\">\n",
       "  <thead>\n",
       "    <tr style=\"text-align: right;\">\n",
       "      <th></th>\n",
       "      <th>air_store_id</th>\n",
       "      <th>hpg_store_id</th>\n",
       "    </tr>\n",
       "  </thead>\n",
       "  <tbody>\n",
       "    <tr>\n",
       "      <th>145</th>\n",
       "      <td>air_b8925441167c3152</td>\n",
       "      <td>hpg_0cc0abae3a8b52de</td>\n",
       "    </tr>\n",
       "    <tr>\n",
       "      <th>146</th>\n",
       "      <td>air_f8233ad00755c35c</td>\n",
       "      <td>hpg_098e4dd30e54fee6</td>\n",
       "    </tr>\n",
       "    <tr>\n",
       "      <th>147</th>\n",
       "      <td>air_6607fe3671242ce3</td>\n",
       "      <td>hpg_1004356dc8ab69ec</td>\n",
       "    </tr>\n",
       "    <tr>\n",
       "      <th>148</th>\n",
       "      <td>air_ccd19a5bc5573ae5</td>\n",
       "      <td>hpg_df22bf146d2c7e19</td>\n",
       "    </tr>\n",
       "    <tr>\n",
       "      <th>149</th>\n",
       "      <td>air_465bddfed3353b23</td>\n",
       "      <td>hpg_23c5945dc1a72454</td>\n",
       "    </tr>\n",
       "  </tbody>\n",
       "</table>\n",
       "</div>"
      ],
      "text/plain": [
       "             air_store_id          hpg_store_id\n",
       "145  air_b8925441167c3152  hpg_0cc0abae3a8b52de\n",
       "146  air_f8233ad00755c35c  hpg_098e4dd30e54fee6\n",
       "147  air_6607fe3671242ce3  hpg_1004356dc8ab69ec\n",
       "148  air_ccd19a5bc5573ae5  hpg_df22bf146d2c7e19\n",
       "149  air_465bddfed3353b23  hpg_23c5945dc1a72454"
      ]
     },
     "execution_count": 20,
     "metadata": {},
     "output_type": "execute_result"
    }
   ],
   "source": [
    "store_id_relation = pd.read_csv(\"data/store_id_relation.csv.zip\", compression=\"zip\")\n",
    "store_id_relation.tail()"
   ]
  },
  {
   "cell_type": "code",
   "execution_count": 21,
   "metadata": {},
   "outputs": [
    {
     "data": {
      "text/plain": [
       "(150, 2)"
      ]
     },
     "execution_count": 21,
     "metadata": {},
     "output_type": "execute_result"
    }
   ],
   "source": [
    "store_id_relation.shape"
   ]
  },
  {
   "cell_type": "code",
   "execution_count": 22,
   "metadata": {},
   "outputs": [
    {
     "data": {
      "text/html": [
       "<div>\n",
       "<style scoped>\n",
       "    .dataframe tbody tr th:only-of-type {\n",
       "        vertical-align: middle;\n",
       "    }\n",
       "\n",
       "    .dataframe tbody tr th {\n",
       "        vertical-align: top;\n",
       "    }\n",
       "\n",
       "    .dataframe thead th {\n",
       "        text-align: right;\n",
       "    }\n",
       "</style>\n",
       "<table border=\"1\" class=\"dataframe\">\n",
       "  <thead>\n",
       "    <tr style=\"text-align: right;\">\n",
       "      <th></th>\n",
       "      <th>air_store_id</th>\n",
       "      <th>visit_date</th>\n",
       "      <th>visitors</th>\n",
       "    </tr>\n",
       "  </thead>\n",
       "  <tbody>\n",
       "    <tr>\n",
       "      <th>252103</th>\n",
       "      <td>air_24e8414b9b07decb</td>\n",
       "      <td>2017-04-18</td>\n",
       "      <td>6</td>\n",
       "    </tr>\n",
       "    <tr>\n",
       "      <th>252104</th>\n",
       "      <td>air_24e8414b9b07decb</td>\n",
       "      <td>2017-04-19</td>\n",
       "      <td>6</td>\n",
       "    </tr>\n",
       "    <tr>\n",
       "      <th>252105</th>\n",
       "      <td>air_24e8414b9b07decb</td>\n",
       "      <td>2017-04-20</td>\n",
       "      <td>7</td>\n",
       "    </tr>\n",
       "    <tr>\n",
       "      <th>252106</th>\n",
       "      <td>air_24e8414b9b07decb</td>\n",
       "      <td>2017-04-21</td>\n",
       "      <td>8</td>\n",
       "    </tr>\n",
       "    <tr>\n",
       "      <th>252107</th>\n",
       "      <td>air_24e8414b9b07decb</td>\n",
       "      <td>2017-04-22</td>\n",
       "      <td>5</td>\n",
       "    </tr>\n",
       "  </tbody>\n",
       "</table>\n",
       "</div>"
      ],
      "text/plain": [
       "                air_store_id  visit_date  visitors\n",
       "252103  air_24e8414b9b07decb  2017-04-18         6\n",
       "252104  air_24e8414b9b07decb  2017-04-19         6\n",
       "252105  air_24e8414b9b07decb  2017-04-20         7\n",
       "252106  air_24e8414b9b07decb  2017-04-21         8\n",
       "252107  air_24e8414b9b07decb  2017-04-22         5"
      ]
     },
     "execution_count": 22,
     "metadata": {},
     "output_type": "execute_result"
    }
   ],
   "source": [
    "air_visit_data = pd.read_csv(\"data/air_visit_data.csv.zip\", compression=\"zip\")\n",
    "air_visit_data.tail()"
   ]
  },
  {
   "cell_type": "code",
   "execution_count": 28,
   "metadata": {},
   "outputs": [
    {
     "name": "stdout",
     "output_type": "stream",
     "text": [
      "2016-01-01\n",
      "2017-04-22\n"
     ]
    }
   ],
   "source": [
    "print(min(air_visit_data['visit_date']))\n",
    "print(max(air_visit_data['visit_date']))"
   ]
  },
  {
   "cell_type": "code",
   "execution_count": 23,
   "metadata": {},
   "outputs": [
    {
     "data": {
      "text/plain": [
       "(252108, 3)"
      ]
     },
     "execution_count": 23,
     "metadata": {},
     "output_type": "execute_result"
    }
   ],
   "source": [
    "air_visit_data.shape"
   ]
  },
  {
   "cell_type": "code",
   "execution_count": 24,
   "metadata": {},
   "outputs": [
    {
     "data": {
      "text/html": [
       "<div>\n",
       "<style scoped>\n",
       "    .dataframe tbody tr th:only-of-type {\n",
       "        vertical-align: middle;\n",
       "    }\n",
       "\n",
       "    .dataframe tbody tr th {\n",
       "        vertical-align: top;\n",
       "    }\n",
       "\n",
       "    .dataframe thead th {\n",
       "        text-align: right;\n",
       "    }\n",
       "</style>\n",
       "<table border=\"1\" class=\"dataframe\">\n",
       "  <thead>\n",
       "    <tr style=\"text-align: right;\">\n",
       "      <th></th>\n",
       "      <th>id</th>\n",
       "      <th>visitors</th>\n",
       "    </tr>\n",
       "  </thead>\n",
       "  <tbody>\n",
       "    <tr>\n",
       "      <th>32014</th>\n",
       "      <td>air_fff68b929994bfbd_2017-05-27</td>\n",
       "      <td>0</td>\n",
       "    </tr>\n",
       "    <tr>\n",
       "      <th>32015</th>\n",
       "      <td>air_fff68b929994bfbd_2017-05-28</td>\n",
       "      <td>0</td>\n",
       "    </tr>\n",
       "    <tr>\n",
       "      <th>32016</th>\n",
       "      <td>air_fff68b929994bfbd_2017-05-29</td>\n",
       "      <td>0</td>\n",
       "    </tr>\n",
       "    <tr>\n",
       "      <th>32017</th>\n",
       "      <td>air_fff68b929994bfbd_2017-05-30</td>\n",
       "      <td>0</td>\n",
       "    </tr>\n",
       "    <tr>\n",
       "      <th>32018</th>\n",
       "      <td>air_fff68b929994bfbd_2017-05-31</td>\n",
       "      <td>0</td>\n",
       "    </tr>\n",
       "  </tbody>\n",
       "</table>\n",
       "</div>"
      ],
      "text/plain": [
       "                                    id  visitors\n",
       "32014  air_fff68b929994bfbd_2017-05-27         0\n",
       "32015  air_fff68b929994bfbd_2017-05-28         0\n",
       "32016  air_fff68b929994bfbd_2017-05-29         0\n",
       "32017  air_fff68b929994bfbd_2017-05-30         0\n",
       "32018  air_fff68b929994bfbd_2017-05-31         0"
      ]
     },
     "execution_count": 24,
     "metadata": {},
     "output_type": "execute_result"
    }
   ],
   "source": [
    "sample_submission = pd.read_csv(\"data/sample_submission.csv.zip\", compression = \"zip\")\n",
    "sample_submission.tail()"
   ]
  },
  {
   "cell_type": "code",
   "execution_count": 26,
   "metadata": {},
   "outputs": [
    {
     "data": {
      "text/html": [
       "<div>\n",
       "<style scoped>\n",
       "    .dataframe tbody tr th:only-of-type {\n",
       "        vertical-align: middle;\n",
       "    }\n",
       "\n",
       "    .dataframe tbody tr th {\n",
       "        vertical-align: top;\n",
       "    }\n",
       "\n",
       "    .dataframe thead th {\n",
       "        text-align: right;\n",
       "    }\n",
       "</style>\n",
       "<table border=\"1\" class=\"dataframe\">\n",
       "  <thead>\n",
       "    <tr style=\"text-align: right;\">\n",
       "      <th></th>\n",
       "      <th>calendar_date</th>\n",
       "      <th>day_of_week</th>\n",
       "      <th>holiday_flg</th>\n",
       "    </tr>\n",
       "  </thead>\n",
       "  <tbody>\n",
       "    <tr>\n",
       "      <th>512</th>\n",
       "      <td>2017-05-27</td>\n",
       "      <td>Saturday</td>\n",
       "      <td>0</td>\n",
       "    </tr>\n",
       "    <tr>\n",
       "      <th>513</th>\n",
       "      <td>2017-05-28</td>\n",
       "      <td>Sunday</td>\n",
       "      <td>0</td>\n",
       "    </tr>\n",
       "    <tr>\n",
       "      <th>514</th>\n",
       "      <td>2017-05-29</td>\n",
       "      <td>Monday</td>\n",
       "      <td>0</td>\n",
       "    </tr>\n",
       "    <tr>\n",
       "      <th>515</th>\n",
       "      <td>2017-05-30</td>\n",
       "      <td>Tuesday</td>\n",
       "      <td>0</td>\n",
       "    </tr>\n",
       "    <tr>\n",
       "      <th>516</th>\n",
       "      <td>2017-05-31</td>\n",
       "      <td>Wednesday</td>\n",
       "      <td>0</td>\n",
       "    </tr>\n",
       "  </tbody>\n",
       "</table>\n",
       "</div>"
      ],
      "text/plain": [
       "    calendar_date day_of_week  holiday_flg\n",
       "512    2017-05-27    Saturday            0\n",
       "513    2017-05-28      Sunday            0\n",
       "514    2017-05-29      Monday            0\n",
       "515    2017-05-30     Tuesday            0\n",
       "516    2017-05-31   Wednesday            0"
      ]
     },
     "execution_count": 26,
     "metadata": {},
     "output_type": "execute_result"
    }
   ],
   "source": [
    "date_info = pd.read_csv(\"data/date_info.csv.zip\", compression = \"zip\")\n",
    "date_info.tail()"
   ]
  },
  {
   "cell_type": "code",
   "execution_count": 27,
   "metadata": {},
   "outputs": [
    {
     "name": "stdout",
     "output_type": "stream",
     "text": [
      "2016-01-01\n",
      "2017-05-31\n"
     ]
    }
   ],
   "source": [
    "print(min(date_info['calendar_date']))\n",
    "print(max(date_info['calendar_date']))"
   ]
  }
 ],
 "metadata": {
  "kernelspec": {
   "display_name": "Python 3",
   "language": "python",
   "name": "python3"
  },
  "language_info": {
   "codemirror_mode": {
    "name": "ipython",
    "version": 3
   },
   "file_extension": ".py",
   "mimetype": "text/x-python",
   "name": "python",
   "nbconvert_exporter": "python",
   "pygments_lexer": "ipython3",
   "version": "3.6.3"
  }
 },
 "nbformat": 4,
 "nbformat_minor": 2
}
