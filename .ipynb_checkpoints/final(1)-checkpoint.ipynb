{
 "cells": [
  {
   "cell_type": "code",
   "execution_count": 1,
   "metadata": {
    "ExecuteTime": {
     "end_time": "2018-03-06T17:13:13.600685Z",
     "start_time": "2018-03-06T17:13:13.569701Z"
    }
   },
   "outputs": [
    {
     "name": "stderr",
     "output_type": "stream",
     "text": [
      "/Users/jordanvidal/python3/lib/python3.6/site-packages/matplotlib/__init__.py:1405: UserWarning: \n",
      "This call to matplotlib.use() has no effect because the backend has already\n",
      "been chosen; matplotlib.use() must be called *before* pylab, matplotlib.pyplot,\n",
      "or matplotlib.backends is imported for the first time.\n",
      "\n",
      "  warnings.warn(_use_error_msg)\n"
     ]
    }
   ],
   "source": [
    "%matplotlib inline\n",
    "import glob, re\n",
    "import numpy as np\n",
    "import pandas as pd\n",
    "import xgboost\n",
    "#from sklearn import *\n",
    "from datetime import datetime\n",
    "from xgboost import XGBRegressor\n",
    "import matplotlib.pyplot as plt\n",
    "import pandas_profiling as pdp\n",
    "import hyperopt\n",
    "from hyperopt import fmin, tpe, hp, STATUS_OK, Trials\n",
    "from xgboost import XGBRegressor\n",
    "from sklearn import preprocessing, ensemble\n",
    "from sklearn.model_selection import GridSearchCV\n",
    "from sklearn.model_selection import train_test_split\n",
    "from sklearn.linear_model import LinearRegression\n",
    "from sklearn.linear_model import LogisticRegression\n",
    "from sklearn.tree import DecisionTreeRegressor\n",
    "from sklearn.metrics import mean_squared_error\n",
    "from sklearn.metrics import median_absolute_error\n",
    "from sklearn.metrics import accuracy_score\n",
    "import logging\n",
    "from logging.handlers import RotatingFileHandler\n",
    "import warnings\n",
    "warnings.filterwarnings(\"ignore\")\n",
    "pd.set_option('display.max_rows', 500)\n",
    "pd.set_option('display.max_columns', 500)\n",
    "pd.set_option('display.width', 1000)"
   ]
  },
  {
   "cell_type": "code",
   "execution_count": 5,
   "metadata": {
    "ExecuteTime": {
     "end_time": "2018-03-06T15:39:48.286640Z",
     "start_time": "2018-03-06T15:39:48.282887Z"
    },
    "collapsed": true
   },
   "outputs": [],
   "source": [
    "logging.basicConfig(filename='report/test.log', level=logging.DEBUG, format='%(asctime)s :: %(levelname)s :: %(message)s',\n",
    "                        datefmt='%m/%d/%Y %I:%M:%S %p')"
   ]
  },
  {
   "cell_type": "code",
   "execution_count": 6,
   "metadata": {
    "ExecuteTime": {
     "end_time": "2018-03-06T15:39:48.543904Z",
     "start_time": "2018-03-06T15:39:48.540142Z"
    },
    "collapsed": true
   },
   "outputs": [],
   "source": [
    "logging.info('Loading the data...')"
   ]
  },
  {
   "cell_type": "code",
   "execution_count": 2,
   "metadata": {
    "ExecuteTime": {
     "end_time": "2018-03-06T15:39:52.039280Z",
     "start_time": "2018-03-06T15:39:48.889363Z"
    },
    "collapsed": true
   },
   "outputs": [],
   "source": [
    "data = {\n",
    "    'tra': pd.read_csv('data/air_visit_data.csv.zip', compression=\"zip\"),\n",
    "    'as': pd.read_csv('data/air_store_info.csv.zip', compression=\"zip\"),\n",
    "    'hs': pd.read_csv('data/hpg_store_info.csv.zip', compression=\"zip\"),\n",
    "    'ar': pd.read_csv('data/air_reserve.csv.zip', compression=\"zip\"),\n",
    "    'hr': pd.read_csv('data/hpg_reserve.csv.zip', compression=\"zip\"),\n",
    "    'id': pd.read_csv('data/store_id_relation.csv.zip', compression=\"zip\"),\n",
    "    'tes': pd.read_csv('data/sample_submission.csv.zip', compression=\"zip\"),\n",
    "    'hol': pd.read_csv('data/date_info.csv.zip', compression=\"zip\").rename(columns={'calendar_date':'visit_date'})\n",
    "    }"
   ]
  },
  {
   "cell_type": "code",
   "execution_count": 3,
   "metadata": {
    "ExecuteTime": {
     "end_time": "2018-03-06T15:39:52.045945Z",
     "start_time": "2018-03-06T15:39:52.042225Z"
    },
    "collapsed": true
   },
   "outputs": [],
   "source": [
    "logging.info('Done with loading the data...')"
   ]
  },
  {
   "cell_type": "code",
   "execution_count": 4,
   "metadata": {
    "ExecuteTime": {
     "end_time": "2018-03-06T15:39:52.556653Z",
     "start_time": "2018-03-06T15:39:52.048104Z"
    },
    "collapsed": true
   },
   "outputs": [],
   "source": [
    "#Merge between hpg and id_\n",
    "data['hr'] = pd.merge(data['hr'], data['id'], how='inner', on=['hpg_store_id'])"
   ]
  },
  {
   "cell_type": "code",
   "execution_count": 5,
   "metadata": {
    "ExecuteTime": {
     "end_time": "2018-03-06T15:39:56.890770Z",
     "start_time": "2018-03-06T15:39:52.559029Z"
    }
   },
   "outputs": [
    {
     "name": "stdout",
     "output_type": "stream",
     "text": [
      "CPU times: user 3.53 s, sys: 43 ms, total: 3.57 s\n",
      "Wall time: 3.58 s\n"
     ]
    }
   ],
   "source": [
    "%%time \n",
    "for df in ['ar','hr']:\n",
    "    #convert to datetime + creation de \"reserve_datetime_diff\"\n",
    "    data[df]['visit_datetime'] = pd.to_datetime(data[df]['visit_datetime'])\n",
    "    data[df]['visit_datetime'] = data[df]['visit_datetime'].dt.date\n",
    "    data[df]['reserve_datetime'] = pd.to_datetime(data[df]['reserve_datetime'])\n",
    "    data[df]['reserve_datetime'] = data[df]['reserve_datetime'].dt.date\n",
    "    data[df]['reserve_datetime_diff'] = data[df].apply(lambda r: (r['visit_datetime'] - r['reserve_datetime']).days, axis=1)\n",
    "    # Ajout de la somme (tmp1) et de la moyenne (tmp2) du nombre de visiteurs et de reserve_datetime_diff par visites    \n",
    "    tmp1 = data[df].groupby(['air_store_id','visit_datetime'], as_index=False)[['reserve_datetime_diff', 'reserve_visitors']].sum().rename(columns={'visit_datetime':'visit_date', 'reserve_datetime_diff': 'rs1', 'reserve_visitors':'rv1'})\n",
    "    tmp2 = data[df].groupby(['air_store_id','visit_datetime'], as_index=False)[['reserve_datetime_diff', 'reserve_visitors']].mean().rename(columns={'visit_datetime':'visit_date', 'reserve_datetime_diff': 'rs2', 'reserve_visitors':'rv2'})\n",
    "    data[df] = pd.merge(tmp1, tmp2, how='inner', on=['air_store_id','visit_date'])"
   ]
  },
  {
   "cell_type": "code",
   "execution_count": 6,
   "metadata": {
    "ExecuteTime": {
     "end_time": "2018-03-06T15:39:57.919367Z",
     "start_time": "2018-03-06T15:39:56.894147Z"
    },
    "collapsed": true
   },
   "outputs": [],
   "source": [
    "#convert train date into datetime\n",
    "data['tra']['visit_date'] = pd.to_datetime(data['tra']['visit_date'])\n",
    "data['tra']['dow'] = data['tra']['visit_date'].dt.dayofweek\n",
    "data['tra']['year'] = data['tra']['visit_date'].dt.year\n",
    "data['tra']['month'] = data['tra']['visit_date'].dt.month\n",
    "data['tra']['visit_date'] = data['tra']['visit_date'].dt.date"
   ]
  },
  {
   "cell_type": "code",
   "execution_count": 7,
   "metadata": {
    "ExecuteTime": {
     "end_time": "2018-03-06T15:39:58.155632Z",
     "start_time": "2018-03-06T15:39:57.922143Z"
    },
    "collapsed": true
   },
   "outputs": [],
   "source": [
    "#convert test date into datetime\n",
    "data['tes']['visit_date'] = data['tes']['id'].map(lambda x: str(x).split('_')[2])\n",
    "data['tes']['air_store_id'] = data['tes']['id'].map(lambda x: '_'.join(x.split('_')[:2]))\n",
    "data['tes']['visit_date'] = pd.to_datetime(data['tes']['visit_date'])\n",
    "data['tes']['dow'] = data['tes']['visit_date'].dt.dayofweek\n",
    "data['tes']['year'] = data['tes']['visit_date'].dt.year\n",
    "data['tes']['month'] = data['tes']['visit_date'].dt.month\n",
    "data['tes']['visit_date'] = data['tes']['visit_date'].dt.date"
   ]
  },
  {
   "cell_type": "code",
   "execution_count": 8,
   "metadata": {
    "ExecuteTime": {
     "end_time": "2018-03-06T15:39:58.175348Z",
     "start_time": "2018-03-06T15:39:58.158166Z"
    },
    "collapsed": true
   },
   "outputs": [],
   "source": [
    "#Creation des unique_store dataset\n",
    "unique_stores = data['tes']['air_store_id'].unique()\n",
    "stores = pd.concat([pd.DataFrame({'air_store_id': unique_stores, 'dow': [i]*len(unique_stores)}) for i in range(7)], axis=0, ignore_index=True).reset_index(drop=True)"
   ]
  },
  {
   "cell_type": "code",
   "execution_count": 9,
   "metadata": {
    "ExecuteTime": {
     "end_time": "2018-03-06T15:39:58.389303Z",
     "start_time": "2018-03-06T15:39:58.177782Z"
    },
    "collapsed": true
   },
   "outputs": [],
   "source": [
    "# creation of min, mean, median, max and count visitors for every air_store_id\n",
    "tmp = data['tra'].groupby(['air_store_id','dow'], as_index=False)['visitors'].min().rename(columns={'visitors':'min_visitors'})\n",
    "stores = pd.merge(stores, tmp, how='left', on=['air_store_id','dow']) \n",
    "tmp = data['tra'].groupby(['air_store_id','dow'], as_index=False)['visitors'].mean().rename(columns={'visitors':'mean_visitors'})\n",
    "stores = pd.merge(stores, tmp, how='left', on=['air_store_id','dow'])\n",
    "tmp = data['tra'].groupby(['air_store_id','dow'], as_index=False)['visitors'].median().rename(columns={'visitors':'median_visitors'})\n",
    "stores = pd.merge(stores, tmp, how='left', on=['air_store_id','dow'])\n",
    "tmp = data['tra'].groupby(['air_store_id','dow'], as_index=False)['visitors'].max().rename(columns={'visitors':'max_visitors'})\n",
    "stores = pd.merge(stores, tmp, how='left', on=['air_store_id','dow'])\n",
    "tmp = data['tra'].groupby(['air_store_id','dow'], as_index=False)['visitors'].count().rename(columns={'visitors':'count_observations'})\n",
    "stores = pd.merge(stores, tmp, how='left', on=['air_store_id','dow']) \n",
    "\n",
    "stores = pd.merge(stores, data['as'], how='left', on=['air_store_id']) "
   ]
  },
  {
   "cell_type": "code",
   "execution_count": 10,
   "metadata": {
    "ExecuteTime": {
     "end_time": "2018-03-06T15:39:58.602964Z",
     "start_time": "2018-03-06T15:39:58.391792Z"
    },
    "collapsed": true
   },
   "outputs": [],
   "source": [
    "stores['air_genre_name'] = stores['air_genre_name'].map(lambda x: str(str(x).replace('/',' ')))\n",
    "stores['air_area_name'] = stores['air_area_name'].map(lambda x: str(str(x).replace('-',' ')))\n",
    "#Label encoder pour les air_genre_name and air_area_name\n",
    "lbl = preprocessing.LabelEncoder()\n",
    "for i in range(10):\n",
    "    stores['air_genre_name'+str(i)] = lbl.fit_transform(stores['air_genre_name'].map(lambda x: str(str(x).split(' ')[i]) if len(str(x).split(' '))>i else ''))\n",
    "    stores['air_area_name'+str(i)] = lbl.fit_transform(stores['air_area_name'].map(lambda x: str(str(x).split(' ')[i]) if len(str(x).split(' '))>i else ''))\n",
    "stores['air_genre_name'] = lbl.fit_transform(stores['air_genre_name'])\n",
    "stores['air_area_name'] = lbl.fit_transform(stores['air_area_name'])"
   ]
  },
  {
   "cell_type": "code",
   "execution_count": 11,
   "metadata": {
    "ExecuteTime": {
     "end_time": "2018-03-06T15:39:58.615123Z",
     "start_time": "2018-03-06T15:39:58.605568Z"
    },
    "collapsed": true
   },
   "outputs": [],
   "source": [
    "#convert date to datetime in holiday dataset\n",
    "data['hol']['visit_date'] = pd.to_datetime(data['hol']['visit_date'])\n",
    "data['hol']['day_of_week'] = lbl.fit_transform(data['hol']['day_of_week'])\n",
    "data['hol']['visit_date'] = data['hol']['visit_date'].dt.date"
   ]
  },
  {
   "cell_type": "code",
   "execution_count": 12,
   "metadata": {
    "ExecuteTime": {
     "end_time": "2018-03-06T15:39:58.821162Z",
     "start_time": "2018-03-06T15:39:58.617358Z"
    },
    "collapsed": true
   },
   "outputs": [],
   "source": [
    "#creation of train and test by merging train/test and stores dataset\n",
    "train = pd.merge(data['tra'], data['hol'], how='left', on=['visit_date']) \n",
    "test = pd.merge(data['tes'], data['hol'], how='left', on=['visit_date']) \n",
    "train = pd.merge(train, stores, how='left', on=['air_store_id','dow']) \n",
    "test = pd.merge(test, stores, how='left', on=['air_store_id','dow'])"
   ]
  },
  {
   "cell_type": "code",
   "execution_count": 13,
   "metadata": {
    "ExecuteTime": {
     "end_time": "2018-03-06T15:39:59.121633Z",
     "start_time": "2018-03-06T15:39:58.823695Z"
    },
    "collapsed": true
   },
   "outputs": [],
   "source": [
    "for df in ['ar','hr']:\n",
    "    train = pd.merge(train, data[df], how='left', on=['air_store_id','visit_date']) \n",
    "    test = pd.merge(test, data[df], how='left', on=['air_store_id','visit_date'])"
   ]
  },
  {
   "cell_type": "code",
   "execution_count": 14,
   "metadata": {
    "ExecuteTime": {
     "end_time": "2018-03-06T15:40:07.309473Z",
     "start_time": "2018-03-06T15:39:59.124154Z"
    },
    "collapsed": true
   },
   "outputs": [],
   "source": [
    "#Recuperation des id des store present dans le train\n",
    "train['id'] = train.apply(lambda r: '_'.join([str(r['air_store_id']), str(r['visit_date'])]), axis=1)\n",
    "\n",
    "#Calcul de la somme, moyenne du nombre de visiteurs + moyenne du nombres de jours d'ecart entre reservation et visite au restaurant\n",
    "train['total_reserv_sum'] = train['rv1_x'] + train['rv1_y']\n",
    "train['total_reserv_mean'] = (train['rv2_x'] + train['rv2_y']) / 2\n",
    "train['total_reserv_dt_diff_mean'] = (train['rs2_x'] + train['rs2_y']) / 2\n",
    "\n",
    "test['total_reserv_sum'] = test['rv1_x'] + test['rv1_y']\n",
    "test['total_reserv_mean'] = (test['rv2_x'] + test['rv2_y']) / 2\n",
    "test['total_reserv_dt_diff_mean'] = (test['rs2_x'] + test['rs2_y']) / 2"
   ]
  },
  {
   "cell_type": "code",
   "execution_count": 15,
   "metadata": {
    "ExecuteTime": {
     "end_time": "2018-03-06T15:40:08.279324Z",
     "start_time": "2018-03-06T15:40:07.313131Z"
    },
    "collapsed": true
   },
   "outputs": [],
   "source": [
    "# NEW FEATURES \n",
    "# \n",
    "train['date_int'] = train['visit_date'].apply(lambda x: x.strftime('%Y%m%d')).astype(int)\n",
    "test['date_int'] = test['visit_date'].apply(lambda x: x.strftime('%Y%m%d')).astype(int)\n",
    "train['var_max_lat'] = train['latitude'].max() - train['latitude']\n",
    "train['var_max_long'] = train['longitude'].max() - train['longitude']\n",
    "test['var_max_lat'] = test['latitude'].max() - test['latitude']\n",
    "test['var_max_long'] = test['longitude'].max() - test['longitude']"
   ]
  },
  {
   "cell_type": "code",
   "execution_count": 16,
   "metadata": {
    "ExecuteTime": {
     "end_time": "2018-03-06T15:40:08.290880Z",
     "start_time": "2018-03-06T15:40:08.282369Z"
    },
    "collapsed": true
   },
   "outputs": [],
   "source": [
    "# NEW FEATURES FROM Georgii Vyshnia\n",
    "train['lon_plus_lat'] = train['longitude'] + train['latitude'] \n",
    "test['lon_plus_lat'] = test['longitude'] + test['latitude']"
   ]
  },
  {
   "cell_type": "code",
   "execution_count": 17,
   "metadata": {
    "ExecuteTime": {
     "end_time": "2018-03-06T15:40:08.495761Z",
     "start_time": "2018-03-06T15:40:08.293925Z"
    },
    "collapsed": true
   },
   "outputs": [],
   "source": [
    "lbl = preprocessing.LabelEncoder()\n",
    "train['air_store_id2'] = lbl.fit_transform(train['air_store_id'])\n",
    "test['air_store_id2'] = lbl.transform(test['air_store_id'])"
   ]
  },
  {
   "cell_type": "code",
   "execution_count": 18,
   "metadata": {
    "ExecuteTime": {
     "end_time": "2018-03-06T15:40:08.781389Z",
     "start_time": "2018-03-06T15:40:08.498248Z"
    },
    "collapsed": true
   },
   "outputs": [],
   "source": [
    "col = [c for c in train if c not in ['id', 'air_store_id', 'visit_date','visitors']]\n",
    "train = train.fillna(-1)\n",
    "test = test.fillna(-1)"
   ]
  },
  {
   "cell_type": "markdown",
   "metadata": {},
   "source": [
    "## End of FE"
   ]
  },
  {
   "cell_type": "code",
   "execution_count": 21,
   "metadata": {
    "ExecuteTime": {
     "end_time": "2018-03-06T17:10:47.815568Z",
     "start_time": "2018-03-06T17:10:47.810067Z"
    }
   },
   "outputs": [
    {
     "data": {
      "text/plain": [
       "(252108, 54)"
      ]
     },
     "execution_count": 21,
     "metadata": {},
     "output_type": "execute_result"
    }
   ],
   "source": [
    "#before FE\n",
    "data['tra'].shape\n",
    "#after FE\n",
    "train.shape"
   ]
  },
  {
   "cell_type": "code",
   "execution_count": 22,
   "metadata": {
    "ExecuteTime": {
     "end_time": "2018-03-06T13:01:04.635696Z",
     "start_time": "2018-03-06T13:01:04.630694Z"
    },
    "scrolled": true
   },
   "outputs": [
    {
     "name": "stdout",
     "output_type": "stream",
     "text": [
      "Train Features names: ['air_store_id' 'visit_date' 'visitors' 'dow' 'year' 'month' 'day_of_week'\n",
      " 'holiday_flg' 'min_visitors' 'mean_visitors' 'median_visitors'\n",
      " 'max_visitors' 'count_observations' 'air_genre_name' 'air_area_name'\n",
      " 'latitude' 'longitude' 'air_genre_name0' 'air_area_name0'\n",
      " 'air_genre_name1' 'air_area_name1' 'air_genre_name2' 'air_area_name2'\n",
      " 'air_genre_name3' 'air_area_name3' 'air_genre_name4' 'air_area_name4'\n",
      " 'air_genre_name5' 'air_area_name5' 'air_genre_name6' 'air_area_name6'\n",
      " 'air_genre_name7' 'air_area_name7' 'air_genre_name8' 'air_area_name8'\n",
      " 'air_genre_name9' 'air_area_name9' 'rs1_x' 'rv1_x' 'rs2_x' 'rv2_x' 'rs1_y'\n",
      " 'rv1_y' 'rs2_y' 'rv2_y' 'id' 'total_reserv_sum' 'total_reserv_mean'\n",
      " 'total_reserv_dt_diff_mean' 'date_int' 'var_max_lat' 'var_max_long'\n",
      " 'lon_plus_lat' 'air_store_id2']\n"
     ]
    }
   ],
   "source": [
    "print('Train Features names: {}'.format(train.columns.values))"
   ]
  },
  {
   "cell_type": "code",
   "execution_count": 23,
   "metadata": {
    "ExecuteTime": {
     "end_time": "2018-03-06T13:01:04.647496Z",
     "start_time": "2018-03-06T13:01:04.637701Z"
    }
   },
   "outputs": [
    {
     "name": "stdout",
     "output_type": "stream",
     "text": [
      "Test Features names: ['id' 'visitors' 'visit_date' 'air_store_id' 'dow' 'year' 'month'\n",
      " 'day_of_week' 'holiday_flg' 'min_visitors' 'mean_visitors'\n",
      " 'median_visitors' 'max_visitors' 'count_observations' 'air_genre_name'\n",
      " 'air_area_name' 'latitude' 'longitude' 'air_genre_name0' 'air_area_name0'\n",
      " 'air_genre_name1' 'air_area_name1' 'air_genre_name2' 'air_area_name2'\n",
      " 'air_genre_name3' 'air_area_name3' 'air_genre_name4' 'air_area_name4'\n",
      " 'air_genre_name5' 'air_area_name5' 'air_genre_name6' 'air_area_name6'\n",
      " 'air_genre_name7' 'air_area_name7' 'air_genre_name8' 'air_area_name8'\n",
      " 'air_genre_name9' 'air_area_name9' 'rs1_x' 'rv1_x' 'rs2_x' 'rv2_x' 'rs1_y'\n",
      " 'rv1_y' 'rs2_y' 'rv2_y' 'total_reserv_sum' 'total_reserv_mean'\n",
      " 'total_reserv_dt_diff_mean' 'date_int' 'var_max_lat' 'var_max_long'\n",
      " 'lon_plus_lat' 'air_store_id2']\n"
     ]
    }
   ],
   "source": [
    "print('Test Features names: {}'.format(test.columns.values))"
   ]
  },
  {
   "cell_type": "code",
   "execution_count": 24,
   "metadata": {
    "ExecuteTime": {
     "end_time": "2018-03-06T15:40:22.078080Z",
     "start_time": "2018-03-06T15:40:22.072713Z"
    }
   },
   "outputs": [
    {
     "name": "stdout",
     "output_type": "stream",
     "text": [
      "Number of raws: 252108\n",
      "Number of columns: 54\n"
     ]
    }
   ],
   "source": [
    "# Shape of the train Dataset\n",
    "print('Number of raws: {}'.format(len(train)))\n",
    "print('Number of columns: {}'.format(len(train.columns.values)))"
   ]
  },
  {
   "cell_type": "code",
   "execution_count": 25,
   "metadata": {
    "ExecuteTime": {
     "end_time": "2018-03-06T17:14:03.506725Z",
     "start_time": "2018-03-06T17:14:03.500771Z"
    }
   },
   "outputs": [
    {
     "name": "stdout",
     "output_type": "stream",
     "text": [
      "Number of raw in test: 32019\n",
      "Number of columns: 54\n"
     ]
    }
   ],
   "source": [
    "# Shape of the Dataset\n",
    "print('Number of raw in test: {}'.format(len(test)))\n",
    "print('Number of columns: {}'.format(len(test.columns.values)))"
   ]
  },
  {
   "cell_type": "code",
   "execution_count": 19,
   "metadata": {
    "ExecuteTime": {
     "end_time": "2018-03-06T15:40:15.958980Z",
     "start_time": "2018-03-06T15:40:15.951428Z"
    },
    "collapsed": true,
    "scrolled": true
   },
   "outputs": [],
   "source": [
    "y = train.pop('visitors')"
   ]
  },
  {
   "cell_type": "code",
   "execution_count": 58,
   "metadata": {
    "ExecuteTime": {
     "end_time": "2018-03-06T17:14:18.061178Z",
     "start_time": "2018-03-06T17:14:18.057853Z"
    },
    "collapsed": true
   },
   "outputs": [],
   "source": [
    "#train['id'] = train.apply(lambda r: '_'.join([str(r['air_store_id']), str(r['visit_date'])]), axis=1)\n",
    "#train['air_store_id'] = train['air_store_id'].map(lambda x: '_'.join(x.split('_')[:2]))\n",
    "#train['visit_date'] = train['visit_date'].map(lambda x: str(x).split('_')[2])"
   ]
  },
  {
   "cell_type": "code",
   "execution_count": 20,
   "metadata": {
    "ExecuteTime": {
     "end_time": "2018-03-06T15:40:19.880792Z",
     "start_time": "2018-03-06T15:40:19.685994Z"
    },
    "collapsed": true
   },
   "outputs": [],
   "source": [
    "#X = train[col]\n",
    "X_train, X_test, y_train, y_test = train_test_split(train[col], y, test_size=0.2, random_state=42)"
   ]
  },
  {
   "cell_type": "code",
   "execution_count": 21,
   "metadata": {
    "ExecuteTime": {
     "end_time": "2018-03-06T17:14:59.204817Z",
     "start_time": "2018-03-06T17:14:59.199712Z"
    }
   },
   "outputs": [
    {
     "data": {
      "text/plain": [
       "((201686, 50), (201686,), (50422, 50), (50422,))"
      ]
     },
     "execution_count": 21,
     "metadata": {},
     "output_type": "execute_result"
    }
   ],
   "source": [
    "X_train.shape, y_train.shape, X_test.shape, y_test.shape"
   ]
  },
  {
   "cell_type": "markdown",
   "metadata": {},
   "source": [
    "### Linear Regression"
   ]
  },
  {
   "cell_type": "code",
   "execution_count": 64,
   "metadata": {},
   "outputs": [
    {
     "name": "stdout",
     "output_type": "stream",
     "text": [
      "train error: 117.181\n",
      "test error: 126.047\n",
      "CPU times: user 1.06 s, sys: 70.8 ms, total: 1.13 s\n",
      "Wall time: 652 ms\n"
     ]
    }
   ],
   "source": [
    "%%time\n",
    "lm = LinearRegression().fit(X_train, y_train)\n",
    "train_error_lm = round(mean_squared_error(y_train, lm.predict(X_train)), 3)\n",
    "test_error_lm = round(mean_squared_error(y_test, lm.predict(X_test)), 3)\n",
    "print(\"train error: {}\".format(train_error_lm))\n",
    "print(\"test error: {}\".format(test_error_lm))"
   ]
  },
  {
   "cell_type": "code",
   "execution_count": 76,
   "metadata": {
    "scrolled": true
   },
   "outputs": [
    {
     "data": {
      "image/png": "[encoded data removed]",
      "text/plain": [
       "<matplotlib.figure.Figure at 0x11043afd0>"
      ]
     },
     "metadata": {},
     "output_type": "display_data"
    }
   ],
   "source": [
    "plt.hist(y_train, bins=50);\n",
    "plt.show()"
   ]
  },
  {
   "cell_type": "code",
   "execution_count": 73,
   "metadata": {
    "collapsed": true
   },
   "outputs": [],
   "source": [
    "def scatter_predictions(y_pred, y_true):\n",
    "    plt.figure(figsize=(10,10))\n",
    "    plt.xlabel('prediction')\n",
    "    plt.ylabel('true target')\n",
    "    plt.xlim(-1, 50)\n",
    "    plt.ylim(-1, 50)\n",
    "    plt.scatter(y_pred, y_true)"
   ]
  },
  {
   "cell_type": "code",
   "execution_count": 74,
   "metadata": {
    "scrolled": false
   },
   "outputs": [
    {
     "data": {
      "image/png": "[encoded data removed]",
      "text/plain": [
       "<matplotlib.figure.Figure at 0x10cdd65f8>"
      ]
     },
     "metadata": {},
     "output_type": "display_data"
    }
   ],
   "source": [
    "scatter_predictions(lm.predict(X_test), y_test)"
   ]
  },
  {
   "cell_type": "markdown",
   "metadata": {},
   "source": [
    "### Logistic Regression"
   ]
  },
  {
   "cell_type": "code",
   "execution_count": 32,
   "metadata": {
    "ExecuteTime": {
     "end_time": "2018-03-06T18:15:57.960507Z",
     "start_time": "2018-03-06T18:15:57.955567Z"
    },
    "collapsed": true
   },
   "outputs": [],
   "source": [
    "def test_model(model, X_test, y_test):\n",
    "    p_test = model.predict_proba(X_test)\n",
    "    return mean_squared_error(y_test, p_test.argmax(axis=1))"
   ]
  },
  {
   "cell_type": "code",
   "execution_count": 30,
   "metadata": {
    "ExecuteTime": {
     "end_time": "2018-03-06T18:16:00.120442Z",
     "start_time": "2018-03-06T18:16:00.116660Z"
    },
    "collapsed": true
   },
   "outputs": [],
   "source": [
    "model = LogisticRegression(penalty='l2', C=1.0, n_jobs=4)"
   ]
  },
  {
   "cell_type": "code",
   "execution_count": 31,
   "metadata": {
    "ExecuteTime": {
     "end_time": "2018-03-06T18:27:17.121784Z",
     "start_time": "2018-03-06T18:16:00.700424Z"
    }
   },
   "outputs": [
    {
     "name": "stdout",
     "output_type": "stream",
     "text": [
      "CPU times: user 5min 52s, sys: 1.07 s, total: 5min 53s\n",
      "Wall time: 5min 54s\n"
     ]
    },
    {
     "data": {
      "text/plain": [
       "LogisticRegression(C=1.0, class_weight=None, dual=False, fit_intercept=True,\n",
       "          intercept_scaling=1, max_iter=100, multi_class='ovr', n_jobs=4,\n",
       "          penalty='l2', random_state=None, solver='liblinear', tol=0.0001,\n",
       "          verbose=0, warm_start=False)"
      ]
     },
     "execution_count": 31,
     "metadata": {},
     "output_type": "execute_result"
    }
   ],
   "source": [
    "%%time\n",
    "model.fit(X_train, y_train)"
   ]
  },
  {
   "cell_type": "code",
   "execution_count": 37,
   "metadata": {
    "ExecuteTime": {
     "end_time": "2018-03-06T18:27:17.505595Z",
     "start_time": "2018-03-06T18:27:17.124114Z"
    }
   },
   "outputs": [
    {
     "name": "stdout",
     "output_type": "stream",
     "text": [
      "Logistic Regression score: 548.124152155805 3\n",
      "CPU times: user 393 ms, sys: 76 ms, total: 469 ms\n",
      "Wall time: 298 ms\n"
     ]
    }
   ],
   "source": [
    "%%time\n",
    "model.predict(X_test)\n",
    "score_lr = test_model(model, X_test, y_test)\n",
    "print('Logistic Regression score: {}'.format(score_lr))"
   ]
  },
  {
   "cell_type": "markdown",
   "metadata": {},
   "source": [
    "### Random Forest"
   ]
  },
  {
   "cell_type": "code",
   "execution_count": 30,
   "metadata": {
    "ExecuteTime": {
     "end_time": "2018-03-06T16:13:24.549462Z",
     "start_time": "2018-03-06T16:13:22.549377Z"
    }
   },
   "outputs": [
    {
     "name": "stdout",
     "output_type": "stream",
     "text": [
      "CPU times: user 10.1 s, sys: 428 ms, total: 10.5 s\n",
      "Wall time: 2 s\n"
     ]
    },
    {
     "data": {
      "text/plain": [
       "RandomForestClassifier(bootstrap=True, class_weight=None, criterion='gini',\n",
       "            max_depth=None, max_features='auto', max_leaf_nodes=None,\n",
       "            min_impurity_decrease=0.0, min_impurity_split=None,\n",
       "            min_samples_leaf=10, min_samples_split=2,\n",
       "            min_weight_fraction_leaf=0.0, n_estimators=10, n_jobs=-1,\n",
       "            oob_score=False, random_state=None, verbose=0,\n",
       "            warm_start=False)"
      ]
     },
     "execution_count": 30,
     "metadata": {},
     "output_type": "execute_result"
    }
   ],
   "source": [
    "%%time\n",
    "rf.fit(X_train, y_train)"
   ]
  },
  {
   "cell_type": "code",
   "execution_count": 33,
   "metadata": {
    "ExecuteTime": {
     "end_time": "2018-03-06T16:13:25.014283Z",
     "start_time": "2018-03-06T16:13:24.552462Z"
    }
   },
   "outputs": [
    {
     "name": "stdout",
     "output_type": "stream",
     "text": [
      "Random Forest score: 161.65826424973227\n",
      "CPU times: user 1.41 s, sys: 544 ms, total: 1.96 s\n",
      "Wall time: 563 ms\n"
     ]
    }
   ],
   "source": [
    "%%time\n",
    "score_rf = test_model(rf, X_test, y_test)\n",
    "print('Random Forest score: {}'.format(score_rf))"
   ]
  },
  {
   "cell_type": "code",
   "execution_count": 34,
   "metadata": {
    "ExecuteTime": {
     "end_time": "2018-03-06T16:43:16.212427Z",
     "start_time": "2018-03-06T16:43:16.101394Z"
    },
    "collapsed": true
   },
   "outputs": [],
   "source": [
    "importances = rf.feature_importances_\n",
    "std = np.std([tree.feature_importances_ for tree in rf.estimators_],\n",
    "             axis=0)\n",
    "indices = np.argsort(importances)[::-1]\n",
    "dtrain = xgboost.DMatrix(train[col], label=y)\n"
   ]
  },
  {
   "cell_type": "code",
   "execution_count": 35,
   "metadata": {
    "ExecuteTime": {
     "end_time": "2018-03-06T17:03:38.042419Z",
     "start_time": "2018-03-06T17:03:37.803551Z"
    },
    "collapsed": true,
    "scrolled": true
   },
   "outputs": [],
   "source": [
    "#dtrain.feature_names"
   ]
  },
  {
   "cell_type": "code",
   "execution_count": null,
   "metadata": {
    "collapsed": true
   },
   "outputs": [],
   "source": [
    "# Print the feature ranking\n",
    "print(\"Feature ranking:\")\n",
    "\n",
    "for f in range(train[col].shape[1]):\n",
    "    print(\"%d. feature %d (%f)\" % (f + 1, indices[f], importances[indices[f]]))"
   ]
  },
  {
   "cell_type": "code",
   "execution_count": 37,
   "metadata": {
    "ExecuteTime": {
     "end_time": "2018-03-06T17:06:47.365078Z",
     "start_time": "2018-03-06T17:06:47.359149Z"
    },
    "scrolled": false
   },
   "outputs": [
    {
     "data": {
      "text/plain": [
       "array([ 0.02916304,  0.01907316,  0.08615948,  0.02750185,  0.00301467,\n",
       "        0.04490935,  0.10052822,  0.11451984,  0.06841767,  0.04019435,\n",
       "        0.01687382,  0.02288938,  0.02265338,  0.02034853,  0.01717962,\n",
       "        0.00805409,  0.01655563,  0.00510357,  0.00161309,  0.01963426,\n",
       "        0.        ,  0.00463234,  0.        ,  0.02541309,  0.        ,\n",
       "        0.00327214,  0.        ,  0.00022827,  0.        ,  0.        ,\n",
       "        0.        ,  0.        ,  0.00020505,  0.        ,  0.00799226,\n",
       "        0.01458276,  0.00769236,  0.00915739,  0.00381018,  0.00259648,\n",
       "        0.0030345 ,  0.00269461,  0.00112512,  0.00105055,  0.00097573,\n",
       "        0.12465533,  0.02128452,  0.02150489,  0.02082185,  0.03888359])"
      ]
     },
     "execution_count": 37,
     "metadata": {},
     "output_type": "execute_result"
    }
   ],
   "source": [
    "importances"
   ]
  },
  {
   "cell_type": "code",
   "execution_count": 38,
   "metadata": {
    "ExecuteTime": {
     "end_time": "2018-03-06T17:06:05.587744Z",
     "start_time": "2018-03-06T17:06:04.979576Z"
    }
   },
   "outputs": [
    {
     "data": {
      "image/png": "[encoded data removed]",
      "text/plain": [
       "<matplotlib.figure.Figure at 0x10c82ec50>"
      ]
     },
     "metadata": {},
     "output_type": "display_data"
    }
   ],
   "source": [
    "plt.figure()\n",
    "plt.title(\"Feature importances\")\n",
    "plt.bar(range(train[col].shape[1]), importances[indices],\n",
    "       color=\"r\", yerr=std[indices], align=\"center\")\n",
    "plt.xticks(range(train[col].shape[1]), indices)\n",
    "plt.xlim([-1, train[col].shape[1]])\n",
    "plt.show()"
   ]
  },
  {
   "cell_type": "code",
   "execution_count": 87,
   "metadata": {
    "ExecuteTime": {
     "end_time": "2018-03-06T16:51:42.776158Z",
     "start_time": "2018-03-06T16:51:42.771514Z"
    }
   },
   "outputs": [
    {
     "data": {
      "text/plain": [
       "'total_reserv_dt_diff_mean'"
      ]
     },
     "execution_count": 87,
     "metadata": {},
     "output_type": "execute_result"
    }
   ],
   "source": [
    "dtrain.feature_names[44]"
   ]
  },
  {
   "cell_type": "code",
   "execution_count": null,
   "metadata": {
    "collapsed": true
   },
   "outputs": [],
   "source": [
    "#final_gb = xgboost.train(our_params, dtrain, num_boost_round = 432)\n",
    "#xgdmat = xgb.DMatrix(final_train, y_train)\n",
    "#xgboost.plot_importance(final_gb)"
   ]
  },
  {
   "cell_type": "code",
   "execution_count": 52,
   "metadata": {
    "collapsed": true
   },
   "outputs": [],
   "source": [
    "#xgboost.DMatrix()\n",
    "#mapper = {'f{0}'.format(i): v for i, v in enumerate(dtrain.feature_names)}\n",
    "#mapped = {mapper[k]: v for k, v in bst.get_fscore().items()}\n",
    "#mapped\n",
    "#xgboost.plot_importance(mapped, color='red')"
   ]
  },
  {
   "cell_type": "markdown",
   "metadata": {},
   "source": [
    "### GridSearch on RF"
   ]
  },
  {
   "cell_type": "code",
   "execution_count": null,
   "metadata": {
    "collapsed": true
   },
   "outputs": [],
   "source": [
    "params = dict(max_depth=list(range(8, 12)),\n",
    "              n_estimators=list(range(30, 110, 10)))\n",
    "mygcv = GridSearchCV(rf, param_grid=params).fit(X_train, y_train)"
   ]
  },
  {
   "cell_type": "code",
   "execution_count": null,
   "metadata": {
    "collapsed": true
   },
   "outputs": [],
   "source": [
    "print('Tested parameters: {}'.format(mygcv.cv_results_['params']))\n",
    "print('Best Estimator: {}'.format(mygcv.best_estimator_))\n",
    "print('Best Parameters: {}'.format(mygcv.best_params_))"
   ]
  },
  {
   "cell_type": "markdown",
   "metadata": {},
   "source": [
    "Tested parameters: [{'max_depth': 8, 'n_estimators': 30}, {'max_depth': 8, 'n_estimators': 40}, {'max_depth': 8, 'n_estimators': 50}, {'max_depth': 8, 'n_estimators': 60}, {'max_depth': 8, 'n_estimators': 70}, {'max_depth': 8, 'n_estimators': 80}, {'max_depth': 8, 'n_estimators': 90}, {'max_depth': 8, 'n_estimators': 100}, {'max_depth': 9, 'n_estimators': 30}, {'max_depth': 9, 'n_estimators': 40}, {'max_depth': 9, 'n_estimators': 50}, {'max_depth': 9, 'n_estimators': 60}, {'max_depth': 9, 'n_estimators': 70}, {'max_depth': 9, 'n_estimators': 80}, {'max_depth': 9, 'n_estimators': 90}, {'max_depth': 9, 'n_estimators': 100}, {'max_depth': 10, 'n_estimators': 30}, {'max_depth': 10, 'n_estimators': 40}, {'max_depth': 10, 'n_estimators': 50}, {'max_depth': 10, 'n_estimators': 60}, {'max_depth': 10, 'n_estimators': 70}, {'max_depth': 10, 'n_estimators': 80}, {'max_depth': 10, 'n_estimators': 90}, {'max_depth': 10, 'n_estimators': 100}, {'max_depth': 11, 'n_estimators': 30}, {'max_depth': 11, 'n_estimators': 40}, {'max_depth': 11, 'n_estimators': 50}, {'max_depth': 11, 'n_estimators': 60}, {'max_depth': 11, 'n_estimators': 70}, {'max_depth': 11, 'n_estimators': 80}, {'max_depth': 11, 'n_estimators': 90}, {'max_depth': 11, 'n_estimators': 100}]\n",
    "Best Estimator: RandomForestRegressor(bootstrap=True, criterion='mse', max_depth=11,\n",
    "           max_features='auto', max_leaf_nodes=None,\n",
    "           min_impurity_decrease=0.0, min_impurity_split=None,\n",
    "           min_samples_leaf=10, min_samples_split=2,\n",
    "           min_weight_fraction_leaf=0.0, n_estimators=90, n_jobs=-1,\n",
    "           oob_score=False, random_state=None, verbose=0, warm_start=False)\n",
    "Best Parameters: {'max_depth': 11, 'n_estimators': 90}"
   ]
  },
  {
   "cell_type": "markdown",
   "metadata": {},
   "source": [
    "Let's try our Best Paramaters to random forest classifier and xgboost"
   ]
  },
  {
   "cell_type": "code",
   "execution_count": null,
   "metadata": {
    "collapsed": true
   },
   "outputs": [],
   "source": [
    "%%time\n",
    "rf2 = RandomForestRegressor(n_estimators=90, max_depth=11, random_state=42)\n",
    "rf2.fit(X_train, y_train)\n",
    "train_error_rf2 = round(mean_squared_error(y_train, rf2.predict(X_train)), 3)\n",
    "test_error_rf2 = round(mean_squared_error(y_test, rf2.predict(X_test)), 3)\n",
    "print(\"train error: {}\".format(train_error_rf2))\n",
    "print(\"test error with Best Parameters: {}\".format(test_error_rf2))\n",
    "print(\"test error without Best Parameters: {}\".format(test_error_rf))"
   ]
  },
  {
   "cell_type": "markdown",
   "metadata": {},
   "source": [
    "### Quick & dirty with XGBoost"
   ]
  },
  {
   "cell_type": "code",
   "execution_count": 79,
   "metadata": {
    "collapsed": true,
    "scrolled": true
   },
   "outputs": [],
   "source": [
    "#score_xgb = test_model(xgb, X_test, y_test)\n",
    "#print('XGB score: {}'.format(score_xgb))"
   ]
  },
  {
   "cell_type": "code",
   "execution_count": null,
   "metadata": {
    "collapsed": true
   },
   "outputs": [],
   "source": [
    "model3 = XGBRegressor(learning_rate=0.2, random_state=3, n_estimators=250, subsample=0.8, colsample_bytree=0.8, max_depth =10)\n",
    "model3.fit(train[col], np.log1p(train['visitors'].values))\n",
    "preds3 = model3.predict(train[col])"
   ]
  },
  {
   "cell_type": "code",
   "execution_count": 56,
   "metadata": {
    "ExecuteTime": {
     "end_time": "2018-03-06T16:21:13.957062Z",
     "start_time": "2018-03-06T16:20:48.748942Z"
    }
   },
   "outputs": [
    {
     "name": "stdout",
     "output_type": "stream",
     "text": [
      "train error: 111.321\n",
      "test error: 122.213\n",
      "CPU times: user 25 s, sys: 195 ms, total: 25.2 s\n",
      "Wall time: 25.2 s\n"
     ]
    }
   ],
   "source": [
    "%%time\n",
    "xgb = XGBRegressor()\n",
    "xgb.fit(X_train, y_train)\n",
    "train_error_xgb = round(mean_squared_error(y_train, xgb.predict(X_train)), 3)\n",
    "test_error_xgb = round(mean_squared_error(y_test, xgb.predict(X_test)), 3)\n",
    "print(\"train error: {}\".format(train_error_xgb))\n",
    "print(\"test error: {}\".format(test_error_xgb))"
   ]
  },
  {
   "cell_type": "markdown",
   "metadata": {},
   "source": [
    "### Grid Search on XGBOOST"
   ]
  },
  {
   "cell_type": "code",
   "execution_count": null,
   "metadata": {
    "collapsed": true
   },
   "outputs": [],
   "source": [
    "%%time\n",
    "xgb2 = XGBRegressor(n_estimators=ACHANGER, max_depth=ACHANGER)\n",
    "xgb2.fit(X_train, y_train)\n",
    "train_error_xgb2 = round(mean_squared_error(y_train, xgb2.predict(X_train)), 3)\n",
    "test_error_xgb2 = round(mean_squared_error(y_test, xgb2.predict(X_test)), 3)\n",
    "print(\"train error: {}\".format(train_error_xgb2))\n",
    "print(\"test error with Best Parameters: {}\".format(test_error_xgb2))\n",
    "print(\"test error without Best Parameters: {}\".format(test_error_xgb))"
   ]
  },
  {
   "cell_type": "code",
   "execution_count": 335,
   "metadata": {
    "ExecuteTime": {
     "end_time": "2018-03-06T15:18:50.538109Z",
     "start_time": "2018-03-06T14:10:50.265052Z"
    }
   },
   "outputs": [
    {
     "ename": "KeyboardInterrupt",
     "evalue": "",
     "output_type": "error",
     "traceback": [
      "\u001b[0;31m---------------------------------------------------------------------------\u001b[0m",
      "\u001b[0;31mKeyboardInterrupt\u001b[0m                         Traceback (most recent call last)",
      "\u001b[0;32m<timed exec>\u001b[0m in \u001b[0;36m<module>\u001b[0;34m()\u001b[0m\n",
      "\u001b[0;32m/opt/conda/lib/python3.6/site-packages/sklearn/model_selection/_search.py\u001b[0m in \u001b[0;36mfit\u001b[0;34m(self, X, y, groups, **fit_params)\u001b[0m\n\u001b[1;32m    637\u001b[0m                                   error_score=self.error_score)\n\u001b[1;32m    638\u001b[0m           for parameters, (train, test) in product(candidate_params,\n\u001b[0;32m--> 639\u001b[0;31m                                                    cv.split(X, y, groups)))\n\u001b[0m\u001b[1;32m    640\u001b[0m \u001b[0;34m\u001b[0m\u001b[0m\n\u001b[1;32m    641\u001b[0m         \u001b[0;31m# if one choose to see train score, \"out\" will contain train score info\u001b[0m\u001b[0;34m\u001b[0m\u001b[0;34m\u001b[0m\u001b[0m\n",
      "\u001b[0;32m/opt/conda/lib/python3.6/site-packages/sklearn/externals/joblib/parallel.py\u001b[0m in \u001b[0;36m__call__\u001b[0;34m(self, iterable)\u001b[0m\n\u001b[1;32m    777\u001b[0m             \u001b[0;31m# was dispatched. In particular this covers the edge\u001b[0m\u001b[0;34m\u001b[0m\u001b[0;34m\u001b[0m\u001b[0m\n\u001b[1;32m    778\u001b[0m             \u001b[0;31m# case of Parallel used with an exhausted iterator.\u001b[0m\u001b[0;34m\u001b[0m\u001b[0;34m\u001b[0m\u001b[0m\n\u001b[0;32m--> 779\u001b[0;31m             \u001b[0;32mwhile\u001b[0m \u001b[0mself\u001b[0m\u001b[0;34m.\u001b[0m\u001b[0mdispatch_one_batch\u001b[0m\u001b[0;34m(\u001b[0m\u001b[0miterator\u001b[0m\u001b[0;34m)\u001b[0m\u001b[0;34m:\u001b[0m\u001b[0;34m\u001b[0m\u001b[0m\n\u001b[0m\u001b[1;32m    780\u001b[0m                 \u001b[0mself\u001b[0m\u001b[0;34m.\u001b[0m\u001b[0m_iterating\u001b[0m \u001b[0;34m=\u001b[0m \u001b[0;32mTrue\u001b[0m\u001b[0;34m\u001b[0m\u001b[0m\n\u001b[1;32m    781\u001b[0m             \u001b[0;32melse\u001b[0m\u001b[0;34m:\u001b[0m\u001b[0;34m\u001b[0m\u001b[0m\n",
      "\u001b[0;32m/opt/conda/lib/python3.6/site-packages/sklearn/externals/joblib/parallel.py\u001b[0m in \u001b[0;36mdispatch_one_batch\u001b[0;34m(self, iterator)\u001b[0m\n\u001b[1;32m    623\u001b[0m                 \u001b[0;32mreturn\u001b[0m \u001b[0;32mFalse\u001b[0m\u001b[0;34m\u001b[0m\u001b[0m\n\u001b[1;32m    624\u001b[0m             \u001b[0;32melse\u001b[0m\u001b[0;34m:\u001b[0m\u001b[0;34m\u001b[0m\u001b[0m\n\u001b[0;32m--> 625\u001b[0;31m                 \u001b[0mself\u001b[0m\u001b[0;34m.\u001b[0m\u001b[0m_dispatch\u001b[0m\u001b[0;34m(\u001b[0m\u001b[0mtasks\u001b[0m\u001b[0;34m)\u001b[0m\u001b[0;34m\u001b[0m\u001b[0m\n\u001b[0m\u001b[1;32m    626\u001b[0m                 \u001b[0;32mreturn\u001b[0m \u001b[0;32mTrue\u001b[0m\u001b[0;34m\u001b[0m\u001b[0m\n\u001b[1;32m    627\u001b[0m \u001b[0;34m\u001b[0m\u001b[0m\n",
      "\u001b[0;32m/opt/conda/lib/python3.6/site-packages/sklearn/externals/joblib/parallel.py\u001b[0m in \u001b[0;36m_dispatch\u001b[0;34m(self, batch)\u001b[0m\n\u001b[1;32m    586\u001b[0m         \u001b[0mdispatch_timestamp\u001b[0m \u001b[0;34m=\u001b[0m \u001b[0mtime\u001b[0m\u001b[0;34m.\u001b[0m\u001b[0mtime\u001b[0m\u001b[0;34m(\u001b[0m\u001b[0;34m)\u001b[0m\u001b[0;34m\u001b[0m\u001b[0m\n\u001b[1;32m    587\u001b[0m         \u001b[0mcb\u001b[0m \u001b[0;34m=\u001b[0m \u001b[0mBatchCompletionCallBack\u001b[0m\u001b[0;34m(\u001b[0m\u001b[0mdispatch_timestamp\u001b[0m\u001b[0;34m,\u001b[0m \u001b[0mlen\u001b[0m\u001b[0;34m(\u001b[0m\u001b[0mbatch\u001b[0m\u001b[0;34m)\u001b[0m\u001b[0;34m,\u001b[0m \u001b[0mself\u001b[0m\u001b[0;34m)\u001b[0m\u001b[0;34m\u001b[0m\u001b[0m\n\u001b[0;32m--> 588\u001b[0;31m         \u001b[0mjob\u001b[0m \u001b[0;34m=\u001b[0m \u001b[0mself\u001b[0m\u001b[0;34m.\u001b[0m\u001b[0m_backend\u001b[0m\u001b[0;34m.\u001b[0m\u001b[0mapply_async\u001b[0m\u001b[0;34m(\u001b[0m\u001b[0mbatch\u001b[0m\u001b[0;34m,\u001b[0m \u001b[0mcallback\u001b[0m\u001b[0;34m=\u001b[0m\u001b[0mcb\u001b[0m\u001b[0;34m)\u001b[0m\u001b[0;34m\u001b[0m\u001b[0m\n\u001b[0m\u001b[1;32m    589\u001b[0m         \u001b[0mself\u001b[0m\u001b[0;34m.\u001b[0m\u001b[0m_jobs\u001b[0m\u001b[0;34m.\u001b[0m\u001b[0mappend\u001b[0m\u001b[0;34m(\u001b[0m\u001b[0mjob\u001b[0m\u001b[0;34m)\u001b[0m\u001b[0;34m\u001b[0m\u001b[0m\n\u001b[1;32m    590\u001b[0m \u001b[0;34m\u001b[0m\u001b[0m\n",
      "\u001b[0;32m/opt/conda/lib/python3.6/site-packages/sklearn/externals/joblib/_parallel_backends.py\u001b[0m in \u001b[0;36mapply_async\u001b[0;34m(self, func, callback)\u001b[0m\n\u001b[1;32m    109\u001b[0m     \u001b[0;32mdef\u001b[0m \u001b[0mapply_async\u001b[0m\u001b[0;34m(\u001b[0m\u001b[0mself\u001b[0m\u001b[0;34m,\u001b[0m \u001b[0mfunc\u001b[0m\u001b[0;34m,\u001b[0m \u001b[0mcallback\u001b[0m\u001b[0;34m=\u001b[0m\u001b[0;32mNone\u001b[0m\u001b[0;34m)\u001b[0m\u001b[0;34m:\u001b[0m\u001b[0;34m\u001b[0m\u001b[0m\n\u001b[1;32m    110\u001b[0m         \u001b[0;34m\"\"\"Schedule a func to be run\"\"\"\u001b[0m\u001b[0;34m\u001b[0m\u001b[0m\n\u001b[0;32m--> 111\u001b[0;31m         \u001b[0mresult\u001b[0m \u001b[0;34m=\u001b[0m \u001b[0mImmediateResult\u001b[0m\u001b[0;34m(\u001b[0m\u001b[0mfunc\u001b[0m\u001b[0;34m)\u001b[0m\u001b[0;34m\u001b[0m\u001b[0m\n\u001b[0m\u001b[1;32m    112\u001b[0m         \u001b[0;32mif\u001b[0m \u001b[0mcallback\u001b[0m\u001b[0;34m:\u001b[0m\u001b[0;34m\u001b[0m\u001b[0m\n\u001b[1;32m    113\u001b[0m             \u001b[0mcallback\u001b[0m\u001b[0;34m(\u001b[0m\u001b[0mresult\u001b[0m\u001b[0;34m)\u001b[0m\u001b[0;34m\u001b[0m\u001b[0m\n",
      "\u001b[0;32m/opt/conda/lib/python3.6/site-packages/sklearn/externals/joblib/_parallel_backends.py\u001b[0m in \u001b[0;36m__init__\u001b[0;34m(self, batch)\u001b[0m\n\u001b[1;32m    330\u001b[0m         \u001b[0;31m# Don't delay the application, to avoid keeping the input\u001b[0m\u001b[0;34m\u001b[0m\u001b[0;34m\u001b[0m\u001b[0m\n\u001b[1;32m    331\u001b[0m         \u001b[0;31m# arguments in memory\u001b[0m\u001b[0;34m\u001b[0m\u001b[0;34m\u001b[0m\u001b[0m\n\u001b[0;32m--> 332\u001b[0;31m         \u001b[0mself\u001b[0m\u001b[0;34m.\u001b[0m\u001b[0mresults\u001b[0m \u001b[0;34m=\u001b[0m \u001b[0mbatch\u001b[0m\u001b[0;34m(\u001b[0m\u001b[0;34m)\u001b[0m\u001b[0;34m\u001b[0m\u001b[0m\n\u001b[0m\u001b[1;32m    333\u001b[0m \u001b[0;34m\u001b[0m\u001b[0m\n\u001b[1;32m    334\u001b[0m     \u001b[0;32mdef\u001b[0m \u001b[0mget\u001b[0m\u001b[0;34m(\u001b[0m\u001b[0mself\u001b[0m\u001b[0;34m)\u001b[0m\u001b[0;34m:\u001b[0m\u001b[0;34m\u001b[0m\u001b[0m\n",
      "\u001b[0;32m/opt/conda/lib/python3.6/site-packages/sklearn/externals/joblib/parallel.py\u001b[0m in \u001b[0;36m__call__\u001b[0;34m(self)\u001b[0m\n\u001b[1;32m    129\u001b[0m \u001b[0;34m\u001b[0m\u001b[0m\n\u001b[1;32m    130\u001b[0m     \u001b[0;32mdef\u001b[0m \u001b[0m__call__\u001b[0m\u001b[0;34m(\u001b[0m\u001b[0mself\u001b[0m\u001b[0;34m)\u001b[0m\u001b[0;34m:\u001b[0m\u001b[0;34m\u001b[0m\u001b[0m\n\u001b[0;32m--> 131\u001b[0;31m         \u001b[0;32mreturn\u001b[0m \u001b[0;34m[\u001b[0m\u001b[0mfunc\u001b[0m\u001b[0;34m(\u001b[0m\u001b[0;34m*\u001b[0m\u001b[0margs\u001b[0m\u001b[0;34m,\u001b[0m \u001b[0;34m**\u001b[0m\u001b[0mkwargs\u001b[0m\u001b[0;34m)\u001b[0m \u001b[0;32mfor\u001b[0m \u001b[0mfunc\u001b[0m\u001b[0;34m,\u001b[0m \u001b[0margs\u001b[0m\u001b[0;34m,\u001b[0m \u001b[0mkwargs\u001b[0m \u001b[0;32min\u001b[0m \u001b[0mself\u001b[0m\u001b[0;34m.\u001b[0m\u001b[0mitems\u001b[0m\u001b[0;34m]\u001b[0m\u001b[0;34m\u001b[0m\u001b[0m\n\u001b[0m\u001b[1;32m    132\u001b[0m \u001b[0;34m\u001b[0m\u001b[0m\n\u001b[1;32m    133\u001b[0m     \u001b[0;32mdef\u001b[0m \u001b[0m__len__\u001b[0m\u001b[0;34m(\u001b[0m\u001b[0mself\u001b[0m\u001b[0;34m)\u001b[0m\u001b[0;34m:\u001b[0m\u001b[0;34m\u001b[0m\u001b[0m\n",
      "\u001b[0;32m/opt/conda/lib/python3.6/site-packages/sklearn/externals/joblib/parallel.py\u001b[0m in \u001b[0;36m<listcomp>\u001b[0;34m(.0)\u001b[0m\n\u001b[1;32m    129\u001b[0m \u001b[0;34m\u001b[0m\u001b[0m\n\u001b[1;32m    130\u001b[0m     \u001b[0;32mdef\u001b[0m \u001b[0m__call__\u001b[0m\u001b[0;34m(\u001b[0m\u001b[0mself\u001b[0m\u001b[0;34m)\u001b[0m\u001b[0;34m:\u001b[0m\u001b[0;34m\u001b[0m\u001b[0m\n\u001b[0;32m--> 131\u001b[0;31m         \u001b[0;32mreturn\u001b[0m \u001b[0;34m[\u001b[0m\u001b[0mfunc\u001b[0m\u001b[0;34m(\u001b[0m\u001b[0;34m*\u001b[0m\u001b[0margs\u001b[0m\u001b[0;34m,\u001b[0m \u001b[0;34m**\u001b[0m\u001b[0mkwargs\u001b[0m\u001b[0;34m)\u001b[0m \u001b[0;32mfor\u001b[0m \u001b[0mfunc\u001b[0m\u001b[0;34m,\u001b[0m \u001b[0margs\u001b[0m\u001b[0;34m,\u001b[0m \u001b[0mkwargs\u001b[0m \u001b[0;32min\u001b[0m \u001b[0mself\u001b[0m\u001b[0;34m.\u001b[0m\u001b[0mitems\u001b[0m\u001b[0;34m]\u001b[0m\u001b[0;34m\u001b[0m\u001b[0m\n\u001b[0m\u001b[1;32m    132\u001b[0m \u001b[0;34m\u001b[0m\u001b[0m\n\u001b[1;32m    133\u001b[0m     \u001b[0;32mdef\u001b[0m \u001b[0m__len__\u001b[0m\u001b[0;34m(\u001b[0m\u001b[0mself\u001b[0m\u001b[0;34m)\u001b[0m\u001b[0;34m:\u001b[0m\u001b[0;34m\u001b[0m\u001b[0m\n",
      "\u001b[0;32m/opt/conda/lib/python3.6/site-packages/sklearn/model_selection/_validation.py\u001b[0m in \u001b[0;36m_fit_and_score\u001b[0;34m(estimator, X, y, scorer, train, test, verbose, parameters, fit_params, return_train_score, return_parameters, return_n_test_samples, return_times, error_score)\u001b[0m\n\u001b[1;32m    486\u001b[0m         \u001b[0mfit_time\u001b[0m \u001b[0;34m=\u001b[0m \u001b[0mtime\u001b[0m\u001b[0;34m.\u001b[0m\u001b[0mtime\u001b[0m\u001b[0;34m(\u001b[0m\u001b[0;34m)\u001b[0m \u001b[0;34m-\u001b[0m \u001b[0mstart_time\u001b[0m\u001b[0;34m\u001b[0m\u001b[0m\n\u001b[1;32m    487\u001b[0m         \u001b[0;31m# _score will return dict if is_multimetric is True\u001b[0m\u001b[0;34m\u001b[0m\u001b[0;34m\u001b[0m\u001b[0m\n\u001b[0;32m--> 488\u001b[0;31m         \u001b[0mtest_scores\u001b[0m \u001b[0;34m=\u001b[0m \u001b[0m_score\u001b[0m\u001b[0;34m(\u001b[0m\u001b[0mestimator\u001b[0m\u001b[0;34m,\u001b[0m \u001b[0mX_test\u001b[0m\u001b[0;34m,\u001b[0m \u001b[0my_test\u001b[0m\u001b[0;34m,\u001b[0m \u001b[0mscorer\u001b[0m\u001b[0;34m,\u001b[0m \u001b[0mis_multimetric\u001b[0m\u001b[0;34m)\u001b[0m\u001b[0;34m\u001b[0m\u001b[0m\n\u001b[0m\u001b[1;32m    489\u001b[0m         \u001b[0mscore_time\u001b[0m \u001b[0;34m=\u001b[0m \u001b[0mtime\u001b[0m\u001b[0;34m.\u001b[0m\u001b[0mtime\u001b[0m\u001b[0;34m(\u001b[0m\u001b[0;34m)\u001b[0m \u001b[0;34m-\u001b[0m \u001b[0mstart_time\u001b[0m \u001b[0;34m-\u001b[0m \u001b[0mfit_time\u001b[0m\u001b[0;34m\u001b[0m\u001b[0m\n\u001b[1;32m    490\u001b[0m         \u001b[0;32mif\u001b[0m \u001b[0mreturn_train_score\u001b[0m\u001b[0;34m:\u001b[0m\u001b[0;34m\u001b[0m\u001b[0m\n",
      "\u001b[0;32m/opt/conda/lib/python3.6/site-packages/sklearn/model_selection/_validation.py\u001b[0m in \u001b[0;36m_score\u001b[0;34m(estimator, X_test, y_test, scorer, is_multimetric)\u001b[0m\n\u001b[1;32m    521\u001b[0m     \"\"\"\n\u001b[1;32m    522\u001b[0m     \u001b[0;32mif\u001b[0m \u001b[0mis_multimetric\u001b[0m\u001b[0;34m:\u001b[0m\u001b[0;34m\u001b[0m\u001b[0m\n\u001b[0;32m--> 523\u001b[0;31m         \u001b[0;32mreturn\u001b[0m \u001b[0m_multimetric_score\u001b[0m\u001b[0;34m(\u001b[0m\u001b[0mestimator\u001b[0m\u001b[0;34m,\u001b[0m \u001b[0mX_test\u001b[0m\u001b[0;34m,\u001b[0m \u001b[0my_test\u001b[0m\u001b[0;34m,\u001b[0m \u001b[0mscorer\u001b[0m\u001b[0;34m)\u001b[0m\u001b[0;34m\u001b[0m\u001b[0m\n\u001b[0m\u001b[1;32m    524\u001b[0m     \u001b[0;32melse\u001b[0m\u001b[0;34m:\u001b[0m\u001b[0;34m\u001b[0m\u001b[0m\n\u001b[1;32m    525\u001b[0m         \u001b[0;32mif\u001b[0m \u001b[0my_test\u001b[0m \u001b[0;32mis\u001b[0m \u001b[0;32mNone\u001b[0m\u001b[0;34m:\u001b[0m\u001b[0;34m\u001b[0m\u001b[0m\n",
      "\u001b[0;32m/opt/conda/lib/python3.6/site-packages/sklearn/model_selection/_validation.py\u001b[0m in \u001b[0;36m_multimetric_score\u001b[0;34m(estimator, X_test, y_test, scorers)\u001b[0m\n\u001b[1;32m    551\u001b[0m             \u001b[0mscore\u001b[0m \u001b[0;34m=\u001b[0m \u001b[0mscorer\u001b[0m\u001b[0;34m(\u001b[0m\u001b[0mestimator\u001b[0m\u001b[0;34m,\u001b[0m \u001b[0mX_test\u001b[0m\u001b[0;34m)\u001b[0m\u001b[0;34m\u001b[0m\u001b[0m\n\u001b[1;32m    552\u001b[0m         \u001b[0;32melse\u001b[0m\u001b[0;34m:\u001b[0m\u001b[0;34m\u001b[0m\u001b[0m\n\u001b[0;32m--> 553\u001b[0;31m             \u001b[0mscore\u001b[0m \u001b[0;34m=\u001b[0m \u001b[0mscorer\u001b[0m\u001b[0;34m(\u001b[0m\u001b[0mestimator\u001b[0m\u001b[0;34m,\u001b[0m \u001b[0mX_test\u001b[0m\u001b[0;34m,\u001b[0m \u001b[0my_test\u001b[0m\u001b[0;34m)\u001b[0m\u001b[0;34m\u001b[0m\u001b[0m\n\u001b[0m\u001b[1;32m    554\u001b[0m \u001b[0;34m\u001b[0m\u001b[0m\n\u001b[1;32m    555\u001b[0m         \u001b[0;32mif\u001b[0m \u001b[0mhasattr\u001b[0m\u001b[0;34m(\u001b[0m\u001b[0mscore\u001b[0m\u001b[0;34m,\u001b[0m \u001b[0;34m'item'\u001b[0m\u001b[0;34m)\u001b[0m\u001b[0;34m:\u001b[0m\u001b[0;34m\u001b[0m\u001b[0m\n",
      "\u001b[0;32m/opt/conda/lib/python3.6/site-packages/sklearn/metrics/scorer.py\u001b[0m in \u001b[0;36m_passthrough_scorer\u001b[0;34m(estimator, *args, **kwargs)\u001b[0m\n\u001b[1;32m    242\u001b[0m \u001b[0;32mdef\u001b[0m \u001b[0m_passthrough_scorer\u001b[0m\u001b[0;34m(\u001b[0m\u001b[0mestimator\u001b[0m\u001b[0;34m,\u001b[0m \u001b[0;34m*\u001b[0m\u001b[0margs\u001b[0m\u001b[0;34m,\u001b[0m \u001b[0;34m**\u001b[0m\u001b[0mkwargs\u001b[0m\u001b[0;34m)\u001b[0m\u001b[0;34m:\u001b[0m\u001b[0;34m\u001b[0m\u001b[0m\n\u001b[1;32m    243\u001b[0m     \u001b[0;34m\"\"\"Function that wraps estimator.score\"\"\"\u001b[0m\u001b[0;34m\u001b[0m\u001b[0m\n\u001b[0;32m--> 244\u001b[0;31m     \u001b[0;32mreturn\u001b[0m \u001b[0mestimator\u001b[0m\u001b[0;34m.\u001b[0m\u001b[0mscore\u001b[0m\u001b[0;34m(\u001b[0m\u001b[0;34m*\u001b[0m\u001b[0margs\u001b[0m\u001b[0;34m,\u001b[0m \u001b[0;34m**\u001b[0m\u001b[0mkwargs\u001b[0m\u001b[0;34m)\u001b[0m\u001b[0;34m\u001b[0m\u001b[0m\n\u001b[0m\u001b[1;32m    245\u001b[0m \u001b[0;34m\u001b[0m\u001b[0m\n\u001b[1;32m    246\u001b[0m \u001b[0;34m\u001b[0m\u001b[0m\n",
      "\u001b[0;32m/opt/conda/lib/python3.6/site-packages/sklearn/base.py\u001b[0m in \u001b[0;36mscore\u001b[0;34m(self, X, y, sample_weight)\u001b[0m\n\u001b[1;32m    384\u001b[0m \u001b[0;34m\u001b[0m\u001b[0m\n\u001b[1;32m    385\u001b[0m         \u001b[0;32mfrom\u001b[0m \u001b[0;34m.\u001b[0m\u001b[0mmetrics\u001b[0m \u001b[0;32mimport\u001b[0m \u001b[0mr2_score\u001b[0m\u001b[0;34m\u001b[0m\u001b[0m\n\u001b[0;32m--> 386\u001b[0;31m         return r2_score(y, self.predict(X), sample_weight=sample_weight,\n\u001b[0m\u001b[1;32m    387\u001b[0m                         multioutput='variance_weighted')\n\u001b[1;32m    388\u001b[0m \u001b[0;34m\u001b[0m\u001b[0m\n",
      "\u001b[0;32m/opt/conda/lib/python3.6/site-packages/xgboost/sklearn.py\u001b[0m in \u001b[0;36mpredict\u001b[0;34m(self, data, output_margin, ntree_limit)\u001b[0m\n\u001b[1;32m    310\u001b[0m         return self.get_booster().predict(test_dmatrix,\n\u001b[1;32m    311\u001b[0m                                           \u001b[0moutput_margin\u001b[0m\u001b[0;34m=\u001b[0m\u001b[0moutput_margin\u001b[0m\u001b[0;34m,\u001b[0m\u001b[0;34m\u001b[0m\u001b[0m\n\u001b[0;32m--> 312\u001b[0;31m                                           ntree_limit=ntree_limit)\n\u001b[0m\u001b[1;32m    313\u001b[0m \u001b[0;34m\u001b[0m\u001b[0m\n\u001b[1;32m    314\u001b[0m     \u001b[0;32mdef\u001b[0m \u001b[0mapply\u001b[0m\u001b[0;34m(\u001b[0m\u001b[0mself\u001b[0m\u001b[0;34m,\u001b[0m \u001b[0mX\u001b[0m\u001b[0;34m,\u001b[0m \u001b[0mntree_limit\u001b[0m\u001b[0;34m=\u001b[0m\u001b[0;36m0\u001b[0m\u001b[0;34m)\u001b[0m\u001b[0;34m:\u001b[0m\u001b[0;34m\u001b[0m\u001b[0m\n",
      "\u001b[0;32m/opt/conda/lib/python3.6/site-packages/xgboost/core.py\u001b[0m in \u001b[0;36mpredict\u001b[0;34m(self, data, output_margin, ntree_limit, pred_leaf, pred_contribs, approx_contribs)\u001b[0m\n\u001b[1;32m   1050\u001b[0m                                           \u001b[0mctypes\u001b[0m\u001b[0;34m.\u001b[0m\u001b[0mc_uint\u001b[0m\u001b[0;34m(\u001b[0m\u001b[0mntree_limit\u001b[0m\u001b[0;34m)\u001b[0m\u001b[0;34m,\u001b[0m\u001b[0;34m\u001b[0m\u001b[0m\n\u001b[1;32m   1051\u001b[0m                                           \u001b[0mctypes\u001b[0m\u001b[0;34m.\u001b[0m\u001b[0mbyref\u001b[0m\u001b[0;34m(\u001b[0m\u001b[0mlength\u001b[0m\u001b[0;34m)\u001b[0m\u001b[0;34m,\u001b[0m\u001b[0;34m\u001b[0m\u001b[0m\n\u001b[0;32m-> 1052\u001b[0;31m                                           ctypes.byref(preds)))\n\u001b[0m\u001b[1;32m   1053\u001b[0m         \u001b[0mpreds\u001b[0m \u001b[0;34m=\u001b[0m \u001b[0mctypes2numpy\u001b[0m\u001b[0;34m(\u001b[0m\u001b[0mpreds\u001b[0m\u001b[0;34m,\u001b[0m \u001b[0mlength\u001b[0m\u001b[0;34m.\u001b[0m\u001b[0mvalue\u001b[0m\u001b[0;34m,\u001b[0m \u001b[0mnp\u001b[0m\u001b[0;34m.\u001b[0m\u001b[0mfloat32\u001b[0m\u001b[0;34m)\u001b[0m\u001b[0;34m\u001b[0m\u001b[0m\n\u001b[1;32m   1054\u001b[0m         \u001b[0;32mif\u001b[0m \u001b[0mpred_leaf\u001b[0m\u001b[0;34m:\u001b[0m\u001b[0;34m\u001b[0m\u001b[0m\n",
      "\u001b[0;31mKeyboardInterrupt\u001b[0m: "
     ]
    }
   ],
   "source": [
    "%%time\n",
    "params = dict(max_depth=list(range(5, 10)), n_estimators=[100], learning_rate=np.arange(0, 1, 0.005))\n",
    "grid_search = GridSearchCV(xgb, param_grid=params).fit(X_train, y_train)"
   ]
  },
  {
   "cell_type": "code",
   "execution_count": 336,
   "metadata": {
    "ExecuteTime": {
     "end_time": "2018-03-06T15:18:50.557255Z",
     "start_time": "2018-03-06T15:18:50.540509Z"
    }
   },
   "outputs": [
    {
     "ename": "AttributeError",
     "evalue": "module 'sklearn.grid_search' has no attribute 'best_estimator_'",
     "output_type": "error",
     "traceback": [
      "\u001b[0;31m---------------------------------------------------------------------------\u001b[0m",
      "\u001b[0;31mAttributeError\u001b[0m                            Traceback (most recent call last)",
      "\u001b[0;32m<ipython-input-336-a2b240c0e31f>\u001b[0m in \u001b[0;36m<module>\u001b[0;34m()\u001b[0m\n\u001b[0;32m----> 1\u001b[0;31m \u001b[0mprint\u001b[0m\u001b[0;34m(\u001b[0m\u001b[0;34m'Best Estimator: {}'\u001b[0m\u001b[0;34m.\u001b[0m\u001b[0mformat\u001b[0m\u001b[0;34m(\u001b[0m\u001b[0mgrid_search\u001b[0m\u001b[0;34m.\u001b[0m\u001b[0mbest_estimator_\u001b[0m\u001b[0;34m)\u001b[0m\u001b[0;34m)\u001b[0m\u001b[0;34m\u001b[0m\u001b[0m\n\u001b[0m\u001b[1;32m      2\u001b[0m \u001b[0mprint\u001b[0m\u001b[0;34m(\u001b[0m\u001b[0mcolored\u001b[0m\u001b[0;34m(\u001b[0m\u001b[0;34m'Best Parameters: {}'\u001b[0m\u001b[0;34m.\u001b[0m\u001b[0mformat\u001b[0m\u001b[0;34m(\u001b[0m\u001b[0mgrid_search\u001b[0m\u001b[0;34m.\u001b[0m\u001b[0mbest_params_\u001b[0m\u001b[0;34m)\u001b[0m\u001b[0;34m,\u001b[0m \u001b[0;34m'green'\u001b[0m\u001b[0;34m)\u001b[0m\u001b[0;34m)\u001b[0m\u001b[0;34m\u001b[0m\u001b[0m\n",
      "\u001b[0;31mAttributeError\u001b[0m: module 'sklearn.grid_search' has no attribute 'best_estimator_'"
     ]
    }
   ],
   "source": [
    "print('Best Estimator: {}'.format(grid_search.best_estimator_))\n",
    "print(colored('Best Parameters: {}'.format(grid_search.best_params_), 'green'))"
   ]
  },
  {
   "cell_type": "markdown",
   "metadata": {},
   "source": [
    "Let's compute our model with best parameters from Grid Search"
   ]
  },
  {
   "cell_type": "code",
   "execution_count": null,
   "metadata": {
    "collapsed": true
   },
   "outputs": [],
   "source": [
    "%%time\n",
    "params = grid_search.best_params_\n",
    "xgb_grid = XGBRegressor(**params)\n",
    "xgb_grid.fit(X_train, y_train)\n",
    "train_error_xgb_grid = round(median_absolute_error(y_train, xgb_grid.predict(X_train)), 3)\n",
    "test_error_xgb_grid = round(median_absolute_error(y_test, xgb_grid.predict(X_test)), 3)\n",
    "print(\"train error: {}\".format(train_error_xgb_grid))\n",
    "print(\"test error: {}\".format(test_error_xgb_grid))"
   ]
  },
  {
   "cell_type": "code",
   "execution_count": null,
   "metadata": {
    "collapsed": true
   },
   "outputs": [],
   "source": [
    "perf = round((test_error_xgb - test_error_xgb_grid)*100, 2)\n",
    "print(\"Performance : +{}%\".format(perf))"
   ]
  },
  {
   "cell_type": "markdown",
   "metadata": {},
   "source": [
    "### Permutation importance"
   ]
  },
  {
   "cell_type": "code",
   "execution_count": 66,
   "metadata": {
    "ExecuteTime": {
     "end_time": "2018-03-06T16:38:25.681926Z",
     "start_time": "2018-03-06T16:38:25.671977Z"
    },
    "collapsed": true
   },
   "outputs": [],
   "source": [
    "def permutation_importance(predict_function, X, y, loss_function):\n",
    "    baseline = loss_function(y, predict_function(X))\n",
    "    feature_list = X.columns\n",
    "    importance={}\n",
    "    for i, feature_name in enumerate(feature_list):\n",
    "        X_permute = X.copy()\n",
    "        X_permute[feature_name] = np.random.permutation(X_permute[feature_name])\n",
    "        importance[feature_name] = loss_function(y, predict_function(X_permute)) - baseline\n",
    "    return pd.Series(importance, name='permutation_importance')"
   ]
  },
  {
   "cell_type": "code",
   "execution_count": 67,
   "metadata": {
    "ExecuteTime": {
     "end_time": "2018-03-06T16:38:26.426022Z",
     "start_time": "2018-03-06T16:38:26.422281Z"
    },
    "collapsed": true
   },
   "outputs": [],
   "source": [
    "def classif_error(y_true, y_pred):\n",
    "    return 1 - accuracy_score(y_true, np.argmax(y_pred.values, axis=1))"
   ]
  },
  {
   "cell_type": "code",
   "execution_count": 68,
   "metadata": {
    "ExecuteTime": {
     "end_time": "2018-03-06T16:38:26.762991Z",
     "start_time": "2018-03-06T16:38:26.759301Z"
    },
    "collapsed": true
   },
   "outputs": [],
   "source": [
    "def predict_function(X):\n",
    "    return pipeline(X, label_encoders=label_encoders, model=rf)"
   ]
  },
  {
   "cell_type": "code",
   "execution_count": 69,
   "metadata": {
    "ExecuteTime": {
     "end_time": "2018-03-06T16:38:27.085848Z",
     "start_time": "2018-03-06T16:38:27.062250Z"
    },
    "scrolled": true
   },
   "outputs": [
    {
     "ename": "NameError",
     "evalue": "name 'label_encoders' is not defined",
     "output_type": "error",
     "traceback": [
      "\u001b[0;31m---------------------------------------------------------------------------\u001b[0m",
      "\u001b[0;31mNameError\u001b[0m                                 Traceback (most recent call last)",
      "\u001b[0;32m<ipython-input-69-1570f9270b12>\u001b[0m in \u001b[0;36m<module>\u001b[0;34m()\u001b[0m\n\u001b[0;32m----> 1\u001b[0;31m \u001b[0mfeature_importance\u001b[0m \u001b[0;34m=\u001b[0m \u001b[0mpermutation_importance\u001b[0m\u001b[0;34m(\u001b[0m\u001b[0mpredict_function\u001b[0m\u001b[0;34m,\u001b[0m \u001b[0mX_train\u001b[0m\u001b[0;34m,\u001b[0m \u001b[0my_test\u001b[0m\u001b[0;34m,\u001b[0m \u001b[0mclassif_error\u001b[0m\u001b[0;34m)\u001b[0m\u001b[0;34m\u001b[0m\u001b[0m\n\u001b[0m",
      "\u001b[0;32m<ipython-input-66-ee6fafad0757>\u001b[0m in \u001b[0;36mpermutation_importance\u001b[0;34m(predict_function, X, y, loss_function)\u001b[0m\n\u001b[1;32m      1\u001b[0m \u001b[0;32mdef\u001b[0m \u001b[0mpermutation_importance\u001b[0m\u001b[0;34m(\u001b[0m\u001b[0mpredict_function\u001b[0m\u001b[0;34m,\u001b[0m \u001b[0mX\u001b[0m\u001b[0;34m,\u001b[0m \u001b[0my\u001b[0m\u001b[0;34m,\u001b[0m \u001b[0mloss_function\u001b[0m\u001b[0;34m)\u001b[0m\u001b[0;34m:\u001b[0m\u001b[0;34m\u001b[0m\u001b[0m\n\u001b[1;32m      2\u001b[0m     \u001b[0mle\u001b[0m \u001b[0;34m=\u001b[0m \u001b[0mpreprocessing\u001b[0m\u001b[0;34m.\u001b[0m\u001b[0mLabelEncoder\u001b[0m\u001b[0;34m(\u001b[0m\u001b[0;34m)\u001b[0m\u001b[0;34m\u001b[0m\u001b[0m\n\u001b[0;32m----> 3\u001b[0;31m     \u001b[0mbaseline\u001b[0m \u001b[0;34m=\u001b[0m \u001b[0mloss_function\u001b[0m\u001b[0;34m(\u001b[0m\u001b[0my\u001b[0m\u001b[0;34m,\u001b[0m \u001b[0mpredict_function\u001b[0m\u001b[0;34m(\u001b[0m\u001b[0mX\u001b[0m\u001b[0;34m)\u001b[0m\u001b[0;34m)\u001b[0m\u001b[0;34m\u001b[0m\u001b[0m\n\u001b[0m\u001b[1;32m      4\u001b[0m     \u001b[0mfeature_list\u001b[0m \u001b[0;34m=\u001b[0m \u001b[0mX\u001b[0m\u001b[0;34m.\u001b[0m\u001b[0mcolumns\u001b[0m\u001b[0;34m\u001b[0m\u001b[0m\n\u001b[1;32m      5\u001b[0m     \u001b[0mimportance\u001b[0m\u001b[0;34m=\u001b[0m\u001b[0;34m{\u001b[0m\u001b[0;34m}\u001b[0m\u001b[0;34m\u001b[0m\u001b[0m\n",
      "\u001b[0;32m<ipython-input-68-bda12ea9d821>\u001b[0m in \u001b[0;36mpredict_function\u001b[0;34m(X)\u001b[0m\n\u001b[1;32m      1\u001b[0m \u001b[0;32mdef\u001b[0m \u001b[0mpredict_function\u001b[0m\u001b[0;34m(\u001b[0m\u001b[0mX\u001b[0m\u001b[0;34m)\u001b[0m\u001b[0;34m:\u001b[0m\u001b[0;34m\u001b[0m\u001b[0m\n\u001b[0;32m----> 2\u001b[0;31m     \u001b[0;32mreturn\u001b[0m \u001b[0mpipeline\u001b[0m\u001b[0;34m(\u001b[0m\u001b[0mX\u001b[0m\u001b[0;34m,\u001b[0m \u001b[0mlabel_encoders\u001b[0m\u001b[0;34m=\u001b[0m\u001b[0mlabel_encoders\u001b[0m\u001b[0;34m,\u001b[0m \u001b[0mmodel\u001b[0m\u001b[0;34m=\u001b[0m\u001b[0mrf\u001b[0m\u001b[0;34m)\u001b[0m\u001b[0;34m\u001b[0m\u001b[0m\n\u001b[0m",
      "\u001b[0;31mNameError\u001b[0m: name 'label_encoders' is not defined"
     ]
    }
   ],
   "source": [
    "feature_importance = permutation_importance(predict_function, X_train, y_test, classif_error)"
   ]
  },
  {
   "cell_type": "code",
   "execution_count": null,
   "metadata": {
    "collapsed": true
   },
   "outputs": [],
   "source": [
    "feature_importance.sort_values().plot(kind='barh')"
   ]
  },
  {
   "cell_type": "markdown",
   "metadata": {},
   "source": [
    "### Hyperopt"
   ]
  },
  {
   "cell_type": "code",
   "execution_count": null,
   "metadata": {
    "collapsed": true
   },
   "outputs": [],
   "source": []
  },
  {
   "cell_type": "markdown",
   "metadata": {},
   "source": [
    "Avec les paramètres par défaut de XGBregressor"
   ]
  },
  {
   "cell_type": "code",
   "execution_count": 22,
   "metadata": {
    "ExecuteTime": {
     "end_time": "2018-03-06T12:37:26.364703Z",
     "start_time": "2018-03-06T12:37:22.489053Z"
    },
    "scrolled": true
   },
   "outputs": [
    {
     "name": "stdout",
     "output_type": "stream",
     "text": [
      "XGBRegressor\n",
      "[0]\tvalidation_0-rmse:24.2279\tvalidation_1-rmse:24.5415\n",
      "Multiple eval metrics have been passed: 'validation_1-rmse' will be used for early stopping.\n",
      "\n",
      "Will train until validation_1-rmse hasn't improved in 50 rounds.\n",
      "[1]\tvalidation_0-rmse:22.3163\tvalidation_1-rmse:22.6368\n",
      "[2]\tvalidation_0-rmse:20.6353\tvalidation_1-rmse:20.9639\n",
      "[3]\tvalidation_0-rmse:19.1649\tvalidation_1-rmse:19.5027\n",
      "[4]\tvalidation_0-rmse:17.8799\tvalidation_1-rmse:18.227\n",
      "[5]\tvalidation_0-rmse:16.7672\tvalidation_1-rmse:17.1245\n",
      "[6]\tvalidation_0-rmse:15.8047\tvalidation_1-rmse:16.1746\n",
      "[7]\tvalidation_0-rmse:14.9752\tvalidation_1-rmse:15.356\n",
      "[8]\tvalidation_0-rmse:14.2677\tvalidation_1-rmse:14.6591\n",
      "[9]\tvalidation_0-rmse:13.6658\tvalidation_1-rmse:14.0659\n",
      "[10]\tvalidation_0-rmse:13.151\tvalidation_1-rmse:13.5593\n",
      "[11]\tvalidation_0-rmse:12.7199\tvalidation_1-rmse:13.1379\n",
      "[12]\tvalidation_0-rmse:12.3588\tvalidation_1-rmse:12.7859\n",
      "[13]\tvalidation_0-rmse:12.0548\tvalidation_1-rmse:12.4907\n",
      "[14]\tvalidation_0-rmse:11.803\tvalidation_1-rmse:12.2468\n",
      "[15]\tvalidation_0-rmse:11.5931\tvalidation_1-rmse:12.0442\n",
      "[16]\tvalidation_0-rmse:11.4146\tvalidation_1-rmse:11.8756\n",
      "[17]\tvalidation_0-rmse:11.2691\tvalidation_1-rmse:11.7361\n",
      "[18]\tvalidation_0-rmse:11.1488\tvalidation_1-rmse:11.6192\n",
      "[19]\tvalidation_0-rmse:11.0468\tvalidation_1-rmse:11.5214\n",
      "[20]\tvalidation_0-rmse:10.9591\tvalidation_1-rmse:11.4393\n",
      "[21]\tvalidation_0-rmse:10.8906\tvalidation_1-rmse:11.3742\n",
      "[22]\tvalidation_0-rmse:10.8298\tvalidation_1-rmse:11.3184\n",
      "[23]\tvalidation_0-rmse:10.7819\tvalidation_1-rmse:11.2743\n",
      "[24]\tvalidation_0-rmse:10.7382\tvalidation_1-rmse:11.2348\n",
      "[25]\tvalidation_0-rmse:10.7016\tvalidation_1-rmse:11.2022\n",
      "[26]\tvalidation_0-rmse:10.6722\tvalidation_1-rmse:11.175\n",
      "[27]\tvalidation_0-rmse:10.6454\tvalidation_1-rmse:11.1499\n",
      "[28]\tvalidation_0-rmse:10.616\tvalidation_1-rmse:11.1319\n",
      "[29]\tvalidation_0-rmse:10.5944\tvalidation_1-rmse:11.115\n",
      "[30]\tvalidation_0-rmse:10.5731\tvalidation_1-rmse:11.1003\n",
      "[31]\tvalidation_0-rmse:10.5482\tvalidation_1-rmse:11.0944\n",
      "[32]\tvalidation_0-rmse:10.5307\tvalidation_1-rmse:11.0857\n",
      "[33]\tvalidation_0-rmse:10.5167\tvalidation_1-rmse:11.0754\n",
      "[34]\tvalidation_0-rmse:10.5002\tvalidation_1-rmse:11.0675\n",
      "[35]\tvalidation_0-rmse:10.4868\tvalidation_1-rmse:11.0627\n",
      "[36]\tvalidation_0-rmse:10.4767\tvalidation_1-rmse:11.0546\n",
      "[37]\tvalidation_0-rmse:10.4696\tvalidation_1-rmse:11.0495\n",
      "[38]\tvalidation_0-rmse:10.4604\tvalidation_1-rmse:11.0496\n",
      "[39]\tvalidation_0-rmse:10.4491\tvalidation_1-rmse:11.0439\n",
      "[40]\tvalidation_0-rmse:10.4379\tvalidation_1-rmse:11.0405\n",
      "[41]\tvalidation_0-rmse:10.4317\tvalidation_1-rmse:11.0378\n",
      "[42]\tvalidation_0-rmse:10.4261\tvalidation_1-rmse:11.0353\n",
      "[43]\tvalidation_0-rmse:10.4182\tvalidation_1-rmse:11.0302\n",
      "[44]\tvalidation_0-rmse:10.4052\tvalidation_1-rmse:11.0232\n",
      "[45]\tvalidation_0-rmse:10.3984\tvalidation_1-rmse:11.0193\n",
      "[46]\tvalidation_0-rmse:10.3882\tvalidation_1-rmse:11.0164\n",
      "[47]\tvalidation_0-rmse:10.3839\tvalidation_1-rmse:11.0135\n",
      "[48]\tvalidation_0-rmse:10.3768\tvalidation_1-rmse:11.0127\n",
      "[49]\tvalidation_0-rmse:10.3702\tvalidation_1-rmse:11.0087\n",
      "[50]\tvalidation_0-rmse:10.3632\tvalidation_1-rmse:11.0118\n",
      "[51]\tvalidation_0-rmse:10.3494\tvalidation_1-rmse:11.0162\n",
      "[52]\tvalidation_0-rmse:10.3434\tvalidation_1-rmse:11.0137\n",
      "[53]\tvalidation_0-rmse:10.3407\tvalidation_1-rmse:11.0119\n",
      "[54]\tvalidation_0-rmse:10.3287\tvalidation_1-rmse:11.0148\n",
      "[55]\tvalidation_0-rmse:10.3169\tvalidation_1-rmse:11.0183\n",
      "[56]\tvalidation_0-rmse:10.3146\tvalidation_1-rmse:11.0253\n",
      "[57]\tvalidation_0-rmse:10.31\tvalidation_1-rmse:11.0246\n",
      "[58]\tvalidation_0-rmse:10.3061\tvalidation_1-rmse:11.0218\n",
      "[59]\tvalidation_0-rmse:10.3041\tvalidation_1-rmse:11.0204\n",
      "[60]\tvalidation_0-rmse:10.2974\tvalidation_1-rmse:11.0191\n",
      "[61]\tvalidation_0-rmse:10.2905\tvalidation_1-rmse:11.0225\n",
      "[62]\tvalidation_0-rmse:10.287\tvalidation_1-rmse:11.0191\n",
      "[63]\tvalidation_0-rmse:10.2778\tvalidation_1-rmse:11.0219\n",
      "[64]\tvalidation_0-rmse:10.2725\tvalidation_1-rmse:11.02\n",
      "[65]\tvalidation_0-rmse:10.266\tvalidation_1-rmse:11.0236\n",
      "[66]\tvalidation_0-rmse:10.2637\tvalidation_1-rmse:11.0252\n",
      "[67]\tvalidation_0-rmse:10.2589\tvalidation_1-rmse:11.0236\n",
      "[68]\tvalidation_0-rmse:10.256\tvalidation_1-rmse:11.0187\n",
      "[69]\tvalidation_0-rmse:10.2515\tvalidation_1-rmse:11.0196\n",
      "[70]\tvalidation_0-rmse:10.2441\tvalidation_1-rmse:11.0161\n",
      "[71]\tvalidation_0-rmse:10.2399\tvalidation_1-rmse:11.022\n",
      "[72]\tvalidation_0-rmse:10.2321\tvalidation_1-rmse:11.0297\n",
      "[73]\tvalidation_0-rmse:10.2273\tvalidation_1-rmse:11.0288\n",
      "[74]\tvalidation_0-rmse:10.2245\tvalidation_1-rmse:11.0287\n",
      "[75]\tvalidation_0-rmse:10.2208\tvalidation_1-rmse:11.0321\n",
      "[76]\tvalidation_0-rmse:10.2188\tvalidation_1-rmse:11.0365\n",
      "[77]\tvalidation_0-rmse:10.216\tvalidation_1-rmse:11.0396\n",
      "[78]\tvalidation_0-rmse:10.213\tvalidation_1-rmse:11.0355\n",
      "[79]\tvalidation_0-rmse:10.2097\tvalidation_1-rmse:11.0329\n",
      "[80]\tvalidation_0-rmse:10.2092\tvalidation_1-rmse:11.0349\n",
      "[81]\tvalidation_0-rmse:10.2038\tvalidation_1-rmse:11.0325\n",
      "[82]\tvalidation_0-rmse:10.1977\tvalidation_1-rmse:11.0345\n",
      "[83]\tvalidation_0-rmse:10.1946\tvalidation_1-rmse:11.0354\n",
      "[84]\tvalidation_0-rmse:10.19\tvalidation_1-rmse:11.0336\n",
      "[85]\tvalidation_0-rmse:10.1858\tvalidation_1-rmse:11.0364\n",
      "[86]\tvalidation_0-rmse:10.1815\tvalidation_1-rmse:11.0367\n",
      "[87]\tvalidation_0-rmse:10.1792\tvalidation_1-rmse:11.0371\n",
      "[88]\tvalidation_0-rmse:10.1774\tvalidation_1-rmse:11.0375\n",
      "[89]\tvalidation_0-rmse:10.1755\tvalidation_1-rmse:11.0357\n",
      "[90]\tvalidation_0-rmse:10.1701\tvalidation_1-rmse:11.0444\n",
      "[91]\tvalidation_0-rmse:10.1663\tvalidation_1-rmse:11.0419\n",
      "[92]\tvalidation_0-rmse:10.1649\tvalidation_1-rmse:11.0383\n",
      "[93]\tvalidation_0-rmse:10.1619\tvalidation_1-rmse:11.0352\n",
      "[94]\tvalidation_0-rmse:10.156\tvalidation_1-rmse:11.0332\n",
      "[95]\tvalidation_0-rmse:10.1515\tvalidation_1-rmse:11.033\n",
      "[96]\tvalidation_0-rmse:10.1488\tvalidation_1-rmse:11.0337\n",
      "[97]\tvalidation_0-rmse:10.1475\tvalidation_1-rmse:11.0341\n",
      "[98]\tvalidation_0-rmse:10.1454\tvalidation_1-rmse:11.0355\n",
      "[99]\tvalidation_0-rmse:10.1432\tvalidation_1-rmse:11.0406\n",
      "Stopping. Best iteration:\n",
      "[49]\tvalidation_0-rmse:10.3702\tvalidation_1-rmse:11.0087\n",
      "\n",
      "[0]\tvalidation_0-rmse:24.2341\tvalidation_1-rmse:24.5488\n",
      "Multiple eval metrics have been passed: 'validation_1-rmse' will be used for early stopping.\n",
      "\n",
      "Will train until validation_1-rmse hasn't improved in 50 rounds.\n",
      "[1]\tvalidation_0-rmse:22.3196\tvalidation_1-rmse:22.64\n",
      "[2]\tvalidation_0-rmse:20.6373\tvalidation_1-rmse:20.9665\n",
      "[3]\tvalidation_0-rmse:19.1645\tvalidation_1-rmse:19.5028\n",
      "[4]\tvalidation_0-rmse:17.8824\tvalidation_1-rmse:18.231\n",
      "[5]\tvalidation_0-rmse:16.7682\tvalidation_1-rmse:17.1252\n",
      "[6]\tvalidation_0-rmse:15.8049\tvalidation_1-rmse:16.1737\n",
      "[7]\tvalidation_0-rmse:15.0508\tvalidation_1-rmse:15.4307\n",
      "[8]\tvalidation_0-rmse:14.3387\tvalidation_1-rmse:14.7304\n",
      "[9]\tvalidation_0-rmse:13.7314\tvalidation_1-rmse:14.136\n",
      "[10]\tvalidation_0-rmse:13.2079\tvalidation_1-rmse:13.6212\n",
      "[11]\tvalidation_0-rmse:12.769\tvalidation_1-rmse:13.193\n",
      "[12]\tvalidation_0-rmse:12.3956\tvalidation_1-rmse:12.8363\n",
      "[13]\tvalidation_0-rmse:12.0818\tvalidation_1-rmse:12.5377\n",
      "[14]\tvalidation_0-rmse:11.8256\tvalidation_1-rmse:12.2912\n",
      "[15]\tvalidation_0-rmse:11.6136\tvalidation_1-rmse:12.0865\n",
      "[16]\tvalidation_0-rmse:11.4316\tvalidation_1-rmse:11.9158\n",
      "[17]\tvalidation_0-rmse:11.2809\tvalidation_1-rmse:11.7745\n",
      "[18]\tvalidation_0-rmse:11.1578\tvalidation_1-rmse:11.6536\n",
      "[19]\tvalidation_0-rmse:11.0555\tvalidation_1-rmse:11.5544\n",
      "[20]\tvalidation_0-rmse:10.9734\tvalidation_1-rmse:11.4771\n",
      "[21]\tvalidation_0-rmse:10.9\tvalidation_1-rmse:11.4056\n",
      "[22]\tvalidation_0-rmse:10.8356\tvalidation_1-rmse:11.345\n",
      "[23]\tvalidation_0-rmse:10.7824\tvalidation_1-rmse:11.2968\n",
      "[24]\tvalidation_0-rmse:10.7361\tvalidation_1-rmse:11.2558\n",
      "[25]\tvalidation_0-rmse:10.6934\tvalidation_1-rmse:11.2213\n",
      "[26]\tvalidation_0-rmse:10.6574\tvalidation_1-rmse:11.1903\n",
      "[27]\tvalidation_0-rmse:10.6315\tvalidation_1-rmse:11.1667\n",
      "[28]\tvalidation_0-rmse:10.5989\tvalidation_1-rmse:11.1448\n",
      "[29]\tvalidation_0-rmse:10.5777\tvalidation_1-rmse:11.1254\n",
      "[30]\tvalidation_0-rmse:10.5586\tvalidation_1-rmse:11.1113\n",
      "[31]\tvalidation_0-rmse:10.5398\tvalidation_1-rmse:11.105\n",
      "[32]\tvalidation_0-rmse:10.5266\tvalidation_1-rmse:11.0955\n",
      "[33]\tvalidation_0-rmse:10.5132\tvalidation_1-rmse:11.0874\n",
      "[34]\tvalidation_0-rmse:10.4971\tvalidation_1-rmse:11.0763\n",
      "[35]\tvalidation_0-rmse:10.4812\tvalidation_1-rmse:11.0756\n",
      "[36]\tvalidation_0-rmse:10.4686\tvalidation_1-rmse:11.066\n",
      "[37]\tvalidation_0-rmse:10.4603\tvalidation_1-rmse:11.0583\n"
     ]
    },
    {
     "name": "stdout",
     "output_type": "stream",
     "text": [
      "[38]\tvalidation_0-rmse:10.4485\tvalidation_1-rmse:11.0483\n",
      "[39]\tvalidation_0-rmse:10.4413\tvalidation_1-rmse:11.0415\n",
      "[40]\tvalidation_0-rmse:10.4296\tvalidation_1-rmse:11.0387\n",
      "[41]\tvalidation_0-rmse:10.425\tvalidation_1-rmse:11.0338\n",
      "[42]\tvalidation_0-rmse:10.4185\tvalidation_1-rmse:11.0298\n",
      "[43]\tvalidation_0-rmse:10.4128\tvalidation_1-rmse:11.0257\n",
      "[44]\tvalidation_0-rmse:10.4057\tvalidation_1-rmse:11.0219\n",
      "[45]\tvalidation_0-rmse:10.4009\tvalidation_1-rmse:11.0197\n",
      "[46]\tvalidation_0-rmse:10.3894\tvalidation_1-rmse:11.014\n",
      "[47]\tvalidation_0-rmse:10.3845\tvalidation_1-rmse:11.0107\n",
      "[48]\tvalidation_0-rmse:10.3741\tvalidation_1-rmse:11.0109\n",
      "[49]\tvalidation_0-rmse:10.3679\tvalidation_1-rmse:11.0073\n",
      "[50]\tvalidation_0-rmse:10.3609\tvalidation_1-rmse:11.0132\n",
      "[51]\tvalidation_0-rmse:10.35\tvalidation_1-rmse:11.0227\n",
      "[52]\tvalidation_0-rmse:10.3467\tvalidation_1-rmse:11.0207\n",
      "[53]\tvalidation_0-rmse:10.3432\tvalidation_1-rmse:11.0185\n",
      "[54]\tvalidation_0-rmse:10.3369\tvalidation_1-rmse:11.0171\n",
      "[55]\tvalidation_0-rmse:10.3281\tvalidation_1-rmse:11.0251\n",
      "[56]\tvalidation_0-rmse:10.3263\tvalidation_1-rmse:11.0305\n",
      "[57]\tvalidation_0-rmse:10.3207\tvalidation_1-rmse:11.0294\n",
      "[58]\tvalidation_0-rmse:10.3178\tvalidation_1-rmse:11.0285\n",
      "[59]\tvalidation_0-rmse:10.315\tvalidation_1-rmse:11.0268\n",
      "[60]\tvalidation_0-rmse:10.3119\tvalidation_1-rmse:11.0264\n",
      "[61]\tvalidation_0-rmse:10.3039\tvalidation_1-rmse:11.0254\n",
      "[62]\tvalidation_0-rmse:10.3005\tvalidation_1-rmse:11.0225\n",
      "[63]\tvalidation_0-rmse:10.2976\tvalidation_1-rmse:11.0227\n",
      "[64]\tvalidation_0-rmse:10.2955\tvalidation_1-rmse:11.0221\n",
      "[65]\tvalidation_0-rmse:10.2921\tvalidation_1-rmse:11.0201\n",
      "[66]\tvalidation_0-rmse:10.29\tvalidation_1-rmse:11.018\n",
      "[67]\tvalidation_0-rmse:10.2848\tvalidation_1-rmse:11.0148\n",
      "[68]\tvalidation_0-rmse:10.2785\tvalidation_1-rmse:11.0127\n",
      "[69]\tvalidation_0-rmse:10.2746\tvalidation_1-rmse:11.0137\n",
      "[70]\tvalidation_0-rmse:10.2687\tvalidation_1-rmse:11.0118\n",
      "[71]\tvalidation_0-rmse:10.2635\tvalidation_1-rmse:11.0186\n",
      "[72]\tvalidation_0-rmse:10.2564\tvalidation_1-rmse:11.0291\n",
      "[73]\tvalidation_0-rmse:10.253\tvalidation_1-rmse:11.0365\n",
      "[74]\tvalidation_0-rmse:10.2518\tvalidation_1-rmse:11.0363\n",
      "[75]\tvalidation_0-rmse:10.2477\tvalidation_1-rmse:11.0353\n",
      "[76]\tvalidation_0-rmse:10.2421\tvalidation_1-rmse:11.0338\n",
      "[77]\tvalidation_0-rmse:10.2354\tvalidation_1-rmse:11.04\n",
      "[78]\tvalidation_0-rmse:10.231\tvalidation_1-rmse:11.0395\n",
      "[79]\tvalidation_0-rmse:10.2259\tvalidation_1-rmse:11.0354\n",
      "[80]\tvalidation_0-rmse:10.2234\tvalidation_1-rmse:11.0333\n",
      "[81]\tvalidation_0-rmse:10.2186\tvalidation_1-rmse:11.0363\n",
      "[82]\tvalidation_0-rmse:10.218\tvalidation_1-rmse:11.0386\n",
      "[83]\tvalidation_0-rmse:10.2164\tvalidation_1-rmse:11.0353\n",
      "[84]\tvalidation_0-rmse:10.2094\tvalidation_1-rmse:11.0347\n",
      "[85]\tvalidation_0-rmse:10.2084\tvalidation_1-rmse:11.0337\n",
      "[86]\tvalidation_0-rmse:10.2063\tvalidation_1-rmse:11.0314\n",
      "[87]\tvalidation_0-rmse:10.2049\tvalidation_1-rmse:11.0307\n",
      "[88]\tvalidation_0-rmse:10.2035\tvalidation_1-rmse:11.0298\n",
      "[89]\tvalidation_0-rmse:10.2015\tvalidation_1-rmse:11.0257\n",
      "[90]\tvalidation_0-rmse:10.1987\tvalidation_1-rmse:11.025\n",
      "[91]\tvalidation_0-rmse:10.1956\tvalidation_1-rmse:11.0198\n",
      "[92]\tvalidation_0-rmse:10.1942\tvalidation_1-rmse:11.0192\n",
      "[93]\tvalidation_0-rmse:10.1921\tvalidation_1-rmse:11.0188\n",
      "[94]\tvalidation_0-rmse:10.1904\tvalidation_1-rmse:11.0154\n",
      "[95]\tvalidation_0-rmse:10.1878\tvalidation_1-rmse:11.0137\n",
      "[96]\tvalidation_0-rmse:10.1853\tvalidation_1-rmse:11.0138\n",
      "[97]\tvalidation_0-rmse:10.184\tvalidation_1-rmse:11.013\n",
      "[98]\tvalidation_0-rmse:10.1805\tvalidation_1-rmse:11.0104\n",
      "[99]\tvalidation_0-rmse:10.179\tvalidation_1-rmse:11.0101\n",
      "Stopping. Best iteration:\n",
      "[49]\tvalidation_0-rmse:10.3679\tvalidation_1-rmse:11.0073\n",
      "\n",
      "[0]\tvalidation_0-rmse:24.2311\tvalidation_1-rmse:24.549\n",
      "Multiple eval metrics have been passed: 'validation_1-rmse' will be used for early stopping.\n",
      "\n",
      "Will train until validation_1-rmse hasn't improved in 50 rounds.\n",
      "[1]\tvalidation_0-rmse:22.3129\tvalidation_1-rmse:22.6414\n",
      "[2]\tvalidation_0-rmse:20.6267\tvalidation_1-rmse:20.966\n",
      "[3]\tvalidation_0-rmse:19.1501\tvalidation_1-rmse:19.5026\n",
      "[4]\tvalidation_0-rmse:17.8614\tvalidation_1-rmse:18.2318\n",
      "[5]\tvalidation_0-rmse:16.7375\tvalidation_1-rmse:17.1233\n",
      "[6]\tvalidation_0-rmse:15.7654\tvalidation_1-rmse:16.1676\n",
      "[7]\tvalidation_0-rmse:14.9995\tvalidation_1-rmse:15.4179\n",
      "[8]\tvalidation_0-rmse:14.2799\tvalidation_1-rmse:14.7148\n",
      "[9]\tvalidation_0-rmse:13.6624\tvalidation_1-rmse:14.1146\n",
      "[10]\tvalidation_0-rmse:13.1284\tvalidation_1-rmse:13.5964\n",
      "[11]\tvalidation_0-rmse:12.6779\tvalidation_1-rmse:13.1622\n",
      "[12]\tvalidation_0-rmse:12.2899\tvalidation_1-rmse:12.7973\n",
      "[13]\tvalidation_0-rmse:11.9611\tvalidation_1-rmse:12.4921\n",
      "[14]\tvalidation_0-rmse:11.6937\tvalidation_1-rmse:12.2412\n",
      "[15]\tvalidation_0-rmse:11.4739\tvalidation_1-rmse:12.0338\n",
      "[16]\tvalidation_0-rmse:11.269\tvalidation_1-rmse:11.8551\n",
      "[17]\tvalidation_0-rmse:11.1103\tvalidation_1-rmse:11.7063\n",
      "[18]\tvalidation_0-rmse:10.9698\tvalidation_1-rmse:11.5791\n",
      "[19]\tvalidation_0-rmse:10.8575\tvalidation_1-rmse:11.4781\n",
      "[20]\tvalidation_0-rmse:10.7715\tvalidation_1-rmse:11.4002\n",
      "[21]\tvalidation_0-rmse:10.687\tvalidation_1-rmse:11.3285\n",
      "[22]\tvalidation_0-rmse:10.6154\tvalidation_1-rmse:11.2679\n",
      "[23]\tvalidation_0-rmse:10.5501\tvalidation_1-rmse:11.2182\n",
      "[24]\tvalidation_0-rmse:10.4893\tvalidation_1-rmse:11.1767\n",
      "[25]\tvalidation_0-rmse:10.4349\tvalidation_1-rmse:11.1367\n",
      "[26]\tvalidation_0-rmse:10.3921\tvalidation_1-rmse:11.1023\n",
      "[27]\tvalidation_0-rmse:10.3586\tvalidation_1-rmse:11.0768\n",
      "[28]\tvalidation_0-rmse:10.3182\tvalidation_1-rmse:11.0563\n",
      "[29]\tvalidation_0-rmse:10.2943\tvalidation_1-rmse:11.0378\n",
      "[30]\tvalidation_0-rmse:10.268\tvalidation_1-rmse:11.0226\n",
      "[31]\tvalidation_0-rmse:10.246\tvalidation_1-rmse:11.0098\n",
      "[32]\tvalidation_0-rmse:10.2243\tvalidation_1-rmse:10.9987\n",
      "[33]\tvalidation_0-rmse:10.2009\tvalidation_1-rmse:10.9916\n",
      "[34]\tvalidation_0-rmse:10.1812\tvalidation_1-rmse:10.9778\n",
      "[35]\tvalidation_0-rmse:10.1564\tvalidation_1-rmse:10.9712\n",
      "[36]\tvalidation_0-rmse:10.1432\tvalidation_1-rmse:10.965\n",
      "[37]\tvalidation_0-rmse:10.1324\tvalidation_1-rmse:10.9567\n",
      "[38]\tvalidation_0-rmse:10.1217\tvalidation_1-rmse:10.9508\n",
      "[39]\tvalidation_0-rmse:10.1128\tvalidation_1-rmse:10.946\n",
      "[40]\tvalidation_0-rmse:10.0956\tvalidation_1-rmse:10.9436\n",
      "[41]\tvalidation_0-rmse:10.0816\tvalidation_1-rmse:10.9413\n",
      "[42]\tvalidation_0-rmse:10.0648\tvalidation_1-rmse:10.9356\n",
      "[43]\tvalidation_0-rmse:10.0539\tvalidation_1-rmse:10.9277\n",
      "[44]\tvalidation_0-rmse:10.0453\tvalidation_1-rmse:10.9276\n",
      "[45]\tvalidation_0-rmse:10.0394\tvalidation_1-rmse:10.9275\n",
      "[46]\tvalidation_0-rmse:10.0261\tvalidation_1-rmse:10.922\n",
      "[47]\tvalidation_0-rmse:10.019\tvalidation_1-rmse:10.9184\n",
      "[48]\tvalidation_0-rmse:10.0062\tvalidation_1-rmse:10.9138\n",
      "[49]\tvalidation_0-rmse:9.99549\tvalidation_1-rmse:10.9097\n",
      "[50]\tvalidation_0-rmse:9.9913\tvalidation_1-rmse:10.9111\n",
      "[51]\tvalidation_0-rmse:9.97284\tvalidation_1-rmse:10.9103\n",
      "[52]\tvalidation_0-rmse:9.96726\tvalidation_1-rmse:10.9077\n",
      "[53]\tvalidation_0-rmse:9.96409\tvalidation_1-rmse:10.9063\n",
      "[54]\tvalidation_0-rmse:9.954\tvalidation_1-rmse:10.9077\n",
      "[55]\tvalidation_0-rmse:9.94437\tvalidation_1-rmse:10.9074\n",
      "[56]\tvalidation_0-rmse:9.93745\tvalidation_1-rmse:10.9078\n",
      "[57]\tvalidation_0-rmse:9.92985\tvalidation_1-rmse:10.9065\n",
      "[58]\tvalidation_0-rmse:9.92696\tvalidation_1-rmse:10.9061\n",
      "[59]\tvalidation_0-rmse:9.92287\tvalidation_1-rmse:10.9041\n",
      "[60]\tvalidation_0-rmse:9.91818\tvalidation_1-rmse:10.904\n",
      "[61]\tvalidation_0-rmse:9.9093\tvalidation_1-rmse:10.9055\n",
      "[62]\tvalidation_0-rmse:9.89451\tvalidation_1-rmse:10.8983\n",
      "[63]\tvalidation_0-rmse:9.89256\tvalidation_1-rmse:10.8976\n",
      "[64]\tvalidation_0-rmse:9.88683\tvalidation_1-rmse:10.8961\n",
      "[65]\tvalidation_0-rmse:9.88332\tvalidation_1-rmse:10.8947\n",
      "[66]\tvalidation_0-rmse:9.87258\tvalidation_1-rmse:10.8903\n",
      "[67]\tvalidation_0-rmse:9.86673\tvalidation_1-rmse:10.8872\n",
      "[68]\tvalidation_0-rmse:9.85736\tvalidation_1-rmse:10.8843\n",
      "[69]\tvalidation_0-rmse:9.85184\tvalidation_1-rmse:10.8841\n",
      "[70]\tvalidation_0-rmse:9.83676\tvalidation_1-rmse:10.8805\n",
      "[71]\tvalidation_0-rmse:9.83129\tvalidation_1-rmse:10.8797\n",
      "[72]\tvalidation_0-rmse:9.82451\tvalidation_1-rmse:10.8773\n",
      "[73]\tvalidation_0-rmse:9.81941\tvalidation_1-rmse:10.8802\n",
      "[74]\tvalidation_0-rmse:9.81401\tvalidation_1-rmse:10.8827\n",
      "[75]\tvalidation_0-rmse:9.80898\tvalidation_1-rmse:10.8843\n",
      "[76]\tvalidation_0-rmse:9.79953\tvalidation_1-rmse:10.8834\n",
      "[77]\tvalidation_0-rmse:9.79367\tvalidation_1-rmse:10.8811\n",
      "[78]\tvalidation_0-rmse:9.78847\tvalidation_1-rmse:10.882\n"
     ]
    },
    {
     "name": "stdout",
     "output_type": "stream",
     "text": [
      "[79]\tvalidation_0-rmse:9.78244\tvalidation_1-rmse:10.8799\n",
      "[80]\tvalidation_0-rmse:9.77112\tvalidation_1-rmse:10.8753\n",
      "[81]\tvalidation_0-rmse:9.76185\tvalidation_1-rmse:10.8737\n",
      "[82]\tvalidation_0-rmse:9.75914\tvalidation_1-rmse:10.874\n",
      "[83]\tvalidation_0-rmse:9.75281\tvalidation_1-rmse:10.8749\n",
      "[84]\tvalidation_0-rmse:9.75013\tvalidation_1-rmse:10.8731\n",
      "[85]\tvalidation_0-rmse:9.7477\tvalidation_1-rmse:10.8721\n",
      "[86]\tvalidation_0-rmse:9.73895\tvalidation_1-rmse:10.8682\n",
      "[87]\tvalidation_0-rmse:9.73872\tvalidation_1-rmse:10.8683\n",
      "[88]\tvalidation_0-rmse:9.73266\tvalidation_1-rmse:10.87\n",
      "[89]\tvalidation_0-rmse:9.72809\tvalidation_1-rmse:10.8674\n",
      "[90]\tvalidation_0-rmse:9.7209\tvalidation_1-rmse:10.8655\n",
      "[91]\tvalidation_0-rmse:9.71708\tvalidation_1-rmse:10.8647\n",
      "[92]\tvalidation_0-rmse:9.71145\tvalidation_1-rmse:10.8619\n",
      "[93]\tvalidation_0-rmse:9.70283\tvalidation_1-rmse:10.8641\n",
      "[94]\tvalidation_0-rmse:9.69745\tvalidation_1-rmse:10.8678\n",
      "[95]\tvalidation_0-rmse:9.69365\tvalidation_1-rmse:10.8658\n",
      "[96]\tvalidation_0-rmse:9.69081\tvalidation_1-rmse:10.8659\n",
      "[97]\tvalidation_0-rmse:9.68901\tvalidation_1-rmse:10.8641\n",
      "[98]\tvalidation_0-rmse:9.67877\tvalidation_1-rmse:10.8591\n",
      "[99]\tvalidation_0-rmse:9.67857\tvalidation_1-rmse:10.8591\n",
      "[100]\tvalidation_0-rmse:9.67706\tvalidation_1-rmse:10.8604\n",
      "[101]\tvalidation_0-rmse:9.67054\tvalidation_1-rmse:10.8607\n",
      "[102]\tvalidation_0-rmse:9.66588\tvalidation_1-rmse:10.8683\n",
      "[103]\tvalidation_0-rmse:9.66066\tvalidation_1-rmse:10.8656\n",
      "[104]\tvalidation_0-rmse:9.65292\tvalidation_1-rmse:10.8633\n",
      "[105]\tvalidation_0-rmse:9.65089\tvalidation_1-rmse:10.8633\n",
      "[106]\tvalidation_0-rmse:9.64532\tvalidation_1-rmse:10.8634\n",
      "[107]\tvalidation_0-rmse:9.64255\tvalidation_1-rmse:10.8627\n",
      "[108]\tvalidation_0-rmse:9.64095\tvalidation_1-rmse:10.8623\n",
      "[109]\tvalidation_0-rmse:9.63944\tvalidation_1-rmse:10.8651\n",
      "[110]\tvalidation_0-rmse:9.63478\tvalidation_1-rmse:10.864\n",
      "[111]\tvalidation_0-rmse:9.6284\tvalidation_1-rmse:10.8602\n",
      "[112]\tvalidation_0-rmse:9.62499\tvalidation_1-rmse:10.86\n",
      "[113]\tvalidation_0-rmse:9.61637\tvalidation_1-rmse:10.8598\n",
      "[114]\tvalidation_0-rmse:9.60734\tvalidation_1-rmse:10.8595\n",
      "[115]\tvalidation_0-rmse:9.60382\tvalidation_1-rmse:10.86\n",
      "[116]\tvalidation_0-rmse:9.59341\tvalidation_1-rmse:10.857\n",
      "[117]\tvalidation_0-rmse:9.58929\tvalidation_1-rmse:10.8551\n",
      "[118]\tvalidation_0-rmse:9.57999\tvalidation_1-rmse:10.8531\n",
      "[119]\tvalidation_0-rmse:9.57608\tvalidation_1-rmse:10.851\n",
      "[120]\tvalidation_0-rmse:9.57623\tvalidation_1-rmse:10.851\n",
      "[121]\tvalidation_0-rmse:9.57481\tvalidation_1-rmse:10.851\n",
      "[122]\tvalidation_0-rmse:9.56909\tvalidation_1-rmse:10.8468\n",
      "[123]\tvalidation_0-rmse:9.56318\tvalidation_1-rmse:10.8457\n",
      "[124]\tvalidation_0-rmse:9.55956\tvalidation_1-rmse:10.845\n",
      "[125]\tvalidation_0-rmse:9.555\tvalidation_1-rmse:10.8439\n",
      "[126]\tvalidation_0-rmse:9.55392\tvalidation_1-rmse:10.8442\n",
      "[127]\tvalidation_0-rmse:9.55092\tvalidation_1-rmse:10.8458\n",
      "[128]\tvalidation_0-rmse:9.54519\tvalidation_1-rmse:10.8451\n",
      "[129]\tvalidation_0-rmse:9.53848\tvalidation_1-rmse:10.848\n",
      "[130]\tvalidation_0-rmse:9.53569\tvalidation_1-rmse:10.8467\n",
      "[131]\tvalidation_0-rmse:9.53195\tvalidation_1-rmse:10.8451\n",
      "[132]\tvalidation_0-rmse:9.53075\tvalidation_1-rmse:10.8462\n",
      "[133]\tvalidation_0-rmse:9.52768\tvalidation_1-rmse:10.8455\n",
      "[134]\tvalidation_0-rmse:9.52037\tvalidation_1-rmse:10.844\n",
      "[135]\tvalidation_0-rmse:9.51795\tvalidation_1-rmse:10.8438\n",
      "[136]\tvalidation_0-rmse:9.51261\tvalidation_1-rmse:10.8414\n",
      "[137]\tvalidation_0-rmse:9.50746\tvalidation_1-rmse:10.844\n",
      "[138]\tvalidation_0-rmse:9.50142\tvalidation_1-rmse:10.8473\n",
      "[139]\tvalidation_0-rmse:9.49727\tvalidation_1-rmse:10.8486\n",
      "[140]\tvalidation_0-rmse:9.49167\tvalidation_1-rmse:10.8473\n",
      "[141]\tvalidation_0-rmse:9.48912\tvalidation_1-rmse:10.8463\n",
      "[142]\tvalidation_0-rmse:9.48337\tvalidation_1-rmse:10.8447\n",
      "[143]\tvalidation_0-rmse:9.48096\tvalidation_1-rmse:10.8441\n",
      "[144]\tvalidation_0-rmse:9.47498\tvalidation_1-rmse:10.8454\n",
      "[145]\tvalidation_0-rmse:9.47062\tvalidation_1-rmse:10.8448\n",
      "[146]\tvalidation_0-rmse:9.46732\tvalidation_1-rmse:10.844\n",
      "[147]\tvalidation_0-rmse:9.46724\tvalidation_1-rmse:10.8441\n",
      "[148]\tvalidation_0-rmse:9.46499\tvalidation_1-rmse:10.8435\n",
      "[149]\tvalidation_0-rmse:9.46184\tvalidation_1-rmse:10.8419\n",
      "[150]\tvalidation_0-rmse:9.4577\tvalidation_1-rmse:10.842\n",
      "[151]\tvalidation_0-rmse:9.45802\tvalidation_1-rmse:10.8415\n",
      "[152]\tvalidation_0-rmse:9.45654\tvalidation_1-rmse:10.8413\n",
      "[153]\tvalidation_0-rmse:9.45094\tvalidation_1-rmse:10.8385\n",
      "[154]\tvalidation_0-rmse:9.44857\tvalidation_1-rmse:10.8372\n",
      "[155]\tvalidation_0-rmse:9.44709\tvalidation_1-rmse:10.8368\n",
      "[156]\tvalidation_0-rmse:9.4427\tvalidation_1-rmse:10.8396\n",
      "[157]\tvalidation_0-rmse:9.43706\tvalidation_1-rmse:10.843\n",
      "[158]\tvalidation_0-rmse:9.42735\tvalidation_1-rmse:10.8377\n",
      "[159]\tvalidation_0-rmse:9.42664\tvalidation_1-rmse:10.8381\n",
      "[160]\tvalidation_0-rmse:9.42042\tvalidation_1-rmse:10.8411\n",
      "[161]\tvalidation_0-rmse:9.41726\tvalidation_1-rmse:10.8391\n",
      "[162]\tvalidation_0-rmse:9.41763\tvalidation_1-rmse:10.8372\n",
      "[163]\tvalidation_0-rmse:9.41495\tvalidation_1-rmse:10.836\n",
      "[164]\tvalidation_0-rmse:9.40874\tvalidation_1-rmse:10.8395\n",
      "[165]\tvalidation_0-rmse:9.40384\tvalidation_1-rmse:10.8377\n",
      "[166]\tvalidation_0-rmse:9.40181\tvalidation_1-rmse:10.8386\n",
      "[167]\tvalidation_0-rmse:9.39746\tvalidation_1-rmse:10.8391\n",
      "[168]\tvalidation_0-rmse:9.39313\tvalidation_1-rmse:10.839\n",
      "[169]\tvalidation_0-rmse:9.39136\tvalidation_1-rmse:10.8389\n",
      "[170]\tvalidation_0-rmse:9.39001\tvalidation_1-rmse:10.8384\n",
      "[171]\tvalidation_0-rmse:9.38676\tvalidation_1-rmse:10.8413\n",
      "[172]\tvalidation_0-rmse:9.38499\tvalidation_1-rmse:10.8417\n",
      "[173]\tvalidation_0-rmse:9.38128\tvalidation_1-rmse:10.8403\n",
      "[174]\tvalidation_0-rmse:9.38121\tvalidation_1-rmse:10.8403\n",
      "[175]\tvalidation_0-rmse:9.38128\tvalidation_1-rmse:10.84\n",
      "[176]\tvalidation_0-rmse:9.38075\tvalidation_1-rmse:10.842\n",
      "[177]\tvalidation_0-rmse:9.37991\tvalidation_1-rmse:10.8411\n",
      "[178]\tvalidation_0-rmse:9.37659\tvalidation_1-rmse:10.8449\n",
      "[179]\tvalidation_0-rmse:9.37653\tvalidation_1-rmse:10.8449\n",
      "[180]\tvalidation_0-rmse:9.37124\tvalidation_1-rmse:10.85\n",
      "[181]\tvalidation_0-rmse:9.36401\tvalidation_1-rmse:10.847\n",
      "[182]\tvalidation_0-rmse:9.36292\tvalidation_1-rmse:10.8472\n",
      "[183]\tvalidation_0-rmse:9.36163\tvalidation_1-rmse:10.8472\n",
      "[184]\tvalidation_0-rmse:9.36157\tvalidation_1-rmse:10.8472\n",
      "[185]\tvalidation_0-rmse:9.35909\tvalidation_1-rmse:10.8472\n",
      "[186]\tvalidation_0-rmse:9.35567\tvalidation_1-rmse:10.8465\n",
      "[187]\tvalidation_0-rmse:9.35562\tvalidation_1-rmse:10.8465\n",
      "[188]\tvalidation_0-rmse:9.35211\tvalidation_1-rmse:10.8505\n",
      "[189]\tvalidation_0-rmse:9.34803\tvalidation_1-rmse:10.8494\n",
      "[190]\tvalidation_0-rmse:9.34799\tvalidation_1-rmse:10.8493\n",
      "[191]\tvalidation_0-rmse:9.34341\tvalidation_1-rmse:10.8479\n",
      "[192]\tvalidation_0-rmse:9.34337\tvalidation_1-rmse:10.8479\n",
      "[193]\tvalidation_0-rmse:9.33944\tvalidation_1-rmse:10.8478\n",
      "[194]\tvalidation_0-rmse:9.33814\tvalidation_1-rmse:10.8475\n",
      "[195]\tvalidation_0-rmse:9.33782\tvalidation_1-rmse:10.8474\n",
      "[196]\tvalidation_0-rmse:9.33175\tvalidation_1-rmse:10.848\n",
      "[197]\tvalidation_0-rmse:9.33054\tvalidation_1-rmse:10.848\n",
      "[198]\tvalidation_0-rmse:9.32989\tvalidation_1-rmse:10.848\n",
      "[199]\tvalidation_0-rmse:9.32818\tvalidation_1-rmse:10.8472\n",
      "[200]\tvalidation_0-rmse:9.32453\tvalidation_1-rmse:10.8445\n",
      "[201]\tvalidation_0-rmse:9.3222\tvalidation_1-rmse:10.8492\n",
      "[202]\tvalidation_0-rmse:9.32184\tvalidation_1-rmse:10.8492\n",
      "[203]\tvalidation_0-rmse:9.31776\tvalidation_1-rmse:10.851\n",
      "[204]\tvalidation_0-rmse:9.31487\tvalidation_1-rmse:10.8493\n",
      "[205]\tvalidation_0-rmse:9.30686\tvalidation_1-rmse:10.8456\n",
      "[206]\tvalidation_0-rmse:9.30547\tvalidation_1-rmse:10.8462\n",
      "[207]\tvalidation_0-rmse:9.30272\tvalidation_1-rmse:10.8456\n",
      "[208]\tvalidation_0-rmse:9.30269\tvalidation_1-rmse:10.8457\n",
      "[209]\tvalidation_0-rmse:9.30266\tvalidation_1-rmse:10.8457\n",
      "[210]\tvalidation_0-rmse:9.29767\tvalidation_1-rmse:10.8446\n",
      "[211]\tvalidation_0-rmse:9.29086\tvalidation_1-rmse:10.8414\n",
      "[212]\tvalidation_0-rmse:9.28968\tvalidation_1-rmse:10.841\n",
      "[213]\tvalidation_0-rmse:9.28978\tvalidation_1-rmse:10.8411\n",
      "Stopping. Best iteration:\n",
      "[163]\tvalidation_0-rmse:9.41495\tvalidation_1-rmse:10.836\n",
      "\n",
      "[0]\tvalidation_0-rmse:24.4716\tvalidation_1-rmse:24.7881\n",
      "Multiple eval metrics have been passed: 'validation_1-rmse' will be used for early stopping.\n",
      "\n",
      "Will train until validation_1-rmse hasn't improved in 50 rounds.\n",
      "[1]\tvalidation_0-rmse:22.5309\tvalidation_1-rmse:22.8544\n",
      "[2]\tvalidation_0-rmse:20.8322\tvalidation_1-rmse:21.1657\n",
      "[3]\tvalidation_0-rmse:19.4664\tvalidation_1-rmse:19.812\n"
     ]
    },
    {
     "name": "stdout",
     "output_type": "stream",
     "text": [
      "[4]\tvalidation_0-rmse:18.4889\tvalidation_1-rmse:18.8469\n",
      "[5]\tvalidation_0-rmse:17.4884\tvalidation_1-rmse:17.8566\n",
      "[6]\tvalidation_0-rmse:16.5411\tvalidation_1-rmse:16.9189\n",
      "[7]\tvalidation_0-rmse:15.787\tvalidation_1-rmse:16.1729\n",
      "[8]\tvalidation_0-rmse:14.9906\tvalidation_1-rmse:15.3853\n",
      "[9]\tvalidation_0-rmse:14.4068\tvalidation_1-rmse:14.8113\n",
      "[10]\tvalidation_0-rmse:13.8106\tvalidation_1-rmse:14.2201\n",
      "[11]\tvalidation_0-rmse:13.3027\tvalidation_1-rmse:13.7188\n",
      "[12]\tvalidation_0-rmse:12.9827\tvalidation_1-rmse:13.4033\n",
      "[13]\tvalidation_0-rmse:12.7505\tvalidation_1-rmse:13.1778\n",
      "[14]\tvalidation_0-rmse:12.4873\tvalidation_1-rmse:12.9195\n",
      "[15]\tvalidation_0-rmse:12.1999\tvalidation_1-rmse:12.6366\n",
      "[16]\tvalidation_0-rmse:12.0194\tvalidation_1-rmse:12.4566\n",
      "[17]\tvalidation_0-rmse:11.8678\tvalidation_1-rmse:12.3092\n",
      "[18]\tvalidation_0-rmse:11.7399\tvalidation_1-rmse:12.1838\n",
      "[19]\tvalidation_0-rmse:11.576\tvalidation_1-rmse:12.0203\n",
      "[20]\tvalidation_0-rmse:11.4922\tvalidation_1-rmse:11.9385\n",
      "[21]\tvalidation_0-rmse:11.4187\tvalidation_1-rmse:11.8673\n",
      "[22]\tvalidation_0-rmse:11.3716\tvalidation_1-rmse:11.8233\n",
      "[23]\tvalidation_0-rmse:11.2705\tvalidation_1-rmse:11.723\n",
      "[24]\tvalidation_0-rmse:11.2269\tvalidation_1-rmse:11.6808\n",
      "[25]\tvalidation_0-rmse:11.1472\tvalidation_1-rmse:11.6016\n",
      "[26]\tvalidation_0-rmse:11.1211\tvalidation_1-rmse:11.5759\n",
      "[27]\tvalidation_0-rmse:11.0938\tvalidation_1-rmse:11.5506\n",
      "[28]\tvalidation_0-rmse:11.0676\tvalidation_1-rmse:11.5255\n",
      "[29]\tvalidation_0-rmse:11.048\tvalidation_1-rmse:11.5077\n",
      "[30]\tvalidation_0-rmse:11.0221\tvalidation_1-rmse:11.4831\n",
      "[31]\tvalidation_0-rmse:10.9697\tvalidation_1-rmse:11.4384\n",
      "[32]\tvalidation_0-rmse:10.9568\tvalidation_1-rmse:11.4276\n",
      "[33]\tvalidation_0-rmse:10.9452\tvalidation_1-rmse:11.4181\n",
      "[34]\tvalidation_0-rmse:10.9106\tvalidation_1-rmse:11.3869\n",
      "[35]\tvalidation_0-rmse:10.9008\tvalidation_1-rmse:11.3801\n",
      "[36]\tvalidation_0-rmse:10.8705\tvalidation_1-rmse:11.3512\n",
      "[37]\tvalidation_0-rmse:10.8452\tvalidation_1-rmse:11.3262\n",
      "[38]\tvalidation_0-rmse:10.8105\tvalidation_1-rmse:11.3003\n",
      "[39]\tvalidation_0-rmse:10.7916\tvalidation_1-rmse:11.2852\n",
      "[40]\tvalidation_0-rmse:10.7727\tvalidation_1-rmse:11.269\n",
      "[41]\tvalidation_0-rmse:10.768\tvalidation_1-rmse:11.268\n",
      "[42]\tvalidation_0-rmse:10.7605\tvalidation_1-rmse:11.2612\n",
      "[43]\tvalidation_0-rmse:10.7467\tvalidation_1-rmse:11.2479\n",
      "[44]\tvalidation_0-rmse:10.7385\tvalidation_1-rmse:11.2458\n",
      "[45]\tvalidation_0-rmse:10.7242\tvalidation_1-rmse:11.236\n",
      "[46]\tvalidation_0-rmse:10.7133\tvalidation_1-rmse:11.2257\n",
      "[47]\tvalidation_0-rmse:10.7102\tvalidation_1-rmse:11.2226\n",
      "[48]\tvalidation_0-rmse:10.6941\tvalidation_1-rmse:11.2078\n",
      "[49]\tvalidation_0-rmse:10.6881\tvalidation_1-rmse:11.2039\n",
      "[50]\tvalidation_0-rmse:10.6807\tvalidation_1-rmse:11.1989\n",
      "[51]\tvalidation_0-rmse:10.6786\tvalidation_1-rmse:11.1974\n",
      "[52]\tvalidation_0-rmse:10.6656\tvalidation_1-rmse:11.1851\n",
      "[53]\tvalidation_0-rmse:10.65\tvalidation_1-rmse:11.1713\n",
      "[54]\tvalidation_0-rmse:10.6427\tvalidation_1-rmse:11.1685\n",
      "[55]\tvalidation_0-rmse:10.6402\tvalidation_1-rmse:11.1664\n",
      "[56]\tvalidation_0-rmse:10.6307\tvalidation_1-rmse:11.1587\n",
      "[57]\tvalidation_0-rmse:10.6245\tvalidation_1-rmse:11.1564\n",
      "[58]\tvalidation_0-rmse:10.6213\tvalidation_1-rmse:11.1547\n",
      "[59]\tvalidation_0-rmse:10.6169\tvalidation_1-rmse:11.152\n",
      "[60]\tvalidation_0-rmse:10.6077\tvalidation_1-rmse:11.1442\n",
      "[61]\tvalidation_0-rmse:10.5983\tvalidation_1-rmse:11.1366\n",
      "[62]\tvalidation_0-rmse:10.595\tvalidation_1-rmse:11.1345\n",
      "[63]\tvalidation_0-rmse:10.5897\tvalidation_1-rmse:11.1298\n",
      "[64]\tvalidation_0-rmse:10.5877\tvalidation_1-rmse:11.1291\n",
      "[65]\tvalidation_0-rmse:10.5851\tvalidation_1-rmse:11.1278\n",
      "[66]\tvalidation_0-rmse:10.5736\tvalidation_1-rmse:11.1214\n",
      "[67]\tvalidation_0-rmse:10.5597\tvalidation_1-rmse:11.1135\n",
      "[68]\tvalidation_0-rmse:10.5513\tvalidation_1-rmse:11.1063\n",
      "[69]\tvalidation_0-rmse:10.5451\tvalidation_1-rmse:11.1021\n",
      "[70]\tvalidation_0-rmse:10.5404\tvalidation_1-rmse:11.0983\n",
      "[71]\tvalidation_0-rmse:10.5362\tvalidation_1-rmse:11.0954\n",
      "[72]\tvalidation_0-rmse:10.5341\tvalidation_1-rmse:11.0933\n",
      "[73]\tvalidation_0-rmse:10.5285\tvalidation_1-rmse:11.0887\n",
      "[74]\tvalidation_0-rmse:10.5264\tvalidation_1-rmse:11.0871\n",
      "[75]\tvalidation_0-rmse:10.52\tvalidation_1-rmse:11.0826\n",
      "[76]\tvalidation_0-rmse:10.5117\tvalidation_1-rmse:11.0828\n",
      "[77]\tvalidation_0-rmse:10.5096\tvalidation_1-rmse:11.0811\n",
      "[78]\tvalidation_0-rmse:10.5043\tvalidation_1-rmse:11.0761\n",
      "[79]\tvalidation_0-rmse:10.4988\tvalidation_1-rmse:11.0717\n",
      "[80]\tvalidation_0-rmse:10.4939\tvalidation_1-rmse:11.0678\n",
      "[81]\tvalidation_0-rmse:10.4923\tvalidation_1-rmse:11.0671\n",
      "[82]\tvalidation_0-rmse:10.4854\tvalidation_1-rmse:11.0632\n",
      "[83]\tvalidation_0-rmse:10.4799\tvalidation_1-rmse:11.0644\n",
      "[84]\tvalidation_0-rmse:10.4765\tvalidation_1-rmse:11.062\n",
      "[85]\tvalidation_0-rmse:10.4725\tvalidation_1-rmse:11.0592\n",
      "[86]\tvalidation_0-rmse:10.4713\tvalidation_1-rmse:11.0585\n",
      "[87]\tvalidation_0-rmse:10.4689\tvalidation_1-rmse:11.0574\n",
      "[88]\tvalidation_0-rmse:10.4654\tvalidation_1-rmse:11.0578\n",
      "[89]\tvalidation_0-rmse:10.4631\tvalidation_1-rmse:11.0574\n",
      "[90]\tvalidation_0-rmse:10.4598\tvalidation_1-rmse:11.0538\n",
      "[91]\tvalidation_0-rmse:10.4559\tvalidation_1-rmse:11.0505\n",
      "[92]\tvalidation_0-rmse:10.4532\tvalidation_1-rmse:11.0487\n",
      "[93]\tvalidation_0-rmse:10.4497\tvalidation_1-rmse:11.051\n",
      "[94]\tvalidation_0-rmse:10.4471\tvalidation_1-rmse:11.05\n",
      "[95]\tvalidation_0-rmse:10.4456\tvalidation_1-rmse:11.0492\n",
      "[96]\tvalidation_0-rmse:10.4434\tvalidation_1-rmse:11.0481\n",
      "[97]\tvalidation_0-rmse:10.4399\tvalidation_1-rmse:11.0455\n",
      "[98]\tvalidation_0-rmse:10.439\tvalidation_1-rmse:11.0449\n",
      "[99]\tvalidation_0-rmse:10.4376\tvalidation_1-rmse:11.044\n",
      "[100]\tvalidation_0-rmse:10.4357\tvalidation_1-rmse:11.0426\n",
      "[101]\tvalidation_0-rmse:10.4321\tvalidation_1-rmse:11.039\n",
      "[102]\tvalidation_0-rmse:10.429\tvalidation_1-rmse:11.0367\n",
      "[103]\tvalidation_0-rmse:10.4237\tvalidation_1-rmse:11.0324\n",
      "[104]\tvalidation_0-rmse:10.4203\tvalidation_1-rmse:11.0302\n",
      "[105]\tvalidation_0-rmse:10.4188\tvalidation_1-rmse:11.0295\n",
      "[106]\tvalidation_0-rmse:10.4143\tvalidation_1-rmse:11.0262\n",
      "[107]\tvalidation_0-rmse:10.4117\tvalidation_1-rmse:11.024\n",
      "[108]\tvalidation_0-rmse:10.4106\tvalidation_1-rmse:11.0246\n",
      "[109]\tvalidation_0-rmse:10.4097\tvalidation_1-rmse:11.0236\n",
      "[110]\tvalidation_0-rmse:10.4052\tvalidation_1-rmse:11.0209\n",
      "[111]\tvalidation_0-rmse:10.4029\tvalidation_1-rmse:11.0193\n",
      "[112]\tvalidation_0-rmse:10.4011\tvalidation_1-rmse:11.0185\n",
      "[113]\tvalidation_0-rmse:10.3993\tvalidation_1-rmse:11.0175\n",
      "[114]\tvalidation_0-rmse:10.3966\tvalidation_1-rmse:11.016\n",
      "[115]\tvalidation_0-rmse:10.3949\tvalidation_1-rmse:11.0152\n",
      "[116]\tvalidation_0-rmse:10.3929\tvalidation_1-rmse:11.0136\n",
      "[117]\tvalidation_0-rmse:10.3914\tvalidation_1-rmse:11.0128\n",
      "[118]\tvalidation_0-rmse:10.3894\tvalidation_1-rmse:11.0118\n",
      "[119]\tvalidation_0-rmse:10.3874\tvalidation_1-rmse:11.0108\n",
      "[120]\tvalidation_0-rmse:10.386\tvalidation_1-rmse:11.0102\n",
      "[121]\tvalidation_0-rmse:10.3851\tvalidation_1-rmse:11.0094\n",
      "[122]\tvalidation_0-rmse:10.3834\tvalidation_1-rmse:11.007\n",
      "[123]\tvalidation_0-rmse:10.3823\tvalidation_1-rmse:11.0065\n",
      "[124]\tvalidation_0-rmse:10.3814\tvalidation_1-rmse:11.0059\n",
      "[125]\tvalidation_0-rmse:10.3801\tvalidation_1-rmse:11.004\n",
      "[126]\tvalidation_0-rmse:10.3787\tvalidation_1-rmse:11.004\n",
      "[127]\tvalidation_0-rmse:10.3734\tvalidation_1-rmse:11.0013\n",
      "[128]\tvalidation_0-rmse:10.3722\tvalidation_1-rmse:11.0009\n",
      "[129]\tvalidation_0-rmse:10.3699\tvalidation_1-rmse:11.0024\n",
      "[130]\tvalidation_0-rmse:10.3675\tvalidation_1-rmse:11.0012\n",
      "[131]\tvalidation_0-rmse:10.3649\tvalidation_1-rmse:11.0005\n",
      "[132]\tvalidation_0-rmse:10.364\tvalidation_1-rmse:11\n",
      "[133]\tvalidation_0-rmse:10.3618\tvalidation_1-rmse:10.9999\n",
      "[134]\tvalidation_0-rmse:10.3583\tvalidation_1-rmse:10.9988\n",
      "[135]\tvalidation_0-rmse:10.3555\tvalidation_1-rmse:10.9973\n",
      "[136]\tvalidation_0-rmse:10.3539\tvalidation_1-rmse:10.9964\n",
      "[137]\tvalidation_0-rmse:10.3517\tvalidation_1-rmse:10.9949\n",
      "[138]\tvalidation_0-rmse:10.3499\tvalidation_1-rmse:10.994\n",
      "[139]\tvalidation_0-rmse:10.3493\tvalidation_1-rmse:10.9936\n",
      "[140]\tvalidation_0-rmse:10.3449\tvalidation_1-rmse:10.9935\n",
      "[141]\tvalidation_0-rmse:10.3432\tvalidation_1-rmse:10.993\n",
      "[142]\tvalidation_0-rmse:10.3355\tvalidation_1-rmse:10.996\n",
      "[143]\tvalidation_0-rmse:10.3342\tvalidation_1-rmse:10.9955\n",
      "[144]\tvalidation_0-rmse:10.3329\tvalidation_1-rmse:10.9951\n",
      "[145]\tvalidation_0-rmse:10.3289\tvalidation_1-rmse:10.9933\n",
      "[146]\tvalidation_0-rmse:10.3273\tvalidation_1-rmse:10.9932\n",
      "[147]\tvalidation_0-rmse:10.3261\tvalidation_1-rmse:10.9926\n"
     ]
    },
    {
     "name": "stdout",
     "output_type": "stream",
     "text": [
      "[148]\tvalidation_0-rmse:10.3242\tvalidation_1-rmse:10.9916\n",
      "[149]\tvalidation_0-rmse:10.3224\tvalidation_1-rmse:10.9899\n",
      "[150]\tvalidation_0-rmse:10.3214\tvalidation_1-rmse:10.9901\n",
      "[151]\tvalidation_0-rmse:10.321\tvalidation_1-rmse:10.9893\n",
      "[152]\tvalidation_0-rmse:10.3174\tvalidation_1-rmse:10.9869\n",
      "[153]\tvalidation_0-rmse:10.3168\tvalidation_1-rmse:10.9865\n",
      "[154]\tvalidation_0-rmse:10.315\tvalidation_1-rmse:10.9855\n",
      "[155]\tvalidation_0-rmse:10.3131\tvalidation_1-rmse:10.9837\n",
      "[156]\tvalidation_0-rmse:10.312\tvalidation_1-rmse:10.9832\n",
      "[157]\tvalidation_0-rmse:10.3113\tvalidation_1-rmse:10.9828\n",
      "[158]\tvalidation_0-rmse:10.309\tvalidation_1-rmse:10.9809\n",
      "[159]\tvalidation_0-rmse:10.3057\tvalidation_1-rmse:10.9794\n",
      "[160]\tvalidation_0-rmse:10.303\tvalidation_1-rmse:10.9771\n",
      "[161]\tvalidation_0-rmse:10.3017\tvalidation_1-rmse:10.9778\n",
      "[162]\tvalidation_0-rmse:10.2981\tvalidation_1-rmse:10.979\n",
      "[163]\tvalidation_0-rmse:10.2763\tvalidation_1-rmse:10.9793\n",
      "[164]\tvalidation_0-rmse:10.272\tvalidation_1-rmse:10.983\n",
      "[165]\tvalidation_0-rmse:10.2709\tvalidation_1-rmse:10.9824\n",
      "[166]\tvalidation_0-rmse:10.2695\tvalidation_1-rmse:10.9818\n",
      "[167]\tvalidation_0-rmse:10.2688\tvalidation_1-rmse:10.9822\n",
      "[168]\tvalidation_0-rmse:10.2672\tvalidation_1-rmse:10.9809\n",
      "[169]\tvalidation_0-rmse:10.2662\tvalidation_1-rmse:10.9803\n",
      "[170]\tvalidation_0-rmse:10.2645\tvalidation_1-rmse:10.9793\n",
      "[171]\tvalidation_0-rmse:10.2544\tvalidation_1-rmse:10.9763\n",
      "[172]\tvalidation_0-rmse:10.2518\tvalidation_1-rmse:10.9774\n",
      "[173]\tvalidation_0-rmse:10.2391\tvalidation_1-rmse:10.9803\n",
      "[174]\tvalidation_0-rmse:10.238\tvalidation_1-rmse:10.9802\n",
      "[175]\tvalidation_0-rmse:10.2368\tvalidation_1-rmse:10.9795\n",
      "[176]\tvalidation_0-rmse:10.2348\tvalidation_1-rmse:10.9781\n",
      "[177]\tvalidation_0-rmse:10.2343\tvalidation_1-rmse:10.9779\n",
      "[178]\tvalidation_0-rmse:10.2277\tvalidation_1-rmse:10.9818\n",
      "[179]\tvalidation_0-rmse:10.2266\tvalidation_1-rmse:10.9813\n",
      "[180]\tvalidation_0-rmse:10.2262\tvalidation_1-rmse:10.9828\n",
      "[181]\tvalidation_0-rmse:10.2254\tvalidation_1-rmse:10.9821\n",
      "[182]\tvalidation_0-rmse:10.2247\tvalidation_1-rmse:10.9817\n",
      "[183]\tvalidation_0-rmse:10.2245\tvalidation_1-rmse:10.9817\n",
      "[184]\tvalidation_0-rmse:10.2222\tvalidation_1-rmse:10.9804\n",
      "[185]\tvalidation_0-rmse:10.2211\tvalidation_1-rmse:10.9802\n",
      "[186]\tvalidation_0-rmse:10.2205\tvalidation_1-rmse:10.9801\n",
      "[187]\tvalidation_0-rmse:10.2186\tvalidation_1-rmse:10.9785\n",
      "[188]\tvalidation_0-rmse:10.2177\tvalidation_1-rmse:10.9781\n",
      "[189]\tvalidation_0-rmse:10.2161\tvalidation_1-rmse:10.9767\n",
      "[190]\tvalidation_0-rmse:10.2144\tvalidation_1-rmse:10.9751\n",
      "[191]\tvalidation_0-rmse:10.2137\tvalidation_1-rmse:10.9756\n",
      "[192]\tvalidation_0-rmse:10.2128\tvalidation_1-rmse:10.975\n",
      "[193]\tvalidation_0-rmse:10.2104\tvalidation_1-rmse:10.9731\n",
      "[194]\tvalidation_0-rmse:10.209\tvalidation_1-rmse:10.9732\n",
      "[195]\tvalidation_0-rmse:10.207\tvalidation_1-rmse:10.9721\n",
      "[196]\tvalidation_0-rmse:10.2061\tvalidation_1-rmse:10.9731\n",
      "[197]\tvalidation_0-rmse:10.2051\tvalidation_1-rmse:10.9729\n",
      "[198]\tvalidation_0-rmse:10.204\tvalidation_1-rmse:10.9722\n",
      "[199]\tvalidation_0-rmse:10.2026\tvalidation_1-rmse:10.9724\n",
      "[200]\tvalidation_0-rmse:10.2018\tvalidation_1-rmse:10.9718\n",
      "[201]\tvalidation_0-rmse:10.1995\tvalidation_1-rmse:10.9714\n",
      "[202]\tvalidation_0-rmse:10.1803\tvalidation_1-rmse:10.979\n",
      "[203]\tvalidation_0-rmse:10.1798\tvalidation_1-rmse:10.979\n",
      "[204]\tvalidation_0-rmse:10.1774\tvalidation_1-rmse:10.977\n",
      "[205]\tvalidation_0-rmse:10.177\tvalidation_1-rmse:10.9767\n",
      "[206]\tvalidation_0-rmse:10.1764\tvalidation_1-rmse:10.9766\n",
      "[207]\tvalidation_0-rmse:10.1735\tvalidation_1-rmse:10.9753\n",
      "[208]\tvalidation_0-rmse:10.1725\tvalidation_1-rmse:10.9752\n",
      "[209]\tvalidation_0-rmse:10.1724\tvalidation_1-rmse:10.9753\n",
      "[210]\tvalidation_0-rmse:10.1698\tvalidation_1-rmse:10.9736\n",
      "[211]\tvalidation_0-rmse:10.1692\tvalidation_1-rmse:10.9736\n",
      "[212]\tvalidation_0-rmse:10.1684\tvalidation_1-rmse:10.9736\n",
      "[213]\tvalidation_0-rmse:10.1668\tvalidation_1-rmse:10.9733\n",
      "[214]\tvalidation_0-rmse:10.1655\tvalidation_1-rmse:10.9742\n",
      "[215]\tvalidation_0-rmse:10.1635\tvalidation_1-rmse:10.9731\n",
      "[216]\tvalidation_0-rmse:10.1632\tvalidation_1-rmse:10.9728\n",
      "[217]\tvalidation_0-rmse:10.1627\tvalidation_1-rmse:10.9726\n",
      "[218]\tvalidation_0-rmse:10.1624\tvalidation_1-rmse:10.9726\n",
      "[219]\tvalidation_0-rmse:10.1617\tvalidation_1-rmse:10.9724\n",
      "[220]\tvalidation_0-rmse:10.1598\tvalidation_1-rmse:10.9718\n",
      "[221]\tvalidation_0-rmse:10.1591\tvalidation_1-rmse:10.9717\n",
      "[222]\tvalidation_0-rmse:10.1564\tvalidation_1-rmse:10.9695\n",
      "[223]\tvalidation_0-rmse:10.1553\tvalidation_1-rmse:10.97\n",
      "[224]\tvalidation_0-rmse:10.1534\tvalidation_1-rmse:10.9682\n",
      "[225]\tvalidation_0-rmse:10.153\tvalidation_1-rmse:10.9682\n",
      "[226]\tvalidation_0-rmse:10.1521\tvalidation_1-rmse:10.9673\n",
      "[227]\tvalidation_0-rmse:10.1514\tvalidation_1-rmse:10.9675\n",
      "[228]\tvalidation_0-rmse:10.1505\tvalidation_1-rmse:10.967\n",
      "[229]\tvalidation_0-rmse:10.1499\tvalidation_1-rmse:10.9667\n",
      "[230]\tvalidation_0-rmse:10.1323\tvalidation_1-rmse:10.9784\n",
      "[231]\tvalidation_0-rmse:10.1308\tvalidation_1-rmse:10.9778\n",
      "[232]\tvalidation_0-rmse:10.1289\tvalidation_1-rmse:10.9767\n",
      "[233]\tvalidation_0-rmse:10.1284\tvalidation_1-rmse:10.9763\n",
      "[234]\tvalidation_0-rmse:10.1246\tvalidation_1-rmse:10.9756\n",
      "[235]\tvalidation_0-rmse:10.1222\tvalidation_1-rmse:10.974\n",
      "[236]\tvalidation_0-rmse:10.1212\tvalidation_1-rmse:10.9732\n",
      "[237]\tvalidation_0-rmse:10.1201\tvalidation_1-rmse:10.9727\n",
      "[238]\tvalidation_0-rmse:10.1174\tvalidation_1-rmse:10.9715\n",
      "[239]\tvalidation_0-rmse:10.1169\tvalidation_1-rmse:10.9716\n",
      "[240]\tvalidation_0-rmse:10.1164\tvalidation_1-rmse:10.9716\n",
      "[241]\tvalidation_0-rmse:10.1155\tvalidation_1-rmse:10.9714\n",
      "[242]\tvalidation_0-rmse:10.1129\tvalidation_1-rmse:10.975\n",
      "[243]\tvalidation_0-rmse:10.1121\tvalidation_1-rmse:10.9748\n",
      "[244]\tvalidation_0-rmse:10.1116\tvalidation_1-rmse:10.9746\n",
      "[245]\tvalidation_0-rmse:10.1093\tvalidation_1-rmse:10.9738\n",
      "[246]\tvalidation_0-rmse:10.1082\tvalidation_1-rmse:10.9735\n",
      "[247]\tvalidation_0-rmse:10.1057\tvalidation_1-rmse:10.9751\n",
      "[248]\tvalidation_0-rmse:10.1047\tvalidation_1-rmse:10.9753\n",
      "[249]\tvalidation_0-rmse:10.1038\tvalidation_1-rmse:10.9753\n",
      "[250]\tvalidation_0-rmse:10.1012\tvalidation_1-rmse:10.9751\n",
      "[251]\tvalidation_0-rmse:10.1005\tvalidation_1-rmse:10.975\n",
      "[252]\tvalidation_0-rmse:10.0986\tvalidation_1-rmse:10.9755\n",
      "[253]\tvalidation_0-rmse:10.0982\tvalidation_1-rmse:10.9755\n",
      "[254]\tvalidation_0-rmse:10.0965\tvalidation_1-rmse:10.9747\n",
      "[255]\tvalidation_0-rmse:10.0943\tvalidation_1-rmse:10.9729\n",
      "[256]\tvalidation_0-rmse:10.0936\tvalidation_1-rmse:10.9725\n",
      "[257]\tvalidation_0-rmse:10.0928\tvalidation_1-rmse:10.9731\n",
      "[258]\tvalidation_0-rmse:10.0923\tvalidation_1-rmse:10.9732\n",
      "[259]\tvalidation_0-rmse:10.0915\tvalidation_1-rmse:10.9726\n",
      "[260]\tvalidation_0-rmse:10.0914\tvalidation_1-rmse:10.9725\n",
      "[261]\tvalidation_0-rmse:10.0906\tvalidation_1-rmse:10.9726\n",
      "[262]\tvalidation_0-rmse:10.0898\tvalidation_1-rmse:10.9721\n",
      "[263]\tvalidation_0-rmse:10.0875\tvalidation_1-rmse:10.9705\n",
      "[264]\tvalidation_0-rmse:10.0773\tvalidation_1-rmse:10.9753\n",
      "[265]\tvalidation_0-rmse:10.0767\tvalidation_1-rmse:10.9747\n",
      "[266]\tvalidation_0-rmse:10.074\tvalidation_1-rmse:10.9748\n",
      "[267]\tvalidation_0-rmse:10.0737\tvalidation_1-rmse:10.9747\n",
      "[268]\tvalidation_0-rmse:10.0727\tvalidation_1-rmse:10.9746\n",
      "[269]\tvalidation_0-rmse:10.0713\tvalidation_1-rmse:10.9736\n",
      "[270]\tvalidation_0-rmse:10.0708\tvalidation_1-rmse:10.9733\n",
      "[271]\tvalidation_0-rmse:10.0703\tvalidation_1-rmse:10.9732\n",
      "[272]\tvalidation_0-rmse:10.0701\tvalidation_1-rmse:10.9732\n",
      "[273]\tvalidation_0-rmse:10.0695\tvalidation_1-rmse:10.9734\n",
      "[274]\tvalidation_0-rmse:10.0684\tvalidation_1-rmse:10.9728\n",
      "[275]\tvalidation_0-rmse:10.0675\tvalidation_1-rmse:10.9727\n",
      "[276]\tvalidation_0-rmse:10.0669\tvalidation_1-rmse:10.973\n",
      "[277]\tvalidation_0-rmse:10.0661\tvalidation_1-rmse:10.9729\n",
      "[278]\tvalidation_0-rmse:10.0647\tvalidation_1-rmse:10.972\n",
      "[279]\tvalidation_0-rmse:10.0635\tvalidation_1-rmse:10.9715\n",
      "Stopping. Best iteration:\n",
      "[229]\tvalidation_0-rmse:10.1499\tvalidation_1-rmse:10.9667\n",
      "\n",
      "[0]\tvalidation_0-rmse:24.2236\tvalidation_1-rmse:24.5448\n",
      "Multiple eval metrics have been passed: 'validation_1-rmse' will be used for early stopping.\n",
      "\n",
      "Will train until validation_1-rmse hasn't improved in 50 rounds.\n",
      "[1]\tvalidation_0-rmse:22.301\tvalidation_1-rmse:22.6329\n",
      "[2]\tvalidation_0-rmse:20.609\tvalidation_1-rmse:20.9524\n",
      "[3]\tvalidation_0-rmse:19.1285\tvalidation_1-rmse:19.4837\n",
      "[4]\tvalidation_0-rmse:17.84\tvalidation_1-rmse:18.2129\n",
      "[5]\tvalidation_0-rmse:16.716\tvalidation_1-rmse:17.1041\n"
     ]
    },
    {
     "name": "stdout",
     "output_type": "stream",
     "text": [
      "[6]\tvalidation_0-rmse:15.7421\tvalidation_1-rmse:16.1456\n",
      "[7]\tvalidation_0-rmse:14.9046\tvalidation_1-rmse:15.3264\n",
      "[8]\tvalidation_0-rmse:14.1911\tvalidation_1-rmse:14.6273\n",
      "[9]\tvalidation_0-rmse:13.5809\tvalidation_1-rmse:14.0304\n",
      "[10]\tvalidation_0-rmse:13.0629\tvalidation_1-rmse:13.5249\n",
      "[11]\tvalidation_0-rmse:12.6266\tvalidation_1-rmse:13.1064\n",
      "[12]\tvalidation_0-rmse:12.2557\tvalidation_1-rmse:12.7521\n",
      "[13]\tvalidation_0-rmse:11.9427\tvalidation_1-rmse:12.4597\n",
      "[14]\tvalidation_0-rmse:11.6834\tvalidation_1-rmse:12.2108\n",
      "[15]\tvalidation_0-rmse:11.4651\tvalidation_1-rmse:12.0093\n",
      "[16]\tvalidation_0-rmse:11.2816\tvalidation_1-rmse:11.8377\n",
      "[17]\tvalidation_0-rmse:11.1332\tvalidation_1-rmse:11.6965\n",
      "[18]\tvalidation_0-rmse:11.0082\tvalidation_1-rmse:11.5792\n",
      "[19]\tvalidation_0-rmse:10.9076\tvalidation_1-rmse:11.4832\n",
      "[20]\tvalidation_0-rmse:10.8151\tvalidation_1-rmse:11.4\n",
      "[21]\tvalidation_0-rmse:10.739\tvalidation_1-rmse:11.3351\n",
      "[22]\tvalidation_0-rmse:10.67\tvalidation_1-rmse:11.2808\n",
      "[23]\tvalidation_0-rmse:10.6139\tvalidation_1-rmse:11.2372\n",
      "[24]\tvalidation_0-rmse:10.5674\tvalidation_1-rmse:11.1946\n",
      "[25]\tvalidation_0-rmse:10.523\tvalidation_1-rmse:11.1608\n",
      "[26]\tvalidation_0-rmse:10.4873\tvalidation_1-rmse:11.1306\n",
      "[27]\tvalidation_0-rmse:10.4598\tvalidation_1-rmse:11.1074\n",
      "[28]\tvalidation_0-rmse:10.4319\tvalidation_1-rmse:11.0876\n",
      "[29]\tvalidation_0-rmse:10.409\tvalidation_1-rmse:11.0692\n",
      "[30]\tvalidation_0-rmse:10.3859\tvalidation_1-rmse:11.0555\n",
      "[31]\tvalidation_0-rmse:10.3612\tvalidation_1-rmse:11.048\n",
      "[32]\tvalidation_0-rmse:10.3465\tvalidation_1-rmse:11.0352\n",
      "[33]\tvalidation_0-rmse:10.3306\tvalidation_1-rmse:11.022\n",
      "[34]\tvalidation_0-rmse:10.3084\tvalidation_1-rmse:11.0138\n",
      "[35]\tvalidation_0-rmse:10.2876\tvalidation_1-rmse:11.0105\n",
      "[36]\tvalidation_0-rmse:10.2731\tvalidation_1-rmse:11.0024\n",
      "[37]\tvalidation_0-rmse:10.2671\tvalidation_1-rmse:10.9968\n",
      "[38]\tvalidation_0-rmse:10.2529\tvalidation_1-rmse:10.9915\n",
      "[39]\tvalidation_0-rmse:10.2433\tvalidation_1-rmse:10.9856\n",
      "[40]\tvalidation_0-rmse:10.2246\tvalidation_1-rmse:10.9842\n",
      "[41]\tvalidation_0-rmse:10.2042\tvalidation_1-rmse:10.9901\n",
      "[42]\tvalidation_0-rmse:10.1916\tvalidation_1-rmse:10.9891\n",
      "[43]\tvalidation_0-rmse:10.1826\tvalidation_1-rmse:10.9891\n",
      "[44]\tvalidation_0-rmse:10.1753\tvalidation_1-rmse:10.9884\n",
      "[45]\tvalidation_0-rmse:10.1593\tvalidation_1-rmse:10.9886\n",
      "[46]\tvalidation_0-rmse:10.1458\tvalidation_1-rmse:10.9877\n",
      "[47]\tvalidation_0-rmse:10.1347\tvalidation_1-rmse:10.9859\n",
      "[48]\tvalidation_0-rmse:10.1243\tvalidation_1-rmse:10.9813\n",
      "[49]\tvalidation_0-rmse:10.1189\tvalidation_1-rmse:10.9782\n",
      "[50]\tvalidation_0-rmse:10.1135\tvalidation_1-rmse:10.9744\n",
      "[51]\tvalidation_0-rmse:10.0985\tvalidation_1-rmse:10.9714\n",
      "[52]\tvalidation_0-rmse:10.0907\tvalidation_1-rmse:10.9687\n",
      "[53]\tvalidation_0-rmse:10.0883\tvalidation_1-rmse:10.9665\n",
      "[54]\tvalidation_0-rmse:10.0774\tvalidation_1-rmse:10.9689\n",
      "[55]\tvalidation_0-rmse:10.0675\tvalidation_1-rmse:10.9727\n",
      "[56]\tvalidation_0-rmse:10.0598\tvalidation_1-rmse:10.972\n",
      "[57]\tvalidation_0-rmse:10.0542\tvalidation_1-rmse:10.9705\n",
      "[58]\tvalidation_0-rmse:10.0475\tvalidation_1-rmse:10.9681\n",
      "[59]\tvalidation_0-rmse:10.0384\tvalidation_1-rmse:10.9647\n",
      "[60]\tvalidation_0-rmse:10.0311\tvalidation_1-rmse:10.9637\n",
      "[61]\tvalidation_0-rmse:10.0283\tvalidation_1-rmse:10.9631\n",
      "[62]\tvalidation_0-rmse:10.0243\tvalidation_1-rmse:10.9625\n",
      "[63]\tvalidation_0-rmse:10.0164\tvalidation_1-rmse:10.9592\n",
      "[64]\tvalidation_0-rmse:10.0122\tvalidation_1-rmse:10.9572\n",
      "[65]\tvalidation_0-rmse:10.0026\tvalidation_1-rmse:10.9541\n",
      "[66]\tvalidation_0-rmse:9.99725\tvalidation_1-rmse:10.952\n",
      "[67]\tvalidation_0-rmse:9.98438\tvalidation_1-rmse:10.95\n",
      "[68]\tvalidation_0-rmse:9.97649\tvalidation_1-rmse:10.9458\n",
      "[69]\tvalidation_0-rmse:9.97052\tvalidation_1-rmse:10.9489\n",
      "[70]\tvalidation_0-rmse:9.96743\tvalidation_1-rmse:10.9468\n",
      "[71]\tvalidation_0-rmse:9.96011\tvalidation_1-rmse:10.9525\n",
      "[72]\tvalidation_0-rmse:9.95475\tvalidation_1-rmse:10.9534\n",
      "[73]\tvalidation_0-rmse:9.94659\tvalidation_1-rmse:10.9544\n",
      "[74]\tvalidation_0-rmse:9.9393\tvalidation_1-rmse:10.9521\n",
      "[75]\tvalidation_0-rmse:9.93291\tvalidation_1-rmse:10.9503\n",
      "[76]\tvalidation_0-rmse:9.9298\tvalidation_1-rmse:10.9478\n",
      "[77]\tvalidation_0-rmse:9.9211\tvalidation_1-rmse:10.9486\n",
      "[78]\tvalidation_0-rmse:9.91736\tvalidation_1-rmse:10.9499\n",
      "[79]\tvalidation_0-rmse:9.91455\tvalidation_1-rmse:10.9494\n",
      "[80]\tvalidation_0-rmse:9.91087\tvalidation_1-rmse:10.9464\n",
      "[81]\tvalidation_0-rmse:9.90461\tvalidation_1-rmse:10.9466\n",
      "[82]\tvalidation_0-rmse:9.89714\tvalidation_1-rmse:10.9449\n",
      "[83]\tvalidation_0-rmse:9.88656\tvalidation_1-rmse:10.9478\n",
      "[84]\tvalidation_0-rmse:9.87875\tvalidation_1-rmse:10.9463\n",
      "[85]\tvalidation_0-rmse:9.8733\tvalidation_1-rmse:10.9484\n",
      "[86]\tvalidation_0-rmse:9.86477\tvalidation_1-rmse:10.9459\n",
      "[87]\tvalidation_0-rmse:9.85844\tvalidation_1-rmse:10.9425\n",
      "[88]\tvalidation_0-rmse:9.85131\tvalidation_1-rmse:10.9412\n",
      "[89]\tvalidation_0-rmse:9.84448\tvalidation_1-rmse:10.944\n",
      "[90]\tvalidation_0-rmse:9.83769\tvalidation_1-rmse:10.9515\n",
      "[91]\tvalidation_0-rmse:9.83601\tvalidation_1-rmse:10.9495\n",
      "[92]\tvalidation_0-rmse:9.83504\tvalidation_1-rmse:10.9499\n",
      "[93]\tvalidation_0-rmse:9.82906\tvalidation_1-rmse:10.952\n",
      "[94]\tvalidation_0-rmse:9.82803\tvalidation_1-rmse:10.9514\n",
      "[95]\tvalidation_0-rmse:9.82549\tvalidation_1-rmse:10.9497\n",
      "[96]\tvalidation_0-rmse:9.82388\tvalidation_1-rmse:10.949\n",
      "[97]\tvalidation_0-rmse:9.82349\tvalidation_1-rmse:10.9479\n",
      "[98]\tvalidation_0-rmse:9.81943\tvalidation_1-rmse:10.9466\n",
      "[99]\tvalidation_0-rmse:9.81558\tvalidation_1-rmse:10.9521\n",
      "[100]\tvalidation_0-rmse:9.81136\tvalidation_1-rmse:10.9567\n",
      "[101]\tvalidation_0-rmse:9.80646\tvalidation_1-rmse:10.9613\n",
      "[102]\tvalidation_0-rmse:9.80211\tvalidation_1-rmse:10.9699\n",
      "[103]\tvalidation_0-rmse:9.79602\tvalidation_1-rmse:10.9666\n",
      "[104]\tvalidation_0-rmse:9.78521\tvalidation_1-rmse:10.9649\n",
      "[105]\tvalidation_0-rmse:9.78128\tvalidation_1-rmse:10.9647\n",
      "[106]\tvalidation_0-rmse:9.77798\tvalidation_1-rmse:10.9665\n",
      "[107]\tvalidation_0-rmse:9.77164\tvalidation_1-rmse:10.9657\n",
      "[108]\tvalidation_0-rmse:9.77074\tvalidation_1-rmse:10.9652\n",
      "[109]\tvalidation_0-rmse:9.76807\tvalidation_1-rmse:10.9689\n",
      "[110]\tvalidation_0-rmse:9.76582\tvalidation_1-rmse:10.9678\n",
      "[111]\tvalidation_0-rmse:9.7616\tvalidation_1-rmse:10.9574\n",
      "[112]\tvalidation_0-rmse:9.75506\tvalidation_1-rmse:10.9605\n",
      "[113]\tvalidation_0-rmse:9.75065\tvalidation_1-rmse:10.9592\n",
      "[114]\tvalidation_0-rmse:9.74097\tvalidation_1-rmse:10.9561\n",
      "[115]\tvalidation_0-rmse:9.73822\tvalidation_1-rmse:10.9562\n",
      "[116]\tvalidation_0-rmse:9.72957\tvalidation_1-rmse:10.9553\n",
      "[117]\tvalidation_0-rmse:9.72277\tvalidation_1-rmse:10.9539\n",
      "[118]\tvalidation_0-rmse:9.71956\tvalidation_1-rmse:10.9533\n",
      "[119]\tvalidation_0-rmse:9.71657\tvalidation_1-rmse:10.951\n",
      "[120]\tvalidation_0-rmse:9.71445\tvalidation_1-rmse:10.9509\n",
      "[121]\tvalidation_0-rmse:9.71307\tvalidation_1-rmse:10.9509\n",
      "[122]\tvalidation_0-rmse:9.70919\tvalidation_1-rmse:10.9514\n",
      "[123]\tvalidation_0-rmse:9.70766\tvalidation_1-rmse:10.9519\n",
      "[124]\tvalidation_0-rmse:9.7024\tvalidation_1-rmse:10.9483\n",
      "[125]\tvalidation_0-rmse:9.69837\tvalidation_1-rmse:10.9462\n",
      "[126]\tvalidation_0-rmse:9.69439\tvalidation_1-rmse:10.9477\n",
      "[127]\tvalidation_0-rmse:9.6897\tvalidation_1-rmse:10.9471\n",
      "[128]\tvalidation_0-rmse:9.68177\tvalidation_1-rmse:10.9441\n",
      "[129]\tvalidation_0-rmse:9.67876\tvalidation_1-rmse:10.9544\n",
      "[130]\tvalidation_0-rmse:9.67594\tvalidation_1-rmse:10.9542\n",
      "[131]\tvalidation_0-rmse:9.67084\tvalidation_1-rmse:10.9562\n",
      "[132]\tvalidation_0-rmse:9.66583\tvalidation_1-rmse:10.9589\n",
      "[133]\tvalidation_0-rmse:9.66238\tvalidation_1-rmse:10.9565\n",
      "[134]\tvalidation_0-rmse:9.65904\tvalidation_1-rmse:10.9533\n",
      "[135]\tvalidation_0-rmse:9.65815\tvalidation_1-rmse:10.9527\n",
      "[136]\tvalidation_0-rmse:9.65496\tvalidation_1-rmse:10.9501\n",
      "[137]\tvalidation_0-rmse:9.65325\tvalidation_1-rmse:10.9512\n",
      "[138]\tvalidation_0-rmse:9.64639\tvalidation_1-rmse:10.9484\n",
      "Stopping. Best iteration:\n",
      "[88]\tvalidation_0-rmse:9.85131\tvalidation_1-rmse:10.9412\n",
      "\n",
      "[0]\tvalidation_0-rmse:24.4751\tvalidation_1-rmse:24.7902\n",
      "Multiple eval metrics have been passed: 'validation_1-rmse' will be used for early stopping.\n",
      "\n",
      "Will train until validation_1-rmse hasn't improved in 50 rounds.\n",
      "[1]\tvalidation_0-rmse:22.5384\tvalidation_1-rmse:22.8584\n",
      "[2]\tvalidation_0-rmse:20.8421\tvalidation_1-rmse:21.1716\n",
      "[3]\tvalidation_0-rmse:19.4777\tvalidation_1-rmse:19.8182\n",
      "[4]\tvalidation_0-rmse:18.5016\tvalidation_1-rmse:18.8549\n",
      "[5]\tvalidation_0-rmse:17.5026\tvalidation_1-rmse:17.8646\n",
      "[6]\tvalidation_0-rmse:16.5558\tvalidation_1-rmse:16.927\n"
     ]
    },
    {
     "name": "stdout",
     "output_type": "stream",
     "text": [
      "[7]\tvalidation_0-rmse:15.8033\tvalidation_1-rmse:16.1815\n",
      "[8]\tvalidation_0-rmse:15.0074\tvalidation_1-rmse:15.3931\n",
      "[9]\tvalidation_0-rmse:14.4233\tvalidation_1-rmse:14.8168\n",
      "[10]\tvalidation_0-rmse:13.8273\tvalidation_1-rmse:14.2258\n",
      "[11]\tvalidation_0-rmse:13.3203\tvalidation_1-rmse:13.7248\n",
      "[12]\tvalidation_0-rmse:13.0002\tvalidation_1-rmse:13.4096\n",
      "[13]\tvalidation_0-rmse:12.7683\tvalidation_1-rmse:13.1837\n",
      "[14]\tvalidation_0-rmse:12.5043\tvalidation_1-rmse:12.9245\n",
      "[15]\tvalidation_0-rmse:12.2168\tvalidation_1-rmse:12.6413\n",
      "[16]\tvalidation_0-rmse:12.0359\tvalidation_1-rmse:12.461\n",
      "[17]\tvalidation_0-rmse:11.8839\tvalidation_1-rmse:12.3128\n",
      "[18]\tvalidation_0-rmse:11.756\tvalidation_1-rmse:12.1874\n",
      "[19]\tvalidation_0-rmse:11.5914\tvalidation_1-rmse:12.0237\n",
      "[20]\tvalidation_0-rmse:11.5074\tvalidation_1-rmse:11.9431\n",
      "[21]\tvalidation_0-rmse:11.434\tvalidation_1-rmse:11.8726\n",
      "[22]\tvalidation_0-rmse:11.3869\tvalidation_1-rmse:11.8284\n",
      "[23]\tvalidation_0-rmse:11.2861\tvalidation_1-rmse:11.7287\n",
      "[24]\tvalidation_0-rmse:11.242\tvalidation_1-rmse:11.6855\n",
      "[25]\tvalidation_0-rmse:11.1614\tvalidation_1-rmse:11.6072\n",
      "[26]\tvalidation_0-rmse:11.1354\tvalidation_1-rmse:11.5815\n",
      "[27]\tvalidation_0-rmse:11.1076\tvalidation_1-rmse:11.5555\n",
      "[28]\tvalidation_0-rmse:11.082\tvalidation_1-rmse:11.5313\n",
      "[29]\tvalidation_0-rmse:11.0622\tvalidation_1-rmse:11.5135\n",
      "[30]\tvalidation_0-rmse:11.035\tvalidation_1-rmse:11.4858\n",
      "[31]\tvalidation_0-rmse:10.9872\tvalidation_1-rmse:11.4411\n",
      "[32]\tvalidation_0-rmse:10.9755\tvalidation_1-rmse:11.4308\n",
      "[33]\tvalidation_0-rmse:10.9639\tvalidation_1-rmse:11.4203\n",
      "[34]\tvalidation_0-rmse:10.9292\tvalidation_1-rmse:11.3885\n",
      "[35]\tvalidation_0-rmse:10.9206\tvalidation_1-rmse:11.3814\n",
      "[36]\tvalidation_0-rmse:10.89\tvalidation_1-rmse:11.3516\n",
      "[37]\tvalidation_0-rmse:10.865\tvalidation_1-rmse:11.3266\n",
      "[38]\tvalidation_0-rmse:10.8338\tvalidation_1-rmse:11.3003\n",
      "[39]\tvalidation_0-rmse:10.8147\tvalidation_1-rmse:11.2839\n",
      "[40]\tvalidation_0-rmse:10.7956\tvalidation_1-rmse:11.2678\n",
      "[41]\tvalidation_0-rmse:10.7882\tvalidation_1-rmse:11.2627\n",
      "[42]\tvalidation_0-rmse:10.7809\tvalidation_1-rmse:11.2559\n",
      "[43]\tvalidation_0-rmse:10.7673\tvalidation_1-rmse:11.2431\n",
      "[44]\tvalidation_0-rmse:10.7572\tvalidation_1-rmse:11.2428\n",
      "[45]\tvalidation_0-rmse:10.743\tvalidation_1-rmse:11.2327\n",
      "[46]\tvalidation_0-rmse:10.7323\tvalidation_1-rmse:11.2228\n",
      "[47]\tvalidation_0-rmse:10.7292\tvalidation_1-rmse:11.2196\n",
      "[48]\tvalidation_0-rmse:10.7135\tvalidation_1-rmse:11.2041\n",
      "[49]\tvalidation_0-rmse:10.7077\tvalidation_1-rmse:11.1992\n",
      "[50]\tvalidation_0-rmse:10.7004\tvalidation_1-rmse:11.1937\n",
      "[51]\tvalidation_0-rmse:10.6984\tvalidation_1-rmse:11.192\n",
      "[52]\tvalidation_0-rmse:10.6853\tvalidation_1-rmse:11.1796\n",
      "[53]\tvalidation_0-rmse:10.6685\tvalidation_1-rmse:11.1652\n",
      "[54]\tvalidation_0-rmse:10.661\tvalidation_1-rmse:11.1636\n",
      "[55]\tvalidation_0-rmse:10.6585\tvalidation_1-rmse:11.1613\n",
      "[56]\tvalidation_0-rmse:10.6497\tvalidation_1-rmse:11.1532\n",
      "[57]\tvalidation_0-rmse:10.6436\tvalidation_1-rmse:11.1511\n",
      "[58]\tvalidation_0-rmse:10.6404\tvalidation_1-rmse:11.1495\n",
      "[59]\tvalidation_0-rmse:10.6362\tvalidation_1-rmse:11.1468\n",
      "[60]\tvalidation_0-rmse:10.6266\tvalidation_1-rmse:11.139\n",
      "[61]\tvalidation_0-rmse:10.6177\tvalidation_1-rmse:11.1318\n",
      "[62]\tvalidation_0-rmse:10.6144\tvalidation_1-rmse:11.1295\n",
      "[63]\tvalidation_0-rmse:10.6096\tvalidation_1-rmse:11.1252\n",
      "[64]\tvalidation_0-rmse:10.6075\tvalidation_1-rmse:11.1242\n",
      "[65]\tvalidation_0-rmse:10.605\tvalidation_1-rmse:11.1231\n",
      "[66]\tvalidation_0-rmse:10.5959\tvalidation_1-rmse:11.1201\n",
      "[67]\tvalidation_0-rmse:10.581\tvalidation_1-rmse:11.1123\n",
      "[68]\tvalidation_0-rmse:10.5738\tvalidation_1-rmse:11.1054\n",
      "[69]\tvalidation_0-rmse:10.5687\tvalidation_1-rmse:11.1056\n",
      "[70]\tvalidation_0-rmse:10.564\tvalidation_1-rmse:11.1022\n",
      "[71]\tvalidation_0-rmse:10.559\tvalidation_1-rmse:11.0988\n",
      "[72]\tvalidation_0-rmse:10.5568\tvalidation_1-rmse:11.0967\n",
      "[73]\tvalidation_0-rmse:10.5504\tvalidation_1-rmse:11.0912\n",
      "[74]\tvalidation_0-rmse:10.5484\tvalidation_1-rmse:11.0896\n",
      "[75]\tvalidation_0-rmse:10.5434\tvalidation_1-rmse:11.0853\n",
      "[76]\tvalidation_0-rmse:10.5341\tvalidation_1-rmse:11.0802\n",
      "[77]\tvalidation_0-rmse:10.5322\tvalidation_1-rmse:11.0791\n",
      "[78]\tvalidation_0-rmse:10.5262\tvalidation_1-rmse:11.073\n",
      "[79]\tvalidation_0-rmse:10.5222\tvalidation_1-rmse:11.0701\n",
      "[80]\tvalidation_0-rmse:10.5175\tvalidation_1-rmse:11.0665\n",
      "[81]\tvalidation_0-rmse:10.5159\tvalidation_1-rmse:11.0657\n",
      "[82]\tvalidation_0-rmse:10.5094\tvalidation_1-rmse:11.0605\n",
      "[83]\tvalidation_0-rmse:10.5057\tvalidation_1-rmse:11.0596\n",
      "[84]\tvalidation_0-rmse:10.5026\tvalidation_1-rmse:11.0574\n",
      "[85]\tvalidation_0-rmse:10.4985\tvalidation_1-rmse:11.0535\n",
      "[86]\tvalidation_0-rmse:10.4971\tvalidation_1-rmse:11.0529\n",
      "[87]\tvalidation_0-rmse:10.4952\tvalidation_1-rmse:11.0519\n",
      "[88]\tvalidation_0-rmse:10.4913\tvalidation_1-rmse:11.0531\n",
      "[89]\tvalidation_0-rmse:10.4849\tvalidation_1-rmse:11.0506\n",
      "[90]\tvalidation_0-rmse:10.4815\tvalidation_1-rmse:11.0476\n",
      "[91]\tvalidation_0-rmse:10.4775\tvalidation_1-rmse:11.0452\n",
      "[92]\tvalidation_0-rmse:10.4749\tvalidation_1-rmse:11.0438\n",
      "[93]\tvalidation_0-rmse:10.4731\tvalidation_1-rmse:11.0439\n",
      "[94]\tvalidation_0-rmse:10.4706\tvalidation_1-rmse:11.0429\n",
      "[95]\tvalidation_0-rmse:10.4687\tvalidation_1-rmse:11.0422\n",
      "[96]\tvalidation_0-rmse:10.467\tvalidation_1-rmse:11.0411\n",
      "[97]\tvalidation_0-rmse:10.4626\tvalidation_1-rmse:11.039\n",
      "[98]\tvalidation_0-rmse:10.4618\tvalidation_1-rmse:11.0384\n",
      "[99]\tvalidation_0-rmse:10.4602\tvalidation_1-rmse:11.0378\n",
      "[100]\tvalidation_0-rmse:10.458\tvalidation_1-rmse:11.0371\n",
      "[101]\tvalidation_0-rmse:10.4538\tvalidation_1-rmse:11.0344\n",
      "[102]\tvalidation_0-rmse:10.4514\tvalidation_1-rmse:11.0321\n",
      "[103]\tvalidation_0-rmse:10.4476\tvalidation_1-rmse:11.0298\n",
      "[104]\tvalidation_0-rmse:10.4441\tvalidation_1-rmse:11.0281\n",
      "[105]\tvalidation_0-rmse:10.4426\tvalidation_1-rmse:11.0273\n",
      "[106]\tvalidation_0-rmse:10.4391\tvalidation_1-rmse:11.0252\n",
      "[107]\tvalidation_0-rmse:10.4365\tvalidation_1-rmse:11.0232\n",
      "[108]\tvalidation_0-rmse:10.4354\tvalidation_1-rmse:11.0232\n",
      "[109]\tvalidation_0-rmse:10.4339\tvalidation_1-rmse:11.022\n",
      "[110]\tvalidation_0-rmse:10.4307\tvalidation_1-rmse:11.0196\n",
      "[111]\tvalidation_0-rmse:10.4288\tvalidation_1-rmse:11.0182\n",
      "[112]\tvalidation_0-rmse:10.4272\tvalidation_1-rmse:11.0174\n",
      "[113]\tvalidation_0-rmse:10.4241\tvalidation_1-rmse:11.0154\n",
      "[114]\tvalidation_0-rmse:10.4214\tvalidation_1-rmse:11.0139\n",
      "[115]\tvalidation_0-rmse:10.4192\tvalidation_1-rmse:11.0136\n",
      "[116]\tvalidation_0-rmse:10.4179\tvalidation_1-rmse:11.0137\n",
      "[117]\tvalidation_0-rmse:10.4169\tvalidation_1-rmse:11.0132\n",
      "[118]\tvalidation_0-rmse:10.4149\tvalidation_1-rmse:11.0122\n",
      "[119]\tvalidation_0-rmse:10.4136\tvalidation_1-rmse:11.0114\n",
      "[120]\tvalidation_0-rmse:10.4125\tvalidation_1-rmse:11.0113\n",
      "[121]\tvalidation_0-rmse:10.4116\tvalidation_1-rmse:11.0104\n",
      "[122]\tvalidation_0-rmse:10.4082\tvalidation_1-rmse:11.0087\n",
      "[123]\tvalidation_0-rmse:10.4071\tvalidation_1-rmse:11.0082\n",
      "[124]\tvalidation_0-rmse:10.4062\tvalidation_1-rmse:11.0079\n",
      "[125]\tvalidation_0-rmse:10.4052\tvalidation_1-rmse:11.0062\n",
      "[126]\tvalidation_0-rmse:10.4033\tvalidation_1-rmse:11.0059\n",
      "[127]\tvalidation_0-rmse:10.3996\tvalidation_1-rmse:11.0031\n",
      "[128]\tvalidation_0-rmse:10.3984\tvalidation_1-rmse:11.0026\n",
      "[129]\tvalidation_0-rmse:10.3964\tvalidation_1-rmse:11.0027\n",
      "[130]\tvalidation_0-rmse:10.394\tvalidation_1-rmse:11.0008\n",
      "[131]\tvalidation_0-rmse:10.3911\tvalidation_1-rmse:10.9997\n",
      "[132]\tvalidation_0-rmse:10.3902\tvalidation_1-rmse:10.9995\n",
      "[133]\tvalidation_0-rmse:10.3881\tvalidation_1-rmse:10.9994\n",
      "[134]\tvalidation_0-rmse:10.3838\tvalidation_1-rmse:10.9984\n",
      "[135]\tvalidation_0-rmse:10.3816\tvalidation_1-rmse:10.997\n",
      "[136]\tvalidation_0-rmse:10.3799\tvalidation_1-rmse:10.9957\n",
      "[137]\tvalidation_0-rmse:10.3771\tvalidation_1-rmse:10.9939\n",
      "[138]\tvalidation_0-rmse:10.3757\tvalidation_1-rmse:10.9938\n",
      "[139]\tvalidation_0-rmse:10.3751\tvalidation_1-rmse:10.9935\n",
      "[140]\tvalidation_0-rmse:10.3707\tvalidation_1-rmse:10.9928\n",
      "[141]\tvalidation_0-rmse:10.369\tvalidation_1-rmse:10.9921\n",
      "[142]\tvalidation_0-rmse:10.3647\tvalidation_1-rmse:10.9919\n",
      "[143]\tvalidation_0-rmse:10.3637\tvalidation_1-rmse:10.9918\n",
      "[144]\tvalidation_0-rmse:10.3611\tvalidation_1-rmse:10.9905\n",
      "[145]\tvalidation_0-rmse:10.3565\tvalidation_1-rmse:10.9877\n",
      "[146]\tvalidation_0-rmse:10.3556\tvalidation_1-rmse:10.9874\n",
      "[147]\tvalidation_0-rmse:10.3546\tvalidation_1-rmse:10.9868\n",
      "[148]\tvalidation_0-rmse:10.3528\tvalidation_1-rmse:10.9859\n",
      "[149]\tvalidation_0-rmse:10.3517\tvalidation_1-rmse:10.9853\n",
      "[150]\tvalidation_0-rmse:10.3499\tvalidation_1-rmse:10.986\n"
     ]
    },
    {
     "name": "stdout",
     "output_type": "stream",
     "text": [
      "[151]\tvalidation_0-rmse:10.349\tvalidation_1-rmse:10.9855\n",
      "[152]\tvalidation_0-rmse:10.3477\tvalidation_1-rmse:10.9847\n",
      "[153]\tvalidation_0-rmse:10.3471\tvalidation_1-rmse:10.9843\n",
      "[154]\tvalidation_0-rmse:10.3441\tvalidation_1-rmse:10.9818\n",
      "[155]\tvalidation_0-rmse:10.3424\tvalidation_1-rmse:10.9803\n",
      "[156]\tvalidation_0-rmse:10.3412\tvalidation_1-rmse:10.9794\n",
      "[157]\tvalidation_0-rmse:10.3385\tvalidation_1-rmse:10.9779\n",
      "[158]\tvalidation_0-rmse:10.3367\tvalidation_1-rmse:10.9761\n",
      "[159]\tvalidation_0-rmse:10.3331\tvalidation_1-rmse:10.9739\n",
      "[160]\tvalidation_0-rmse:10.331\tvalidation_1-rmse:10.9729\n",
      "[161]\tvalidation_0-rmse:10.3297\tvalidation_1-rmse:10.9723\n",
      "[162]\tvalidation_0-rmse:10.3244\tvalidation_1-rmse:10.9722\n",
      "[163]\tvalidation_0-rmse:10.3167\tvalidation_1-rmse:10.972\n",
      "[164]\tvalidation_0-rmse:10.312\tvalidation_1-rmse:10.974\n",
      "[165]\tvalidation_0-rmse:10.311\tvalidation_1-rmse:10.974\n",
      "[166]\tvalidation_0-rmse:10.3098\tvalidation_1-rmse:10.9737\n",
      "[167]\tvalidation_0-rmse:10.309\tvalidation_1-rmse:10.9741\n",
      "[168]\tvalidation_0-rmse:10.3074\tvalidation_1-rmse:10.9736\n",
      "[169]\tvalidation_0-rmse:10.3062\tvalidation_1-rmse:10.973\n",
      "[170]\tvalidation_0-rmse:10.3036\tvalidation_1-rmse:10.9726\n",
      "[171]\tvalidation_0-rmse:10.2937\tvalidation_1-rmse:10.9749\n",
      "[172]\tvalidation_0-rmse:10.2912\tvalidation_1-rmse:10.975\n",
      "[173]\tvalidation_0-rmse:10.2841\tvalidation_1-rmse:10.9751\n",
      "[174]\tvalidation_0-rmse:10.2834\tvalidation_1-rmse:10.9749\n",
      "[175]\tvalidation_0-rmse:10.2823\tvalidation_1-rmse:10.9742\n",
      "[176]\tvalidation_0-rmse:10.2808\tvalidation_1-rmse:10.974\n",
      "[177]\tvalidation_0-rmse:10.2801\tvalidation_1-rmse:10.9739\n",
      "[178]\tvalidation_0-rmse:10.2757\tvalidation_1-rmse:10.9785\n",
      "[179]\tvalidation_0-rmse:10.2743\tvalidation_1-rmse:10.9783\n",
      "[180]\tvalidation_0-rmse:10.2739\tvalidation_1-rmse:10.9791\n",
      "[181]\tvalidation_0-rmse:10.2731\tvalidation_1-rmse:10.9787\n",
      "[182]\tvalidation_0-rmse:10.2724\tvalidation_1-rmse:10.9784\n",
      "[183]\tvalidation_0-rmse:10.2721\tvalidation_1-rmse:10.9783\n",
      "[184]\tvalidation_0-rmse:10.27\tvalidation_1-rmse:10.9773\n",
      "[185]\tvalidation_0-rmse:10.2693\tvalidation_1-rmse:10.9771\n",
      "[186]\tvalidation_0-rmse:10.2689\tvalidation_1-rmse:10.977\n",
      "[187]\tvalidation_0-rmse:10.267\tvalidation_1-rmse:10.976\n",
      "[188]\tvalidation_0-rmse:10.2663\tvalidation_1-rmse:10.9762\n",
      "[189]\tvalidation_0-rmse:10.2648\tvalidation_1-rmse:10.9749\n",
      "[190]\tvalidation_0-rmse:10.263\tvalidation_1-rmse:10.9737\n",
      "[191]\tvalidation_0-rmse:10.2611\tvalidation_1-rmse:10.9729\n",
      "[192]\tvalidation_0-rmse:10.2599\tvalidation_1-rmse:10.9722\n",
      "[193]\tvalidation_0-rmse:10.249\tvalidation_1-rmse:10.9746\n",
      "[194]\tvalidation_0-rmse:10.2487\tvalidation_1-rmse:10.9743\n",
      "[195]\tvalidation_0-rmse:10.2435\tvalidation_1-rmse:10.974\n",
      "[196]\tvalidation_0-rmse:10.2429\tvalidation_1-rmse:10.9747\n",
      "[197]\tvalidation_0-rmse:10.242\tvalidation_1-rmse:10.9743\n",
      "[198]\tvalidation_0-rmse:10.2405\tvalidation_1-rmse:10.9735\n",
      "[199]\tvalidation_0-rmse:10.2391\tvalidation_1-rmse:10.9738\n",
      "[200]\tvalidation_0-rmse:10.2373\tvalidation_1-rmse:10.9759\n",
      "[201]\tvalidation_0-rmse:10.2358\tvalidation_1-rmse:10.9748\n",
      "[202]\tvalidation_0-rmse:10.2298\tvalidation_1-rmse:10.9733\n",
      "[203]\tvalidation_0-rmse:10.2294\tvalidation_1-rmse:10.974\n",
      "[204]\tvalidation_0-rmse:10.2279\tvalidation_1-rmse:10.9725\n",
      "[205]\tvalidation_0-rmse:10.2272\tvalidation_1-rmse:10.972\n",
      "[206]\tvalidation_0-rmse:10.2266\tvalidation_1-rmse:10.9718\n",
      "[207]\tvalidation_0-rmse:10.2213\tvalidation_1-rmse:10.9713\n",
      "[208]\tvalidation_0-rmse:10.2194\tvalidation_1-rmse:10.9708\n",
      "[209]\tvalidation_0-rmse:10.2192\tvalidation_1-rmse:10.9709\n",
      "[210]\tvalidation_0-rmse:10.217\tvalidation_1-rmse:10.9692\n",
      "[211]\tvalidation_0-rmse:10.2169\tvalidation_1-rmse:10.9691\n",
      "[212]\tvalidation_0-rmse:10.2165\tvalidation_1-rmse:10.9691\n",
      "[213]\tvalidation_0-rmse:10.2089\tvalidation_1-rmse:10.973\n",
      "[214]\tvalidation_0-rmse:10.2082\tvalidation_1-rmse:10.9738\n",
      "[215]\tvalidation_0-rmse:10.2066\tvalidation_1-rmse:10.9731\n",
      "[216]\tvalidation_0-rmse:10.2061\tvalidation_1-rmse:10.9734\n",
      "[217]\tvalidation_0-rmse:10.2056\tvalidation_1-rmse:10.9729\n",
      "[218]\tvalidation_0-rmse:10.2053\tvalidation_1-rmse:10.973\n",
      "[219]\tvalidation_0-rmse:10.205\tvalidation_1-rmse:10.9731\n",
      "[220]\tvalidation_0-rmse:10.2036\tvalidation_1-rmse:10.9725\n",
      "[221]\tvalidation_0-rmse:10.2032\tvalidation_1-rmse:10.9725\n",
      "[222]\tvalidation_0-rmse:10.2016\tvalidation_1-rmse:10.9717\n",
      "[223]\tvalidation_0-rmse:10.1993\tvalidation_1-rmse:10.9718\n",
      "[224]\tvalidation_0-rmse:10.1982\tvalidation_1-rmse:10.971\n",
      "[225]\tvalidation_0-rmse:10.1974\tvalidation_1-rmse:10.9709\n",
      "[226]\tvalidation_0-rmse:10.1969\tvalidation_1-rmse:10.9707\n",
      "[227]\tvalidation_0-rmse:10.1965\tvalidation_1-rmse:10.9704\n",
      "[228]\tvalidation_0-rmse:10.1958\tvalidation_1-rmse:10.9701\n",
      "[229]\tvalidation_0-rmse:10.1946\tvalidation_1-rmse:10.9701\n",
      "[230]\tvalidation_0-rmse:10.1902\tvalidation_1-rmse:10.9721\n",
      "[231]\tvalidation_0-rmse:10.1888\tvalidation_1-rmse:10.9712\n",
      "[232]\tvalidation_0-rmse:10.1867\tvalidation_1-rmse:10.9701\n",
      "[233]\tvalidation_0-rmse:10.1854\tvalidation_1-rmse:10.9695\n",
      "[234]\tvalidation_0-rmse:10.1803\tvalidation_1-rmse:10.9718\n",
      "[235]\tvalidation_0-rmse:10.1778\tvalidation_1-rmse:10.9705\n",
      "[236]\tvalidation_0-rmse:10.1769\tvalidation_1-rmse:10.9698\n",
      "[237]\tvalidation_0-rmse:10.1758\tvalidation_1-rmse:10.9693\n",
      "[238]\tvalidation_0-rmse:10.1733\tvalidation_1-rmse:10.9669\n",
      "[239]\tvalidation_0-rmse:10.1726\tvalidation_1-rmse:10.9671\n",
      "[240]\tvalidation_0-rmse:10.1724\tvalidation_1-rmse:10.9669\n",
      "[241]\tvalidation_0-rmse:10.1717\tvalidation_1-rmse:10.9667\n",
      "[242]\tvalidation_0-rmse:10.1686\tvalidation_1-rmse:10.9714\n",
      "[243]\tvalidation_0-rmse:10.1679\tvalidation_1-rmse:10.9714\n",
      "[244]\tvalidation_0-rmse:10.1675\tvalidation_1-rmse:10.9713\n",
      "[245]\tvalidation_0-rmse:10.1664\tvalidation_1-rmse:10.9709\n",
      "[246]\tvalidation_0-rmse:10.1655\tvalidation_1-rmse:10.9704\n",
      "[247]\tvalidation_0-rmse:10.1611\tvalidation_1-rmse:10.9704\n",
      "[248]\tvalidation_0-rmse:10.1607\tvalidation_1-rmse:10.9709\n",
      "[249]\tvalidation_0-rmse:10.1597\tvalidation_1-rmse:10.9713\n",
      "[250]\tvalidation_0-rmse:10.1574\tvalidation_1-rmse:10.9712\n",
      "[251]\tvalidation_0-rmse:10.1566\tvalidation_1-rmse:10.9709\n",
      "[252]\tvalidation_0-rmse:10.1552\tvalidation_1-rmse:10.9702\n",
      "[253]\tvalidation_0-rmse:10.1548\tvalidation_1-rmse:10.97\n",
      "[254]\tvalidation_0-rmse:10.1535\tvalidation_1-rmse:10.97\n",
      "[255]\tvalidation_0-rmse:10.1517\tvalidation_1-rmse:10.9692\n",
      "[256]\tvalidation_0-rmse:10.1501\tvalidation_1-rmse:10.9687\n",
      "[257]\tvalidation_0-rmse:10.1494\tvalidation_1-rmse:10.9701\n",
      "[258]\tvalidation_0-rmse:10.1491\tvalidation_1-rmse:10.9704\n",
      "[259]\tvalidation_0-rmse:10.1484\tvalidation_1-rmse:10.9706\n",
      "[260]\tvalidation_0-rmse:10.148\tvalidation_1-rmse:10.9704\n",
      "[261]\tvalidation_0-rmse:10.1473\tvalidation_1-rmse:10.9702\n",
      "[262]\tvalidation_0-rmse:10.1461\tvalidation_1-rmse:10.9697\n",
      "[263]\tvalidation_0-rmse:10.1447\tvalidation_1-rmse:10.9691\n",
      "[264]\tvalidation_0-rmse:10.1408\tvalidation_1-rmse:10.9685\n",
      "[265]\tvalidation_0-rmse:10.1407\tvalidation_1-rmse:10.9685\n",
      "[266]\tvalidation_0-rmse:10.1369\tvalidation_1-rmse:10.9695\n",
      "[267]\tvalidation_0-rmse:10.1365\tvalidation_1-rmse:10.9692\n",
      "[268]\tvalidation_0-rmse:10.1356\tvalidation_1-rmse:10.9684\n",
      "[269]\tvalidation_0-rmse:10.1345\tvalidation_1-rmse:10.968\n",
      "[270]\tvalidation_0-rmse:10.134\tvalidation_1-rmse:10.9679\n",
      "[271]\tvalidation_0-rmse:10.1333\tvalidation_1-rmse:10.9679\n",
      "[272]\tvalidation_0-rmse:10.1332\tvalidation_1-rmse:10.9678\n",
      "[273]\tvalidation_0-rmse:10.1327\tvalidation_1-rmse:10.968\n",
      "[274]\tvalidation_0-rmse:10.1323\tvalidation_1-rmse:10.9683\n",
      "[275]\tvalidation_0-rmse:10.1319\tvalidation_1-rmse:10.9686\n",
      "[276]\tvalidation_0-rmse:10.1316\tvalidation_1-rmse:10.9691\n",
      "[277]\tvalidation_0-rmse:10.1303\tvalidation_1-rmse:10.9685\n",
      "[278]\tvalidation_0-rmse:10.1301\tvalidation_1-rmse:10.9683\n",
      "[279]\tvalidation_0-rmse:10.1285\tvalidation_1-rmse:10.9678\n",
      "[280]\tvalidation_0-rmse:10.1277\tvalidation_1-rmse:10.9677\n",
      "[281]\tvalidation_0-rmse:10.1252\tvalidation_1-rmse:10.9666\n",
      "[282]\tvalidation_0-rmse:10.1237\tvalidation_1-rmse:10.9658\n",
      "[283]\tvalidation_0-rmse:10.1235\tvalidation_1-rmse:10.9659\n",
      "[284]\tvalidation_0-rmse:10.1234\tvalidation_1-rmse:10.9659\n",
      "[285]\tvalidation_0-rmse:10.1226\tvalidation_1-rmse:10.9662\n",
      "[286]\tvalidation_0-rmse:10.1216\tvalidation_1-rmse:10.9658\n",
      "[287]\tvalidation_0-rmse:10.1215\tvalidation_1-rmse:10.9657\n",
      "[288]\tvalidation_0-rmse:10.1209\tvalidation_1-rmse:10.9654\n",
      "[289]\tvalidation_0-rmse:10.1194\tvalidation_1-rmse:10.9652\n",
      "[290]\tvalidation_0-rmse:10.1193\tvalidation_1-rmse:10.9651\n",
      "[291]\tvalidation_0-rmse:10.1189\tvalidation_1-rmse:10.9648\n",
      "[292]\tvalidation_0-rmse:10.1185\tvalidation_1-rmse:10.964\n"
     ]
    },
    {
     "name": "stdout",
     "output_type": "stream",
     "text": [
      "[293]\tvalidation_0-rmse:10.1181\tvalidation_1-rmse:10.964\n",
      "[294]\tvalidation_0-rmse:10.1167\tvalidation_1-rmse:10.9646\n",
      "[295]\tvalidation_0-rmse:10.1117\tvalidation_1-rmse:10.9647\n",
      "[296]\tvalidation_0-rmse:10.1084\tvalidation_1-rmse:10.9658\n",
      "[297]\tvalidation_0-rmse:10.108\tvalidation_1-rmse:10.9659\n",
      "[298]\tvalidation_0-rmse:10.1055\tvalidation_1-rmse:10.9641\n",
      "[299]\tvalidation_0-rmse:10.1052\tvalidation_1-rmse:10.9639\n",
      "[300]\tvalidation_0-rmse:10.1008\tvalidation_1-rmse:10.9666\n",
      "[301]\tvalidation_0-rmse:10.0989\tvalidation_1-rmse:10.9659\n",
      "[302]\tvalidation_0-rmse:10.0981\tvalidation_1-rmse:10.9657\n",
      "[303]\tvalidation_0-rmse:10.0959\tvalidation_1-rmse:10.9636\n",
      "[304]\tvalidation_0-rmse:10.0957\tvalidation_1-rmse:10.9636\n",
      "[305]\tvalidation_0-rmse:10.0952\tvalidation_1-rmse:10.9636\n",
      "[306]\tvalidation_0-rmse:10.0948\tvalidation_1-rmse:10.9635\n",
      "[307]\tvalidation_0-rmse:10.0946\tvalidation_1-rmse:10.964\n",
      "[308]\tvalidation_0-rmse:10.0939\tvalidation_1-rmse:10.9638\n",
      "[309]\tvalidation_0-rmse:10.0928\tvalidation_1-rmse:10.9625\n",
      "[310]\tvalidation_0-rmse:10.0918\tvalidation_1-rmse:10.9624\n",
      "[311]\tvalidation_0-rmse:10.0917\tvalidation_1-rmse:10.9624\n",
      "[312]\tvalidation_0-rmse:10.0912\tvalidation_1-rmse:10.9621\n",
      "[313]\tvalidation_0-rmse:10.0905\tvalidation_1-rmse:10.9617\n",
      "[314]\tvalidation_0-rmse:10.0903\tvalidation_1-rmse:10.9618\n",
      "[315]\tvalidation_0-rmse:10.0894\tvalidation_1-rmse:10.9623\n",
      "[316]\tvalidation_0-rmse:10.0893\tvalidation_1-rmse:10.9623\n",
      "[317]\tvalidation_0-rmse:10.088\tvalidation_1-rmse:10.9621\n",
      "[318]\tvalidation_0-rmse:10.0879\tvalidation_1-rmse:10.962\n",
      "[319]\tvalidation_0-rmse:10.0876\tvalidation_1-rmse:10.962\n",
      "[320]\tvalidation_0-rmse:10.0855\tvalidation_1-rmse:10.9638\n",
      "[321]\tvalidation_0-rmse:10.0853\tvalidation_1-rmse:10.9639\n",
      "[322]\tvalidation_0-rmse:10.0849\tvalidation_1-rmse:10.9638\n",
      "[323]\tvalidation_0-rmse:10.0845\tvalidation_1-rmse:10.9638\n",
      "[324]\tvalidation_0-rmse:10.0821\tvalidation_1-rmse:10.9626\n",
      "[325]\tvalidation_0-rmse:10.081\tvalidation_1-rmse:10.9622\n",
      "[326]\tvalidation_0-rmse:10.0804\tvalidation_1-rmse:10.9623\n",
      "[327]\tvalidation_0-rmse:10.0802\tvalidation_1-rmse:10.9623\n",
      "[328]\tvalidation_0-rmse:10.0789\tvalidation_1-rmse:10.963\n",
      "[329]\tvalidation_0-rmse:10.078\tvalidation_1-rmse:10.9629\n",
      "[330]\tvalidation_0-rmse:10.0779\tvalidation_1-rmse:10.9629\n",
      "[331]\tvalidation_0-rmse:10.0775\tvalidation_1-rmse:10.9629\n",
      "[332]\tvalidation_0-rmse:10.076\tvalidation_1-rmse:10.9618\n",
      "[333]\tvalidation_0-rmse:10.0717\tvalidation_1-rmse:10.9616\n",
      "[334]\tvalidation_0-rmse:10.0716\tvalidation_1-rmse:10.9616\n",
      "[335]\tvalidation_0-rmse:10.0712\tvalidation_1-rmse:10.9615\n",
      "[336]\tvalidation_0-rmse:10.0711\tvalidation_1-rmse:10.9615\n",
      "[337]\tvalidation_0-rmse:10.0705\tvalidation_1-rmse:10.9613\n",
      "[338]\tvalidation_0-rmse:10.0702\tvalidation_1-rmse:10.9614\n",
      "[339]\tvalidation_0-rmse:10.07\tvalidation_1-rmse:10.9613\n",
      "[340]\tvalidation_0-rmse:10.0674\tvalidation_1-rmse:10.9628\n",
      "[341]\tvalidation_0-rmse:10.066\tvalidation_1-rmse:10.9619\n",
      "[342]\tvalidation_0-rmse:10.0659\tvalidation_1-rmse:10.962\n",
      "[343]\tvalidation_0-rmse:10.065\tvalidation_1-rmse:10.9622\n",
      "[344]\tvalidation_0-rmse:10.065\tvalidation_1-rmse:10.9622\n",
      "[345]\tvalidation_0-rmse:10.0648\tvalidation_1-rmse:10.9621\n",
      "[346]\tvalidation_0-rmse:10.0632\tvalidation_1-rmse:10.9612\n",
      "[347]\tvalidation_0-rmse:10.0632\tvalidation_1-rmse:10.9612\n",
      "[348]\tvalidation_0-rmse:10.0612\tvalidation_1-rmse:10.9623\n",
      "[349]\tvalidation_0-rmse:10.0607\tvalidation_1-rmse:10.9622\n",
      "[350]\tvalidation_0-rmse:10.0605\tvalidation_1-rmse:10.9625\n",
      "[351]\tvalidation_0-rmse:10.0594\tvalidation_1-rmse:10.9617\n",
      "[352]\tvalidation_0-rmse:10.0593\tvalidation_1-rmse:10.9617\n",
      "[353]\tvalidation_0-rmse:10.0586\tvalidation_1-rmse:10.961\n",
      "[354]\tvalidation_0-rmse:10.058\tvalidation_1-rmse:10.9609\n",
      "[355]\tvalidation_0-rmse:10.0572\tvalidation_1-rmse:10.9607\n",
      "[356]\tvalidation_0-rmse:10.0571\tvalidation_1-rmse:10.9607\n",
      "[357]\tvalidation_0-rmse:10.0566\tvalidation_1-rmse:10.9606\n",
      "[358]\tvalidation_0-rmse:10.0552\tvalidation_1-rmse:10.9613\n",
      "[359]\tvalidation_0-rmse:10.0546\tvalidation_1-rmse:10.9612\n",
      "[360]\tvalidation_0-rmse:10.0509\tvalidation_1-rmse:10.9628\n",
      "[361]\tvalidation_0-rmse:10.0494\tvalidation_1-rmse:10.9617\n",
      "[362]\tvalidation_0-rmse:10.0483\tvalidation_1-rmse:10.9611\n",
      "[363]\tvalidation_0-rmse:10.048\tvalidation_1-rmse:10.9611\n",
      "[364]\tvalidation_0-rmse:10.0473\tvalidation_1-rmse:10.9611\n",
      "[365]\tvalidation_0-rmse:10.0421\tvalidation_1-rmse:10.9661\n",
      "[366]\tvalidation_0-rmse:10.0419\tvalidation_1-rmse:10.9662\n",
      "[367]\tvalidation_0-rmse:10.041\tvalidation_1-rmse:10.9659\n",
      "[368]\tvalidation_0-rmse:10.0409\tvalidation_1-rmse:10.966\n",
      "[369]\tvalidation_0-rmse:10.0405\tvalidation_1-rmse:10.9661\n",
      "[370]\tvalidation_0-rmse:10.0402\tvalidation_1-rmse:10.9667\n",
      "[371]\tvalidation_0-rmse:10.039\tvalidation_1-rmse:10.9657\n",
      "[372]\tvalidation_0-rmse:10.0389\tvalidation_1-rmse:10.9657\n",
      "[373]\tvalidation_0-rmse:10.0389\tvalidation_1-rmse:10.9657\n",
      "[374]\tvalidation_0-rmse:10.0388\tvalidation_1-rmse:10.9656\n",
      "[375]\tvalidation_0-rmse:10.0385\tvalidation_1-rmse:10.9658\n",
      "[376]\tvalidation_0-rmse:10.0384\tvalidation_1-rmse:10.9658\n",
      "[377]\tvalidation_0-rmse:10.0384\tvalidation_1-rmse:10.9658\n",
      "[378]\tvalidation_0-rmse:10.0384\tvalidation_1-rmse:10.9658\n",
      "[379]\tvalidation_0-rmse:10.0377\tvalidation_1-rmse:10.9656\n",
      "[380]\tvalidation_0-rmse:10.0339\tvalidation_1-rmse:10.9667\n",
      "[381]\tvalidation_0-rmse:10.0335\tvalidation_1-rmse:10.9669\n",
      "[382]\tvalidation_0-rmse:10.0331\tvalidation_1-rmse:10.9668\n",
      "[383]\tvalidation_0-rmse:10.0331\tvalidation_1-rmse:10.9668\n",
      "[384]\tvalidation_0-rmse:10.0331\tvalidation_1-rmse:10.9668\n",
      "[385]\tvalidation_0-rmse:10.0328\tvalidation_1-rmse:10.9668\n",
      "[386]\tvalidation_0-rmse:10.0325\tvalidation_1-rmse:10.9667\n",
      "[387]\tvalidation_0-rmse:10.0313\tvalidation_1-rmse:10.9663\n",
      "[388]\tvalidation_0-rmse:10.0313\tvalidation_1-rmse:10.9663\n",
      "[389]\tvalidation_0-rmse:10.0302\tvalidation_1-rmse:10.9659\n",
      "[390]\tvalidation_0-rmse:10.0302\tvalidation_1-rmse:10.9659\n",
      "[391]\tvalidation_0-rmse:10.0302\tvalidation_1-rmse:10.9659\n",
      "[392]\tvalidation_0-rmse:10.0295\tvalidation_1-rmse:10.9658\n",
      "[393]\tvalidation_0-rmse:10.0288\tvalidation_1-rmse:10.9658\n",
      "[394]\tvalidation_0-rmse:10.0285\tvalidation_1-rmse:10.9661\n",
      "[395]\tvalidation_0-rmse:10.0285\tvalidation_1-rmse:10.9661\n",
      "[396]\tvalidation_0-rmse:10.0275\tvalidation_1-rmse:10.9657\n",
      "[397]\tvalidation_0-rmse:10.028\tvalidation_1-rmse:10.9657\n",
      "[398]\tvalidation_0-rmse:10.028\tvalidation_1-rmse:10.9657\n",
      "[399]\tvalidation_0-rmse:10.0274\tvalidation_1-rmse:10.9661\n",
      "[400]\tvalidation_0-rmse:10.0273\tvalidation_1-rmse:10.9661\n",
      "[401]\tvalidation_0-rmse:10.0273\tvalidation_1-rmse:10.9661\n",
      "[402]\tvalidation_0-rmse:10.0261\tvalidation_1-rmse:10.9653\n",
      "[403]\tvalidation_0-rmse:10.0238\tvalidation_1-rmse:10.9625\n",
      "[404]\tvalidation_0-rmse:10.0237\tvalidation_1-rmse:10.9625\n",
      "[405]\tvalidation_0-rmse:10.0236\tvalidation_1-rmse:10.9626\n",
      "[406]\tvalidation_0-rmse:10.0233\tvalidation_1-rmse:10.9626\n",
      "[407]\tvalidation_0-rmse:10.0233\tvalidation_1-rmse:10.9626\n",
      "Stopping. Best iteration:\n",
      "[357]\tvalidation_0-rmse:10.0566\tvalidation_1-rmse:10.9606\n",
      "\n",
      "[0]\tvalidation_0-rmse:24.2148\tvalidation_1-rmse:24.5381\n",
      "Multiple eval metrics have been passed: 'validation_1-rmse' will be used for early stopping.\n",
      "\n",
      "Will train until validation_1-rmse hasn't improved in 50 rounds.\n",
      "[1]\tvalidation_0-rmse:22.2843\tvalidation_1-rmse:22.6202\n",
      "[2]\tvalidation_0-rmse:20.5825\tvalidation_1-rmse:20.9336\n",
      "[3]\tvalidation_0-rmse:19.0849\tvalidation_1-rmse:19.4587\n",
      "[4]\tvalidation_0-rmse:17.7725\tvalidation_1-rmse:18.1826\n",
      "[5]\tvalidation_0-rmse:16.6368\tvalidation_1-rmse:17.0683\n",
      "[6]\tvalidation_0-rmse:15.6584\tvalidation_1-rmse:16.1105\n",
      "[7]\tvalidation_0-rmse:14.8837\tvalidation_1-rmse:15.3602\n",
      "[8]\tvalidation_0-rmse:14.1587\tvalidation_1-rmse:14.6576\n",
      "[9]\tvalidation_0-rmse:13.5355\tvalidation_1-rmse:14.0546\n",
      "[10]\tvalidation_0-rmse:12.9861\tvalidation_1-rmse:13.5342\n",
      "[11]\tvalidation_0-rmse:12.5323\tvalidation_1-rmse:13.1052\n",
      "[12]\tvalidation_0-rmse:12.1371\tvalidation_1-rmse:12.743\n",
      "[13]\tvalidation_0-rmse:11.8054\tvalidation_1-rmse:12.4446\n",
      "[14]\tvalidation_0-rmse:11.5401\tvalidation_1-rmse:12.1984\n",
      "[15]\tvalidation_0-rmse:11.3186\tvalidation_1-rmse:11.9932\n",
      "[16]\tvalidation_0-rmse:11.1063\tvalidation_1-rmse:11.8216\n",
      "[17]\tvalidation_0-rmse:10.9503\tvalidation_1-rmse:11.6781\n",
      "[18]\tvalidation_0-rmse:10.8126\tvalidation_1-rmse:11.5614\n",
      "[19]\tvalidation_0-rmse:10.7065\tvalidation_1-rmse:11.4611\n",
      "[20]\tvalidation_0-rmse:10.6203\tvalidation_1-rmse:11.384\n",
      "[21]\tvalidation_0-rmse:10.5282\tvalidation_1-rmse:11.3182\n",
      "[22]\tvalidation_0-rmse:10.4566\tvalidation_1-rmse:11.2573\n",
      "[23]\tvalidation_0-rmse:10.3946\tvalidation_1-rmse:11.2058\n"
     ]
    },
    {
     "name": "stdout",
     "output_type": "stream",
     "text": [
      "[24]\tvalidation_0-rmse:10.3259\tvalidation_1-rmse:11.1638\n",
      "[25]\tvalidation_0-rmse:10.2752\tvalidation_1-rmse:11.131\n",
      "[26]\tvalidation_0-rmse:10.2281\tvalidation_1-rmse:11.0988\n",
      "[27]\tvalidation_0-rmse:10.193\tvalidation_1-rmse:11.0766\n",
      "[28]\tvalidation_0-rmse:10.1494\tvalidation_1-rmse:11.0572\n",
      "[29]\tvalidation_0-rmse:10.1236\tvalidation_1-rmse:11.0416\n",
      "[30]\tvalidation_0-rmse:10.0929\tvalidation_1-rmse:11.0279\n",
      "[31]\tvalidation_0-rmse:10.0742\tvalidation_1-rmse:11.0193\n",
      "[32]\tvalidation_0-rmse:10.0529\tvalidation_1-rmse:11.0063\n",
      "[33]\tvalidation_0-rmse:10.0336\tvalidation_1-rmse:11.0015\n",
      "[34]\tvalidation_0-rmse:10.0178\tvalidation_1-rmse:10.987\n",
      "[35]\tvalidation_0-rmse:9.99425\tvalidation_1-rmse:10.9901\n",
      "[36]\tvalidation_0-rmse:9.98135\tvalidation_1-rmse:10.9832\n",
      "[37]\tvalidation_0-rmse:9.96997\tvalidation_1-rmse:10.9765\n",
      "[38]\tvalidation_0-rmse:9.95752\tvalidation_1-rmse:10.9714\n",
      "[39]\tvalidation_0-rmse:9.94735\tvalidation_1-rmse:10.9651\n",
      "[40]\tvalidation_0-rmse:9.92716\tvalidation_1-rmse:10.9665\n",
      "[41]\tvalidation_0-rmse:9.91191\tvalidation_1-rmse:10.9686\n",
      "[42]\tvalidation_0-rmse:9.89876\tvalidation_1-rmse:10.9601\n",
      "[43]\tvalidation_0-rmse:9.87551\tvalidation_1-rmse:10.9552\n",
      "[44]\tvalidation_0-rmse:9.86524\tvalidation_1-rmse:10.9526\n",
      "[45]\tvalidation_0-rmse:9.85895\tvalidation_1-rmse:10.9517\n",
      "[46]\tvalidation_0-rmse:9.84373\tvalidation_1-rmse:10.9486\n",
      "[47]\tvalidation_0-rmse:9.83124\tvalidation_1-rmse:10.9422\n",
      "[48]\tvalidation_0-rmse:9.81426\tvalidation_1-rmse:10.9349\n",
      "[49]\tvalidation_0-rmse:9.80298\tvalidation_1-rmse:10.9308\n",
      "[50]\tvalidation_0-rmse:9.79748\tvalidation_1-rmse:10.9356\n",
      "[51]\tvalidation_0-rmse:9.78148\tvalidation_1-rmse:10.9514\n",
      "[52]\tvalidation_0-rmse:9.77816\tvalidation_1-rmse:10.9514\n",
      "[53]\tvalidation_0-rmse:9.77416\tvalidation_1-rmse:10.9504\n",
      "[54]\tvalidation_0-rmse:9.76866\tvalidation_1-rmse:10.9491\n",
      "[55]\tvalidation_0-rmse:9.75983\tvalidation_1-rmse:10.9464\n",
      "[56]\tvalidation_0-rmse:9.74855\tvalidation_1-rmse:10.9474\n",
      "[57]\tvalidation_0-rmse:9.73684\tvalidation_1-rmse:10.9409\n",
      "[58]\tvalidation_0-rmse:9.73226\tvalidation_1-rmse:10.9403\n",
      "[59]\tvalidation_0-rmse:9.72947\tvalidation_1-rmse:10.9396\n",
      "[60]\tvalidation_0-rmse:9.72697\tvalidation_1-rmse:10.9408\n",
      "[61]\tvalidation_0-rmse:9.71997\tvalidation_1-rmse:10.9437\n",
      "[62]\tvalidation_0-rmse:9.71446\tvalidation_1-rmse:10.9407\n",
      "[63]\tvalidation_0-rmse:9.71136\tvalidation_1-rmse:10.9388\n",
      "[64]\tvalidation_0-rmse:9.70654\tvalidation_1-rmse:10.9385\n",
      "[65]\tvalidation_0-rmse:9.70134\tvalidation_1-rmse:10.9375\n",
      "[66]\tvalidation_0-rmse:9.69577\tvalidation_1-rmse:10.9352\n",
      "[67]\tvalidation_0-rmse:9.68921\tvalidation_1-rmse:10.9313\n",
      "[68]\tvalidation_0-rmse:9.6774\tvalidation_1-rmse:10.9342\n",
      "[69]\tvalidation_0-rmse:9.67067\tvalidation_1-rmse:10.9397\n",
      "[70]\tvalidation_0-rmse:9.65392\tvalidation_1-rmse:10.9415\n",
      "[71]\tvalidation_0-rmse:9.6481\tvalidation_1-rmse:10.9405\n",
      "[72]\tvalidation_0-rmse:9.63879\tvalidation_1-rmse:10.9508\n",
      "[73]\tvalidation_0-rmse:9.6308\tvalidation_1-rmse:10.9635\n",
      "[74]\tvalidation_0-rmse:9.62712\tvalidation_1-rmse:10.9647\n",
      "[75]\tvalidation_0-rmse:9.62268\tvalidation_1-rmse:10.9666\n",
      "[76]\tvalidation_0-rmse:9.61779\tvalidation_1-rmse:10.9579\n",
      "[77]\tvalidation_0-rmse:9.60875\tvalidation_1-rmse:10.9607\n",
      "[78]\tvalidation_0-rmse:9.60216\tvalidation_1-rmse:10.9619\n",
      "[79]\tvalidation_0-rmse:9.59522\tvalidation_1-rmse:10.9581\n",
      "[80]\tvalidation_0-rmse:9.58909\tvalidation_1-rmse:10.9563\n",
      "[81]\tvalidation_0-rmse:9.57125\tvalidation_1-rmse:10.9632\n",
      "[82]\tvalidation_0-rmse:9.56897\tvalidation_1-rmse:10.9631\n",
      "[83]\tvalidation_0-rmse:9.56279\tvalidation_1-rmse:10.964\n",
      "[84]\tvalidation_0-rmse:9.55749\tvalidation_1-rmse:10.9594\n",
      "[85]\tvalidation_0-rmse:9.54953\tvalidation_1-rmse:10.9563\n",
      "[86]\tvalidation_0-rmse:9.54573\tvalidation_1-rmse:10.954\n",
      "[87]\tvalidation_0-rmse:9.54512\tvalidation_1-rmse:10.9538\n",
      "[88]\tvalidation_0-rmse:9.53463\tvalidation_1-rmse:10.9491\n",
      "[89]\tvalidation_0-rmse:9.53156\tvalidation_1-rmse:10.9486\n",
      "[90]\tvalidation_0-rmse:9.52097\tvalidation_1-rmse:10.949\n",
      "[91]\tvalidation_0-rmse:9.51097\tvalidation_1-rmse:10.95\n",
      "[92]\tvalidation_0-rmse:9.50742\tvalidation_1-rmse:10.9471\n",
      "[93]\tvalidation_0-rmse:9.50433\tvalidation_1-rmse:10.948\n",
      "[94]\tvalidation_0-rmse:9.50188\tvalidation_1-rmse:10.946\n",
      "[95]\tvalidation_0-rmse:9.49472\tvalidation_1-rmse:10.9431\n",
      "[96]\tvalidation_0-rmse:9.49245\tvalidation_1-rmse:10.9376\n",
      "[97]\tvalidation_0-rmse:9.48994\tvalidation_1-rmse:10.9362\n",
      "[98]\tvalidation_0-rmse:9.48654\tvalidation_1-rmse:10.9353\n",
      "[99]\tvalidation_0-rmse:9.48625\tvalidation_1-rmse:10.9354\n",
      "Stopping. Best iteration:\n",
      "[49]\tvalidation_0-rmse:9.80298\tvalidation_1-rmse:10.9308\n",
      "\n",
      "[0]\tvalidation_0-rmse:24.2206\tvalidation_1-rmse:24.5376\n",
      "Multiple eval metrics have been passed: 'validation_1-rmse' will be used for early stopping.\n",
      "\n",
      "Will train until validation_1-rmse hasn't improved in 50 rounds.\n",
      "[1]\tvalidation_0-rmse:22.3021\tvalidation_1-rmse:22.6302\n",
      "[2]\tvalidation_0-rmse:20.6148\tvalidation_1-rmse:20.9529\n",
      "[3]\tvalidation_0-rmse:19.1359\tvalidation_1-rmse:19.4875\n",
      "[4]\tvalidation_0-rmse:17.845\tvalidation_1-rmse:18.209\n",
      "[5]\tvalidation_0-rmse:16.7243\tvalidation_1-rmse:17.1013\n",
      "[6]\tvalidation_0-rmse:15.7536\tvalidation_1-rmse:16.1458\n",
      "[7]\tvalidation_0-rmse:14.9206\tvalidation_1-rmse:15.3283\n",
      "[8]\tvalidation_0-rmse:14.2077\tvalidation_1-rmse:14.6287\n",
      "[9]\tvalidation_0-rmse:13.5995\tvalidation_1-rmse:14.0341\n",
      "[10]\tvalidation_0-rmse:13.0836\tvalidation_1-rmse:13.5326\n",
      "[11]\tvalidation_0-rmse:12.6487\tvalidation_1-rmse:13.1107\n",
      "[12]\tvalidation_0-rmse:12.2808\tvalidation_1-rmse:12.7547\n",
      "[13]\tvalidation_0-rmse:11.9718\tvalidation_1-rmse:12.4598\n",
      "[14]\tvalidation_0-rmse:11.7142\tvalidation_1-rmse:12.212\n",
      "[15]\tvalidation_0-rmse:11.4981\tvalidation_1-rmse:12.0072\n",
      "[16]\tvalidation_0-rmse:11.3165\tvalidation_1-rmse:11.834\n",
      "[17]\tvalidation_0-rmse:11.1657\tvalidation_1-rmse:11.6905\n",
      "[18]\tvalidation_0-rmse:11.0401\tvalidation_1-rmse:11.5727\n",
      "[19]\tvalidation_0-rmse:10.9333\tvalidation_1-rmse:11.4756\n",
      "[20]\tvalidation_0-rmse:10.8416\tvalidation_1-rmse:11.3952\n",
      "[21]\tvalidation_0-rmse:10.7677\tvalidation_1-rmse:11.328\n",
      "[22]\tvalidation_0-rmse:10.703\tvalidation_1-rmse:11.2717\n",
      "[23]\tvalidation_0-rmse:10.6507\tvalidation_1-rmse:11.2268\n",
      "[24]\tvalidation_0-rmse:10.6004\tvalidation_1-rmse:11.1881\n",
      "[25]\tvalidation_0-rmse:10.562\tvalidation_1-rmse:11.1532\n",
      "[26]\tvalidation_0-rmse:10.526\tvalidation_1-rmse:11.125\n",
      "[27]\tvalidation_0-rmse:10.4924\tvalidation_1-rmse:11.1012\n",
      "[28]\tvalidation_0-rmse:10.4624\tvalidation_1-rmse:11.0842\n",
      "[29]\tvalidation_0-rmse:10.4358\tvalidation_1-rmse:11.0645\n",
      "[30]\tvalidation_0-rmse:10.4143\tvalidation_1-rmse:11.0498\n",
      "[31]\tvalidation_0-rmse:10.3917\tvalidation_1-rmse:11.0388\n",
      "[32]\tvalidation_0-rmse:10.374\tvalidation_1-rmse:11.0291\n",
      "[33]\tvalidation_0-rmse:10.3602\tvalidation_1-rmse:11.0207\n",
      "[34]\tvalidation_0-rmse:10.3411\tvalidation_1-rmse:11.0112\n",
      "[35]\tvalidation_0-rmse:10.3253\tvalidation_1-rmse:11.0017\n",
      "[36]\tvalidation_0-rmse:10.312\tvalidation_1-rmse:10.9949\n",
      "[37]\tvalidation_0-rmse:10.3\tvalidation_1-rmse:10.99\n",
      "[38]\tvalidation_0-rmse:10.2884\tvalidation_1-rmse:10.9861\n",
      "[39]\tvalidation_0-rmse:10.279\tvalidation_1-rmse:10.9807\n",
      "[40]\tvalidation_0-rmse:10.2649\tvalidation_1-rmse:10.9742\n",
      "[41]\tvalidation_0-rmse:10.2523\tvalidation_1-rmse:10.9705\n",
      "[42]\tvalidation_0-rmse:10.2361\tvalidation_1-rmse:10.9691\n",
      "[43]\tvalidation_0-rmse:10.2255\tvalidation_1-rmse:10.9642\n",
      "[44]\tvalidation_0-rmse:10.2082\tvalidation_1-rmse:10.961\n",
      "[45]\tvalidation_0-rmse:10.2015\tvalidation_1-rmse:10.9584\n",
      "[46]\tvalidation_0-rmse:10.1924\tvalidation_1-rmse:10.9541\n",
      "[47]\tvalidation_0-rmse:10.1861\tvalidation_1-rmse:10.9512\n",
      "[48]\tvalidation_0-rmse:10.1662\tvalidation_1-rmse:10.9449\n",
      "[49]\tvalidation_0-rmse:10.1558\tvalidation_1-rmse:10.943\n",
      "[50]\tvalidation_0-rmse:10.1451\tvalidation_1-rmse:10.9377\n",
      "[51]\tvalidation_0-rmse:10.1374\tvalidation_1-rmse:10.9356\n",
      "[52]\tvalidation_0-rmse:10.1279\tvalidation_1-rmse:10.9334\n",
      "[53]\tvalidation_0-rmse:10.1176\tvalidation_1-rmse:10.9267\n",
      "[54]\tvalidation_0-rmse:10.1131\tvalidation_1-rmse:10.9241\n",
      "[55]\tvalidation_0-rmse:10.0988\tvalidation_1-rmse:10.9171\n",
      "[56]\tvalidation_0-rmse:10.0922\tvalidation_1-rmse:10.916\n",
      "[57]\tvalidation_0-rmse:10.0885\tvalidation_1-rmse:10.9137\n",
      "[58]\tvalidation_0-rmse:10.0813\tvalidation_1-rmse:10.9138\n",
      "[59]\tvalidation_0-rmse:10.0781\tvalidation_1-rmse:10.9119\n",
      "[60]\tvalidation_0-rmse:10.0743\tvalidation_1-rmse:10.9122\n",
      "[61]\tvalidation_0-rmse:10.0579\tvalidation_1-rmse:10.9066\n",
      "[62]\tvalidation_0-rmse:10.0514\tvalidation_1-rmse:10.9066\n",
      "[63]\tvalidation_0-rmse:10.0481\tvalidation_1-rmse:10.9069\n",
      "[64]\tvalidation_0-rmse:10.0452\tvalidation_1-rmse:10.9056\n"
     ]
    },
    {
     "name": "stdout",
     "output_type": "stream",
     "text": [
      "[65]\tvalidation_0-rmse:10.042\tvalidation_1-rmse:10.9047\n",
      "[66]\tvalidation_0-rmse:10.0361\tvalidation_1-rmse:10.902\n",
      "[67]\tvalidation_0-rmse:10.0314\tvalidation_1-rmse:10.9017\n",
      "[68]\tvalidation_0-rmse:10.0195\tvalidation_1-rmse:10.898\n",
      "[69]\tvalidation_0-rmse:10.0133\tvalidation_1-rmse:10.8981\n",
      "[70]\tvalidation_0-rmse:10.0078\tvalidation_1-rmse:10.8968\n",
      "[71]\tvalidation_0-rmse:10.0026\tvalidation_1-rmse:10.8987\n",
      "[72]\tvalidation_0-rmse:9.99937\tvalidation_1-rmse:10.8973\n",
      "[73]\tvalidation_0-rmse:9.99432\tvalidation_1-rmse:10.8995\n",
      "[74]\tvalidation_0-rmse:9.98902\tvalidation_1-rmse:10.898\n",
      "[75]\tvalidation_0-rmse:9.98346\tvalidation_1-rmse:10.8963\n",
      "[76]\tvalidation_0-rmse:9.96976\tvalidation_1-rmse:10.8934\n",
      "[77]\tvalidation_0-rmse:9.96716\tvalidation_1-rmse:10.8925\n",
      "[78]\tvalidation_0-rmse:9.96345\tvalidation_1-rmse:10.8921\n",
      "[79]\tvalidation_0-rmse:9.96175\tvalidation_1-rmse:10.8919\n",
      "[80]\tvalidation_0-rmse:9.95822\tvalidation_1-rmse:10.89\n",
      "[81]\tvalidation_0-rmse:9.95285\tvalidation_1-rmse:10.8904\n",
      "[82]\tvalidation_0-rmse:9.95225\tvalidation_1-rmse:10.8905\n",
      "[83]\tvalidation_0-rmse:9.94855\tvalidation_1-rmse:10.8888\n",
      "[84]\tvalidation_0-rmse:9.94443\tvalidation_1-rmse:10.8879\n",
      "[85]\tvalidation_0-rmse:9.94107\tvalidation_1-rmse:10.8866\n",
      "[86]\tvalidation_0-rmse:9.9406\tvalidation_1-rmse:10.8866\n",
      "[87]\tvalidation_0-rmse:9.93542\tvalidation_1-rmse:10.8838\n",
      "[88]\tvalidation_0-rmse:9.93201\tvalidation_1-rmse:10.8828\n",
      "[89]\tvalidation_0-rmse:9.92951\tvalidation_1-rmse:10.8823\n",
      "[90]\tvalidation_0-rmse:9.92846\tvalidation_1-rmse:10.882\n",
      "[91]\tvalidation_0-rmse:9.92584\tvalidation_1-rmse:10.8815\n",
      "[92]\tvalidation_0-rmse:9.92425\tvalidation_1-rmse:10.8816\n",
      "[93]\tvalidation_0-rmse:9.92136\tvalidation_1-rmse:10.8816\n",
      "[94]\tvalidation_0-rmse:9.9195\tvalidation_1-rmse:10.881\n",
      "[95]\tvalidation_0-rmse:9.91516\tvalidation_1-rmse:10.879\n",
      "[96]\tvalidation_0-rmse:9.91385\tvalidation_1-rmse:10.8791\n",
      "[97]\tvalidation_0-rmse:9.91026\tvalidation_1-rmse:10.877\n",
      "[98]\tvalidation_0-rmse:9.90771\tvalidation_1-rmse:10.877\n",
      "[99]\tvalidation_0-rmse:9.90453\tvalidation_1-rmse:10.8752\n",
      "[100]\tvalidation_0-rmse:9.90196\tvalidation_1-rmse:10.8748\n",
      "[101]\tvalidation_0-rmse:9.90009\tvalidation_1-rmse:10.8745\n",
      "[102]\tvalidation_0-rmse:9.89812\tvalidation_1-rmse:10.8729\n",
      "[103]\tvalidation_0-rmse:9.89731\tvalidation_1-rmse:10.8722\n",
      "[104]\tvalidation_0-rmse:9.89486\tvalidation_1-rmse:10.8717\n",
      "[105]\tvalidation_0-rmse:9.88888\tvalidation_1-rmse:10.8688\n",
      "[106]\tvalidation_0-rmse:9.88538\tvalidation_1-rmse:10.8699\n",
      "[107]\tvalidation_0-rmse:9.88388\tvalidation_1-rmse:10.8689\n",
      "[108]\tvalidation_0-rmse:9.88222\tvalidation_1-rmse:10.8683\n",
      "[109]\tvalidation_0-rmse:9.87672\tvalidation_1-rmse:10.8652\n",
      "[110]\tvalidation_0-rmse:9.87366\tvalidation_1-rmse:10.8635\n",
      "[111]\tvalidation_0-rmse:9.87303\tvalidation_1-rmse:10.8633\n",
      "[112]\tvalidation_0-rmse:9.87274\tvalidation_1-rmse:10.8633\n",
      "[113]\tvalidation_0-rmse:9.87249\tvalidation_1-rmse:10.8632\n",
      "[114]\tvalidation_0-rmse:9.8723\tvalidation_1-rmse:10.8633\n",
      "[115]\tvalidation_0-rmse:9.87212\tvalidation_1-rmse:10.8632\n",
      "[116]\tvalidation_0-rmse:9.87197\tvalidation_1-rmse:10.8633\n",
      "[117]\tvalidation_0-rmse:9.87181\tvalidation_1-rmse:10.8632\n",
      "[118]\tvalidation_0-rmse:9.87167\tvalidation_1-rmse:10.863\n",
      "[119]\tvalidation_0-rmse:9.87155\tvalidation_1-rmse:10.8631\n",
      "[120]\tvalidation_0-rmse:9.87145\tvalidation_1-rmse:10.863\n",
      "[121]\tvalidation_0-rmse:9.87136\tvalidation_1-rmse:10.8631\n",
      "[122]\tvalidation_0-rmse:9.87126\tvalidation_1-rmse:10.8631\n",
      "[123]\tvalidation_0-rmse:9.87116\tvalidation_1-rmse:10.8631\n",
      "[124]\tvalidation_0-rmse:9.8711\tvalidation_1-rmse:10.8631\n",
      "[125]\tvalidation_0-rmse:9.87104\tvalidation_1-rmse:10.8632\n",
      "[126]\tvalidation_0-rmse:9.87097\tvalidation_1-rmse:10.8632\n",
      "[127]\tvalidation_0-rmse:9.87091\tvalidation_1-rmse:10.8632\n",
      "[128]\tvalidation_0-rmse:9.87086\tvalidation_1-rmse:10.8632\n",
      "[129]\tvalidation_0-rmse:9.87081\tvalidation_1-rmse:10.8633\n",
      "[130]\tvalidation_0-rmse:9.87076\tvalidation_1-rmse:10.8633\n",
      "[131]\tvalidation_0-rmse:9.87071\tvalidation_1-rmse:10.8633\n",
      "[132]\tvalidation_0-rmse:9.87067\tvalidation_1-rmse:10.8633\n",
      "[133]\tvalidation_0-rmse:9.87064\tvalidation_1-rmse:10.8633\n",
      "[134]\tvalidation_0-rmse:9.8706\tvalidation_1-rmse:10.8633\n",
      "[135]\tvalidation_0-rmse:9.87057\tvalidation_1-rmse:10.8633\n",
      "[136]\tvalidation_0-rmse:9.87054\tvalidation_1-rmse:10.8633\n",
      "[137]\tvalidation_0-rmse:9.87051\tvalidation_1-rmse:10.8634\n",
      "[138]\tvalidation_0-rmse:9.87048\tvalidation_1-rmse:10.8634\n",
      "[139]\tvalidation_0-rmse:9.87045\tvalidation_1-rmse:10.8634\n",
      "[140]\tvalidation_0-rmse:9.87043\tvalidation_1-rmse:10.8634\n",
      "[141]\tvalidation_0-rmse:9.87041\tvalidation_1-rmse:10.8634\n",
      "[142]\tvalidation_0-rmse:9.87039\tvalidation_1-rmse:10.8634\n",
      "[143]\tvalidation_0-rmse:9.87037\tvalidation_1-rmse:10.8633\n",
      "[144]\tvalidation_0-rmse:9.87035\tvalidation_1-rmse:10.8634\n",
      "[145]\tvalidation_0-rmse:9.87033\tvalidation_1-rmse:10.8634\n",
      "[146]\tvalidation_0-rmse:9.87031\tvalidation_1-rmse:10.8634\n",
      "[147]\tvalidation_0-rmse:9.8703\tvalidation_1-rmse:10.8634\n",
      "[148]\tvalidation_0-rmse:9.87029\tvalidation_1-rmse:10.8634\n",
      "[149]\tvalidation_0-rmse:9.87027\tvalidation_1-rmse:10.8634\n",
      "[150]\tvalidation_0-rmse:9.87026\tvalidation_1-rmse:10.8635\n",
      "[151]\tvalidation_0-rmse:9.87025\tvalidation_1-rmse:10.8635\n",
      "[152]\tvalidation_0-rmse:9.87024\tvalidation_1-rmse:10.8635\n",
      "[153]\tvalidation_0-rmse:9.87023\tvalidation_1-rmse:10.8635\n",
      "[154]\tvalidation_0-rmse:9.87022\tvalidation_1-rmse:10.8635\n",
      "[155]\tvalidation_0-rmse:9.87021\tvalidation_1-rmse:10.8635\n",
      "[156]\tvalidation_0-rmse:9.8702\tvalidation_1-rmse:10.8635\n",
      "[157]\tvalidation_0-rmse:9.87019\tvalidation_1-rmse:10.8635\n",
      "[158]\tvalidation_0-rmse:9.87018\tvalidation_1-rmse:10.8635\n",
      "[159]\tvalidation_0-rmse:9.87017\tvalidation_1-rmse:10.8635\n",
      "[160]\tvalidation_0-rmse:9.87016\tvalidation_1-rmse:10.8635\n",
      "[161]\tvalidation_0-rmse:9.87016\tvalidation_1-rmse:10.8635\n",
      "[162]\tvalidation_0-rmse:9.87015\tvalidation_1-rmse:10.8635\n",
      "[163]\tvalidation_0-rmse:9.87014\tvalidation_1-rmse:10.8635\n",
      "[164]\tvalidation_0-rmse:9.87013\tvalidation_1-rmse:10.8635\n",
      "[165]\tvalidation_0-rmse:9.87013\tvalidation_1-rmse:10.8635\n",
      "[166]\tvalidation_0-rmse:9.87012\tvalidation_1-rmse:10.8635\n",
      "[167]\tvalidation_0-rmse:9.87012\tvalidation_1-rmse:10.8635\n",
      "[168]\tvalidation_0-rmse:9.87011\tvalidation_1-rmse:10.8635\n",
      "Stopping. Best iteration:\n",
      "[118]\tvalidation_0-rmse:9.87167\tvalidation_1-rmse:10.863\n",
      "\n",
      "[0]\tvalidation_0-rmse:24.2202\tvalidation_1-rmse:24.5366\n",
      "Multiple eval metrics have been passed: 'validation_1-rmse' will be used for early stopping.\n",
      "\n",
      "Will train until validation_1-rmse hasn't improved in 50 rounds.\n",
      "[1]\tvalidation_0-rmse:22.2992\tvalidation_1-rmse:22.6273\n",
      "[2]\tvalidation_0-rmse:20.6195\tvalidation_1-rmse:20.9575\n",
      "[3]\tvalidation_0-rmse:19.1359\tvalidation_1-rmse:19.4884\n",
      "[4]\tvalidation_0-rmse:17.8459\tvalidation_1-rmse:18.216\n",
      "[5]\tvalidation_0-rmse:16.7208\tvalidation_1-rmse:17.1099\n",
      "[6]\tvalidation_0-rmse:15.7429\tvalidation_1-rmse:16.151\n",
      "[7]\tvalidation_0-rmse:14.9098\tvalidation_1-rmse:15.3419\n",
      "[8]\tvalidation_0-rmse:14.1838\tvalidation_1-rmse:14.6335\n",
      "[9]\tvalidation_0-rmse:13.5632\tvalidation_1-rmse:14.0325\n",
      "[10]\tvalidation_0-rmse:13.0355\tvalidation_1-rmse:13.5253\n",
      "[11]\tvalidation_0-rmse:12.5898\tvalidation_1-rmse:13.0997\n",
      "[12]\tvalidation_0-rmse:12.2254\tvalidation_1-rmse:12.7549\n",
      "[13]\tvalidation_0-rmse:11.903\tvalidation_1-rmse:12.452\n",
      "[14]\tvalidation_0-rmse:11.6362\tvalidation_1-rmse:12.2011\n",
      "[15]\tvalidation_0-rmse:11.4054\tvalidation_1-rmse:11.9897\n",
      "[16]\tvalidation_0-rmse:11.2155\tvalidation_1-rmse:11.8118\n",
      "[17]\tvalidation_0-rmse:11.0469\tvalidation_1-rmse:11.6642\n",
      "[18]\tvalidation_0-rmse:10.9143\tvalidation_1-rmse:11.5428\n",
      "[19]\tvalidation_0-rmse:10.8051\tvalidation_1-rmse:11.4417\n",
      "[20]\tvalidation_0-rmse:10.7096\tvalidation_1-rmse:11.3584\n",
      "[21]\tvalidation_0-rmse:10.6329\tvalidation_1-rmse:11.2916\n",
      "[22]\tvalidation_0-rmse:10.5641\tvalidation_1-rmse:11.2345\n",
      "[23]\tvalidation_0-rmse:10.5022\tvalidation_1-rmse:11.1852\n",
      "[24]\tvalidation_0-rmse:10.4452\tvalidation_1-rmse:11.1456\n",
      "[25]\tvalidation_0-rmse:10.3913\tvalidation_1-rmse:11.1134\n",
      "[26]\tvalidation_0-rmse:10.3555\tvalidation_1-rmse:11.0868\n",
      "[27]\tvalidation_0-rmse:10.3197\tvalidation_1-rmse:11.0594\n",
      "[28]\tvalidation_0-rmse:10.2882\tvalidation_1-rmse:11.0407\n",
      "[29]\tvalidation_0-rmse:10.2539\tvalidation_1-rmse:11.0249\n",
      "[30]\tvalidation_0-rmse:10.2295\tvalidation_1-rmse:11.0068\n",
      "[31]\tvalidation_0-rmse:10.2092\tvalidation_1-rmse:10.9941\n",
      "[32]\tvalidation_0-rmse:10.1826\tvalidation_1-rmse:10.9818\n",
      "[33]\tvalidation_0-rmse:10.1632\tvalidation_1-rmse:10.9707\n",
      "[34]\tvalidation_0-rmse:10.1463\tvalidation_1-rmse:10.9603\n"
     ]
    },
    {
     "name": "stdout",
     "output_type": "stream",
     "text": [
      "[35]\tvalidation_0-rmse:10.1336\tvalidation_1-rmse:10.9531\n",
      "[36]\tvalidation_0-rmse:10.1134\tvalidation_1-rmse:10.9479\n",
      "[37]\tvalidation_0-rmse:10.0984\tvalidation_1-rmse:10.9428\n",
      "[38]\tvalidation_0-rmse:10.0898\tvalidation_1-rmse:10.9368\n",
      "[39]\tvalidation_0-rmse:10.0806\tvalidation_1-rmse:10.9323\n",
      "[40]\tvalidation_0-rmse:10.0627\tvalidation_1-rmse:10.9283\n",
      "[41]\tvalidation_0-rmse:10.0437\tvalidation_1-rmse:10.923\n",
      "[42]\tvalidation_0-rmse:10.0304\tvalidation_1-rmse:10.9156\n",
      "[43]\tvalidation_0-rmse:10.0239\tvalidation_1-rmse:10.9129\n",
      "[44]\tvalidation_0-rmse:10.016\tvalidation_1-rmse:10.9092\n",
      "[45]\tvalidation_0-rmse:10.0061\tvalidation_1-rmse:10.903\n",
      "[46]\tvalidation_0-rmse:9.99592\tvalidation_1-rmse:10.9024\n",
      "[47]\tvalidation_0-rmse:9.98533\tvalidation_1-rmse:10.8962\n",
      "[48]\tvalidation_0-rmse:9.96733\tvalidation_1-rmse:10.8908\n",
      "[49]\tvalidation_0-rmse:9.95763\tvalidation_1-rmse:10.8855\n",
      "[50]\tvalidation_0-rmse:9.95088\tvalidation_1-rmse:10.8839\n",
      "[51]\tvalidation_0-rmse:9.94113\tvalidation_1-rmse:10.8815\n",
      "[52]\tvalidation_0-rmse:9.93163\tvalidation_1-rmse:10.8788\n",
      "[53]\tvalidation_0-rmse:9.92055\tvalidation_1-rmse:10.8739\n",
      "[54]\tvalidation_0-rmse:9.91281\tvalidation_1-rmse:10.8723\n",
      "[55]\tvalidation_0-rmse:9.9078\tvalidation_1-rmse:10.8724\n",
      "[56]\tvalidation_0-rmse:9.89884\tvalidation_1-rmse:10.8695\n",
      "[57]\tvalidation_0-rmse:9.88458\tvalidation_1-rmse:10.8658\n",
      "[58]\tvalidation_0-rmse:9.8799\tvalidation_1-rmse:10.8636\n",
      "[59]\tvalidation_0-rmse:9.87333\tvalidation_1-rmse:10.8624\n",
      "[60]\tvalidation_0-rmse:9.86457\tvalidation_1-rmse:10.8614\n",
      "[61]\tvalidation_0-rmse:9.859\tvalidation_1-rmse:10.8605\n",
      "[62]\tvalidation_0-rmse:9.85315\tvalidation_1-rmse:10.8597\n",
      "[63]\tvalidation_0-rmse:9.84566\tvalidation_1-rmse:10.8547\n",
      "[64]\tvalidation_0-rmse:9.83933\tvalidation_1-rmse:10.8513\n",
      "[65]\tvalidation_0-rmse:9.8362\tvalidation_1-rmse:10.8504\n",
      "[66]\tvalidation_0-rmse:9.82997\tvalidation_1-rmse:10.8478\n",
      "[67]\tvalidation_0-rmse:9.8205\tvalidation_1-rmse:10.8434\n",
      "[68]\tvalidation_0-rmse:9.81009\tvalidation_1-rmse:10.8411\n",
      "[69]\tvalidation_0-rmse:9.80405\tvalidation_1-rmse:10.8385\n",
      "[70]\tvalidation_0-rmse:9.79651\tvalidation_1-rmse:10.8378\n",
      "[71]\tvalidation_0-rmse:9.78941\tvalidation_1-rmse:10.8366\n",
      "[72]\tvalidation_0-rmse:9.77109\tvalidation_1-rmse:10.8319\n",
      "[73]\tvalidation_0-rmse:9.76572\tvalidation_1-rmse:10.83\n",
      "[74]\tvalidation_0-rmse:9.7616\tvalidation_1-rmse:10.8293\n",
      "[75]\tvalidation_0-rmse:9.75202\tvalidation_1-rmse:10.8295\n",
      "[76]\tvalidation_0-rmse:9.73858\tvalidation_1-rmse:10.8271\n",
      "[77]\tvalidation_0-rmse:9.72883\tvalidation_1-rmse:10.8277\n",
      "[78]\tvalidation_0-rmse:9.72083\tvalidation_1-rmse:10.8244\n",
      "[79]\tvalidation_0-rmse:9.7068\tvalidation_1-rmse:10.8234\n",
      "[80]\tvalidation_0-rmse:9.7015\tvalidation_1-rmse:10.8244\n",
      "[81]\tvalidation_0-rmse:9.69289\tvalidation_1-rmse:10.8284\n",
      "[82]\tvalidation_0-rmse:9.6817\tvalidation_1-rmse:10.8311\n",
      "[83]\tvalidation_0-rmse:9.67286\tvalidation_1-rmse:10.8359\n",
      "[84]\tvalidation_0-rmse:9.66425\tvalidation_1-rmse:10.8384\n",
      "[85]\tvalidation_0-rmse:9.65977\tvalidation_1-rmse:10.8382\n",
      "[86]\tvalidation_0-rmse:9.65604\tvalidation_1-rmse:10.839\n",
      "[87]\tvalidation_0-rmse:9.64711\tvalidation_1-rmse:10.8424\n",
      "[88]\tvalidation_0-rmse:9.63797\tvalidation_1-rmse:10.8451\n",
      "[89]\tvalidation_0-rmse:9.62999\tvalidation_1-rmse:10.8447\n",
      "[90]\tvalidation_0-rmse:9.62658\tvalidation_1-rmse:10.8449\n",
      "[91]\tvalidation_0-rmse:9.61791\tvalidation_1-rmse:10.8429\n",
      "[92]\tvalidation_0-rmse:9.61252\tvalidation_1-rmse:10.8414\n",
      "[93]\tvalidation_0-rmse:9.60902\tvalidation_1-rmse:10.8411\n",
      "[94]\tvalidation_0-rmse:9.60731\tvalidation_1-rmse:10.8411\n",
      "[95]\tvalidation_0-rmse:9.60574\tvalidation_1-rmse:10.8412\n",
      "[96]\tvalidation_0-rmse:9.6032\tvalidation_1-rmse:10.8407\n",
      "[97]\tvalidation_0-rmse:9.6018\tvalidation_1-rmse:10.8408\n",
      "[98]\tvalidation_0-rmse:9.5994\tvalidation_1-rmse:10.8415\n",
      "[99]\tvalidation_0-rmse:9.59459\tvalidation_1-rmse:10.8456\n",
      "[100]\tvalidation_0-rmse:9.59336\tvalidation_1-rmse:10.8456\n",
      "[101]\tvalidation_0-rmse:9.59133\tvalidation_1-rmse:10.8456\n",
      "[102]\tvalidation_0-rmse:9.58908\tvalidation_1-rmse:10.8448\n",
      "[103]\tvalidation_0-rmse:9.58573\tvalidation_1-rmse:10.8499\n",
      "[104]\tvalidation_0-rmse:9.58467\tvalidation_1-rmse:10.85\n",
      "[105]\tvalidation_0-rmse:9.57761\tvalidation_1-rmse:10.848\n",
      "[106]\tvalidation_0-rmse:9.57408\tvalidation_1-rmse:10.8508\n",
      "[107]\tvalidation_0-rmse:9.57314\tvalidation_1-rmse:10.8509\n",
      "[108]\tvalidation_0-rmse:9.57147\tvalidation_1-rmse:10.8509\n",
      "[109]\tvalidation_0-rmse:9.57063\tvalidation_1-rmse:10.851\n",
      "[110]\tvalidation_0-rmse:9.57063\tvalidation_1-rmse:10.851\n",
      "[111]\tvalidation_0-rmse:9.56824\tvalidation_1-rmse:10.8499\n",
      "[112]\tvalidation_0-rmse:9.56332\tvalidation_1-rmse:10.8486\n",
      "[113]\tvalidation_0-rmse:9.56332\tvalidation_1-rmse:10.8486\n",
      "[114]\tvalidation_0-rmse:9.56086\tvalidation_1-rmse:10.8477\n",
      "[115]\tvalidation_0-rmse:9.56086\tvalidation_1-rmse:10.8477\n",
      "[116]\tvalidation_0-rmse:9.56086\tvalidation_1-rmse:10.8477\n",
      "[117]\tvalidation_0-rmse:9.56086\tvalidation_1-rmse:10.8477\n",
      "[118]\tvalidation_0-rmse:9.56086\tvalidation_1-rmse:10.8477\n",
      "[119]\tvalidation_0-rmse:9.56086\tvalidation_1-rmse:10.8477\n",
      "[120]\tvalidation_0-rmse:9.56086\tvalidation_1-rmse:10.8477\n",
      "[121]\tvalidation_0-rmse:9.56086\tvalidation_1-rmse:10.8477\n",
      "[122]\tvalidation_0-rmse:9.55964\tvalidation_1-rmse:10.8477\n",
      "[123]\tvalidation_0-rmse:9.55731\tvalidation_1-rmse:10.8477\n",
      "[124]\tvalidation_0-rmse:9.55731\tvalidation_1-rmse:10.8477\n",
      "[125]\tvalidation_0-rmse:9.5561\tvalidation_1-rmse:10.8475\n",
      "[126]\tvalidation_0-rmse:9.5561\tvalidation_1-rmse:10.8475\n",
      "[127]\tvalidation_0-rmse:9.5561\tvalidation_1-rmse:10.8475\n",
      "[128]\tvalidation_0-rmse:9.55442\tvalidation_1-rmse:10.849\n",
      "[129]\tvalidation_0-rmse:9.55442\tvalidation_1-rmse:10.849\n",
      "Stopping. Best iteration:\n",
      "[79]\tvalidation_0-rmse:9.7068\tvalidation_1-rmse:10.8234\n",
      "\n",
      "[0]\tvalidation_0-rmse:24.4639\tvalidation_1-rmse:24.7814\n",
      "Multiple eval metrics have been passed: 'validation_1-rmse' will be used for early stopping.\n",
      "\n",
      "Will train until validation_1-rmse hasn't improved in 50 rounds.\n",
      "[1]\tvalidation_0-rmse:22.5252\tvalidation_1-rmse:22.8514\n",
      "[2]\tvalidation_0-rmse:20.8197\tvalidation_1-rmse:21.1545\n",
      "[3]\tvalidation_0-rmse:19.4582\tvalidation_1-rmse:19.8045\n",
      "[4]\tvalidation_0-rmse:18.4746\tvalidation_1-rmse:18.835\n",
      "[5]\tvalidation_0-rmse:17.4572\tvalidation_1-rmse:17.8251\n",
      "[6]\tvalidation_0-rmse:16.4062\tvalidation_1-rmse:16.7839\n",
      "[7]\tvalidation_0-rmse:15.6553\tvalidation_1-rmse:16.041\n",
      "[8]\tvalidation_0-rmse:14.8708\tvalidation_1-rmse:15.2667\n",
      "[9]\tvalidation_0-rmse:14.1969\tvalidation_1-rmse:14.6035\n",
      "[10]\tvalidation_0-rmse:13.6184\tvalidation_1-rmse:14.0315\n",
      "[11]\tvalidation_0-rmse:13.1326\tvalidation_1-rmse:13.5512\n",
      "[12]\tvalidation_0-rmse:12.8135\tvalidation_1-rmse:13.2415\n",
      "[13]\tvalidation_0-rmse:12.5818\tvalidation_1-rmse:13.0161\n",
      "[14]\tvalidation_0-rmse:12.3122\tvalidation_1-rmse:12.7503\n",
      "[15]\tvalidation_0-rmse:12.0426\tvalidation_1-rmse:12.4861\n",
      "[16]\tvalidation_0-rmse:11.8569\tvalidation_1-rmse:12.304\n",
      "[17]\tvalidation_0-rmse:11.6598\tvalidation_1-rmse:12.1103\n",
      "[18]\tvalidation_0-rmse:11.529\tvalidation_1-rmse:11.9822\n",
      "[19]\tvalidation_0-rmse:11.3868\tvalidation_1-rmse:11.8423\n",
      "[20]\tvalidation_0-rmse:11.3083\tvalidation_1-rmse:11.7677\n",
      "[21]\tvalidation_0-rmse:11.231\tvalidation_1-rmse:11.6927\n",
      "[22]\tvalidation_0-rmse:11.1867\tvalidation_1-rmse:11.6511\n",
      "[23]\tvalidation_0-rmse:11.1007\tvalidation_1-rmse:11.5672\n",
      "[24]\tvalidation_0-rmse:11.0604\tvalidation_1-rmse:11.528\n",
      "[25]\tvalidation_0-rmse:10.9942\tvalidation_1-rmse:11.4637\n",
      "[26]\tvalidation_0-rmse:10.9662\tvalidation_1-rmse:11.4361\n",
      "[27]\tvalidation_0-rmse:10.918\tvalidation_1-rmse:11.3877\n",
      "[28]\tvalidation_0-rmse:10.8896\tvalidation_1-rmse:11.3617\n",
      "[29]\tvalidation_0-rmse:10.8722\tvalidation_1-rmse:11.3456\n",
      "[30]\tvalidation_0-rmse:10.8355\tvalidation_1-rmse:11.31\n",
      "[31]\tvalidation_0-rmse:10.804\tvalidation_1-rmse:11.2796\n",
      "[32]\tvalidation_0-rmse:10.7923\tvalidation_1-rmse:11.2691\n",
      "[33]\tvalidation_0-rmse:10.7627\tvalidation_1-rmse:11.2453\n",
      "[34]\tvalidation_0-rmse:10.7448\tvalidation_1-rmse:11.2299\n",
      "[35]\tvalidation_0-rmse:10.7372\tvalidation_1-rmse:11.2236\n",
      "[36]\tvalidation_0-rmse:10.7214\tvalidation_1-rmse:11.2088\n",
      "[37]\tvalidation_0-rmse:10.7078\tvalidation_1-rmse:11.195\n",
      "[38]\tvalidation_0-rmse:10.6942\tvalidation_1-rmse:11.184\n",
      "[39]\tvalidation_0-rmse:10.6819\tvalidation_1-rmse:11.1738\n",
      "[40]\tvalidation_0-rmse:10.6621\tvalidation_1-rmse:11.1658\n",
      "[41]\tvalidation_0-rmse:10.6515\tvalidation_1-rmse:11.1568\n",
      "[42]\tvalidation_0-rmse:10.6438\tvalidation_1-rmse:11.1495\n",
      "[43]\tvalidation_0-rmse:10.6359\tvalidation_1-rmse:11.1425\n",
      "[44]\tvalidation_0-rmse:10.6267\tvalidation_1-rmse:11.1402\n"
     ]
    },
    {
     "name": "stdout",
     "output_type": "stream",
     "text": [
      "[45]\tvalidation_0-rmse:10.6186\tvalidation_1-rmse:11.1367\n",
      "[46]\tvalidation_0-rmse:10.6108\tvalidation_1-rmse:11.1319\n",
      "[47]\tvalidation_0-rmse:10.6012\tvalidation_1-rmse:11.1217\n",
      "[48]\tvalidation_0-rmse:10.5914\tvalidation_1-rmse:11.1129\n",
      "[49]\tvalidation_0-rmse:10.5836\tvalidation_1-rmse:11.1055\n",
      "[50]\tvalidation_0-rmse:10.5771\tvalidation_1-rmse:11.1013\n",
      "[51]\tvalidation_0-rmse:10.5704\tvalidation_1-rmse:11.0945\n",
      "[52]\tvalidation_0-rmse:10.5643\tvalidation_1-rmse:11.0904\n",
      "[53]\tvalidation_0-rmse:10.5597\tvalidation_1-rmse:11.0866\n",
      "[54]\tvalidation_0-rmse:10.5469\tvalidation_1-rmse:11.0855\n",
      "[55]\tvalidation_0-rmse:10.5439\tvalidation_1-rmse:11.0832\n",
      "[56]\tvalidation_0-rmse:10.5386\tvalidation_1-rmse:11.079\n",
      "[57]\tvalidation_0-rmse:10.5346\tvalidation_1-rmse:11.0774\n",
      "[58]\tvalidation_0-rmse:10.5319\tvalidation_1-rmse:11.0761\n",
      "[59]\tvalidation_0-rmse:10.5279\tvalidation_1-rmse:11.0738\n",
      "[60]\tvalidation_0-rmse:10.5203\tvalidation_1-rmse:11.0703\n",
      "[61]\tvalidation_0-rmse:10.5117\tvalidation_1-rmse:11.0667\n",
      "[62]\tvalidation_0-rmse:10.5087\tvalidation_1-rmse:11.0647\n",
      "[63]\tvalidation_0-rmse:10.5044\tvalidation_1-rmse:11.062\n",
      "[64]\tvalidation_0-rmse:10.5014\tvalidation_1-rmse:11.0601\n",
      "[65]\tvalidation_0-rmse:10.4993\tvalidation_1-rmse:11.0584\n",
      "[66]\tvalidation_0-rmse:10.4977\tvalidation_1-rmse:11.0554\n",
      "[67]\tvalidation_0-rmse:10.491\tvalidation_1-rmse:11.0521\n",
      "[68]\tvalidation_0-rmse:10.4848\tvalidation_1-rmse:11.0501\n",
      "[69]\tvalidation_0-rmse:10.4808\tvalidation_1-rmse:11.0494\n",
      "[70]\tvalidation_0-rmse:10.4706\tvalidation_1-rmse:11.0471\n",
      "[71]\tvalidation_0-rmse:10.464\tvalidation_1-rmse:11.0484\n",
      "[72]\tvalidation_0-rmse:10.4511\tvalidation_1-rmse:11.044\n",
      "[73]\tvalidation_0-rmse:10.4481\tvalidation_1-rmse:11.043\n",
      "[74]\tvalidation_0-rmse:10.4438\tvalidation_1-rmse:11.0397\n",
      "[75]\tvalidation_0-rmse:10.4342\tvalidation_1-rmse:11.0454\n",
      "[76]\tvalidation_0-rmse:10.4249\tvalidation_1-rmse:11.0427\n",
      "[77]\tvalidation_0-rmse:10.4209\tvalidation_1-rmse:11.0403\n",
      "[78]\tvalidation_0-rmse:10.4171\tvalidation_1-rmse:11.0374\n",
      "[79]\tvalidation_0-rmse:10.4151\tvalidation_1-rmse:11.0361\n",
      "[80]\tvalidation_0-rmse:10.4124\tvalidation_1-rmse:11.0346\n",
      "[81]\tvalidation_0-rmse:10.4093\tvalidation_1-rmse:11.0324\n",
      "[82]\tvalidation_0-rmse:10.4067\tvalidation_1-rmse:11.0312\n",
      "[83]\tvalidation_0-rmse:10.4036\tvalidation_1-rmse:11.0303\n",
      "[84]\tvalidation_0-rmse:10.3994\tvalidation_1-rmse:11.0266\n",
      "[85]\tvalidation_0-rmse:10.3961\tvalidation_1-rmse:11.0238\n",
      "[86]\tvalidation_0-rmse:10.3942\tvalidation_1-rmse:11.0231\n",
      "[87]\tvalidation_0-rmse:10.3909\tvalidation_1-rmse:11.0208\n",
      "[88]\tvalidation_0-rmse:10.3898\tvalidation_1-rmse:11.0205\n",
      "[89]\tvalidation_0-rmse:10.3828\tvalidation_1-rmse:11.0262\n",
      "[90]\tvalidation_0-rmse:10.3806\tvalidation_1-rmse:11.0246\n",
      "[91]\tvalidation_0-rmse:10.3786\tvalidation_1-rmse:11.0239\n",
      "[92]\tvalidation_0-rmse:10.3778\tvalidation_1-rmse:11.0241\n",
      "[93]\tvalidation_0-rmse:10.3758\tvalidation_1-rmse:11.0244\n",
      "[94]\tvalidation_0-rmse:10.3738\tvalidation_1-rmse:11.0257\n",
      "[95]\tvalidation_0-rmse:10.3713\tvalidation_1-rmse:11.024\n",
      "[96]\tvalidation_0-rmse:10.3692\tvalidation_1-rmse:11.0224\n",
      "[97]\tvalidation_0-rmse:10.3672\tvalidation_1-rmse:11.0201\n",
      "[98]\tvalidation_0-rmse:10.3629\tvalidation_1-rmse:11.0168\n",
      "[99]\tvalidation_0-rmse:10.3616\tvalidation_1-rmse:11.0161\n",
      "[100]\tvalidation_0-rmse:10.3595\tvalidation_1-rmse:11.0159\n",
      "[101]\tvalidation_0-rmse:10.3566\tvalidation_1-rmse:11.0142\n",
      "[102]\tvalidation_0-rmse:10.355\tvalidation_1-rmse:11.0135\n",
      "[103]\tvalidation_0-rmse:10.3527\tvalidation_1-rmse:11.0123\n",
      "[104]\tvalidation_0-rmse:10.3416\tvalidation_1-rmse:11.0091\n",
      "[105]\tvalidation_0-rmse:10.3403\tvalidation_1-rmse:11.0087\n",
      "[106]\tvalidation_0-rmse:10.3369\tvalidation_1-rmse:11.0062\n",
      "[107]\tvalidation_0-rmse:10.3357\tvalidation_1-rmse:11.0072\n",
      "[108]\tvalidation_0-rmse:10.335\tvalidation_1-rmse:11.0068\n",
      "[109]\tvalidation_0-rmse:10.3346\tvalidation_1-rmse:11.0107\n",
      "[110]\tvalidation_0-rmse:10.3314\tvalidation_1-rmse:11.0088\n",
      "[111]\tvalidation_0-rmse:10.3283\tvalidation_1-rmse:11.0065\n",
      "[112]\tvalidation_0-rmse:10.3255\tvalidation_1-rmse:11.006\n",
      "[113]\tvalidation_0-rmse:10.3204\tvalidation_1-rmse:11.0034\n",
      "[114]\tvalidation_0-rmse:10.3184\tvalidation_1-rmse:11.0012\n",
      "[115]\tvalidation_0-rmse:10.316\tvalidation_1-rmse:11.0003\n",
      "[116]\tvalidation_0-rmse:10.3136\tvalidation_1-rmse:10.9983\n",
      "[117]\tvalidation_0-rmse:10.3121\tvalidation_1-rmse:10.9971\n",
      "[118]\tvalidation_0-rmse:10.3107\tvalidation_1-rmse:10.9965\n",
      "[119]\tvalidation_0-rmse:10.31\tvalidation_1-rmse:10.9958\n",
      "[120]\tvalidation_0-rmse:10.3096\tvalidation_1-rmse:10.9959\n",
      "[121]\tvalidation_0-rmse:10.3088\tvalidation_1-rmse:10.9959\n",
      "[122]\tvalidation_0-rmse:10.307\tvalidation_1-rmse:10.9943\n",
      "[123]\tvalidation_0-rmse:10.3056\tvalidation_1-rmse:10.9942\n",
      "[124]\tvalidation_0-rmse:10.3017\tvalidation_1-rmse:10.9918\n",
      "[125]\tvalidation_0-rmse:10.2987\tvalidation_1-rmse:10.9913\n",
      "[126]\tvalidation_0-rmse:10.2981\tvalidation_1-rmse:10.9911\n",
      "[127]\tvalidation_0-rmse:10.2936\tvalidation_1-rmse:10.9897\n",
      "[128]\tvalidation_0-rmse:10.2926\tvalidation_1-rmse:10.9898\n",
      "[129]\tvalidation_0-rmse:10.2792\tvalidation_1-rmse:10.9931\n",
      "[130]\tvalidation_0-rmse:10.2784\tvalidation_1-rmse:10.9932\n",
      "[131]\tvalidation_0-rmse:10.2757\tvalidation_1-rmse:10.9899\n",
      "[132]\tvalidation_0-rmse:10.274\tvalidation_1-rmse:10.9892\n",
      "[133]\tvalidation_0-rmse:10.2722\tvalidation_1-rmse:10.9891\n",
      "[134]\tvalidation_0-rmse:10.2689\tvalidation_1-rmse:10.9909\n",
      "[135]\tvalidation_0-rmse:10.2673\tvalidation_1-rmse:10.9901\n",
      "[136]\tvalidation_0-rmse:10.2651\tvalidation_1-rmse:10.9882\n",
      "[137]\tvalidation_0-rmse:10.2638\tvalidation_1-rmse:10.9875\n",
      "[138]\tvalidation_0-rmse:10.2524\tvalidation_1-rmse:10.9856\n",
      "[139]\tvalidation_0-rmse:10.2491\tvalidation_1-rmse:10.9853\n",
      "[140]\tvalidation_0-rmse:10.2471\tvalidation_1-rmse:10.9846\n",
      "[141]\tvalidation_0-rmse:10.2457\tvalidation_1-rmse:10.9842\n",
      "[142]\tvalidation_0-rmse:10.2423\tvalidation_1-rmse:10.9825\n",
      "[143]\tvalidation_0-rmse:10.2406\tvalidation_1-rmse:10.9815\n",
      "[144]\tvalidation_0-rmse:10.2364\tvalidation_1-rmse:10.9861\n",
      "[145]\tvalidation_0-rmse:10.2332\tvalidation_1-rmse:10.9838\n",
      "[146]\tvalidation_0-rmse:10.2238\tvalidation_1-rmse:10.984\n",
      "[147]\tvalidation_0-rmse:10.2218\tvalidation_1-rmse:10.9831\n",
      "[148]\tvalidation_0-rmse:10.2214\tvalidation_1-rmse:10.9833\n",
      "[149]\tvalidation_0-rmse:10.2202\tvalidation_1-rmse:10.9827\n",
      "[150]\tvalidation_0-rmse:10.2195\tvalidation_1-rmse:10.9806\n",
      "[151]\tvalidation_0-rmse:10.2208\tvalidation_1-rmse:10.9788\n",
      "[152]\tvalidation_0-rmse:10.2182\tvalidation_1-rmse:10.9778\n",
      "[153]\tvalidation_0-rmse:10.2167\tvalidation_1-rmse:10.9769\n",
      "[154]\tvalidation_0-rmse:10.2051\tvalidation_1-rmse:10.9774\n",
      "[155]\tvalidation_0-rmse:10.1943\tvalidation_1-rmse:10.9771\n",
      "[156]\tvalidation_0-rmse:10.1914\tvalidation_1-rmse:10.9755\n",
      "[157]\tvalidation_0-rmse:10.1905\tvalidation_1-rmse:10.9753\n",
      "[158]\tvalidation_0-rmse:10.1887\tvalidation_1-rmse:10.9748\n",
      "[159]\tvalidation_0-rmse:10.1879\tvalidation_1-rmse:10.9748\n",
      "[160]\tvalidation_0-rmse:10.1873\tvalidation_1-rmse:10.9746\n",
      "[161]\tvalidation_0-rmse:10.186\tvalidation_1-rmse:10.9743\n",
      "[162]\tvalidation_0-rmse:10.1817\tvalidation_1-rmse:10.9757\n",
      "[163]\tvalidation_0-rmse:10.1789\tvalidation_1-rmse:10.9726\n",
      "[164]\tvalidation_0-rmse:10.1743\tvalidation_1-rmse:10.9721\n",
      "[165]\tvalidation_0-rmse:10.1717\tvalidation_1-rmse:10.9756\n",
      "[166]\tvalidation_0-rmse:10.1716\tvalidation_1-rmse:10.9768\n",
      "[167]\tvalidation_0-rmse:10.171\tvalidation_1-rmse:10.9775\n",
      "[168]\tvalidation_0-rmse:10.1677\tvalidation_1-rmse:10.9748\n",
      "[169]\tvalidation_0-rmse:10.1674\tvalidation_1-rmse:10.9738\n",
      "[170]\tvalidation_0-rmse:10.1665\tvalidation_1-rmse:10.9732\n",
      "[171]\tvalidation_0-rmse:10.1515\tvalidation_1-rmse:10.9744\n",
      "[172]\tvalidation_0-rmse:10.1504\tvalidation_1-rmse:10.9752\n",
      "[173]\tvalidation_0-rmse:10.1352\tvalidation_1-rmse:10.9805\n",
      "[174]\tvalidation_0-rmse:10.1343\tvalidation_1-rmse:10.9803\n",
      "[175]\tvalidation_0-rmse:10.1332\tvalidation_1-rmse:10.9784\n",
      "[176]\tvalidation_0-rmse:10.1317\tvalidation_1-rmse:10.9772\n",
      "[177]\tvalidation_0-rmse:10.1302\tvalidation_1-rmse:10.9761\n",
      "[178]\tvalidation_0-rmse:10.1258\tvalidation_1-rmse:10.9777\n",
      "[179]\tvalidation_0-rmse:10.1248\tvalidation_1-rmse:10.9773\n",
      "[180]\tvalidation_0-rmse:10.111\tvalidation_1-rmse:10.9867\n",
      "[181]\tvalidation_0-rmse:10.1097\tvalidation_1-rmse:10.9858\n",
      "[182]\tvalidation_0-rmse:10.109\tvalidation_1-rmse:10.9856\n",
      "[183]\tvalidation_0-rmse:10.1083\tvalidation_1-rmse:10.9857\n",
      "[184]\tvalidation_0-rmse:10.1075\tvalidation_1-rmse:10.9855\n",
      "[185]\tvalidation_0-rmse:10.1074\tvalidation_1-rmse:10.9864\n",
      "[186]\tvalidation_0-rmse:10.1066\tvalidation_1-rmse:10.9861\n",
      "[187]\tvalidation_0-rmse:10.104\tvalidation_1-rmse:10.9841\n"
     ]
    },
    {
     "name": "stdout",
     "output_type": "stream",
     "text": [
      "[188]\tvalidation_0-rmse:10.1024\tvalidation_1-rmse:10.984\n",
      "[189]\tvalidation_0-rmse:10.1023\tvalidation_1-rmse:10.9835\n",
      "[190]\tvalidation_0-rmse:10.1005\tvalidation_1-rmse:10.9818\n",
      "[191]\tvalidation_0-rmse:10.0977\tvalidation_1-rmse:10.9801\n",
      "[192]\tvalidation_0-rmse:10.0949\tvalidation_1-rmse:10.9784\n",
      "[193]\tvalidation_0-rmse:10.089\tvalidation_1-rmse:10.9812\n",
      "[194]\tvalidation_0-rmse:10.0855\tvalidation_1-rmse:10.9803\n",
      "[195]\tvalidation_0-rmse:10.0799\tvalidation_1-rmse:10.9788\n",
      "[196]\tvalidation_0-rmse:10.0788\tvalidation_1-rmse:10.9789\n",
      "[197]\tvalidation_0-rmse:10.078\tvalidation_1-rmse:10.9788\n",
      "[198]\tvalidation_0-rmse:10.0757\tvalidation_1-rmse:10.9792\n",
      "[199]\tvalidation_0-rmse:10.0758\tvalidation_1-rmse:10.9789\n",
      "[200]\tvalidation_0-rmse:10.0767\tvalidation_1-rmse:10.9782\n",
      "[201]\tvalidation_0-rmse:10.064\tvalidation_1-rmse:10.9906\n",
      "[202]\tvalidation_0-rmse:10.0614\tvalidation_1-rmse:10.9903\n",
      "[203]\tvalidation_0-rmse:10.0603\tvalidation_1-rmse:10.9914\n",
      "[204]\tvalidation_0-rmse:10.0602\tvalidation_1-rmse:10.9895\n",
      "[205]\tvalidation_0-rmse:10.0584\tvalidation_1-rmse:10.9892\n",
      "[206]\tvalidation_0-rmse:10.0582\tvalidation_1-rmse:10.9902\n",
      "[207]\tvalidation_0-rmse:10.0477\tvalidation_1-rmse:10.9983\n",
      "[208]\tvalidation_0-rmse:10.0469\tvalidation_1-rmse:10.9987\n",
      "[209]\tvalidation_0-rmse:10.0454\tvalidation_1-rmse:10.9978\n",
      "[210]\tvalidation_0-rmse:10.0431\tvalidation_1-rmse:10.9967\n",
      "[211]\tvalidation_0-rmse:10.0421\tvalidation_1-rmse:10.996\n",
      "[212]\tvalidation_0-rmse:10.0418\tvalidation_1-rmse:10.9956\n",
      "[213]\tvalidation_0-rmse:10.0416\tvalidation_1-rmse:10.9961\n",
      "[214]\tvalidation_0-rmse:10.0414\tvalidation_1-rmse:10.9969\n",
      "Stopping. Best iteration:\n",
      "[164]\tvalidation_0-rmse:10.1743\tvalidation_1-rmse:10.9721\n",
      "\n",
      "{'colsample_bytree': 0.65, 'gamma': 2.4000000000000004, 'learning_rate': 0, 'max_depth': 3, 'min_child_weight': 2.0, 'n_estimators': 0, 'nthread': 0, 'objective': 0, 'reg_alpha': 3.8000000000000003, 'reg_lambda': 0.5, 'subsample': 0.8500000000000001}\n",
      "dict_keys(['colsample_bytree', 'gamma', 'learning_rate', 'max_depth', 'min_child_weight', 'n_estimators', 'nthread', 'objective', 'reg_alpha', 'reg_lambda', 'subsample'])\n",
      "\n",
      "\n"
     ]
    }
   ],
   "source": [
    "def get_final_parameters(best_params, origin_model_d, current_model):\n",
    "    \"\"\"\n",
    "    Fix the string parameters returned by hyperopt.\n",
    "    Use the index given by hyperopt to find the real string value\n",
    "    for a specific parameter\n",
    "    \"\"\"\n",
    "    for element_p in list(best_params.keys()):\n",
    "        if isinstance(\n",
    "                origin_model_d[current_model][1][element_p],\n",
    "                hyperopt.pyll.base.Apply):\n",
    "            if origin_model_d[current_model][1][element_p].name == \"float\":\n",
    "                pass\n",
    "            elif origin_model_d[current_model][1][element_p].name == \"switch\":\n",
    "                apply_obj = origin_model_d[current_model][1][element_p]\n",
    "                literal_obj = apply_obj.pos_args[best_params[element_p] + 1]\n",
    "                best_params[element_p] = literal_obj.obj\n",
    "            else:\n",
    "                pass\n",
    "        else:\n",
    "            pass\n",
    "    return best_params\n",
    "\n",
    "def regression_params_opt(\n",
    "        origin_model_d,\n",
    "        current_model,\n",
    "        X_train,\n",
    "        X_test,\n",
    "        y_train,\n",
    "        y_test):\n",
    "    print(current_model)\n",
    "    best = 0\n",
    "    max_eval = 10\n",
    "    trials = Trials()\n",
    "\n",
    "    def rmse_score(params):\n",
    "        model_fit = origin_model_d[current_model][0](\n",
    "            **params).fit(X_train, y_train, eval_set=[(X_train,y_train),(X_test,y_test),],early_stopping_rounds=50)\n",
    "        y_pred_train = model_fit.predict(X_test)\n",
    "        loss = mean_squared_error(y_test, y_pred_train)**0.5\n",
    "        params['best_iteration'] = model_fit.best_iteration\n",
    "        list_result_hyperopt.append((loss, params))\n",
    "        return {'loss': loss, 'status': STATUS_OK}\n",
    "\n",
    "    best = fmin(rmse_score,\n",
    "                origin_model_d[current_model][1],\n",
    "                algo=tpe.suggest,\n",
    "                max_evals=max_eval,\n",
    "                trials=trials)\n",
    "    print(best)\n",
    "    print(best.keys())\n",
    "    print(\"\\n\")\n",
    "    return get_final_parameters(best, origin_model_d, current_model)\n",
    "\n",
    "if __name__ == '__main__':\n",
    "\n",
    "    xgbr_d = {'gamma': hp.quniform('gamma', 0.0, 5.0, 0.1),\n",
    "              'learning_rate': hp.choice('learning_rate', [0.1]),\n",
    "              'colsample_bytree': hp.quniform('colsample_bytree',\n",
    "                                              0.3,\n",
    "                                              1.,\n",
    "                                              0.05),\n",
    "              'max_depth': hp.choice('max_depth', list(range(5, 10))),\n",
    "              'min_child_weight': hp.quniform('min_child_weight', 1., 5., 1),\n",
    "              'subsample': hp.quniform('subsample', 0.6, 1, 0.05),\n",
    "              'nthread': hp.choice('nthread', [-1]),\n",
    "              'n_estimators': hp.choice('n_estimators', [1500]),\n",
    "              'objective': hp.choice('objective', ['reg:linear']),\n",
    "              'reg_lambda': hp.quniform('reg_alpha', 0.0, 4.0, 0.1),\n",
    "              'reg_alpha': hp.quniform('reg_lambda', 0.0, 4.0, 0.1)}\n",
    "\n",
    "    base_model = {\"XGBRegressor\": [XGBRegressor, xgbr_d]}\n",
    "\n",
    "    list_result_hyperopt = []\n",
    "    hyper_parametres = regression_params_opt(\n",
    "        origin_model_d=base_model,\n",
    "        current_model=\"XGBRegressor\",\n",
    "        X_train=X_train,\n",
    "        X_test=X_test,\n",
    "        y_train=y_train,\n",
    "        y_test=y_test\n",
    "    )"
   ]
  },
  {
   "cell_type": "markdown",
   "metadata": {},
   "source": [
    "Avec les paramètres du kaggle public"
   ]
  },
  {
   "cell_type": "code",
   "execution_count": 29,
   "metadata": {},
   "outputs": [],
   "source": [
    "loss,params = sorted(list_result_hyperopt)[0]"
   ]
  },
  {
   "cell_type": "code",
   "execution_count": 33,
   "metadata": {
    "scrolled": false
   },
   "outputs": [
    {
     "data": {
      "text/plain": [
       "{'colsample_bytree': 0.65,\n",
       " 'gamma': 2.4000000000000004,\n",
       " 'learning_rate': 0.02,\n",
       " 'max_depth': 8,\n",
       " 'min_child_weight': 2.0,\n",
       " 'n_estimators': 815,\n",
       " 'nthread': -1,\n",
       " 'objective': 'reg:linear',\n",
       " 'reg_alpha': 0.5,\n",
       " 'reg_lambda': 3.8000000000000003,\n",
       " 'subsample': 0.8500000000000001}"
      ]
     },
     "execution_count": 33,
     "metadata": {},
     "output_type": "execute_result"
    }
   ],
   "source": [
    "params"
   ]
  },
  {
   "cell_type": "code",
   "execution_count": 38,
   "metadata": {},
   "outputs": [],
   "source": [
    "def RMSLE(y, pred):\n",
    "    return metrics.mean_squared_error(y, pred)**0.5\n",
    "\n",
    "#best_iteration = params['n_estimators']\n",
    "#del params['n_estimators']\n",
    "\n",
    "#params['n_estimators'] = best_iteration*5\n",
    "#params['learning_rate'] = 0.02\n",
    "xgb_hyperopt1 = XGBRegressor(**params)\n",
    "xgb_hyperopt1.fit(X_train, y_train)\n",
    "xgbpred1 = xgb_hyperopt1.predict(X_test)\n",
    "train_error_xgb_hyperopt1 = round(np.sqrt(mean_squared_error(y_train, xgb_hyperopt1.predict(X_train))), 3)\n",
    "test_error_xgb_hyperopt1 = round(np.sqrt(mean_squared_error(y_test, xgb_hyperopt1.predict(X_test))), 3)"
   ]
  },
  {
   "cell_type": "code",
   "execution_count": 41,
   "metadata": {},
   "outputs": [
    {
     "name": "stdout",
     "output_type": "stream",
     "text": [
      "train error: 9.439\n",
      "test error: 10.833\n",
      "Hyperopt error: 10.8410519511\n"
     ]
    }
   ],
   "source": [
    "print(\"train error: {}\".format(train_error_xgb_hyperopt1))\n",
    "print(\"test error: {}\".format(test_error_xgb_hyperopt1))\n",
    "print('Hyperopt error:', loss)"
   ]
  },
  {
   "cell_type": "code",
   "execution_count": 42,
   "metadata": {},
   "outputs": [
    {
     "data": {
      "text/plain": [
       "array([ 23.21023941,  46.56284332,   9.10418606, ...,  12.46340942,\n",
       "        28.32885742,   6.76387548], dtype=float32)"
      ]
     },
     "execution_count": 42,
     "metadata": {},
     "output_type": "execute_result"
    }
   ],
   "source": [
    "y_pred = xgb_hyperopt1.predict(X_train)\n",
    "y_pred"
   ]
  },
  {
   "cell_type": "code",
   "execution_count": 43,
   "metadata": {},
   "outputs": [
    {
     "data": {
      "text/plain": [
       "89.095286474428903"
      ]
     },
     "execution_count": 43,
     "metadata": {},
     "output_type": "execute_result"
    }
   ],
   "source": [
    "np.mean((y_pred-y_train.values)**2)"
   ]
  },
  {
   "cell_type": "code",
   "execution_count": 44,
   "metadata": {},
   "outputs": [
    {
     "data": {
      "text/plain": [
       "9.439029954101688"
      ]
     },
     "execution_count": 44,
     "metadata": {},
     "output_type": "execute_result"
    }
   ],
   "source": [
    "np.sqrt(mean_squared_error(y_train.values, y_pred))"
   ]
  },
  {
   "cell_type": "code",
   "execution_count": 45,
   "metadata": {
    "scrolled": true
   },
   "outputs": [
    {
     "data": {
      "text/plain": [
       "(array([25425, 24415, 22315, 20061, 17391, 14710, 12557, 10528,  8675,\n",
       "         7293,  6070,  4924,  4224,  3523,  2978,  2541,  2068,  1723,\n",
       "         1460,  1200,  1076,   817,   707,   612,   517,   473,   375,\n",
       "          371,   298,   247,   225,   184,   178,   151,   123,   114,\n",
       "           79,    97,    92,    61,    63,    65,    53,    34,    43,\n",
       "           53,    27,    29,    23,    22,    23,    26,    24,    21,\n",
       "           16,    18,     8,    19,    18,    16,    12,     9,     7,\n",
       "            9,     6,     8,     7,     5,     7,     8,     6,     4,\n",
       "            8,     8,     2,     2,     3,     2,     4,     6,     2,\n",
       "            4,     3,     2,     5,     2,     2,     2,     3,     0,\n",
       "            4,     3,     2,     2,     2,     0,     2,     0,     2]),\n",
       " array([ 0,  1,  2,  3,  4,  5,  6,  7,  8,  9, 10, 11, 12, 13, 14, 15, 16,\n",
       "        17, 18, 19, 20, 21, 22, 23, 24, 25, 26, 27, 28, 29, 30, 31, 32, 33,\n",
       "        34, 35, 36, 37, 38, 39, 40, 41, 42, 43, 44, 45, 46, 47, 48, 49, 50,\n",
       "        51, 52, 53, 54, 55, 56, 57, 58, 59, 60, 61, 62, 63, 64, 65, 66, 67,\n",
       "        68, 69, 70, 71, 72, 73, 74, 75, 76, 77, 78, 79, 80, 81, 82, 83, 84,\n",
       "        85, 86, 87, 88, 89, 90, 91, 92, 93, 94, 95, 96, 97, 98, 99]))"
      ]
     },
     "execution_count": 45,
     "metadata": {},
     "output_type": "execute_result"
    }
   ],
   "source": [
    "np.histogram(np.abs(y_pred-y_train),range(100))"
   ]
  },
  {
   "cell_type": "code",
   "execution_count": 46,
   "metadata": {
    "collapsed": true
   },
   "outputs": [],
   "source": [
    "import matplotlib.pyplot as plt"
   ]
  },
  {
   "cell_type": "code",
   "execution_count": 66,
   "metadata": {
    "scrolled": true
   },
   "outputs": [
    {
     "data": {
      "text/plain": [
       "<matplotlib.text.Text at 0x11c38e940>"
      ]
     },
     "execution_count": 66,
     "metadata": {},
     "output_type": "execute_result"
    },
    {
     "data": {
      "image/png": "[encoded data removed]",
      "text/plain": [
       "<matplotlib.figure.Figure at 0x11c5d08d0>"
      ]
     },
     "metadata": {},
     "output_type": "display_data"
    }
   ],
   "source": [
    "plt.hist(np.abs(y_pred-y_train), bins=range(0,30))\n",
    "plt.xlabel('Difference entre y_pred et y_train')\n",
    "plt.ylabel('nombre de réservations')"
   ]
  },
  {
   "cell_type": "code",
   "execution_count": 60,
   "metadata": {},
   "outputs": [
    {
     "name": "stdout",
     "output_type": "stream",
     "text": [
      "(201686,)\n",
      "(201686,)\n"
     ]
    }
   ],
   "source": [
    "print(y_train.shape)\n",
    "print(y_pred.shape)"
   ]
  },
  {
   "cell_type": "code",
   "execution_count": 61,
   "metadata": {},
   "outputs": [
    {
     "data": {
      "text/plain": [
       "(252108,)"
      ]
     },
     "execution_count": 61,
     "metadata": {},
     "output_type": "execute_result"
    }
   ],
   "source": [
    "y.shape"
   ]
  },
  {
   "cell_type": "code",
   "execution_count": 62,
   "metadata": {},
   "outputs": [
    {
     "data": {
      "text/plain": [
       "(50422,)"
      ]
     },
     "execution_count": 62,
     "metadata": {},
     "output_type": "execute_result"
    }
   ],
   "source": [
    "y_test.shape"
   ]
  },
  {
   "cell_type": "markdown",
   "metadata": {},
   "source": [
    "# TEST ONLY"
   ]
  },
  {
   "cell_type": "code",
   "execution_count": 136,
   "metadata": {
    "ExecuteTime": {
     "end_time": "2018-03-06T12:37:42.875040Z",
     "start_time": "2018-03-06T12:37:26.366729Z"
    },
    "scrolled": true
   },
   "outputs": [
    {
     "ename": "KeyboardInterrupt",
     "evalue": "",
     "output_type": "error",
     "traceback": [
      "\u001b[0;31m---------------------------------------------------------------------------\u001b[0m",
      "\u001b[0;31mKeyboardInterrupt\u001b[0m                         Traceback (most recent call last)",
      "\u001b[0;32m<timed exec>\u001b[0m in \u001b[0;36m<module>\u001b[0;34m()\u001b[0m\n",
      "\u001b[0;32m/opt/conda/lib/python3.6/site-packages/xgboost/sklearn.py\u001b[0m in \u001b[0;36mfit\u001b[0;34m(self, X, y, sample_weight, eval_set, eval_metric, early_stopping_rounds, verbose, xgb_model)\u001b[0m\n\u001b[1;32m    291\u001b[0m                               \u001b[0mearly_stopping_rounds\u001b[0m\u001b[0;34m=\u001b[0m\u001b[0mearly_stopping_rounds\u001b[0m\u001b[0;34m,\u001b[0m\u001b[0;34m\u001b[0m\u001b[0m\n\u001b[1;32m    292\u001b[0m                               \u001b[0mevals_result\u001b[0m\u001b[0;34m=\u001b[0m\u001b[0mevals_result\u001b[0m\u001b[0;34m,\u001b[0m \u001b[0mobj\u001b[0m\u001b[0;34m=\u001b[0m\u001b[0mobj\u001b[0m\u001b[0;34m,\u001b[0m \u001b[0mfeval\u001b[0m\u001b[0;34m=\u001b[0m\u001b[0mfeval\u001b[0m\u001b[0;34m,\u001b[0m\u001b[0;34m\u001b[0m\u001b[0m\n\u001b[0;32m--> 293\u001b[0;31m                               verbose_eval=verbose, xgb_model=xgb_model)\n\u001b[0m\u001b[1;32m    294\u001b[0m \u001b[0;34m\u001b[0m\u001b[0m\n\u001b[1;32m    295\u001b[0m         \u001b[0;32mif\u001b[0m \u001b[0mevals_result\u001b[0m\u001b[0;34m:\u001b[0m\u001b[0;34m\u001b[0m\u001b[0m\n",
      "\u001b[0;32m/opt/conda/lib/python3.6/site-packages/xgboost/training.py\u001b[0m in \u001b[0;36mtrain\u001b[0;34m(params, dtrain, num_boost_round, evals, obj, feval, maximize, early_stopping_rounds, evals_result, verbose_eval, xgb_model, callbacks, learning_rates)\u001b[0m\n\u001b[1;32m    202\u001b[0m                            \u001b[0mevals\u001b[0m\u001b[0;34m=\u001b[0m\u001b[0mevals\u001b[0m\u001b[0;34m,\u001b[0m\u001b[0;34m\u001b[0m\u001b[0m\n\u001b[1;32m    203\u001b[0m                            \u001b[0mobj\u001b[0m\u001b[0;34m=\u001b[0m\u001b[0mobj\u001b[0m\u001b[0;34m,\u001b[0m \u001b[0mfeval\u001b[0m\u001b[0;34m=\u001b[0m\u001b[0mfeval\u001b[0m\u001b[0;34m,\u001b[0m\u001b[0;34m\u001b[0m\u001b[0m\n\u001b[0;32m--> 204\u001b[0;31m                            xgb_model=xgb_model, callbacks=callbacks)\n\u001b[0m\u001b[1;32m    205\u001b[0m \u001b[0;34m\u001b[0m\u001b[0m\n\u001b[1;32m    206\u001b[0m \u001b[0;34m\u001b[0m\u001b[0m\n",
      "\u001b[0;32m/opt/conda/lib/python3.6/site-packages/xgboost/training.py\u001b[0m in \u001b[0;36m_train_internal\u001b[0;34m(params, dtrain, num_boost_round, evals, obj, feval, xgb_model, callbacks)\u001b[0m\n\u001b[1;32m     72\u001b[0m         \u001b[0;31m# Skip the first update if it is a recovery step.\u001b[0m\u001b[0;34m\u001b[0m\u001b[0;34m\u001b[0m\u001b[0m\n\u001b[1;32m     73\u001b[0m         \u001b[0;32mif\u001b[0m \u001b[0mversion\u001b[0m \u001b[0;34m%\u001b[0m \u001b[0;36m2\u001b[0m \u001b[0;34m==\u001b[0m \u001b[0;36m0\u001b[0m\u001b[0;34m:\u001b[0m\u001b[0;34m\u001b[0m\u001b[0m\n\u001b[0;32m---> 74\u001b[0;31m             \u001b[0mbst\u001b[0m\u001b[0;34m.\u001b[0m\u001b[0mupdate\u001b[0m\u001b[0;34m(\u001b[0m\u001b[0mdtrain\u001b[0m\u001b[0;34m,\u001b[0m \u001b[0mi\u001b[0m\u001b[0;34m,\u001b[0m \u001b[0mobj\u001b[0m\u001b[0;34m)\u001b[0m\u001b[0;34m\u001b[0m\u001b[0m\n\u001b[0m\u001b[1;32m     75\u001b[0m             \u001b[0mbst\u001b[0m\u001b[0;34m.\u001b[0m\u001b[0msave_rabit_checkpoint\u001b[0m\u001b[0;34m(\u001b[0m\u001b[0;34m)\u001b[0m\u001b[0;34m\u001b[0m\u001b[0m\n\u001b[1;32m     76\u001b[0m             \u001b[0mversion\u001b[0m \u001b[0;34m+=\u001b[0m \u001b[0;36m1\u001b[0m\u001b[0;34m\u001b[0m\u001b[0m\n",
      "\u001b[0;32m/opt/conda/lib/python3.6/site-packages/xgboost/core.py\u001b[0m in \u001b[0;36mupdate\u001b[0;34m(self, dtrain, iteration, fobj)\u001b[0m\n\u001b[1;32m    896\u001b[0m         \u001b[0;32mif\u001b[0m \u001b[0mfobj\u001b[0m \u001b[0;32mis\u001b[0m \u001b[0;32mNone\u001b[0m\u001b[0;34m:\u001b[0m\u001b[0;34m\u001b[0m\u001b[0m\n\u001b[1;32m    897\u001b[0m             _check_call(_LIB.XGBoosterUpdateOneIter(self.handle, ctypes.c_int(iteration),\n\u001b[0;32m--> 898\u001b[0;31m                                                     dtrain.handle))\n\u001b[0m\u001b[1;32m    899\u001b[0m         \u001b[0;32melse\u001b[0m\u001b[0;34m:\u001b[0m\u001b[0;34m\u001b[0m\u001b[0m\n\u001b[1;32m    900\u001b[0m             \u001b[0mpred\u001b[0m \u001b[0;34m=\u001b[0m \u001b[0mself\u001b[0m\u001b[0;34m.\u001b[0m\u001b[0mpredict\u001b[0m\u001b[0;34m(\u001b[0m\u001b[0mdtrain\u001b[0m\u001b[0;34m)\u001b[0m\u001b[0;34m\u001b[0m\u001b[0m\n",
      "\u001b[0;31mKeyboardInterrupt\u001b[0m: "
     ]
    }
   ],
   "source": [
    "%%time\n",
    "def RMSLE(y, pred):\n",
    "    return metrics.mean_squared_error(y, pred)**0.5\n",
    "\n",
    "model3 = XGBRegressor(learning_rate=0.2, random_state=3, n_estimators=250, subsample=0.8, colsample_bytree=0.8, max_depth=10)\n",
    "model3.fit(train[col], np.log1p(train['visitors'].values))\n",
    "preds3 = model3.predict(train[col])\n",
    "print('RMSE XGBRegressor: ', RMSLE(np.log1p(train['visitors'].values), preds3))"
   ]
  },
  {
   "cell_type": "code",
   "execution_count": 27,
   "metadata": {
    "ExecuteTime": {
     "end_time": "2018-03-05T17:56:48.918648Z",
     "start_time": "2018-03-05T17:56:48.905795Z"
    }
   },
   "outputs": [
    {
     "ename": "NameError",
     "evalue": "name 'df_result_hyperopt' is not defined",
     "output_type": "error",
     "traceback": [
      "\u001b[0;31m---------------------------------------------------------------------------\u001b[0m",
      "\u001b[0;31mNameError\u001b[0m                                 Traceback (most recent call last)",
      "\u001b[0;32m<ipython-input-27-4e4893b56831>\u001b[0m in \u001b[0;36m<module>\u001b[0;34m()\u001b[0m\n\u001b[0;32m----> 1\u001b[0;31m \u001b[0mdf_result_hyperopt\u001b[0m\u001b[0;34m\u001b[0m\u001b[0m\n\u001b[0m",
      "\u001b[0;31mNameError\u001b[0m: name 'df_result_hyperopt' is not defined"
     ]
    }
   ],
   "source": []
  },
  {
   "cell_type": "code",
   "execution_count": 27,
   "metadata": {},
   "outputs": [
    {
     "name": "stdout",
     "output_type": "stream",
     "text": [
      "RMSE XGBRegressor:  0.510622065292\n",
      "CPU times: user 2min 37s, sys: 416 ms, total: 2min 38s\n",
      "Wall time: 2min 38s\n"
     ]
    }
   ],
   "source": [
    "%%time\n",
    "def RMSLE(y, pred):\n",
    "    return metrics.mean_squared_error(y, pred)**0.5\n",
    "\n",
    "model3 = XGBRegressor(learning_rate=0.1, n_estimators=1500, subsample=0.8, colsample_bytree=0.75, max_depth=1, gamma = 0.6000000000000001, \n",
    "                   min_child_weight=2, objective=\"reg:linear\", reg_alpha=0.1, reg_lambda=0.5  )\n",
    "model3.fit(train[col], np.log1p(train['visitors'].values))\n",
    "preds3 = model3.predict(train[col])\n",
    "print('RMSE XGBRegressor: ', RMSLE(np.log1p(train['visitors'].values), preds3))"
   ]
  },
  {
   "cell_type": "code",
   "execution_count": null,
   "metadata": {
    "collapsed": true
   },
   "outputs": [],
   "source": [
    "%%time\n",
    "model1 = ensemble.GradientBoostingRegressor(learning_rate=0.2, random_state=3, n_estimators=200, subsample=0.8, max_depth =10)\n",
    "model1.fit(train[col], np.log1p(train['visitors'].values))\n",
    "preds1 = model1.predict(train[col])\n",
    "print('RMSE GradientBoostingRegressor: ', RMSLE(np.log1p(train['visitors'].values), preds1))"
   ]
  },
  {
   "cell_type": "code",
   "execution_count": 28,
   "metadata": {},
   "outputs": [
    {
     "name": "stdout",
     "output_type": "stream",
     "text": [
      "RMSE XGBRegressor:  0.438197429237\n",
      "CPU times: user 4min 1s, sys: 651 ms, total: 4min 2s\n",
      "Wall time: 4min 2s\n"
     ]
    }
   ],
   "source": [
    "%%time\n",
    "def RMSLE(y, pred):\n",
    "    return metrics.mean_squared_error(y, pred)**0.5\n",
    "\n",
    "model3 = XGBRegressor(learning_rate=0.2, random_state=3, n_estimators=250, subsample=0.8, colsample_bytree=0.8, max_depth =10)\n",
    "model3.fit(train[col], np.log1p(train['visitors'].values))\n",
    "preds3 = model3.predict(train[col])\n",
    "print('RMSE XGBRegressor: ', RMSLE(np.log1p(train['visitors'].values), preds3))"
   ]
  },
  {
   "cell_type": "code",
   "execution_count": null,
   "metadata": {
    "collapsed": true
   },
   "outputs": [],
   "source": [
    "# To do : Hyper parametres\n"
   ]
  },
  {
   "cell_type": "code",
   "execution_count": null,
   "metadata": {
    "collapsed": true
   },
   "outputs": [],
   "source": [
    "%%time\n",
    "model2 = neighbors.KNeighborsRegressor(n_jobs=-1, n_neighbors=4)\n",
    "model2.fit(train[col], np.log1p(train['visitors'].values))\n",
    "preds2 = model2.predict(train[col])\n",
    "print('RMSE KNeighborsRegressor: ', RMSLE(np.log1p(train['visitors'].values), preds2))"
   ]
  },
  {
   "cell_type": "code",
   "execution_count": null,
   "metadata": {
    "collapsed": true
   },
   "outputs": [],
   "source": [
    "dfs = { re.search('/([^/\\.]*)\\.csv', fn).group(1):\n",
    "    pd.read_csv(fn)for fn in glob.glob('data/*.csv.zip')}"
   ]
  }
 ],
 "metadata": {
  "kernelspec": {
   "display_name": "Python 3",
   "language": "python",
   "name": "python3"
  },
  "language_info": {
   "codemirror_mode": {
    "name": "ipython",
    "version": 3
   },
   "file_extension": ".py",
   "mimetype": "text/x-python",
   "name": "python",
   "nbconvert_exporter": "python",
   "pygments_lexer": "ipython3",
   "version": "3.6.2"
  }
 },
 "nbformat": 4,
 "nbformat_minor": 2
}
